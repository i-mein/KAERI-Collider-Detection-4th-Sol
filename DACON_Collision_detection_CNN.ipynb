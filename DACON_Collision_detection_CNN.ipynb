{
  "nbformat": 4,
  "nbformat_minor": 0,
  "metadata": {
    "colab": {
      "name": "DACON Collision detection CNN.ipynb",
      "provenance": [],
      "collapsed_sections": [
        "3_v__qXGlPXv",
        "RVmH2C2rM5gY",
        "OjJdd9Cbj3fP",
        "oS5pY8HI6r1Q",
        "Qw6miCODagYI"
      ],
      "toc_visible": true
    },
    "kernelspec": {
      "name": "python3",
      "display_name": "Python 3"
    },
    "accelerator": "GPU"
  },
  "cells": [
    {
      "cell_type": "markdown",
      "metadata": {
        "id": "bciU3DsHk8F5",
        "colab_type": "text"
      },
      "source": [
        "# DACON Collision detection using vibration data"
      ]
    },
    {
      "cell_type": "code",
      "metadata": {
        "id": "Gbvg75Crk0Ev",
        "colab_type": "code",
        "colab": {
          "base_uri": "https://localhost:8080/",
          "height": 70
        },
        "outputId": "4182a155-c4e1-41a1-e5b7-d23c4af32312"
      },
      "source": [
        "import gc\n",
        "import os\n",
        "import numpy as np\n",
        "import pandas as pd\n",
        "from datetime import datetime, timedelta\n",
        "\n",
        "from matplotlib import pyplot as plt\n",
        "import seaborn as sns\n",
        "\n",
        "from sklearn.preprocessing import LabelEncoder\n",
        "from sklearn.model_selection import KFold, GroupKFold, train_test_split\n",
        "from sklearn.metrics import mean_squared_error, mean_absolute_error\n",
        "from sklearn.linear_model import Lasso\n",
        "from sklearn.linear_model import Ridge\n",
        "\n",
        "from sklearn.experimental import enable_hist_gradient_boosting\n",
        "from sklearn.ensemble import HistGradientBoostingRegressor, RandomForestRegressor\n",
        "\n",
        "import lightgbm  as lgb\n",
        "from lightgbm import LGBMRegressor\n",
        "\n",
        "# import xgboost  as xgb\n",
        "# from xgboost import XGBRegressor\n",
        "\n",
        "import tensorflow as tf\n",
        "from tensorflow.keras.layers import *\n",
        "from tensorflow.keras.callbacks import *\n",
        "from tensorflow.keras.optimizers import *\n",
        "from tensorflow.keras import backend as K\n",
        "import tensorflow_addons as tfa\n"
      ],
      "execution_count": 1,
      "outputs": [
        {
          "output_type": "stream",
          "text": [
            "/usr/local/lib/python3.6/dist-packages/statsmodels/tools/_testing.py:19: FutureWarning: pandas.util.testing is deprecated. Use the functions in the public API at pandas.testing instead.\n",
            "  import pandas.util.testing as tm\n"
          ],
          "name": "stderr"
        }
      ]
    },
    {
      "cell_type": "code",
      "metadata": {
        "id": "6JxxcVGlk10H",
        "colab_type": "code",
        "colab": {}
      },
      "source": [
        "# Read csv files\n",
        "\n",
        "COLAB = True\n",
        "\n",
        "if COLAB: path = '/content/drive/My Drive/ML Projects/DACON/Colision/data/'\n",
        "else: path = '/ML Projects/DACON/data/'\n",
        "\n",
        "def read_data(path=path):\n",
        "    train_df = pd.read_csv(path+'train_features.csv',)     \n",
        "    train_target = pd.read_csv(path+'train_target.csv', )  \n",
        "    test_df = pd.read_csv(path+'test_features.csv', )                \n",
        "    subm = pd.read_csv(path+\"sample_submission.csv\")\n",
        "    print('Shape of train:', train_df.shape)\n",
        "    print('Shape of solution:', test_df.shape)\n",
        "    print('Shape of submision:', subm.shape)\n",
        "    return train_df, train_target, test_df, subm"
      ],
      "execution_count": 16,
      "outputs": []
    },
    {
      "cell_type": "markdown",
      "metadata": {
        "id": "AzoH3pD0n1lA",
        "colab_type": "text"
      },
      "source": [
        "# Helpers"
      ]
    },
    {
      "cell_type": "code",
      "metadata": {
        "id": "v3UUM1Fon3H-",
        "colab_type": "code",
        "colab": {}
      },
      "source": [
        "from tensorflow.keras.callbacks import Callback\n",
        "\n",
        "class LRFinder(Callback):\n",
        "    \n",
        "    '''\n",
        "    A simple callback for finding the optimal learning rate range for your model + dataset. \n",
        "    \n",
        "    # Usage\n",
        "        ```python\n",
        "            lr_finder = LRFinder(min_lr=1e-5, \n",
        "                                 max_lr=1e-2, \n",
        "                                 steps_per_epoch=np.ceil(epoch_size/batch_size), \n",
        "                                 epochs=3)\n",
        "            model.fit(X_train, Y_train, callbacks=[lr_finder])\n",
        "            \n",
        "            lr_finder.plot_loss()\n",
        "        ```\n",
        "    \n",
        "    # Arguments\n",
        "        min_lr: The lower bound of the learning rate range for the experiment.\n",
        "        max_lr: The upper bound of the learning rate range for the experiment.\n",
        "        steps_per_epoch: Number of mini-batches in the dataset. Calculated as `np.ceil(epoch_size/batch_size)`. \n",
        "        epochs: Number of epochs to run experiment. Usually between 2 and 4 epochs is sufficient. \n",
        "        \n",
        "    # References\n",
        "        Blog post: jeremyjordan.me/nn-learning-rate\n",
        "        Original paper: https://arxiv.org/abs/1506.01186\n",
        "    '''\n",
        "    \n",
        "    def __init__(self, min_lr=1e-5, max_lr=1e-2, steps_per_epoch=None, epochs=None):\n",
        "        super().__init__()\n",
        "        \n",
        "        self.min_lr = min_lr\n",
        "        self.max_lr = max_lr\n",
        "        self.total_iterations = steps_per_epoch * epochs\n",
        "        self.iteration = 0\n",
        "        self.history = {}\n",
        "        \n",
        "    def clr(self):\n",
        "        '''Calculate the learning rate.'''\n",
        "        x = self.iteration / self.total_iterations \n",
        "        return self.min_lr + (self.max_lr-self.min_lr) * x\n",
        "        \n",
        "    def on_train_begin(self, logs=None):\n",
        "        '''Initialize the learning rate to the minimum value at the start of training.'''\n",
        "        logs = logs or {}\n",
        "        K.set_value(self.model.optimizer.lr, self.min_lr)\n",
        "        \n",
        "    def on_batch_end(self, epoch, logs=None):\n",
        "        '''Record previous batch statistics and update the learning rate.'''\n",
        "        logs = logs or {}\n",
        "        self.iteration += 1\n",
        "\n",
        "        self.history.setdefault('lr', []).append(K.get_value(self.model.optimizer.lr))\n",
        "        self.history.setdefault('iterations', []).append(self.iteration)\n",
        "\n",
        "        for k, v in logs.items():\n",
        "            self.history.setdefault(k, []).append(v)\n",
        "            \n",
        "        K.set_value(self.model.optimizer.lr, self.clr())\n",
        " \n",
        "    def plot_lr(self):\n",
        "        '''Helper function to quickly inspect the learning rate schedule.'''\n",
        "        plt.plot(self.history['iterations'], self.history['lr'])\n",
        "        plt.yscale('log')\n",
        "        plt.xlabel('Iteration')\n",
        "        plt.ylabel('Learning rate')\n",
        "        plt.show()\n",
        "        \n",
        "    def plot_loss(self):\n",
        "        '''Helper function to quickly observe the learning rate experiment results.'''\n",
        "        plt.plot(self.history['lr'], self.history['loss'])\n",
        "        plt.xscale('log')\n",
        "        plt.xlabel('Learning rate')\n",
        "        plt.ylabel('Loss')\n",
        "        plt.show()"
      ],
      "execution_count": 3,
      "outputs": []
    },
    {
      "cell_type": "code",
      "metadata": {
        "id": "FrozABbxn8CT",
        "colab_type": "code",
        "colab": {}
      },
      "source": [
        "from tensorflow.keras.callbacks import Callback\n",
        "\n",
        "class WarmUpCosineDecayScheduler(Callback):\n",
        "    \"\"\"\n",
        "        Cosine decay with warmup learning rate scheduler\n",
        "    \"\"\"\n",
        "    def __init__(self,\n",
        "                 learning_rate_base,\n",
        "                 global_step_init=0,\n",
        "                 warmup_learning_rate=0.0,\n",
        "                 warmup_epoch=0,\n",
        "                 hold_base_rate_steps=0,\n",
        "                 learning_rate_final=None,\n",
        "                 stop_epoch=None,\n",
        "                 verbose=0):\n",
        "        \"\"\"Constructor for cosine decay with warmup learning rate scheduler.\n",
        "        Arguments:\n",
        "            learning_rate_base {float} -- base learning rate.\n",
        "            total_steps {int} -- total number of training steps.\n",
        "        Keyword Arguments:\n",
        "            global_step_init {int} -- initial global step, e.g. from previous checkpoint.\n",
        "            warmup_learning_rate {float} -- initial learning rate for warm up. (default: {0.0})\n",
        "            warmup_steps {int} -- number of warmup steps. (default: {0})\n",
        "            hold_base_rate_steps {int} -- Optional number of steps to hold base learning rate\n",
        "                                        before decaying. (default: {0})\n",
        "            verbose {int} -- 0: quiet, 1: update messages. (default: {0})\n",
        "        \"\"\"\n",
        "\n",
        "        super(WarmUpCosineDecayScheduler, self).__init__()\n",
        "        self.learning_rate_base = learning_rate_base\n",
        "        self.global_step = global_step_init\n",
        "        self.warmup_learning_rate = warmup_learning_rate\n",
        "        self.warmup_epoch = warmup_epoch\n",
        "        self.hold_base_rate_steps = hold_base_rate_steps\n",
        "        self.learning_rates = []\n",
        "        self.verbose = verbose\n",
        "        self.stop_epoch = stop_epoch\n",
        "        self.learning_rate_final = learning_rate_final\n",
        "        self.epoch = 0\n",
        "\n",
        "    def on_epoch_begin(self, epoch, logs=None):\n",
        "        self.epoch = epoch\n",
        "\n",
        "    def on_batch_end(self, batch, logs=None):\n",
        "        self.global_step = self.global_step + 1\n",
        "        lr = K.get_value(self.model.optimizer.lr)\n",
        "        self.learning_rates.append(lr)\n",
        "\n",
        "    def on_batch_begin(self, batch, logs=None):\n",
        "        total_steps = int(\n",
        "            self.params['epochs'] * self.params['samples'] / self.params['batch_size'])\n",
        "        warmup_steps = int(\n",
        "            self.warmup_epoch * self.params['samples']  / self.params['batch_size'])\n",
        "        lr = self.cosine_decay_with_warmup(\n",
        "            global_step=self.global_step,\n",
        "            learning_rate_base=self.learning_rate_base,\n",
        "            total_steps=total_steps,\n",
        "            warmup_learning_rate=self.warmup_learning_rate,\n",
        "            warmup_steps=warmup_steps,\n",
        "            hold_base_rate_steps=self.hold_base_rate_steps)\n",
        "        if self.stop_epoch is not None and self.stop_epoch > 0 and self.epoch >= self.stop_epoch:\n",
        "            if self.learning_rate_final is not None:\n",
        "                K.set_value(self.model.optimizer.lr, self.learning_rate_final)\n",
        "            else:\n",
        "                self.learning_rate_final = lr\n",
        "                K.set_value(self.model.optimizer.lr, self.learning_rate_final)\n",
        "        else:\n",
        "            K.set_value(self.model.optimizer.lr, lr)\n",
        "        if self.verbose > 0:\n",
        "            print('\\nBatch %05d: setting learning '\n",
        "                  'rate to %s.' % (self.global_step + 1, lr))\n",
        "\n",
        "    def cosine_decay_with_warmup(self, global_step,\n",
        "                                 learning_rate_base,\n",
        "                                 total_steps,\n",
        "                                 warmup_learning_rate=0.0,\n",
        "                                 warmup_steps=0,\n",
        "                                 hold_base_rate_steps=0):\n",
        "        \"\"\"Cosine decay schedule with warm up period.\n",
        "        Cosine annealing learning rate as described in\n",
        "            Loshchilov and Hutter, SGDR: Stochastic Gradient Descent with Warm Restarts.\n",
        "            ICLR 2017. https://arxiv.org/abs/1608.03983\n",
        "        In this schedule, the learning rate grows linearly from warmup_learning_rate\n",
        "        to learning_rate_base for warmup_steps, then transitions to a cosine decay\n",
        "        schedule.\n",
        "        Arguments:\n",
        "            global_step {int} -- global step.\n",
        "            learning_rate_base {float} -- base learning rate.\n",
        "            total_steps {int} -- total number of training steps.\n",
        "        Keyword Arguments:\n",
        "            warmup_learning_rate {float} -- initial learning rate for warm up. (default: {0.0})\n",
        "            warmup_steps {int} -- number of warmup steps. (default: {0})\n",
        "            hold_base_rate_steps {int} -- Optional number of steps to hold base learning rate\n",
        "                                        before decaying. (default: {0})\n",
        "        Returns:\n",
        "            a float representing learning rate.\n",
        "        Raises:\n",
        "            ValueError: if warmup_learning_rate is larger than learning_rate_base,\n",
        "            or if warmup_steps is larger than total_steps.\n",
        "        \"\"\"\n",
        "        if total_steps < warmup_steps:\n",
        "            raise ValueError('total_steps must be larger or equal to '\n",
        "                             'warmup_steps.')\n",
        "        learning_rate = 0.5 * learning_rate_base * (\n",
        "            1 + np.cos(\n",
        "                np.pi * (global_step - warmup_steps - hold_base_rate_steps) /\n",
        "                float(total_steps - warmup_steps - hold_base_rate_steps)\n",
        "                )\n",
        "            )\n",
        "        if hold_base_rate_steps > 0:\n",
        "            learning_rate = np.where(global_step > warmup_steps + hold_base_rate_steps,\n",
        "                                     learning_rate, learning_rate_base)\n",
        "        if warmup_steps > 0:\n",
        "            if learning_rate_base < warmup_learning_rate:\n",
        "                raise ValueError('learning_rate_base must be larger or equal to '\n",
        "                                 'warmup_learning_rate.')\n",
        "            slope = (learning_rate_base - warmup_learning_rate) / warmup_steps\n",
        "            warmup_rate = slope * global_step + warmup_learning_rate\n",
        "            learning_rate = np.where(global_step < warmup_steps, warmup_rate,\n",
        "                                     learning_rate)\n",
        "        return np.where(global_step > total_steps, 0.0, learning_rate)"
      ],
      "execution_count": 4,
      "outputs": []
    },
    {
      "cell_type": "code",
      "metadata": {
        "id": "BbgcPRgvoCh1",
        "colab_type": "code",
        "colab": {}
      },
      "source": [
        "from tensorflow.keras.callbacks import Callback\n",
        "\n",
        "class CyclicLR(Callback):\n",
        "    \"\"\"This callback implements a cyclical learning rate policy (CLR).\n",
        "    The method cycles the learning rate between two boundaries with\n",
        "    some constant frequency, as detailed in this paper (https://arxiv.org/abs/1506.01186).\n",
        "    The amplitude of the cycle can be scaled on a per-iteration or \n",
        "    per-cycle basis.\n",
        "    This class has three built-in policies, as put forth in the paper.\n",
        "    \"triangular\":\n",
        "        A basic triangular cycle w/ no amplitude scaling.\n",
        "    \"triangular2\":\n",
        "        A basic triangular cycle that scales initial amplitude by half each cycle.\n",
        "    \"exp_range\":\n",
        "        A cycle that scales initial amplitude by gamma**(cycle iterations) at each \n",
        "        cycle iteration.\n",
        "    For more detail, please see paper.\n",
        "    \n",
        "    # Example\n",
        "        ```python\n",
        "            clr = CyclicLR(base_lr=0.001, max_lr=0.006,\n",
        "                                step_size=2000., mode='triangular')\n",
        "            model.fit(X_train, Y_train, callbacks=[clr])\n",
        "        ```\n",
        "    \n",
        "    Class also supports custom scaling functions:\n",
        "        ```python\n",
        "            clr_fn = lambda x: 0.5*(1+np.sin(x*np.pi/2.))\n",
        "            clr = CyclicLR(base_lr=0.001, max_lr=0.006,\n",
        "                                step_size=2000., scale_fn=clr_fn,\n",
        "                                scale_mode='cycle')\n",
        "            model.fit(X_train, Y_train, callbacks=[clr])\n",
        "        ```    \n",
        "    # Arguments\n",
        "        base_lr: initial learning rate which is the\n",
        "            lower boundary in the cycle.\n",
        "        max_lr: upper boundary in the cycle. Functionally,\n",
        "            it defines the cycle amplitude (max_lr - base_lr).\n",
        "            The lr at any cycle is the sum of base_lr\n",
        "            and some scaling of the amplitude; therefore \n",
        "            max_lr may not actually be reached depending on\n",
        "            scaling function.\n",
        "        step_size: number of training iterations per\n",
        "            half cycle. Authors suggest setting step_size\n",
        "            2-8 x training iterations in epoch.\n",
        "        mode: one of {triangular, triangular2, exp_range}.\n",
        "            Default 'triangular'.\n",
        "            Values correspond to policies detailed above.\n",
        "            If scale_fn is not None, this argument is ignored.\n",
        "        gamma: constant in 'exp_range' scaling function:\n",
        "            gamma**(cycle iterations)\n",
        "        scale_fn: Custom scaling policy defined by a single\n",
        "            argument lambda function, where \n",
        "            0 <= scale_fn(x) <= 1 for all x >= 0.\n",
        "            mode paramater is ignored \n",
        "        scale_mode: {'cycle', 'iterations'}.\n",
        "            Defines whether scale_fn is evaluated on \n",
        "            cycle number or cycle iterations (training\n",
        "            iterations since start of cycle). Default is 'cycle'.\n",
        "    \"\"\"\n",
        "\n",
        "    def __init__(self, base_lr=0.001, max_lr=0.006, step_size=2000., mode='triangular',\n",
        "                 gamma=1., scale_fn=None, scale_mode='cycle'):\n",
        "        super(CyclicLR, self).__init__()\n",
        "\n",
        "        self.base_lr = base_lr\n",
        "        self.max_lr = max_lr\n",
        "        self.step_size = step_size\n",
        "        self.mode = mode\n",
        "        self.gamma = gamma\n",
        "        if scale_fn == None:\n",
        "            if self.mode == 'triangular':\n",
        "                self.scale_fn = lambda x: 1.\n",
        "                self.scale_mode = 'cycle'\n",
        "            elif self.mode == 'triangular2':\n",
        "                self.scale_fn = lambda x: 1/(2.**(x-1))\n",
        "                self.scale_mode = 'cycle'\n",
        "            elif self.mode == 'exp_range':\n",
        "                self.scale_fn = lambda x: gamma**(x)\n",
        "                self.scale_mode = 'iterations'\n",
        "        else:\n",
        "            self.scale_fn = scale_fn\n",
        "            self.scale_mode = scale_mode\n",
        "        self.clr_iterations = 0.\n",
        "        self.trn_iterations = 0.\n",
        "        self.history = {}\n",
        "\n",
        "        self._reset()\n",
        "\n",
        "    def _reset(self, new_base_lr=None, new_max_lr=None,\n",
        "               new_step_size=None):\n",
        "        \"\"\"Resets cycle iterations.\n",
        "        Optional boundary/step size adjustment.\n",
        "        \"\"\"\n",
        "        if new_base_lr != None:\n",
        "            self.base_lr = new_base_lr\n",
        "        if new_max_lr != None:\n",
        "            self.max_lr = new_max_lr\n",
        "        if new_step_size != None:\n",
        "            self.step_size = new_step_size\n",
        "        self.clr_iterations = 0.\n",
        "        \n",
        "    def clr(self):\n",
        "        cycle = np.floor(1+self.clr_iterations/(2*self.step_size))\n",
        "        x = np.abs(self.clr_iterations/self.step_size - 2*cycle + 1)\n",
        "        if self.scale_mode == 'cycle':\n",
        "            return self.base_lr + (self.max_lr-self.base_lr)*np.maximum(0, (1-x))*self.scale_fn(cycle)\n",
        "        else:\n",
        "            return self.base_lr + (self.max_lr-self.base_lr)*np.maximum(0, (1-x))*self.scale_fn(self.clr_iterations)\n",
        "        \n",
        "    def on_train_begin(self, logs={}):\n",
        "        logs = logs or {}\n",
        "\n",
        "        if self.clr_iterations == 0:\n",
        "            K.set_value(self.model.optimizer.lr, self.base_lr)\n",
        "        else:\n",
        "            K.set_value(self.model.optimizer.lr, self.clr())        \n",
        "            \n",
        "    def on_batch_end(self, epoch, logs=None):\n",
        "        \n",
        "        logs = logs or {}\n",
        "        self.trn_iterations += 1\n",
        "        self.clr_iterations += 1\n",
        "\n",
        "        self.history.setdefault('lr', []).append(K.get_value(self.model.optimizer.lr))\n",
        "        self.history.setdefault('iterations', []).append(self.trn_iterations)\n",
        "\n",
        "        for k, v in logs.items():\n",
        "            self.history.setdefault(k, []).append(v)\n",
        "        \n",
        "        K.set_value(self.model.optimizer.lr, self.clr())"
      ],
      "execution_count": 5,
      "outputs": []
    },
    {
      "cell_type": "code",
      "metadata": {
        "id": "kVqbWvpQoGhV",
        "colab_type": "code",
        "colab": {}
      },
      "source": [
        "def step_decay_schedule(initial_lr=1e-5, decay_factor=0.75, step_size=10):\n",
        "    '''\n",
        "    Wrapper function to create a LearningRateScheduler with step decay schedule.\n",
        "    '''\n",
        "    def schedule(epoch):\n",
        "        return initial_lr * (decay_factor ** np.floor(epoch/step_size))\n",
        "    return tf.keras.callbacks.LearningRateScheduler(schedule, verbose=1)"
      ],
      "execution_count": 6,
      "outputs": []
    },
    {
      "cell_type": "code",
      "metadata": {
        "id": "3JPfg_2_5UIT",
        "colab_type": "code",
        "colab": {}
      },
      "source": [
        "class Mish(tf.keras.layers.Layer):\n",
        "\n",
        "    def __init__(self, **kwargs):\n",
        "        super(Mish, self).__init__(**kwargs)\n",
        "        self.supports_masking = True\n",
        "\n",
        "    def call(self, inputs):\n",
        "        return inputs * K.tanh(K.softplus(inputs))\n",
        "\n",
        "    def get_config(self):\n",
        "        base_config = super(Mish, self).get_config()\n",
        "        return dict(list(base_config.items()) + list(config.items()))\n",
        "\n",
        "    def compute_output_shape(self, input_shape):\n",
        "        return input_shape\n",
        "def mish(x):\n",
        "\treturn tf.keras.layers.Lambda(lambda x: x*K.tanh(K.softplus(x)))(x)\n",
        " \n",
        "from tensorflow.keras.utils import get_custom_objects\n",
        "from tensorflow.keras.layers import Activation\n",
        "get_custom_objects().update({'mish': Activation(mish)})"
      ],
      "execution_count": 11,
      "outputs": []
    },
    {
      "cell_type": "code",
      "metadata": {
        "id": "4Tmgii6UOWab",
        "colab_type": "code",
        "colab": {}
      },
      "source": [
        "def r2_keras(y_true, y_pred):\n",
        "    K = tf.keras.backend\n",
        "    SS_res =  K.sum(K.square( y_true-y_pred ))\n",
        "    SS_tot = K.sum(K.square( y_true - K.mean(y_true) ) )\n",
        "    return ( 1 - SS_res/(SS_tot + K.epsilon()) )"
      ],
      "execution_count": 33,
      "outputs": []
    },
    {
      "cell_type": "code",
      "metadata": {
        "id": "-wulbMIDKIoE",
        "colab_type": "code",
        "colab": {}
      },
      "source": [
        "def kaeri_metric(y_true,  y_pred):\n",
        "\n",
        "    '''\n",
        "        y_true: dataframe with true values ​​of X,Y,M,V\n",
        "        y_pred: dataframe with pred values ​​of X,Y,M,V\n",
        "\n",
        "        return: KAERI metric\n",
        "    '''\n",
        "    \n",
        "    _t1, _p1 = np.array(y_true)[:,:2], np.array(y_pred)[:,:2]\n",
        "    E1 = np.mean(np.sum(np.square(_t1-_p1), axis=1) / 2e+04)\n",
        "      \n",
        "    _t2, _p2 = np.array(y_true)[:,2:], np.array(y_pred)[:,2:]\n",
        "    E2 = np.mean(np.sum(np.square((_t2-_p2) / (_t2 + 1e-06)), axis=1))\n",
        "\n",
        "    return 0.5*E1 + 0.5*E2\n",
        "    # return  0.5*E1(y_true, y_pred ) + 0.5*E2( y_true, y_pred )\n"
      ],
      "execution_count": 7,
      "outputs": []
    },
    {
      "cell_type": "code",
      "metadata": {
        "id": "8PIaG4SFAyiV",
        "colab_type": "code",
        "colab": {}
      },
      "source": [
        "from tensorflow.keras import backend as K\n",
        "\n",
        "def kaeri_keras(y_true, y_pred):\n",
        "\n",
        "    '''\n",
        "    y_true: dataframe with true values ​​of X,Y,M,V\n",
        "    y_pred: dataframe with pred values ​​of X,Y,M,V\n",
        "\n",
        "    return: KAERI metric\n",
        "    '''\n",
        "    # K = tf.keras.backend\n",
        "\n",
        "    # _t1, _ = tf.split(y_true, 2, 1)\n",
        "    # _p1, _ = tf.split(y_pred, 2, 1)\n",
        "    # _, _t2 = tf.split(y_true, 2, 1)\n",
        "    # _, _p2 = tf.split(y_pred, 2, 1)\n",
        "    _t1, _p1 = np.array(y_true)[:,:2], np.array(y_pred)[:,:2]\n",
        "    _t2, _p2 = np.array(y_true)[:,2:], np.array(y_pred)[:,2:]\n",
        "    E1 = K.mean(K.sum(K.square(_t1 - _p1), axis=1)/2e+04)\n",
        "    E2 = K.mean(K.sum(K.square((_t2 - _p2) / (_t2 + 1e-06)), axis=1))\n",
        "\n",
        "    return  0.5*E1 + 0.5*E2\n",
        "\n"
      ],
      "execution_count": null,
      "outputs": []
    },
    {
      "cell_type": "code",
      "metadata": {
        "id": "gEITjBiPCPX7",
        "colab_type": "code",
        "colab": {}
      },
      "source": [
        "def calc_ewm(s, windows=[10, 50]):\n",
        "    '''\n",
        "    Calculates exponential weighted functions\n",
        "    '''\n",
        "    ewm = pd.DataFrame()\n",
        "    for w in windows:\n",
        "        ewm['ewm_mean_' + str(w)] = s.ewm(span=w, min_periods=1).mean()\n",
        "        ewm['ewm_std_' + str(w)] = s.ewm(span=w, min_periods=1).std()\n",
        "    # add zeros when na values (std)\n",
        "    ewm = ewm.fillna(value=0)       \n",
        "    return ewm\n",
        "\n",
        "\n",
        "def preprocess_data(df, cols=[\"S1\",\"S2\",'S3','S4']):\n",
        "\n",
        "    sensor_cols = cols # ['S1','S2','S3','S4']\n",
        "\n",
        "    df2 = pd.DataFrame(index=df.groupby(['id'])['id'].apply(pd.Series).unique())\n",
        "\n",
        "    df2['Time'] = df['Time']\n",
        "\n",
        "    for col in sensor_cols:\n",
        "        df2[col+'_mean'] = df.groupby(['id'])[col].apply(lambda x: np.mean(x))\n",
        "        df2[col+'_max'] = df.groupby(['id'])[col].apply(lambda x: np.max(x))\n",
        "        df2[col+'_min'] = df.groupby(['id'])[col].apply(lambda x: np.min(x))\n",
        "        df2[col+'_std'] = df.groupby(['id'])[col].apply(lambda x: np.std(x))\n",
        "        df2[col+'_median'] = df.groupby(['id'])[col].apply(lambda x: np.median(x))\n",
        "\n",
        "        df2[col+'_p10'] = df.groupby(['id'])[col].apply(lambda x: np.percentile(x, 10))\n",
        "        df2[col+'_p25'] = df.groupby(['id'])[col].apply(lambda x: np.percentile(x, 25))\n",
        "        df2[col+'_p75'] = df.groupby(['id'])[col].apply(lambda x: np.percentile(x, 75))\n",
        "        df2[col+'_p90'] = df.groupby(['id'])[col].apply(lambda x: np.percentile(x, 90))\n",
        "        df2[col+'_skew'] = df.groupby(['id'])[col].apply(lambda x: pd.Series(x).skew())\n",
        "        # df2[col+'_kurtosis'] = df.groupby([col])[col].apply(lambda x: pd.Series(x).kurtosis())\n",
        "\n",
        "\n",
        "        min_max = (df2[col+'_mean'] - df2[col+'_min']) / (df2[col+'_max'] - df2[col+'_min'])\n",
        "        df2[col+'_norm'] = min_max * (np.floor(df2[col+'_max']) - np.ceil(df2[col+'_min']))\n",
        "        df2[col+'_mean_abs_chg'] = df.groupby(['id'])[col].apply(lambda x: np.mean(np.abs(np.diff(x))))\n",
        "        df2[col+'_abs_max'] = df.groupby(['id'])[col].apply(lambda x: np.max(np.abs(x)))\n",
        "        df2[col+'_abs_min'] = df.groupby(['id'])[col].apply(lambda x: np.min(np.abs(x)))\n",
        "        df2[col+'_range'] = df2[col+'_max'] - df2[col+'_min']\n",
        "        df2[col+'_maxtomin'] = df2[col+'_max'] / df2[col+'_min']\n",
        "        df2[col+'_abs_avg'] = (df2[col+'_abs_min'] + df2[col+'_abs_max']) / 2\n",
        "\n",
        "        # ewm = calc_ewm(df[col])\n",
        "        # ewm.columns = [col+'_'+n for n in ewm.columns]\n",
        "        # df2 = pd.concat([df2, ewm], axis=1)\n",
        "\n",
        "    return df2"
      ],
      "execution_count": 8,
      "outputs": []
    },
    {
      "cell_type": "code",
      "metadata": {
        "id": "G-jnJH1R3IOT",
        "colab_type": "code",
        "colab": {}
      },
      "source": [
        "def seed_everything(seed):\n",
        "    \n",
        "    # rn.seed(seed)\n",
        "    np.random.seed(seed)\n",
        "    os.environ['PYTHONHASHSEED'] = str(seed)\n",
        "    tf.random.set_seed(seed)\n",
        "\n"
      ],
      "execution_count": 13,
      "outputs": []
    },
    {
      "cell_type": "code",
      "metadata": {
        "id": "hJkYuarN3UoR",
        "colab_type": "code",
        "colab": {}
      },
      "source": [
        "def batching(df : pd.DataFrame,\n",
        "             batch_size : int) -> pd.DataFrame :\n",
        "    \n",
        "    df['group'] = df.groupby(df.index//batch_size, sort=False)['signal'].agg(['ngroup']).values\n",
        "    df['group'] = df['group'].astype(np.uint16)\n",
        "        \n",
        "    return df\n",
        "\n",
        "\n",
        "\n",
        "def lag_with_pct_change(df : pd.DataFrame,\n",
        "                        shift_sizes,    # : Optional[List]=[1, 2],\n",
        "                        add_pct_change,  #: Optional[bool]=False,\n",
        "                        add_pct_change_lag, # : Optional[bool]=False) -> pd.DataFrame: \n",
        "):\n",
        "    \n",
        "    for shift_size in shift_sizes:    \n",
        "        df['signal_shift_pos_'+str(shift_size)] = df.groupby('group')['signal'].shift(shift_size).fillna(0)\n",
        "        df['signal_shift_neg_'+str(shift_size)] = df.groupby('group')['signal'].shift(-1*shift_size).fillna(0)\n",
        "\n",
        "    if add_pct_change:\n",
        "        df['pct_change'] = df['signal'].pct_change()\n",
        "        if add_pct_change_lag:\n",
        "            for shift_size in shift_sizes:    \n",
        "                df['pct_change_shift_pos_'+str(shift_size)] = df.groupby('group')['pct_change'].shift(shift_size).fillna(0)\n",
        "                df['pct_change_shift_neg_'+str(shift_size)] = df.groupby('group')['pct_change'].shift(-1*shift_size).fillna(0)\n",
        "    return df\n",
        "\n",
        "\n",
        "\n",
        "def run_feat_enginnering(df : pd.DataFrame,\n",
        "                         create_all_data_feats : bool,\n",
        "                         batch_size : int) -> pd.DataFrame:\n",
        "    \n",
        "    df = batching(df, batch_size=batch_size)\n",
        "    if create_all_data_feats:\n",
        "        df = lag_with_pct_change(df, [1, 2, 3],  add_pct_change=False, add_pct_change_lag=False)\n",
        "    df['signal_2'] = df['signal'] ** 2\n",
        "    return df"
      ],
      "execution_count": 10,
      "outputs": []
    },
    {
      "cell_type": "markdown",
      "metadata": {
        "id": "J6j6dfmwlNd2",
        "colab_type": "text"
      },
      "source": [
        "# Load data"
      ]
    },
    {
      "cell_type": "code",
      "metadata": {
        "id": "_TgRKw5Ik14-",
        "colab_type": "code",
        "colab": {
          "base_uri": "https://localhost:8080/",
          "height": 67
        },
        "outputId": "50180f8c-5181-4d67-b103-ab25215d1291"
      },
      "source": [
        "SEED = 26\n",
        "seed_everything(SEED)\n",
        "\n",
        "train_df, targets, test_df, subm = read_data()"
      ],
      "execution_count": 17,
      "outputs": [
        {
          "output_type": "stream",
          "text": [
            "Shape of train: (1050000, 6)\n",
            "Shape of solution: (262500, 6)\n",
            "Shape of submision: (700, 5)\n"
          ],
          "name": "stdout"
        }
      ]
    },
    {
      "cell_type": "code",
      "metadata": {
        "id": "40XYK2UHlLS7",
        "colab_type": "code",
        "colab": {
          "base_uri": "https://localhost:8080/",
          "height": 319
        },
        "outputId": "2e508e96-1bd0-448e-8c41-c1709b2a1e03"
      },
      "source": [
        "# train_df.info()\n",
        "print(train_df.head())\n",
        "print(test_df.head())\n",
        "print(subm.head())"
      ],
      "execution_count": 69,
      "outputs": [
        {
          "output_type": "stream",
          "text": [
            "   id      Time   S1   S2   S3   S4\n",
            "0   0  0.000000  0.0  0.0  0.0  0.0\n",
            "1   0  0.000004  0.0  0.0  0.0  0.0\n",
            "2   0  0.000008  0.0  0.0  0.0  0.0\n",
            "3   0  0.000012  0.0  0.0  0.0  0.0\n",
            "4   0  0.000016  0.0  0.0  0.0  0.0\n",
            "     id      Time   S1   S2   S3   S4\n",
            "0  2800  0.000000  0.0  0.0  0.0  0.0\n",
            "1  2800  0.000004  0.0  0.0  0.0  0.0\n",
            "2  2800  0.000008  0.0  0.0  0.0  0.0\n",
            "3  2800  0.000012  0.0  0.0  0.0  0.0\n",
            "4  2800  0.000016  0.0  0.0  0.0  0.0\n",
            "     id           X           Y           M         V\n",
            "0  2800 -251.151642  -33.210499  115.361504  0.415139\n",
            "1  2801  306.643158 -297.179871   95.554611  0.416388\n",
            "2  2802 -227.187210  130.209641   28.086653  0.354145\n",
            "3  2803  155.305527  275.610199   26.912380  0.370306\n",
            "4  2804 -155.184830  179.915222  135.617783  0.422606\n"
          ],
          "name": "stdout"
        }
      ]
    },
    {
      "cell_type": "code",
      "metadata": {
        "id": "PKyo9VZxDegB",
        "colab_type": "code",
        "colab": {}
      },
      "source": [
        "# train_df2 = preprocess_data(train_df, cols=['S1','S2','S3','S4'])\n",
        "# test_df2 = preprocess_data(test_df, cols=['S1','S2','S3','S4'])"
      ],
      "execution_count": null,
      "outputs": []
    },
    {
      "cell_type": "code",
      "metadata": {
        "id": "f9xbKlNH4Bdu",
        "colab_type": "code",
        "colab": {
          "base_uri": "https://localhost:8080/",
          "height": 34
        },
        "outputId": "ffac96a5-9444-443b-de38-7626b1b43e87"
      },
      "source": [
        "train_df.isnull().sum().sum(), test_df.isnull().sum().sum()"
      ],
      "execution_count": 19,
      "outputs": [
        {
          "output_type": "execute_result",
          "data": {
            "text/plain": [
              "(0, 0)"
            ]
          },
          "metadata": {
            "tags": []
          },
          "execution_count": 19
        }
      ]
    },
    {
      "cell_type": "code",
      "metadata": {
        "id": "XkTJ4fh2rfnf",
        "colab_type": "code",
        "colab": {}
      },
      "source": [
        "# print(test_df.head())\n",
        "# test_df.shape"
      ],
      "execution_count": null,
      "outputs": []
    },
    {
      "cell_type": "markdown",
      "metadata": {
        "id": "3_v__qXGlPXv",
        "colab_type": "text"
      },
      "source": [
        "# EDA"
      ]
    },
    {
      "cell_type": "code",
      "metadata": {
        "id": "YjnIAdet2cew",
        "colab_type": "code",
        "colab": {
          "base_uri": "https://localhost:8080/",
          "height": 1000
        },
        "outputId": "a5bf16db-aa6f-4d02-8521-65cfd6df6613"
      },
      "source": [
        "# Inputs \n",
        "plt.figure()\n",
        "sns.distplot(train_df.S1, label='train') \n",
        "sns.distplot(test_df.S1, label='test')\n",
        "\n",
        "plt.figure()\n",
        "sns.distplot(train_df.S2, label='train')\n",
        "sns.distplot(test_df.S2, label='test')\n",
        "\n",
        "plt.figure()\n",
        "sns.distplot(train_df.S3, label='train') \n",
        "sns.distplot(test_df.S3, label='test')\n",
        "\n",
        "plt.figure()\n",
        "sns.distplot(train_df.S4, label='train') \n",
        "sns.distplot(test_df.S4, label='test')"
      ],
      "execution_count": null,
      "outputs": [
        {
          "output_type": "execute_result",
          "data": {
            "text/plain": [
              "<matplotlib.axes._subplots.AxesSubplot at 0x7f8254581c50>"
            ]
          },
          "metadata": {
            "tags": []
          },
          "execution_count": 11
        },
        {
          "output_type": "display_data",
          "data": {
            "image/png": "[encoded data removed]",
            "text/plain": [
              "<Figure size 432x288 with 1 Axes>"
            ]
          },
          "metadata": {
            "tags": [],
            "needs_background": "light"
          }
        },
        {
          "output_type": "display_data",
          "data": {
            "image/png": "[encoded data removed]",
            "text/plain": [
              "<Figure size 432x288 with 1 Axes>"
            ]
          },
          "metadata": {
            "tags": [],
            "needs_background": "light"
          }
        },
        {
          "output_type": "display_data",
          "data": {
            "image/png": "[encoded data removed]",
            "text/plain": [
              "<Figure size 432x288 with 1 Axes>"
            ]
          },
          "metadata": {
            "tags": [],
            "needs_background": "light"
          }
        },
        {
          "output_type": "display_data",
          "data": {
            "image/png": "[encoded data removed]",
            "text/plain": [
              "<Figure size 432x288 with 1 Axes>"
            ]
          },
          "metadata": {
            "tags": [],
            "needs_background": "light"
          }
        }
      ]
    },
    {
      "cell_type": "code",
      "metadata": {
        "id": "AakEBcuglLZ_",
        "colab_type": "code",
        "colab": {
          "base_uri": "https://localhost:8080/",
          "height": 1000
        },
        "outputId": "6021b615-5cc1-4f57-ab47-79fdccb67132"
      },
      "source": [
        "# Targets\n",
        "plt.figure()\n",
        "sns.distplot(targets.X, label='train X') \n",
        " \n",
        "plt.figure()\n",
        "sns.distplot(targets.Y, label='train Y') \n",
        "\n",
        "plt.figure()\n",
        "sns.distplot(targets.M, label='train M') \n",
        "\n",
        "plt.figure()\n",
        "sns.distplot(targets.V, label='train V') "
      ],
      "execution_count": null,
      "outputs": [
        {
          "output_type": "execute_result",
          "data": {
            "text/plain": [
              "<matplotlib.axes._subplots.AxesSubplot at 0x7f988597ca20>"
            ]
          },
          "metadata": {
            "tags": []
          },
          "execution_count": 44
        },
        {
          "output_type": "display_data",
          "data": {
            "image/png": "[encoded data removed]",
            "text/plain": [
              "<Figure size 432x288 with 1 Axes>"
            ]
          },
          "metadata": {
            "tags": [],
            "needs_background": "light"
          }
        },
        {
          "output_type": "display_data",
          "data": {
            "image/png": "[encoded data removed]",
            "text/plain": [
              "<Figure size 432x288 with 1 Axes>"
            ]
          },
          "metadata": {
            "tags": [],
            "needs_background": "light"
          }
        },
        {
          "output_type": "display_data",
          "data": {
            "image/png": "[encoded data removed]",
            "text/plain": [
              "<Figure size 432x288 with 1 Axes>"
            ]
          },
          "metadata": {
            "tags": [],
            "needs_background": "light"
          }
        },
        {
          "output_type": "display_data",
          "data": {
            "image/png": "[encoded data removed]",
            "text/plain": [
              "<Figure size 432x288 with 1 Axes>"
            ]
          },
          "metadata": {
            "tags": [],
            "needs_background": "light"
          }
        }
      ]
    },
    {
      "cell_type": "code",
      "metadata": {
        "id": "TLIw3sFWXvH2",
        "colab_type": "code",
        "colab": {
          "base_uri": "https://localhost:8080/",
          "height": 1000
        },
        "outputId": "4c57ac6c-c6f9-4002-d216-b63c708aed38"
      },
      "source": [
        "idx = 10\n",
        "\n",
        "train_df[train_df.id==idx][['S1']].plot()\n",
        "train_df[train_df.id==idx][['S2']].plot()\n",
        "train_df[train_df.id==idx][['S3']].plot()\n",
        "train_df[train_df.id==idx][['S4']].plot()\n",
        "# plt.plot(train_df[train_df.id==idx]['Time'], train_df[train_df.id==idx]['S1'])"
      ],
      "execution_count": null,
      "outputs": [
        {
          "output_type": "execute_result",
          "data": {
            "text/plain": [
              "<matplotlib.axes._subplots.AxesSubplot at 0x7f8253438588>"
            ]
          },
          "metadata": {
            "tags": []
          },
          "execution_count": 26
        },
        {
          "output_type": "display_data",
          "data": {
            "image/png": "[encoded data removed]",
            "text/plain": [
              "<Figure size 432x288 with 1 Axes>"
            ]
          },
          "metadata": {
            "tags": [],
            "needs_background": "light"
          }
        },
        {
          "output_type": "display_data",
          "data": {
            "image/png": "[encoded data removed]",
            "text/plain": [
              "<Figure size 432x288 with 1 Axes>"
            ]
          },
          "metadata": {
            "tags": [],
            "needs_background": "light"
          }
        },
        {
          "output_type": "display_data",
          "data": {
            "image/png": "[encoded data removed]",
            "text/plain": [
              "<Figure size 432x288 with 1 Axes>"
            ]
          },
          "metadata": {
            "tags": [],
            "needs_background": "light"
          }
        },
        {
          "output_type": "display_data",
          "data": {
            "image/png": "[encoded data removed]",
            "text/plain": [
              "<Figure size 432x288 with 1 Axes>"
            ]
          },
          "metadata": {
            "tags": [],
            "needs_background": "light"
          }
        }
      ]
    },
    {
      "cell_type": "code",
      "metadata": {
        "id": "tZc6227WYBdo",
        "colab_type": "code",
        "colab": {}
      },
      "source": [
        "sig = train_df[train_df.id==idx][['S1']]"
      ],
      "execution_count": null,
      "outputs": []
    },
    {
      "cell_type": "code",
      "metadata": {
        "id": "ftoXOv8DYBa2",
        "colab_type": "code",
        "colab": {
          "base_uri": "https://localhost:8080/",
          "height": 402
        },
        "outputId": "eb1b56ae-fc8a-48a2-f15e-1dec2bd141d3"
      },
      "source": [
        "sig[sig==0]"
      ],
      "execution_count": null,
      "outputs": [
        {
          "output_type": "execute_result",
          "data": {
            "text/html": [
              "<div>\n",
              "<style scoped>\n",
              "    .dataframe tbody tr th:only-of-type {\n",
              "        vertical-align: middle;\n",
              "    }\n",
              "\n",
              "    .dataframe tbody tr th {\n",
              "        vertical-align: top;\n",
              "    }\n",
              "\n",
              "    .dataframe thead th {\n",
              "        text-align: right;\n",
              "    }\n",
              "</style>\n",
              "<table border=\"1\" class=\"dataframe\">\n",
              "  <thead>\n",
              "    <tr style=\"text-align: right;\">\n",
              "      <th></th>\n",
              "      <th>S1</th>\n",
              "    </tr>\n",
              "  </thead>\n",
              "  <tbody>\n",
              "    <tr>\n",
              "      <th>3750</th>\n",
              "      <td>0.0</td>\n",
              "    </tr>\n",
              "    <tr>\n",
              "      <th>3751</th>\n",
              "      <td>0.0</td>\n",
              "    </tr>\n",
              "    <tr>\n",
              "      <th>3752</th>\n",
              "      <td>0.0</td>\n",
              "    </tr>\n",
              "    <tr>\n",
              "      <th>3753</th>\n",
              "      <td>0.0</td>\n",
              "    </tr>\n",
              "    <tr>\n",
              "      <th>3754</th>\n",
              "      <td>0.0</td>\n",
              "    </tr>\n",
              "    <tr>\n",
              "      <th>...</th>\n",
              "      <td>...</td>\n",
              "    </tr>\n",
              "    <tr>\n",
              "      <th>4120</th>\n",
              "      <td>NaN</td>\n",
              "    </tr>\n",
              "    <tr>\n",
              "      <th>4121</th>\n",
              "      <td>NaN</td>\n",
              "    </tr>\n",
              "    <tr>\n",
              "      <th>4122</th>\n",
              "      <td>NaN</td>\n",
              "    </tr>\n",
              "    <tr>\n",
              "      <th>4123</th>\n",
              "      <td>NaN</td>\n",
              "    </tr>\n",
              "    <tr>\n",
              "      <th>4124</th>\n",
              "      <td>NaN</td>\n",
              "    </tr>\n",
              "  </tbody>\n",
              "</table>\n",
              "<p>375 rows × 1 columns</p>\n",
              "</div>"
            ],
            "text/plain": [
              "       S1\n",
              "3750  0.0\n",
              "3751  0.0\n",
              "3752  0.0\n",
              "3753  0.0\n",
              "3754  0.0\n",
              "...   ...\n",
              "4120  NaN\n",
              "4121  NaN\n",
              "4122  NaN\n",
              "4123  NaN\n",
              "4124  NaN\n",
              "\n",
              "[375 rows x 1 columns]"
            ]
          },
          "metadata": {
            "tags": []
          },
          "execution_count": 37
        }
      ]
    },
    {
      "cell_type": "code",
      "metadata": {
        "id": "gCQdu4ExYBYZ",
        "colab_type": "code",
        "colab": {}
      },
      "source": [
        "\n",
        "\n",
        "\n"
      ],
      "execution_count": null,
      "outputs": []
    },
    {
      "cell_type": "code",
      "metadata": {
        "id": "8XB5eRt_lQio",
        "colab_type": "code",
        "colab": {}
      },
      "source": [
        "# # Source cols\n",
        "# fig, ax = plt.subplots(nrows=7, ncols=5, sharex=True, figsize=(14, 14))\n",
        "# fig.subplots_adjust(hspace=0.4)\n",
        "# fig.suptitle('Distributions of src Features')\n",
        "# for axis, feature, name in zip(ax.flatten(), train_df[cols_src], train_df[cols_src].columns):\n",
        "#     sns.distplot(train_df[feature], ax=axis, bins=30)    \n",
        "#     axis.set(title=name.upper(), xlabel='nm')\n",
        "\n",
        "\n",
        "# fig, ax = plt.subplots(nrows=7, ncols=5, sharex=True, figsize=(14, 14))\n",
        "# fig.subplots_adjust(hspace=0.4)\n",
        "# fig.suptitle('Boxplots of src Features')\n",
        "# for axis, feat, name in zip(ax.flatten(), train_df[cols_src], train_df[cols_src].columns):\n",
        "#     sns.boxplot(train_df[feat], ax=axis)   \n",
        "#     axis.set(title=name.upper(), xlabel='nm')"
      ],
      "execution_count": null,
      "outputs": []
    },
    {
      "cell_type": "code",
      "metadata": {
        "id": "O-ZEYryTlQgQ",
        "colab_type": "code",
        "colab": {}
      },
      "source": [
        "# fig, ax = plt.subplots(nrows=7, ncols=5, sharex=True, figsize=(14, 14))\n",
        "# fig.subplots_adjust(hspace=0.4)\n",
        "# fig.suptitle('Boxplots of Features')\n",
        "\n",
        "# for axis, feat, name in zip(ax.flatten(), train_df[cols_src], train_df[cols_src].columns):\n",
        "#     sns.boxplot(train_df[feat], ax=axis)    \n",
        "#     axis.set(title=name.upper(), xlabel='nm')"
      ],
      "execution_count": null,
      "outputs": []
    },
    {
      "cell_type": "code",
      "metadata": {
        "id": "_RDmnMDS5SKa",
        "colab_type": "code",
        "colab": {
          "base_uri": "https://localhost:8080/",
          "height": 803
        },
        "outputId": "45ca2814-ce44-46c3-cb1b-7fb53ddb7815"
      },
      "source": [
        "plt.figure(figsize=(16,12))\n",
        "sns.heatmap(pd.concat([train_df2[cols], targets.drop(['id'], axis=1)], axis=1).corr())"
      ],
      "execution_count": null,
      "outputs": [
        {
          "output_type": "execute_result",
          "data": {
            "text/plain": [
              "<matplotlib.axes._subplots.AxesSubplot at 0x7f1739924eb8>"
            ]
          },
          "metadata": {
            "tags": []
          },
          "execution_count": 21
        },
        {
          "output_type": "display_data",
          "data": {
            "image/png": "[encoded data removed]",
            "text/plain": [
              "<Figure size 1152x864 with 2 Axes>"
            ]
          },
          "metadata": {
            "tags": [],
            "needs_background": "light"
          }
        }
      ]
    },
    {
      "cell_type": "code",
      "metadata": {
        "id": "XtfsC8AJlQlE",
        "colab_type": "code",
        "colab": {}
      },
      "source": [
        "# drop_cols = ['S1_kurtosis', 'S2_kurtosis', 'S3_kurtosis', 'S4_kurtosis']+['Time']\n",
        "\n",
        "# cols =[col for col in  train_df2.columns if col not in drop_cols ]\n",
        "\n",
        "target_cols = [col for col in targets.columns if col not in ['id'] ]\n",
        "\n",
        "# len(cols), len(target_cols)"
      ],
      "execution_count": null,
      "outputs": []
    },
    {
      "cell_type": "code",
      "metadata": {
        "id": "GObWV1N55JDU",
        "colab_type": "code",
        "colab": {
          "base_uri": "https://localhost:8080/",
          "height": 402
        },
        "outputId": "3defe5da-be20-4a2e-85e2-3bced59017b7"
      },
      "source": [
        "# cols\n",
        "targets"
      ],
      "execution_count": 20,
      "outputs": [
        {
          "output_type": "execute_result",
          "data": {
            "text/html": [
              "<div>\n",
              "<style scoped>\n",
              "    .dataframe tbody tr th:only-of-type {\n",
              "        vertical-align: middle;\n",
              "    }\n",
              "\n",
              "    .dataframe tbody tr th {\n",
              "        vertical-align: top;\n",
              "    }\n",
              "\n",
              "    .dataframe thead th {\n",
              "        text-align: right;\n",
              "    }\n",
              "</style>\n",
              "<table border=\"1\" class=\"dataframe\">\n",
              "  <thead>\n",
              "    <tr style=\"text-align: right;\">\n",
              "      <th></th>\n",
              "      <th>id</th>\n",
              "      <th>X</th>\n",
              "      <th>Y</th>\n",
              "      <th>M</th>\n",
              "      <th>V</th>\n",
              "    </tr>\n",
              "  </thead>\n",
              "  <tbody>\n",
              "    <tr>\n",
              "      <th>0</th>\n",
              "      <td>0</td>\n",
              "      <td>0.0</td>\n",
              "      <td>-400.0</td>\n",
              "      <td>50.0</td>\n",
              "      <td>0.4</td>\n",
              "    </tr>\n",
              "    <tr>\n",
              "      <th>1</th>\n",
              "      <td>1</td>\n",
              "      <td>400.0</td>\n",
              "      <td>0.0</td>\n",
              "      <td>100.0</td>\n",
              "      <td>1.0</td>\n",
              "    </tr>\n",
              "    <tr>\n",
              "      <th>2</th>\n",
              "      <td>2</td>\n",
              "      <td>-300.0</td>\n",
              "      <td>-200.0</td>\n",
              "      <td>25.0</td>\n",
              "      <td>0.4</td>\n",
              "    </tr>\n",
              "    <tr>\n",
              "      <th>3</th>\n",
              "      <td>3</td>\n",
              "      <td>200.0</td>\n",
              "      <td>-100.0</td>\n",
              "      <td>150.0</td>\n",
              "      <td>0.4</td>\n",
              "    </tr>\n",
              "    <tr>\n",
              "      <th>4</th>\n",
              "      <td>4</td>\n",
              "      <td>-300.0</td>\n",
              "      <td>-100.0</td>\n",
              "      <td>150.0</td>\n",
              "      <td>0.4</td>\n",
              "    </tr>\n",
              "    <tr>\n",
              "      <th>...</th>\n",
              "      <td>...</td>\n",
              "      <td>...</td>\n",
              "      <td>...</td>\n",
              "      <td>...</td>\n",
              "      <td>...</td>\n",
              "    </tr>\n",
              "    <tr>\n",
              "      <th>2795</th>\n",
              "      <td>2795</td>\n",
              "      <td>200.0</td>\n",
              "      <td>200.0</td>\n",
              "      <td>50.0</td>\n",
              "      <td>1.0</td>\n",
              "    </tr>\n",
              "    <tr>\n",
              "      <th>2796</th>\n",
              "      <td>2796</td>\n",
              "      <td>-400.0</td>\n",
              "      <td>-400.0</td>\n",
              "      <td>150.0</td>\n",
              "      <td>0.2</td>\n",
              "    </tr>\n",
              "    <tr>\n",
              "      <th>2797</th>\n",
              "      <td>2797</td>\n",
              "      <td>-100.0</td>\n",
              "      <td>0.0</td>\n",
              "      <td>50.0</td>\n",
              "      <td>0.2</td>\n",
              "    </tr>\n",
              "    <tr>\n",
              "      <th>2798</th>\n",
              "      <td>2798</td>\n",
              "      <td>100.0</td>\n",
              "      <td>100.0</td>\n",
              "      <td>125.0</td>\n",
              "      <td>0.6</td>\n",
              "    </tr>\n",
              "    <tr>\n",
              "      <th>2799</th>\n",
              "      <td>2799</td>\n",
              "      <td>100.0</td>\n",
              "      <td>-200.0</td>\n",
              "      <td>100.0</td>\n",
              "      <td>0.6</td>\n",
              "    </tr>\n",
              "  </tbody>\n",
              "</table>\n",
              "<p>2800 rows × 5 columns</p>\n",
              "</div>"
            ],
            "text/plain": [
              "        id      X      Y      M    V\n",
              "0        0    0.0 -400.0   50.0  0.4\n",
              "1        1  400.0    0.0  100.0  1.0\n",
              "2        2 -300.0 -200.0   25.0  0.4\n",
              "3        3  200.0 -100.0  150.0  0.4\n",
              "4        4 -300.0 -100.0  150.0  0.4\n",
              "...    ...    ...    ...    ...  ...\n",
              "2795  2795  200.0  200.0   50.0  1.0\n",
              "2796  2796 -400.0 -400.0  150.0  0.2\n",
              "2797  2797 -100.0    0.0   50.0  0.2\n",
              "2798  2798  100.0  100.0  125.0  0.6\n",
              "2799  2799  100.0 -200.0  100.0  0.6\n",
              "\n",
              "[2800 rows x 5 columns]"
            ]
          },
          "metadata": {
            "tags": []
          },
          "execution_count": 20
        }
      ]
    },
    {
      "cell_type": "markdown",
      "metadata": {
        "id": "OjJdd9Cbj3fP",
        "colab_type": "text"
      },
      "source": [
        "# CNN"
      ]
    },
    {
      "cell_type": "code",
      "metadata": {
        "id": "lqDqGbMOfz4t",
        "colab_type": "code",
        "colab": {
          "base_uri": "https://localhost:8080/",
          "height": 34
        },
        "outputId": "db298bfe-e900-4a6a-9c12-f3263b1d85ef"
      },
      "source": [
        "# del model0, model1, model2, hist0, hist0_df, hist1, hist1_df, hist2, hist2_df\n",
        "# gc.collect()"
      ],
      "execution_count": 86,
      "outputs": [
        {
          "output_type": "execute_result",
          "data": {
            "text/plain": [
              "29352"
            ]
          },
          "metadata": {
            "tags": []
          },
          "execution_count": 86
        }
      ]
    },
    {
      "cell_type": "code",
      "metadata": {
        "id": "uWG6txovM8BS",
        "colab_type": "code",
        "colab": {
          "base_uri": "https://localhost:8080/",
          "height": 34
        },
        "outputId": "a7eccae5-3b73-4498-c8c3-4d5798c5de9c"
      },
      "source": [
        "SCALE = False   # True\n",
        "\n",
        "if SCALE:     \n",
        "    sc_inp = StandardScaler()\n",
        "    X = sc_inp.fit_transform(train_df.iloc[:, 1:].values)\n",
        "    X_test = sc_inp.transform(test_df.iloc[:, 1:].values)\n",
        "else: \n",
        "    X = train_df.iloc[:, 1:].values\n",
        "    X_test = test_df.iloc[:, 1:].values\n",
        "\n",
        "# reshape arrays\n",
        "X = X.reshape(2800, 375, 5, 1)\n",
        "X_test = X_test.reshape(700, 375, 5, 1)\n",
        "y = targets[['X', 'Y', 'M', 'V']]\n",
        "\n",
        "X.shape, y.shape, X_test.shape"
      ],
      "execution_count": 87,
      "outputs": [
        {
          "output_type": "execute_result",
          "data": {
            "text/plain": [
              "((2800, 375, 5, 1), (2800, 4), (700, 375, 5, 1))"
            ]
          },
          "metadata": {
            "tags": []
          },
          "execution_count": 87
        }
      ]
    },
    {
      "cell_type": "code",
      "metadata": {
        "id": "R4OeSBm7Odda",
        "colab_type": "code",
        "colab": {}
      },
      "source": [
        "weight1 = np.array([1,1,0,0])\n",
        "weight2 = np.array([0,0,1,1])\n",
        "\n",
        "def my_loss(y_true, y_pred):\n",
        "    divResult = Lambda(lambda x: x[0]/x[1])([(y_pred-y_true),(y_true+0.000001)])\n",
        "    return K.mean(K.square(divResult))\n",
        "\n",
        "\n",
        "def my_loss_E1(y_true, y_pred):\n",
        "    return K.mean(K.square(y_true-y_pred)*weight1)/2e+04\n",
        "\n",
        "def my_loss_E2(y_true, y_pred):\n",
        "    divResult = Lambda(lambda x: x[0]/x[1])([(y_pred-y_true),(y_true+0.000001)])\n",
        "    return K.mean(K.square(divResult)*weight2)"
      ],
      "execution_count": 88,
      "outputs": []
    },
    {
      "cell_type": "code",
      "metadata": {
        "id": "fbuiCA9io2Gw",
        "colab_type": "code",
        "colab": {}
      },
      "source": [
        "# x_train, x_valid, y_train, y_valid = train_test_split(X, y, test_size=0.3, shuffle=True, random_state=SEED)\n",
        "# x_train.shape, x_valid.shape"
      ],
      "execution_count": null,
      "outputs": []
    },
    {
      "cell_type": "code",
      "metadata": {
        "id": "7TR_chVOWArW",
        "colab_type": "code",
        "colab": {}
      },
      "source": [
        "import tensorflow as tf\n",
        "from tensorflow.keras.layers import *\n",
        "from tensorflow.keras.callbacks import *\n",
        "from tensorflow.keras.optimizers import *\n",
        "import tensorflow.keras.backend as K\n",
        "\n",
        "\n",
        "def build_cnn_model():\n",
        "\n",
        "    activ = 'elu'        # 'relu'\n",
        "    padding = 'valid'    # 'same'\n",
        "    nf = 16\n",
        "    fs = (5,1)    # (3,1)\n",
        "\n",
        "    inp = Input(shape=X.shape[1:])\n",
        "\n",
        "    # layer-1\n",
        "    x = Conv2D(nf, fs, padding=padding, activation=activ)(inp)\n",
        "    x = BatchNormalization()(x)\n",
        "    x = MaxPooling2D(pool_size=(2, 1))(x)\n",
        "    \n",
        "    # layer-2\n",
        "    x =Conv2D(nf*2, fs, padding=padding, activation=activ)(x)\n",
        "    x = BatchNormalization()(x)\n",
        "    x = MaxPooling2D(pool_size=(2, 1))(x)\n",
        "\n",
        "    # layer-3\n",
        "    x = Conv2D(nf*4, fs, padding=padding, activation=activ)(x)\n",
        "    x = BatchNormalization()(x)\n",
        "    x = MaxPooling2D(pool_size=(2, 1))(x)\n",
        "\n",
        "    # layer-4\n",
        "    x = Conv2D(nf*8, fs, padding=padding, activation=activ)(x)\n",
        "    x = BatchNormalization()(x)\n",
        "    x = MaxPooling2D(pool_size=(2, 1))(x)\n",
        "\n",
        "    # layer-5\n",
        "    x = Conv2D(nf*16, fs, padding=padding, activation=activ)(x)\n",
        "    x = BatchNormalization()(x)\n",
        "    x = MaxPooling2D(pool_size=(2, 1))(x)\n",
        "\n",
        "    # layer-6\n",
        "    x = Conv2D(nf*32, fs, padding=padding, activation=activ)(x)\n",
        "    x = BatchNormalization()(x)\n",
        "    x = MaxPooling2D(pool_size=(2, 1))(x)\n",
        "\n",
        "    # FC\n",
        "    x = Flatten()(x)\n",
        "    x = Dense(128, kernel_initializer='uniform', activation=activ)(x)\n",
        "    # x = BatchNormalization()(x)\n",
        "    x = Dropout(0.2)(x)\n",
        "    x = Dense(64, kernel_initializer='uniform', activation=activ)(x)\n",
        "    # x = BatchNormalization()(x)\n",
        "    x = Dropout(0.2)(x)\n",
        "    x = Dense(16, kernel_initializer='uniform', activation=activ)(x)\n",
        "    # x = BatchNormalization()(x)\n",
        "    x = Dropout(0.2)(x)\n",
        "    \n",
        "    out = Dense(4, kernel_initializer='uniform', activation='linear')(x)\n",
        "\n",
        "    model = tf.keras.models.Model(inputs=[inp], outputs=[out])\n",
        "\n",
        "    return model\n",
        "\n",
        "\n",
        "def WaveNetResidualConv2D(num_filters, kernel_size, stacked_layer):\n",
        "\n",
        "    def build_residual_block(l_input):\n",
        "        resid_input = l_input\n",
        "        for dilation_rate in [2**i for i in range(stacked_layer)]:\n",
        "            l_sigmoid_conv1d = Conv1D(num_filters, kernel_size, dilation_rate=dilation_rate, padding='same', activation='sigmoid')(l_input)\n",
        "            l_tanh_conv1d = Conv1D(num_filters, kernel_size, dilation_rate=dilation_rate, padding='same', activation='mish')(l_input)\n",
        "            l_input = Multiply()([l_sigmoid_conv1d, l_tanh_conv1d])\n",
        "            l_input = Conv1D(num_filters, 1, padding='same')(l_input)\n",
        "            resid_input = Add()([resid_input, l_input])\n",
        "        return resid_input\n",
        "    return build_residual_block\n",
        "\n",
        "def build_wavenet():    # shape_\n",
        "    num_filters_ = 16\n",
        "    kernel_size_ = 3\n",
        "    stacked_layers_ = [12, 8, 4, 1]\n",
        "    l_input = Input(shape=X.shape[1:])\n",
        "    x = Conv1D(num_filters_, 1, padding='same')(l_input)\n",
        "    x = WaveNetResidualConv2D(num_filters_, kernel_size_, stacked_layers_[0])(x)\n",
        "    x = Conv1D(num_filters_*2, 1, padding='same')(x)\n",
        "    x = WaveNetResidualConv2D(num_filters_*2, kernel_size_, stacked_layers_[1])(x)\n",
        "    x = Conv1D(num_filters_*4, 1, padding='same')(x)\n",
        "    x = WaveNetResidualConv2D(num_filters_*4, kernel_size_, stacked_layers_[2])(x)\n",
        "    x = Conv1D(num_filters_*8, 1, padding='same')(x)\n",
        "    x = WaveNetResidualConv2D(num_filters_*8, kernel_size_, stacked_layers_[3])(x)\n",
        "\n",
        "    # FC\n",
        "    x = Flatten()(x)\n",
        "    x = Dense(256, kernel_initializer='uniform', activation='elu')(x)\n",
        "    # x = BatchNormalization()(x)\n",
        "    x = Dropout(0.2)(x)\n",
        "    x = Dense(128, kernel_initializer='uniform', activation='elu')(x)\n",
        "    # x = BatchNormalization()(x)\n",
        "    x = Dropout(0.2)(x)\n",
        "    x = Dense(64, kernel_initializer='uniform', activation='elu')(x)\n",
        "    # x = BatchNormalization()(x)\n",
        "    x = Dropout(0.2)(x)\n",
        "\n",
        "    l_output = Dense(4, activation='linear')(x)\n",
        "\n",
        "    model = tf.keras.models.Model(inputs=[l_input], outputs=[l_output])\n",
        "    # opt = tf.keras.optimizers.Adam(lr=LR)\n",
        "    # opt = tfa.optimizers.SWA(opt)\n",
        "    # model.compile(loss=losses.CategoricalCrossentropy(), optimizer=opt, metrics=['accuracy'])\n",
        "    return model    \n",
        "\n",
        "\n",
        "def build_wavenet2():\n",
        "    \n",
        "    def wave_block(x, filters, kernel_size, n):\n",
        "        dilation_rates = [2**i for i in range(n)]\n",
        "        x = Conv1D(filters=filters, kernel_size=1, padding='same')(x)\n",
        "        res_x = x\n",
        "        for dilation_rate in dilation_rates:\n",
        "            tanh_out = Conv1D(filters=filters, kernel_size=kernel_size, padding='same', \n",
        "                              activation='tanh', dilation_rate=dilation_rate)(x)\n",
        "            sigm_out = Conv1D(filters=filters, kernel_size=kernel_size, padding = 'same',\n",
        "                              activation='sigmoid', dilation_rate=dilation_rate)(x)\n",
        "            x = Multiply()([tanh_out, sigm_out])\n",
        "            x = Conv1D(filters=filters, kernel_size=1, padding='same')(x)\n",
        "            res_x = Add()([res_x, x])\n",
        "        return res_x\n",
        "    \n",
        "    inp = Input(shape=X.shape[1:])\n",
        "    x = wave_block(inp, 16, 3, 12)\n",
        "    x = wave_block(x, 32, 3, 8)\n",
        "    x = wave_block(x, 64, 3, 4)\n",
        "    x = wave_block(x, 128, 3, 1)\n",
        "\n",
        "    # FC\n",
        "    x = Flatten()(x)\n",
        "    x = Dense(256, kernel_initializer='uniform', activation='elu')(x)\n",
        "    # x = BatchNormalization()(x)\n",
        "    x = Dropout(0.2)(x)\n",
        "    x = Dense(128, kernel_initializer='uniform', activation='elu')(x)\n",
        "    # x = BatchNormalization()(x)\n",
        "    x = Dropout(0.2)(x)\n",
        "    x = Dense(64, kernel_initializer='uniform', activation='elu')(x)\n",
        "    # x = BatchNormalization()(x)\n",
        "    x = Dropout(0.2)(x)\n",
        "\n",
        "    out = Dense(4, activation='linear', name='out')(x)\n",
        "    \n",
        "    model = models.Model(inputs = inp, outputs = out)\n",
        "    return model    "
      ],
      "execution_count": 89,
      "outputs": []
    },
    {
      "cell_type": "code",
      "metadata": {
        "id": "1wV8CdpCj1p9",
        "colab_type": "code",
        "colab": {
          "base_uri": "https://localhost:8080/",
          "height": 1000
        },
        "outputId": "d5d96bf0-bb2e-4467-caca-19fbc0061c46"
      },
      "source": [
        "build_cnn_model().summary()\n",
        "\n",
        "# build_wavenet().summary()\n",
        "\n",
        "# model"
      ],
      "execution_count": 25,
      "outputs": [
        {
          "output_type": "stream",
          "text": [
            "Model: \"model\"\n",
            "_________________________________________________________________\n",
            "Layer (type)                 Output Shape              Param #   \n",
            "=================================================================\n",
            "input_1 (InputLayer)         [(None, 375, 5, 1)]       0         \n",
            "_________________________________________________________________\n",
            "conv2d (Conv2D)              (None, 373, 5, 16)        64        \n",
            "_________________________________________________________________\n",
            "batch_normalization (BatchNo (None, 373, 5, 16)        64        \n",
            "_________________________________________________________________\n",
            "max_pooling2d (MaxPooling2D) (None, 186, 5, 16)        0         \n",
            "_________________________________________________________________\n",
            "conv2d_1 (Conv2D)            (None, 184, 5, 32)        1568      \n",
            "_________________________________________________________________\n",
            "batch_normalization_1 (Batch (None, 184, 5, 32)        128       \n",
            "_________________________________________________________________\n",
            "max_pooling2d_1 (MaxPooling2 (None, 92, 5, 32)         0         \n",
            "_________________________________________________________________\n",
            "conv2d_2 (Conv2D)            (None, 90, 5, 64)         6208      \n",
            "_________________________________________________________________\n",
            "batch_normalization_2 (Batch (None, 90, 5, 64)         256       \n",
            "_________________________________________________________________\n",
            "max_pooling2d_2 (MaxPooling2 (None, 45, 5, 64)         0         \n",
            "_________________________________________________________________\n",
            "conv2d_3 (Conv2D)            (None, 43, 5, 128)        24704     \n",
            "_________________________________________________________________\n",
            "batch_normalization_3 (Batch (None, 43, 5, 128)        512       \n",
            "_________________________________________________________________\n",
            "max_pooling2d_3 (MaxPooling2 (None, 21, 5, 128)        0         \n",
            "_________________________________________________________________\n",
            "conv2d_4 (Conv2D)            (None, 19, 5, 256)        98560     \n",
            "_________________________________________________________________\n",
            "batch_normalization_4 (Batch (None, 19, 5, 256)        1024      \n",
            "_________________________________________________________________\n",
            "max_pooling2d_4 (MaxPooling2 (None, 9, 5, 256)         0         \n",
            "_________________________________________________________________\n",
            "conv2d_5 (Conv2D)            (None, 7, 5, 512)         393728    \n",
            "_________________________________________________________________\n",
            "batch_normalization_5 (Batch (None, 7, 5, 512)         2048      \n",
            "_________________________________________________________________\n",
            "max_pooling2d_5 (MaxPooling2 (None, 3, 5, 512)         0         \n",
            "_________________________________________________________________\n",
            "flatten (Flatten)            (None, 7680)              0         \n",
            "_________________________________________________________________\n",
            "dense (Dense)                (None, 128)               983168    \n",
            "_________________________________________________________________\n",
            "dropout (Dropout)            (None, 128)               0         \n",
            "_________________________________________________________________\n",
            "dense_1 (Dense)              (None, 64)                8256      \n",
            "_________________________________________________________________\n",
            "dropout_1 (Dropout)          (None, 64)                0         \n",
            "_________________________________________________________________\n",
            "dense_2 (Dense)              (None, 16)                1040      \n",
            "_________________________________________________________________\n",
            "dropout_2 (Dropout)          (None, 16)                0         \n",
            "_________________________________________________________________\n",
            "dense_3 (Dense)              (None, 4)                 68        \n",
            "=================================================================\n",
            "Total params: 1,521,396\n",
            "Trainable params: 1,519,380\n",
            "Non-trainable params: 2,016\n",
            "_________________________________________________________________\n"
          ],
          "name": "stdout"
        }
      ]
    },
    {
      "cell_type": "markdown",
      "metadata": {
        "id": "BAga_ncHT8zb",
        "colab_type": "text"
      },
      "source": [
        "### Model #0: Train for X,y"
      ]
    },
    {
      "cell_type": "code",
      "metadata": {
        "id": "J4d6cgq2RSSP",
        "colab_type": "code",
        "colab": {
          "base_uri": "https://localhost:8080/",
          "height": 317
        },
        "outputId": "0664ee2a-b495-4053-e55d-fbd55628cfd1"
      },
      "source": [
        "train_target = 0\n",
        "\n",
        "# compile model\n",
        "BATCH_SIZE = 256\n",
        "EPOCHS = 300\n",
        "LR = 0.001\n",
        "\n",
        "optimizer = tf.keras.optimizers.Adam()\n",
        "\n",
        "global weight2\n",
        "if train_target == 1: \n",
        "    # only for M\n",
        "    weight2 = np.array([0,0,1,0])\n",
        "else: \n",
        "    # only for V\n",
        "    weight2 = np.array([0,0,0,1])\n",
        "    \n",
        "# if train_target==0:\n",
        "model = build_cnn_model()\n",
        "model.compile(loss=my_loss_E1, optimizer=optimizer)\n",
        "\n",
        "# Find optimal LR \n",
        "lr_finder = LRFinder(min_lr=1e-5, max_lr=1e-1, steps_per_epoch=10, epochs=3)\n",
        "model.fit(X, y, callbacks=[lr_finder])\n",
        "\n",
        "plt.figure()\n",
        "lr_finder.plot_loss()\n",
        "\n",
        "# plt.figure()\n",
        "# lr_finder.plot_lr()\n",
        "\n",
        "del model \n",
        "gc.collect()"
      ],
      "execution_count": 31,
      "outputs": [
        {
          "output_type": "stream",
          "text": [
            "88/88 [==============================] - 2s 20ms/step - loss: 1.5592\n"
          ],
          "name": "stdout"
        },
        {
          "output_type": "display_data",
          "data": {
            "image/png": "[encoded data removed]",
            "text/plain": [
              "<Figure size 432x288 with 1 Axes>"
            ]
          },
          "metadata": {
            "tags": [],
            "needs_background": "light"
          }
        },
        {
          "output_type": "execute_result",
          "data": {
            "text/plain": [
              "10711"
            ]
          },
          "metadata": {
            "tags": []
          },
          "execution_count": 31
        }
      ]
    },
    {
      "cell_type": "code",
      "metadata": {
        "id": "OeGJ7gG0p1fL",
        "colab_type": "code",
        "colab": {}
      },
      "source": [
        "train_target = 0\n",
        "\n",
        "LR = 0.01\n",
        "\n",
        "model0 = build_cnn_model()\n",
        "optimizer = tf.keras.optimizers.Adam()\n",
        "optimizer = tfa.optimizers.SWA(optimizer)\n",
        "\n",
        "global weight2\n",
        "if train_target == 1: \n",
        "    # only for M\n",
        "    weight2 = np.array([0,0,1,0])\n",
        "else: \n",
        "    # only for V\n",
        "    weight2 = np.array([0,0,0,1])\n",
        "    \n",
        "model0.compile(loss=my_loss_E1, optimizer=optimizer, metrics=[r2_keras])\n",
        "\n",
        "# callbacks\n",
        "MODEL_PATH = '/content/drive/My Drive/ML Projects/DACON/Colision/'\n",
        "MODEL_NAME = 'CNN_model_3a.h5'      # _epoch{epoch:02d}_loss{val_loss:.2f}\n",
        "\n",
        "es = tf.keras.callbacks.EarlyStopping(monitor='val_loss', mode='min', verbose=1, patience=25)\n",
        "mc = tf.keras.callbacks.ModelCheckpoint(MODEL_PATH+MODEL_NAME, monitor='val_loss', save_best_only=True, save_weights_only=False, verbose=1)\n",
        "\n",
        "# select LR schedule Callback\n",
        "# ---------------------------\n",
        "# rlr = tf.keras.callbacks.ReduceLROnPlateau(monitor='val_loss', patience=10, verbose=1, factor=0.7)\n",
        "# lr_schedule = step_decay_schedule(initial_lr=1e-2, decay_factor=0.5, step_size=5)\n",
        "lr_cyclic = CyclicLR(base_lr=0.001, max_lr=0.006, step_size=25., mode='exp_range', gamma=0.99994)\n",
        "# lr_cos = WarmUpCosineDecayScheduler()\n",
        "\n",
        "callbacks=[es,  mc, lr_cyclic]             \n",
        "# lr_cyclic, lr_cos, \n"
      ],
      "execution_count": 91,
      "outputs": []
    },
    {
      "cell_type": "code",
      "metadata": {
        "id": "7x_N_iAqqbLt",
        "colab_type": "code",
        "colab": {
          "base_uri": "https://localhost:8080/",
          "height": 1000
        },
        "outputId": "2d687b5d-1bb4-4540-9d12-f340fef3af94"
      },
      "source": [
        "print('Train CNN model #3 for X,Y')   # kernel 5 + SWA\n",
        "print()\n",
        "\n",
        "hist0 = model0.fit(X, y,                   \n",
        "                 validation_split=0.2,    \n",
        "                 batch_size=BATCH_SIZE,\n",
        "                 epochs=EPOCHS,\n",
        "                 verbose=1,\n",
        "                 shuffle=True,\n",
        "                 callbacks=callbacks)"
      ],
      "execution_count": 92,
      "outputs": [
        {
          "output_type": "stream",
          "text": [
            "Train CNN model #3 for X,Y\n",
            "\n",
            "Epoch 1/200\n",
            "WARNING:tensorflow:From /usr/local/lib/python3.6/dist-packages/tensorflow/python/ops/resource_variable_ops.py:1817: calling BaseResourceVariable.__init__ (from tensorflow.python.ops.resource_variable_ops) with constraint is deprecated and will be removed in a future version.\n",
            "Instructions for updating:\n",
            "If using Keras pass *_constraint arguments to layers.\n",
            "9/9 [==============================] - ETA: 0s - loss: 1.6620 - r2_keras: -0.0149\n",
            "Epoch 00001: val_loss improved from inf to 1.64005, saving model to /content/drive/My Drive/ML Projects/DACON/Colision/CNN_model_3a.h5\n",
            "9/9 [==============================] - 4s 402ms/step - loss: 1.6620 - r2_keras: -0.0149 - val_loss: 1.6401 - val_r2_keras: -0.0083\n",
            "Epoch 2/200\n",
            "9/9 [==============================] - ETA: 0s - loss: 1.4930 - r2_keras: 0.0826\n",
            "Epoch 00002: val_loss improved from 1.64005 to 0.90145, saving model to /content/drive/My Drive/ML Projects/DACON/Colision/CNN_model_3a.h5\n",
            "9/9 [==============================] - 1s 135ms/step - loss: 1.4930 - r2_keras: 0.0826 - val_loss: 0.9015 - val_r2_keras: 0.3942\n",
            "Epoch 3/200\n",
            "9/9 [==============================] - ETA: 0s - loss: 0.5099 - r2_keras: 0.5989\n",
            "Epoch 00003: val_loss did not improve from 0.90145\n",
            "9/9 [==============================] - 1s 96ms/step - loss: 0.5099 - r2_keras: 0.5989 - val_loss: 18.0675 - val_r2_keras: -9.3360\n",
            "Epoch 4/200\n",
            "9/9 [==============================] - ETA: 0s - loss: 0.2123 - r2_keras: 0.7649\n",
            "Epoch 00004: val_loss did not improve from 0.90145\n",
            "9/9 [==============================] - 1s 97ms/step - loss: 0.2123 - r2_keras: 0.7649 - val_loss: 29.3390 - val_r2_keras: -15.4598\n",
            "Epoch 5/200\n",
            "9/9 [==============================] - ETA: 0s - loss: 0.1670 - r2_keras: 0.7962\n",
            "Epoch 00005: val_loss did not improve from 0.90145\n",
            "9/9 [==============================] - 1s 96ms/step - loss: 0.1670 - r2_keras: 0.7962 - val_loss: 18.3971 - val_r2_keras: -9.4430\n",
            "Epoch 6/200\n",
            "9/9 [==============================] - ETA: 0s - loss: 0.1525 - r2_keras: 0.8047\n",
            "Epoch 00006: val_loss did not improve from 0.90145\n",
            "9/9 [==============================] - 1s 97ms/step - loss: 0.1525 - r2_keras: 0.8047 - val_loss: 5.9784 - val_r2_keras: -2.5028\n",
            "Epoch 7/200\n",
            "9/9 [==============================] - ETA: 0s - loss: 0.1480 - r2_keras: 0.8080\n",
            "Epoch 00007: val_loss did not improve from 0.90145\n",
            "9/9 [==============================] - 1s 94ms/step - loss: 0.1480 - r2_keras: 0.8080 - val_loss: 4.1563 - val_r2_keras: -1.4999\n",
            "Epoch 8/200\n",
            "9/9 [==============================] - ETA: 0s - loss: 0.1412 - r2_keras: 0.8119\n",
            "Epoch 00008: val_loss did not improve from 0.90145\n",
            "9/9 [==============================] - 1s 96ms/step - loss: 0.1412 - r2_keras: 0.8119 - val_loss: 2.2800 - val_r2_keras: -0.4429\n",
            "Epoch 9/200\n",
            "9/9 [==============================] - ETA: 0s - loss: 0.1439 - r2_keras: 0.8095\n",
            "Epoch 00009: val_loss did not improve from 0.90145\n",
            "9/9 [==============================] - 1s 95ms/step - loss: 0.1439 - r2_keras: 0.8095 - val_loss: 1.2176 - val_r2_keras: 0.1801\n",
            "Epoch 10/200\n",
            "9/9 [==============================] - ETA: 0s - loss: 0.1431 - r2_keras: 0.8115\n",
            "Epoch 00010: val_loss improved from 0.90145 to 0.79007, saving model to /content/drive/My Drive/ML Projects/DACON/Colision/CNN_model_3a.h5\n",
            "9/9 [==============================] - 1s 125ms/step - loss: 0.1431 - r2_keras: 0.8115 - val_loss: 0.7901 - val_r2_keras: 0.4119\n",
            "Epoch 11/200\n",
            "9/9 [==============================] - ETA: 0s - loss: 0.1382 - r2_keras: 0.8128\n",
            "Epoch 00011: val_loss improved from 0.79007 to 0.27100, saving model to /content/drive/My Drive/ML Projects/DACON/Colision/CNN_model_3a.h5\n",
            "9/9 [==============================] - 1s 122ms/step - loss: 0.1382 - r2_keras: 0.8128 - val_loss: 0.2710 - val_r2_keras: 0.7259\n",
            "Epoch 12/200\n",
            "9/9 [==============================] - ETA: 0s - loss: 0.1408 - r2_keras: 0.8125\n",
            "Epoch 00012: val_loss improved from 0.27100 to 0.21639, saving model to /content/drive/My Drive/ML Projects/DACON/Colision/CNN_model_3a.h5\n",
            "9/9 [==============================] - 1s 123ms/step - loss: 0.1408 - r2_keras: 0.8125 - val_loss: 0.2164 - val_r2_keras: 0.7625\n",
            "Epoch 13/200\n",
            "9/9 [==============================] - ETA: 0s - loss: 0.1415 - r2_keras: 0.8116\n",
            "Epoch 00013: val_loss improved from 0.21639 to 0.12384, saving model to /content/drive/My Drive/ML Projects/DACON/Colision/CNN_model_3a.h5\n",
            "9/9 [==============================] - 1s 123ms/step - loss: 0.1415 - r2_keras: 0.8116 - val_loss: 0.1238 - val_r2_keras: 0.8146\n",
            "Epoch 14/200\n",
            "9/9 [==============================] - ETA: 0s - loss: 0.1452 - r2_keras: 0.8097\n",
            "Epoch 00014: val_loss improved from 0.12384 to 0.08354, saving model to /content/drive/My Drive/ML Projects/DACON/Colision/CNN_model_3a.h5\n",
            "9/9 [==============================] - 1s 124ms/step - loss: 0.1452 - r2_keras: 0.8097 - val_loss: 0.0835 - val_r2_keras: 0.8373\n",
            "Epoch 15/200\n",
            "9/9 [==============================] - ETA: 0s - loss: 0.1348 - r2_keras: 0.8147\n",
            "Epoch 00015: val_loss did not improve from 0.08354\n",
            "9/9 [==============================] - 1s 94ms/step - loss: 0.1348 - r2_keras: 0.8147 - val_loss: 0.1023 - val_r2_keras: 0.8302\n",
            "Epoch 16/200\n",
            "9/9 [==============================] - ETA: 0s - loss: 0.1408 - r2_keras: 0.8086\n",
            "Epoch 00016: val_loss improved from 0.08354 to 0.03345, saving model to /content/drive/My Drive/ML Projects/DACON/Colision/CNN_model_3a.h5\n",
            "9/9 [==============================] - 1s 123ms/step - loss: 0.1408 - r2_keras: 0.8086 - val_loss: 0.0334 - val_r2_keras: 0.8668\n",
            "Epoch 17/200\n",
            "9/9 [==============================] - ETA: 0s - loss: 0.1339 - r2_keras: 0.8125\n",
            "Epoch 00017: val_loss did not improve from 0.03345\n",
            "9/9 [==============================] - 1s 94ms/step - loss: 0.1339 - r2_keras: 0.8125 - val_loss: 0.0516 - val_r2_keras: 0.8571\n",
            "Epoch 18/200\n",
            "9/9 [==============================] - ETA: 0s - loss: 0.1393 - r2_keras: 0.8105\n",
            "Epoch 00018: val_loss did not improve from 0.03345\n",
            "9/9 [==============================] - 1s 95ms/step - loss: 0.1393 - r2_keras: 0.8105 - val_loss: 0.1025 - val_r2_keras: 0.8361\n",
            "Epoch 19/200\n",
            "9/9 [==============================] - ETA: 0s - loss: 0.1477 - r2_keras: 0.8046\n",
            "Epoch 00019: val_loss did not improve from 0.03345\n",
            "9/9 [==============================] - 1s 94ms/step - loss: 0.1477 - r2_keras: 0.8046 - val_loss: 0.2385 - val_r2_keras: 0.7660\n",
            "Epoch 20/200\n",
            "9/9 [==============================] - ETA: 0s - loss: 0.1369 - r2_keras: 0.8142\n",
            "Epoch 00020: val_loss did not improve from 0.03345\n",
            "9/9 [==============================] - 1s 96ms/step - loss: 0.1369 - r2_keras: 0.8142 - val_loss: 0.2540 - val_r2_keras: 0.7580\n",
            "Epoch 21/200\n",
            "9/9 [==============================] - ETA: 0s - loss: 0.1425 - r2_keras: 0.8114\n",
            "Epoch 00021: val_loss did not improve from 0.03345\n",
            "9/9 [==============================] - 1s 94ms/step - loss: 0.1425 - r2_keras: 0.8114 - val_loss: 0.1929 - val_r2_keras: 0.7916\n",
            "Epoch 22/200\n",
            "9/9 [==============================] - ETA: 0s - loss: 0.1316 - r2_keras: 0.8181\n",
            "Epoch 00022: val_loss did not improve from 0.03345\n",
            "9/9 [==============================] - 1s 95ms/step - loss: 0.1316 - r2_keras: 0.8181 - val_loss: 0.0689 - val_r2_keras: 0.8566\n",
            "Epoch 23/200\n",
            "9/9 [==============================] - ETA: 0s - loss: 0.1282 - r2_keras: 0.8195\n",
            "Epoch 00023: val_loss did not improve from 0.03345\n",
            "9/9 [==============================] - 1s 95ms/step - loss: 0.1282 - r2_keras: 0.8195 - val_loss: 0.1131 - val_r2_keras: 0.8352\n",
            "Epoch 24/200\n",
            "9/9 [==============================] - ETA: 0s - loss: 0.1373 - r2_keras: 0.8148\n",
            "Epoch 00024: val_loss did not improve from 0.03345\n",
            "9/9 [==============================] - 1s 95ms/step - loss: 0.1373 - r2_keras: 0.8148 - val_loss: 0.2865 - val_r2_keras: 0.7422\n",
            "Epoch 25/200\n",
            "9/9 [==============================] - ETA: 0s - loss: 0.1359 - r2_keras: 0.8150\n",
            "Epoch 00025: val_loss did not improve from 0.03345\n",
            "9/9 [==============================] - 1s 99ms/step - loss: 0.1359 - r2_keras: 0.8150 - val_loss: 0.2284 - val_r2_keras: 0.7719\n",
            "Epoch 26/200\n",
            "9/9 [==============================] - ETA: 0s - loss: 0.1422 - r2_keras: 0.8092\n",
            "Epoch 00026: val_loss did not improve from 0.03345\n",
            "9/9 [==============================] - 1s 94ms/step - loss: 0.1422 - r2_keras: 0.8092 - val_loss: 0.1678 - val_r2_keras: 0.8043\n",
            "Epoch 27/200\n",
            "9/9 [==============================] - ETA: 0s - loss: 0.1374 - r2_keras: 0.8107\n",
            "Epoch 00027: val_loss did not improve from 0.03345\n",
            "9/9 [==============================] - 1s 95ms/step - loss: 0.1374 - r2_keras: 0.8107 - val_loss: 0.2751 - val_r2_keras: 0.7467\n",
            "Epoch 28/200\n",
            "9/9 [==============================] - ETA: 0s - loss: 0.1421 - r2_keras: 0.8077\n",
            "Epoch 00028: val_loss did not improve from 0.03345\n",
            "9/9 [==============================] - 1s 97ms/step - loss: 0.1421 - r2_keras: 0.8077 - val_loss: 0.4066 - val_r2_keras: 0.6758\n",
            "Epoch 29/200\n",
            "9/9 [==============================] - ETA: 0s - loss: 0.1284 - r2_keras: 0.8171\n",
            "Epoch 00029: val_loss did not improve from 0.03345\n",
            "9/9 [==============================] - 1s 95ms/step - loss: 0.1284 - r2_keras: 0.8171 - val_loss: 0.1102 - val_r2_keras: 0.8342\n",
            "Epoch 30/200\n",
            "9/9 [==============================] - ETA: 0s - loss: 0.1346 - r2_keras: 0.8135\n",
            "Epoch 00030: val_loss improved from 0.03345 to 0.00875, saving model to /content/drive/My Drive/ML Projects/DACON/Colision/CNN_model_3a.h5\n",
            "9/9 [==============================] - 3s 318ms/step - loss: 0.1346 - r2_keras: 0.8135 - val_loss: 0.0088 - val_r2_keras: 0.8865\n",
            "Epoch 31/200\n",
            "9/9 [==============================] - ETA: 0s - loss: 0.1389 - r2_keras: 0.8149\n",
            "Epoch 00031: val_loss did not improve from 0.00875\n",
            "9/9 [==============================] - 1s 95ms/step - loss: 0.1389 - r2_keras: 0.8149 - val_loss: 0.1191 - val_r2_keras: 0.8350\n",
            "Epoch 32/200\n",
            "9/9 [==============================] - ETA: 0s - loss: 0.1416 - r2_keras: 0.8134\n",
            "Epoch 00032: val_loss did not improve from 0.00875\n",
            "9/9 [==============================] - 1s 94ms/step - loss: 0.1416 - r2_keras: 0.8134 - val_loss: 0.2081 - val_r2_keras: 0.7864\n",
            "Epoch 33/200\n",
            "9/9 [==============================] - ETA: 0s - loss: 0.1380 - r2_keras: 0.8143\n",
            "Epoch 00033: val_loss did not improve from 0.00875\n",
            "9/9 [==============================] - 1s 94ms/step - loss: 0.1380 - r2_keras: 0.8143 - val_loss: 0.0783 - val_r2_keras: 0.8522\n",
            "Epoch 34/200\n",
            "9/9 [==============================] - ETA: 0s - loss: 0.1352 - r2_keras: 0.8146\n",
            "Epoch 00034: val_loss did not improve from 0.00875\n",
            "9/9 [==============================] - 1s 96ms/step - loss: 0.1352 - r2_keras: 0.8146 - val_loss: 0.0197 - val_r2_keras: 0.8814\n",
            "Epoch 35/200\n",
            "9/9 [==============================] - ETA: 0s - loss: 0.1295 - r2_keras: 0.8171\n",
            "Epoch 00035: val_loss did not improve from 0.00875\n",
            "9/9 [==============================] - 1s 94ms/step - loss: 0.1295 - r2_keras: 0.8171 - val_loss: 0.0513 - val_r2_keras: 0.8667\n",
            "Epoch 36/200\n",
            "9/9 [==============================] - ETA: 0s - loss: 0.1320 - r2_keras: 0.8167\n",
            "Epoch 00036: val_loss did not improve from 0.00875\n",
            "9/9 [==============================] - 1s 96ms/step - loss: 0.1320 - r2_keras: 0.8167 - val_loss: 0.0868 - val_r2_keras: 0.8473\n",
            "Epoch 37/200\n",
            "9/9 [==============================] - ETA: 0s - loss: 0.1400 - r2_keras: 0.8099\n",
            "Epoch 00037: val_loss did not improve from 0.00875\n",
            "9/9 [==============================] - 1s 96ms/step - loss: 0.1400 - r2_keras: 0.8099 - val_loss: 0.0877 - val_r2_keras: 0.8444\n",
            "Epoch 38/200\n",
            "9/9 [==============================] - ETA: 0s - loss: 0.1351 - r2_keras: 0.8080\n",
            "Epoch 00038: val_loss did not improve from 0.00875\n",
            "9/9 [==============================] - 1s 94ms/step - loss: 0.1351 - r2_keras: 0.8080 - val_loss: 0.0464 - val_r2_keras: 0.8644\n",
            "Epoch 39/200\n",
            "9/9 [==============================] - ETA: 0s - loss: 0.1351 - r2_keras: 0.8105\n",
            "Epoch 00039: val_loss did not improve from 0.00875\n",
            "9/9 [==============================] - 1s 95ms/step - loss: 0.1351 - r2_keras: 0.8105 - val_loss: 0.0819 - val_r2_keras: 0.8456\n",
            "Epoch 40/200\n",
            "9/9 [==============================] - ETA: 0s - loss: 0.1300 - r2_keras: 0.8131\n",
            "Epoch 00040: val_loss did not improve from 0.00875\n",
            "9/9 [==============================] - 1s 95ms/step - loss: 0.1300 - r2_keras: 0.8131 - val_loss: 0.2226 - val_r2_keras: 0.7740\n",
            "Epoch 41/200\n",
            "9/9 [==============================] - ETA: 0s - loss: 0.1287 - r2_keras: 0.8149\n",
            "Epoch 00041: val_loss did not improve from 0.00875\n",
            "9/9 [==============================] - 1s 95ms/step - loss: 0.1287 - r2_keras: 0.8149 - val_loss: 0.0566 - val_r2_keras: 0.8599\n",
            "Epoch 42/200\n",
            "9/9 [==============================] - ETA: 0s - loss: 0.1331 - r2_keras: 0.8128\n",
            "Epoch 00042: val_loss did not improve from 0.00875\n",
            "9/9 [==============================] - 1s 96ms/step - loss: 0.1331 - r2_keras: 0.8128 - val_loss: 0.4931 - val_r2_keras: 0.6297\n",
            "Epoch 43/200\n",
            "9/9 [==============================] - ETA: 0s - loss: 0.1369 - r2_keras: 0.8122\n",
            "Epoch 00043: val_loss did not improve from 0.00875\n",
            "9/9 [==============================] - 1s 94ms/step - loss: 0.1369 - r2_keras: 0.8122 - val_loss: 0.0464 - val_r2_keras: 0.8699\n",
            "Epoch 44/200\n",
            "9/9 [==============================] - ETA: 0s - loss: 0.1373 - r2_keras: 0.8138\n",
            "Epoch 00044: val_loss improved from 0.00875 to 0.00665, saving model to /content/drive/My Drive/ML Projects/DACON/Colision/CNN_model_3a.h5\n",
            "9/9 [==============================] - 2s 234ms/step - loss: 0.1373 - r2_keras: 0.8138 - val_loss: 0.0067 - val_r2_keras: 0.8845\n",
            "Epoch 45/200\n",
            "9/9 [==============================] - ETA: 0s - loss: 0.1272 - r2_keras: 0.8192\n",
            "Epoch 00045: val_loss improved from 0.00665 to 0.00569, saving model to /content/drive/My Drive/ML Projects/DACON/Colision/CNN_model_3a.h5\n",
            "9/9 [==============================] - 1s 123ms/step - loss: 0.1272 - r2_keras: 0.8192 - val_loss: 0.0057 - val_r2_keras: 0.8861\n",
            "Epoch 46/200\n",
            "9/9 [==============================] - ETA: 0s - loss: 0.1288 - r2_keras: 0.8177\n",
            "Epoch 00046: val_loss did not improve from 0.00569\n",
            "9/9 [==============================] - 1s 96ms/step - loss: 0.1288 - r2_keras: 0.8177 - val_loss: 0.0404 - val_r2_keras: 0.8703\n",
            "Epoch 47/200\n",
            "9/9 [==============================] - ETA: 0s - loss: 0.1295 - r2_keras: 0.8166\n",
            "Epoch 00047: val_loss did not improve from 0.00569\n",
            "9/9 [==============================] - 1s 95ms/step - loss: 0.1295 - r2_keras: 0.8166 - val_loss: 0.0976 - val_r2_keras: 0.8409\n",
            "Epoch 48/200\n",
            "9/9 [==============================] - ETA: 0s - loss: 0.1377 - r2_keras: 0.8125\n",
            "Epoch 00048: val_loss did not improve from 0.00569\n",
            "9/9 [==============================] - 1s 96ms/step - loss: 0.1377 - r2_keras: 0.8125 - val_loss: 0.1521 - val_r2_keras: 0.8156\n",
            "Epoch 49/200\n",
            "9/9 [==============================] - ETA: 0s - loss: 0.1322 - r2_keras: 0.8172\n",
            "Epoch 00049: val_loss did not improve from 0.00569\n",
            "9/9 [==============================] - 1s 96ms/step - loss: 0.1322 - r2_keras: 0.8172 - val_loss: 0.0588 - val_r2_keras: 0.8624\n",
            "Epoch 50/200\n",
            "9/9 [==============================] - ETA: 0s - loss: 0.1339 - r2_keras: 0.8165\n",
            "Epoch 00050: val_loss did not improve from 0.00569\n",
            "9/9 [==============================] - 1s 97ms/step - loss: 0.1339 - r2_keras: 0.8165 - val_loss: 0.0614 - val_r2_keras: 0.8594\n",
            "Epoch 51/200\n",
            "9/9 [==============================] - ETA: 0s - loss: 0.1229 - r2_keras: 0.8202\n",
            "Epoch 00051: val_loss did not improve from 0.00569\n",
            "9/9 [==============================] - 1s 96ms/step - loss: 0.1229 - r2_keras: 0.8202 - val_loss: 0.0751 - val_r2_keras: 0.8537\n",
            "Epoch 52/200\n",
            "9/9 [==============================] - ETA: 0s - loss: 0.1339 - r2_keras: 0.8163\n",
            "Epoch 00052: val_loss did not improve from 0.00569\n",
            "9/9 [==============================] - 1s 95ms/step - loss: 0.1339 - r2_keras: 0.8163 - val_loss: 0.1464 - val_r2_keras: 0.8183\n",
            "Epoch 53/200\n",
            "9/9 [==============================] - ETA: 0s - loss: 0.1297 - r2_keras: 0.8176\n",
            "Epoch 00053: val_loss did not improve from 0.00569\n",
            "9/9 [==============================] - 1s 96ms/step - loss: 0.1297 - r2_keras: 0.8176 - val_loss: 0.1331 - val_r2_keras: 0.8244\n",
            "Epoch 54/200\n",
            "9/9 [==============================] - ETA: 0s - loss: 0.1284 - r2_keras: 0.8173\n",
            "Epoch 00054: val_loss did not improve from 0.00569\n",
            "9/9 [==============================] - 1s 99ms/step - loss: 0.1284 - r2_keras: 0.8173 - val_loss: 0.0921 - val_r2_keras: 0.8432\n",
            "Epoch 55/200\n",
            "9/9 [==============================] - ETA: 0s - loss: 0.1321 - r2_keras: 0.8124\n",
            "Epoch 00055: val_loss did not improve from 0.00569\n",
            "9/9 [==============================] - 1s 94ms/step - loss: 0.1321 - r2_keras: 0.8124 - val_loss: 0.1733 - val_r2_keras: 0.8010\n",
            "Epoch 56/200\n",
            "9/9 [==============================] - ETA: 0s - loss: 0.1283 - r2_keras: 0.8160\n",
            "Epoch 00056: val_loss did not improve from 0.00569\n",
            "9/9 [==============================] - 1s 96ms/step - loss: 0.1283 - r2_keras: 0.8160 - val_loss: 0.0884 - val_r2_keras: 0.8445\n",
            "Epoch 57/200\n",
            "9/9 [==============================] - ETA: 0s - loss: 0.1241 - r2_keras: 0.8179\n",
            "Epoch 00057: val_loss did not improve from 0.00569\n",
            "9/9 [==============================] - 1s 94ms/step - loss: 0.1241 - r2_keras: 0.8179 - val_loss: 0.0147 - val_r2_keras: 0.8804\n",
            "Epoch 58/200\n",
            "9/9 [==============================] - ETA: 0s - loss: 0.1293 - r2_keras: 0.8151\n",
            "Epoch 00058: val_loss improved from 0.00569 to 0.00561, saving model to /content/drive/My Drive/ML Projects/DACON/Colision/CNN_model_3a.h5\n",
            "9/9 [==============================] - 2s 235ms/step - loss: 0.1293 - r2_keras: 0.8151 - val_loss: 0.0056 - val_r2_keras: 0.8831\n",
            "Epoch 59/200\n",
            "9/9 [==============================] - ETA: 0s - loss: 0.1390 - r2_keras: 0.8103\n",
            "Epoch 00059: val_loss did not improve from 0.00561\n",
            "9/9 [==============================] - 1s 95ms/step - loss: 0.1390 - r2_keras: 0.8103 - val_loss: 0.0330 - val_r2_keras: 0.8736\n",
            "Epoch 60/200\n",
            "9/9 [==============================] - ETA: 0s - loss: 0.1341 - r2_keras: 0.8126\n",
            "Epoch 00060: val_loss did not improve from 0.00561\n",
            "9/9 [==============================] - 1s 95ms/step - loss: 0.1341 - r2_keras: 0.8126 - val_loss: 0.3336 - val_r2_keras: 0.7152\n",
            "Epoch 61/200\n",
            "9/9 [==============================] - ETA: 0s - loss: 0.1271 - r2_keras: 0.8162\n",
            "Epoch 00061: val_loss did not improve from 0.00561\n",
            "9/9 [==============================] - 1s 96ms/step - loss: 0.1271 - r2_keras: 0.8162 - val_loss: 0.1811 - val_r2_keras: 0.7962\n",
            "Epoch 62/200\n",
            "9/9 [==============================] - ETA: 0s - loss: 0.1336 - r2_keras: 0.8119\n",
            "Epoch 00062: val_loss did not improve from 0.00561\n",
            "9/9 [==============================] - 1s 95ms/step - loss: 0.1336 - r2_keras: 0.8119 - val_loss: 0.0350 - val_r2_keras: 0.8726\n",
            "Epoch 63/200\n",
            "9/9 [==============================] - ETA: 0s - loss: 0.1291 - r2_keras: 0.8166\n",
            "Epoch 00063: val_loss improved from 0.00561 to 0.00514, saving model to /content/drive/My Drive/ML Projects/DACON/Colision/CNN_model_3a.h5\n",
            "9/9 [==============================] - 1s 124ms/step - loss: 0.1291 - r2_keras: 0.8166 - val_loss: 0.0051 - val_r2_keras: 0.8860\n",
            "Epoch 64/200\n",
            "9/9 [==============================] - ETA: 0s - loss: 0.1306 - r2_keras: 0.8165\n",
            "Epoch 00064: val_loss did not improve from 0.00514\n",
            "9/9 [==============================] - 1s 95ms/step - loss: 0.1306 - r2_keras: 0.8165 - val_loss: 0.0073 - val_r2_keras: 0.8861\n",
            "Epoch 65/200\n",
            "9/9 [==============================] - ETA: 0s - loss: 0.1357 - r2_keras: 0.8179\n",
            "Epoch 00065: val_loss did not improve from 0.00514\n",
            "9/9 [==============================] - 1s 94ms/step - loss: 0.1357 - r2_keras: 0.8179 - val_loss: 0.0194 - val_r2_keras: 0.8846\n",
            "Epoch 66/200\n",
            "9/9 [==============================] - ETA: 0s - loss: 0.1257 - r2_keras: 0.8241\n",
            "Epoch 00066: val_loss did not improve from 0.00514\n",
            "9/9 [==============================] - 1s 95ms/step - loss: 0.1257 - r2_keras: 0.8241 - val_loss: 0.1393 - val_r2_keras: 0.8231\n",
            "Epoch 67/200\n",
            "9/9 [==============================] - ETA: 0s - loss: 0.1286 - r2_keras: 0.8208\n",
            "Epoch 00067: val_loss did not improve from 0.00514\n",
            "9/9 [==============================] - 1s 95ms/step - loss: 0.1286 - r2_keras: 0.8208 - val_loss: 0.2942 - val_r2_keras: 0.7378\n",
            "Epoch 68/200\n",
            "9/9 [==============================] - ETA: 0s - loss: 0.1348 - r2_keras: 0.8184\n",
            "Epoch 00068: val_loss did not improve from 0.00514\n",
            "9/9 [==============================] - 1s 94ms/step - loss: 0.1348 - r2_keras: 0.8184 - val_loss: 0.1428 - val_r2_keras: 0.8193\n",
            "Epoch 69/200\n",
            "9/9 [==============================] - ETA: 0s - loss: 0.1361 - r2_keras: 0.8152\n",
            "Epoch 00069: val_loss did not improve from 0.00514\n",
            "9/9 [==============================] - 1s 95ms/step - loss: 0.1361 - r2_keras: 0.8152 - val_loss: 0.0225 - val_r2_keras: 0.8793\n",
            "Epoch 70/200\n",
            "9/9 [==============================] - ETA: 0s - loss: 0.1301 - r2_keras: 0.8209\n",
            "Epoch 00070: val_loss did not improve from 0.00514\n",
            "9/9 [==============================] - 1s 94ms/step - loss: 0.1301 - r2_keras: 0.8209 - val_loss: 0.0342 - val_r2_keras: 0.8737\n",
            "Epoch 71/200\n",
            "9/9 [==============================] - ETA: 0s - loss: 0.1329 - r2_keras: 0.8166\n",
            "Epoch 00071: val_loss did not improve from 0.00514\n",
            "9/9 [==============================] - 1s 96ms/step - loss: 0.1329 - r2_keras: 0.8166 - val_loss: 0.0446 - val_r2_keras: 0.8688\n",
            "Epoch 72/200\n",
            "9/9 [==============================] - ETA: 0s - loss: 0.1294 - r2_keras: 0.8184\n",
            "Epoch 00072: val_loss did not improve from 0.00514\n",
            "9/9 [==============================] - 1s 94ms/step - loss: 0.1294 - r2_keras: 0.8184 - val_loss: 0.0221 - val_r2_keras: 0.8789\n",
            "Epoch 73/200\n",
            "9/9 [==============================] - ETA: 0s - loss: 0.1275 - r2_keras: 0.8179\n",
            "Epoch 00073: val_loss did not improve from 0.00514\n",
            "9/9 [==============================] - 1s 94ms/step - loss: 0.1275 - r2_keras: 0.8179 - val_loss: 0.0159 - val_r2_keras: 0.8827\n",
            "Epoch 74/200\n",
            "9/9 [==============================] - ETA: 0s - loss: 0.1383 - r2_keras: 0.8140\n",
            "Epoch 00074: val_loss did not improve from 0.00514\n",
            "9/9 [==============================] - 1s 95ms/step - loss: 0.1383 - r2_keras: 0.8140 - val_loss: 0.0286 - val_r2_keras: 0.8774\n",
            "Epoch 75/200\n",
            "9/9 [==============================] - ETA: 0s - loss: 0.1376 - r2_keras: 0.8133\n",
            "Epoch 00075: val_loss did not improve from 0.00514\n",
            "9/9 [==============================] - 1s 96ms/step - loss: 0.1376 - r2_keras: 0.8133 - val_loss: 0.0877 - val_r2_keras: 0.8458\n",
            "Epoch 76/200\n",
            "9/9 [==============================] - ETA: 0s - loss: 0.1288 - r2_keras: 0.8174\n",
            "Epoch 00076: val_loss did not improve from 0.00514\n",
            "9/9 [==============================] - 1s 95ms/step - loss: 0.1288 - r2_keras: 0.8174 - val_loss: 0.0209 - val_r2_keras: 0.8800\n",
            "Epoch 77/200\n",
            "9/9 [==============================] - ETA: 0s - loss: 0.1225 - r2_keras: 0.8210\n",
            "Epoch 00077: val_loss did not improve from 0.00514\n",
            "9/9 [==============================] - 1s 95ms/step - loss: 0.1225 - r2_keras: 0.8210 - val_loss: 0.0086 - val_r2_keras: 0.8842\n",
            "Epoch 78/200\n",
            "9/9 [==============================] - ETA: 0s - loss: 0.1241 - r2_keras: 0.8203\n",
            "Epoch 00078: val_loss did not improve from 0.00514\n",
            "9/9 [==============================] - 1s 93ms/step - loss: 0.1241 - r2_keras: 0.8203 - val_loss: 0.0053 - val_r2_keras: 0.8863\n",
            "Epoch 79/200\n",
            "9/9 [==============================] - ETA: 0s - loss: 0.1306 - r2_keras: 0.8156\n",
            "Epoch 00079: val_loss improved from 0.00514 to 0.00502, saving model to /content/drive/My Drive/ML Projects/DACON/Colision/CNN_model_3a.h5\n",
            "9/9 [==============================] - 2s 214ms/step - loss: 0.1306 - r2_keras: 0.8156 - val_loss: 0.0050 - val_r2_keras: 0.8879\n",
            "Epoch 80/200\n",
            "9/9 [==============================] - ETA: 0s - loss: 0.1298 - r2_keras: 0.8188\n",
            "Epoch 00080: val_loss did not improve from 0.00502\n",
            "9/9 [==============================] - 1s 94ms/step - loss: 0.1298 - r2_keras: 0.8188 - val_loss: 0.0065 - val_r2_keras: 0.8888\n",
            "Epoch 81/200\n",
            "9/9 [==============================] - ETA: 0s - loss: 0.1280 - r2_keras: 0.8209\n",
            "Epoch 00081: val_loss did not improve from 0.00502\n",
            "9/9 [==============================] - 1s 95ms/step - loss: 0.1280 - r2_keras: 0.8209 - val_loss: 0.0501 - val_r2_keras: 0.8679\n",
            "Epoch 82/200\n",
            "9/9 [==============================] - ETA: 0s - loss: 0.1401 - r2_keras: 0.8135\n",
            "Epoch 00082: val_loss did not improve from 0.00502\n",
            "9/9 [==============================] - 1s 97ms/step - loss: 0.1401 - r2_keras: 0.8135 - val_loss: 0.1175 - val_r2_keras: 0.8325\n",
            "Epoch 83/200\n",
            "9/9 [==============================] - ETA: 0s - loss: 0.1247 - r2_keras: 0.8230\n",
            "Epoch 00083: val_loss did not improve from 0.00502\n",
            "9/9 [==============================] - 1s 95ms/step - loss: 0.1247 - r2_keras: 0.8230 - val_loss: 0.0983 - val_r2_keras: 0.8433\n",
            "Epoch 84/200\n",
            "9/9 [==============================] - ETA: 0s - loss: 0.1293 - r2_keras: 0.8191\n",
            "Epoch 00084: val_loss did not improve from 0.00502\n",
            "9/9 [==============================] - 1s 96ms/step - loss: 0.1293 - r2_keras: 0.8191 - val_loss: 0.0742 - val_r2_keras: 0.8563\n",
            "Epoch 85/200\n",
            "9/9 [==============================] - ETA: 0s - loss: 0.1300 - r2_keras: 0.8201\n",
            "Epoch 00085: val_loss did not improve from 0.00502\n",
            "9/9 [==============================] - 1s 95ms/step - loss: 0.1300 - r2_keras: 0.8201 - val_loss: 0.0297 - val_r2_keras: 0.8787\n",
            "Epoch 86/200\n",
            "9/9 [==============================] - ETA: 0s - loss: 0.1305 - r2_keras: 0.8193\n",
            "Epoch 00086: val_loss did not improve from 0.00502\n",
            "9/9 [==============================] - 1s 96ms/step - loss: 0.1305 - r2_keras: 0.8193 - val_loss: 0.1660 - val_r2_keras: 0.8070\n",
            "Epoch 87/200\n",
            "9/9 [==============================] - ETA: 0s - loss: 0.1295 - r2_keras: 0.8199\n",
            "Epoch 00087: val_loss did not improve from 0.00502\n",
            "9/9 [==============================] - 1s 95ms/step - loss: 0.1295 - r2_keras: 0.8199 - val_loss: 0.1278 - val_r2_keras: 0.8276\n",
            "Epoch 88/200\n",
            "9/9 [==============================] - ETA: 0s - loss: 0.1253 - r2_keras: 0.8222\n",
            "Epoch 00088: val_loss did not improve from 0.00502\n",
            "9/9 [==============================] - 1s 95ms/step - loss: 0.1253 - r2_keras: 0.8222 - val_loss: 0.0354 - val_r2_keras: 0.8750\n",
            "Epoch 89/200\n",
            "9/9 [==============================] - ETA: 0s - loss: 0.1276 - r2_keras: 0.8213\n",
            "Epoch 00089: val_loss did not improve from 0.00502\n",
            "9/9 [==============================] - 1s 94ms/step - loss: 0.1276 - r2_keras: 0.8213 - val_loss: 0.0130 - val_r2_keras: 0.8840\n",
            "Epoch 90/200\n",
            "9/9 [==============================] - ETA: 0s - loss: 0.1258 - r2_keras: 0.8214\n",
            "Epoch 00090: val_loss did not improve from 0.00502\n",
            "9/9 [==============================] - 1s 95ms/step - loss: 0.1258 - r2_keras: 0.8214 - val_loss: 0.0207 - val_r2_keras: 0.8820\n",
            "Epoch 91/200\n",
            "9/9 [==============================] - ETA: 0s - loss: 0.1294 - r2_keras: 0.8198\n",
            "Epoch 00091: val_loss did not improve from 0.00502\n",
            "9/9 [==============================] - 1s 95ms/step - loss: 0.1294 - r2_keras: 0.8198 - val_loss: 0.2057 - val_r2_keras: 0.7867\n",
            "Epoch 92/200\n",
            "9/9 [==============================] - ETA: 0s - loss: 0.1350 - r2_keras: 0.8158\n",
            "Epoch 00092: val_loss did not improve from 0.00502\n",
            "9/9 [==============================] - 1s 94ms/step - loss: 0.1350 - r2_keras: 0.8158 - val_loss: 0.3169 - val_r2_keras: 0.7245\n",
            "Epoch 93/200\n",
            "9/9 [==============================] - ETA: 0s - loss: 0.1335 - r2_keras: 0.8161\n",
            "Epoch 00093: val_loss did not improve from 0.00502\n",
            "9/9 [==============================] - 1s 94ms/step - loss: 0.1335 - r2_keras: 0.8161 - val_loss: 0.3504 - val_r2_keras: 0.7057\n",
            "Epoch 94/200\n",
            "9/9 [==============================] - ETA: 0s - loss: 0.1360 - r2_keras: 0.8166\n",
            "Epoch 00094: val_loss did not improve from 0.00502\n",
            "9/9 [==============================] - 1s 94ms/step - loss: 0.1360 - r2_keras: 0.8166 - val_loss: 0.1297 - val_r2_keras: 0.8255\n",
            "Epoch 95/200\n",
            "9/9 [==============================] - ETA: 0s - loss: 0.1245 - r2_keras: 0.8209\n",
            "Epoch 00095: val_loss did not improve from 0.00502\n",
            "9/9 [==============================] - 1s 96ms/step - loss: 0.1245 - r2_keras: 0.8209 - val_loss: 0.0384 - val_r2_keras: 0.8739\n",
            "Epoch 96/200\n",
            "9/9 [==============================] - ETA: 0s - loss: 0.1278 - r2_keras: 0.8210\n",
            "Epoch 00096: val_loss did not improve from 0.00502\n",
            "9/9 [==============================] - 1s 94ms/step - loss: 0.1278 - r2_keras: 0.8210 - val_loss: 0.0182 - val_r2_keras: 0.8820\n",
            "Epoch 97/200\n",
            "9/9 [==============================] - ETA: 0s - loss: 0.1350 - r2_keras: 0.8159\n",
            "Epoch 00097: val_loss improved from 0.00502 to 0.00482, saving model to /content/drive/My Drive/ML Projects/DACON/Colision/CNN_model_3a.h5\n",
            "9/9 [==============================] - 2s 250ms/step - loss: 0.1350 - r2_keras: 0.8159 - val_loss: 0.0048 - val_r2_keras: 0.8860\n",
            "Epoch 98/200\n",
            "9/9 [==============================] - ETA: 0s - loss: 0.1326 - r2_keras: 0.8162\n",
            "Epoch 00098: val_loss did not improve from 0.00482\n",
            "9/9 [==============================] - 1s 94ms/step - loss: 0.1326 - r2_keras: 0.8162 - val_loss: 0.0111 - val_r2_keras: 0.8840\n",
            "Epoch 99/200\n",
            "9/9 [==============================] - ETA: 0s - loss: 0.1281 - r2_keras: 0.8168\n",
            "Epoch 00099: val_loss did not improve from 0.00482\n",
            "9/9 [==============================] - 1s 94ms/step - loss: 0.1281 - r2_keras: 0.8168 - val_loss: 0.0147 - val_r2_keras: 0.8808\n",
            "Epoch 100/200\n",
            "9/9 [==============================] - ETA: 0s - loss: 0.1245 - r2_keras: 0.8217\n",
            "Epoch 00100: val_loss did not improve from 0.00482\n",
            "9/9 [==============================] - 1s 95ms/step - loss: 0.1245 - r2_keras: 0.8217 - val_loss: 0.0075 - val_r2_keras: 0.8866\n",
            "Epoch 101/200\n",
            "9/9 [==============================] - ETA: 0s - loss: 0.1218 - r2_keras: 0.8233\n",
            "Epoch 00101: val_loss improved from 0.00482 to 0.00429, saving model to /content/drive/My Drive/ML Projects/DACON/Colision/CNN_model_3a.h5\n",
            "9/9 [==============================] - 1s 124ms/step - loss: 0.1218 - r2_keras: 0.8233 - val_loss: 0.0043 - val_r2_keras: 0.8886\n",
            "Epoch 102/200\n",
            "9/9 [==============================] - ETA: 0s - loss: 0.1277 - r2_keras: 0.8206\n",
            "Epoch 00102: val_loss did not improve from 0.00429\n",
            "9/9 [==============================] - 1s 94ms/step - loss: 0.1277 - r2_keras: 0.8206 - val_loss: 0.0136 - val_r2_keras: 0.8815\n",
            "Epoch 103/200\n",
            "9/9 [==============================] - ETA: 0s - loss: 0.1285 - r2_keras: 0.8195\n",
            "Epoch 00103: val_loss did not improve from 0.00429\n",
            "9/9 [==============================] - 1s 95ms/step - loss: 0.1285 - r2_keras: 0.8195 - val_loss: 0.0064 - val_r2_keras: 0.8879\n",
            "Epoch 104/200\n",
            "9/9 [==============================] - ETA: 0s - loss: 0.1356 - r2_keras: 0.8160\n",
            "Epoch 00104: val_loss did not improve from 0.00429\n",
            "9/9 [==============================] - 1s 96ms/step - loss: 0.1356 - r2_keras: 0.8160 - val_loss: 0.0166 - val_r2_keras: 0.8778\n",
            "Epoch 105/200\n",
            "9/9 [==============================] - ETA: 0s - loss: 0.1284 - r2_keras: 0.8215\n",
            "Epoch 00105: val_loss did not improve from 0.00429\n",
            "9/9 [==============================] - 1s 95ms/step - loss: 0.1284 - r2_keras: 0.8215 - val_loss: 0.0138 - val_r2_keras: 0.8808\n",
            "Epoch 106/200\n",
            "9/9 [==============================] - ETA: 0s - loss: 0.1276 - r2_keras: 0.8222\n",
            "Epoch 00106: val_loss improved from 0.00429 to 0.00190, saving model to /content/drive/My Drive/ML Projects/DACON/Colision/CNN_model_3a.h5\n",
            "9/9 [==============================] - 1s 123ms/step - loss: 0.1276 - r2_keras: 0.8222 - val_loss: 0.0019 - val_r2_keras: 0.8912\n",
            "Epoch 107/200\n",
            "9/9 [==============================] - ETA: 0s - loss: 0.1385 - r2_keras: 0.8152\n",
            "Epoch 00107: val_loss did not improve from 0.00190\n",
            "9/9 [==============================] - 1s 93ms/step - loss: 0.1385 - r2_keras: 0.8152 - val_loss: 0.0072 - val_r2_keras: 0.8896\n",
            "Epoch 108/200\n",
            "9/9 [==============================] - ETA: 0s - loss: 0.1320 - r2_keras: 0.8184\n",
            "Epoch 00108: val_loss did not improve from 0.00190\n",
            "9/9 [==============================] - 1s 95ms/step - loss: 0.1320 - r2_keras: 0.8184 - val_loss: 0.0147 - val_r2_keras: 0.8874\n",
            "Epoch 109/200\n",
            "9/9 [==============================] - ETA: 0s - loss: 0.1314 - r2_keras: 0.8184\n",
            "Epoch 00109: val_loss did not improve from 0.00190\n",
            "9/9 [==============================] - 1s 95ms/step - loss: 0.1314 - r2_keras: 0.8184 - val_loss: 0.0087 - val_r2_keras: 0.8835\n",
            "Epoch 110/200\n",
            "9/9 [==============================] - ETA: 0s - loss: 0.1280 - r2_keras: 0.8170\n",
            "Epoch 00110: val_loss did not improve from 0.00190\n",
            "9/9 [==============================] - 1s 96ms/step - loss: 0.1280 - r2_keras: 0.8170 - val_loss: 0.0070 - val_r2_keras: 0.8806\n",
            "Epoch 111/200\n",
            "9/9 [==============================] - ETA: 0s - loss: 0.1329 - r2_keras: 0.8139\n",
            "Epoch 00111: val_loss did not improve from 0.00190\n",
            "9/9 [==============================] - 1s 95ms/step - loss: 0.1329 - r2_keras: 0.8139 - val_loss: 0.0057 - val_r2_keras: 0.8860\n",
            "Epoch 112/200\n",
            "9/9 [==============================] - ETA: 0s - loss: 0.1260 - r2_keras: 0.8185\n",
            "Epoch 00112: val_loss did not improve from 0.00190\n",
            "9/9 [==============================] - 1s 95ms/step - loss: 0.1260 - r2_keras: 0.8185 - val_loss: 0.0298 - val_r2_keras: 0.8767\n",
            "Epoch 113/200\n",
            "9/9 [==============================] - ETA: 0s - loss: 0.1250 - r2_keras: 0.8227\n",
            "Epoch 00113: val_loss did not improve from 0.00190\n",
            "9/9 [==============================] - 1s 95ms/step - loss: 0.1250 - r2_keras: 0.8227 - val_loss: 0.0814 - val_r2_keras: 0.8511\n",
            "Epoch 114/200\n",
            "9/9 [==============================] - ETA: 0s - loss: 0.1301 - r2_keras: 0.8214\n",
            "Epoch 00114: val_loss did not improve from 0.00190\n",
            "9/9 [==============================] - 1s 96ms/step - loss: 0.1301 - r2_keras: 0.8214 - val_loss: 0.0611 - val_r2_keras: 0.8636\n",
            "Epoch 115/200\n",
            "9/9 [==============================] - ETA: 0s - loss: 0.1364 - r2_keras: 0.8194\n",
            "Epoch 00115: val_loss did not improve from 0.00190\n",
            "9/9 [==============================] - 1s 94ms/step - loss: 0.1364 - r2_keras: 0.8194 - val_loss: 0.0345 - val_r2_keras: 0.8780\n",
            "Epoch 116/200\n",
            "9/9 [==============================] - ETA: 0s - loss: 0.1291 - r2_keras: 0.8238\n",
            "Epoch 00116: val_loss did not improve from 0.00190\n",
            "9/9 [==============================] - 1s 96ms/step - loss: 0.1291 - r2_keras: 0.8238 - val_loss: 0.0075 - val_r2_keras: 0.8920\n",
            "Epoch 117/200\n",
            "9/9 [==============================] - ETA: 0s - loss: 0.1300 - r2_keras: 0.8221\n",
            "Epoch 00117: val_loss did not improve from 0.00190\n",
            "9/9 [==============================] - 1s 94ms/step - loss: 0.1300 - r2_keras: 0.8221 - val_loss: 0.0029 - val_r2_keras: 0.8935\n",
            "Epoch 118/200\n",
            "9/9 [==============================] - ETA: 0s - loss: 0.1296 - r2_keras: 0.8233\n",
            "Epoch 00118: val_loss did not improve from 0.00190\n",
            "9/9 [==============================] - 1s 95ms/step - loss: 0.1296 - r2_keras: 0.8233 - val_loss: 0.0154 - val_r2_keras: 0.8877\n",
            "Epoch 119/200\n",
            "9/9 [==============================] - ETA: 0s - loss: 0.1279 - r2_keras: 0.8221\n",
            "Epoch 00119: val_loss did not improve from 0.00190\n",
            "9/9 [==============================] - 1s 95ms/step - loss: 0.1279 - r2_keras: 0.8221 - val_loss: 0.0046 - val_r2_keras: 0.8884\n",
            "Epoch 120/200\n",
            "9/9 [==============================] - ETA: 0s - loss: 0.1256 - r2_keras: 0.8206\n",
            "Epoch 00120: val_loss did not improve from 0.00190\n",
            "9/9 [==============================] - 1s 95ms/step - loss: 0.1256 - r2_keras: 0.8206 - val_loss: 0.0103 - val_r2_keras: 0.8807\n",
            "Epoch 121/200\n",
            "9/9 [==============================] - ETA: 0s - loss: 0.1304 - r2_keras: 0.8170\n",
            "Epoch 00121: val_loss did not improve from 0.00190\n",
            "9/9 [==============================] - 1s 94ms/step - loss: 0.1304 - r2_keras: 0.8170 - val_loss: 0.0069 - val_r2_keras: 0.8843\n",
            "Epoch 122/200\n",
            "9/9 [==============================] - ETA: 0s - loss: 0.1285 - r2_keras: 0.8177\n",
            "Epoch 00122: val_loss did not improve from 0.00190\n",
            "9/9 [==============================] - 1s 93ms/step - loss: 0.1285 - r2_keras: 0.8177 - val_loss: 0.0094 - val_r2_keras: 0.8828\n",
            "Epoch 123/200\n",
            "9/9 [==============================] - ETA: 0s - loss: 0.1267 - r2_keras: 0.8215\n",
            "Epoch 00123: val_loss did not improve from 0.00190\n",
            "9/9 [==============================] - 1s 96ms/step - loss: 0.1267 - r2_keras: 0.8215 - val_loss: 0.0039 - val_r2_keras: 0.8885\n",
            "Epoch 124/200\n",
            "9/9 [==============================] - ETA: 0s - loss: 0.1266 - r2_keras: 0.8180\n",
            "Epoch 00124: val_loss did not improve from 0.00190\n",
            "9/9 [==============================] - 1s 95ms/step - loss: 0.1266 - r2_keras: 0.8180 - val_loss: 0.0114 - val_r2_keras: 0.8839\n",
            "Epoch 125/200\n",
            "9/9 [==============================] - ETA: 0s - loss: 0.1205 - r2_keras: 0.8224\n",
            "Epoch 00125: val_loss did not improve from 0.00190\n",
            "9/9 [==============================] - 1s 96ms/step - loss: 0.1205 - r2_keras: 0.8224 - val_loss: 0.0098 - val_r2_keras: 0.8848\n",
            "Epoch 126/200\n",
            "9/9 [==============================] - ETA: 0s - loss: 0.1347 - r2_keras: 0.8166\n",
            "Epoch 00126: val_loss did not improve from 0.00190\n",
            "9/9 [==============================] - 1s 94ms/step - loss: 0.1347 - r2_keras: 0.8166 - val_loss: 0.0112 - val_r2_keras: 0.8877\n",
            "Epoch 127/200\n",
            "9/9 [==============================] - ETA: 0s - loss: 0.1296 - r2_keras: 0.8190\n",
            "Epoch 00127: val_loss did not improve from 0.00190\n",
            "9/9 [==============================] - 1s 96ms/step - loss: 0.1296 - r2_keras: 0.8190 - val_loss: 0.0672 - val_r2_keras: 0.8588\n",
            "Epoch 128/200\n",
            "9/9 [==============================] - ETA: 0s - loss: 0.1339 - r2_keras: 0.8175\n",
            "Epoch 00128: val_loss did not improve from 0.00190\n",
            "9/9 [==============================] - 1s 94ms/step - loss: 0.1339 - r2_keras: 0.8175 - val_loss: 0.0371 - val_r2_keras: 0.8748\n",
            "Epoch 129/200\n",
            "9/9 [==============================] - ETA: 0s - loss: 0.1230 - r2_keras: 0.8223\n",
            "Epoch 00129: val_loss did not improve from 0.00190\n",
            "9/9 [==============================] - 1s 95ms/step - loss: 0.1230 - r2_keras: 0.8223 - val_loss: 0.0305 - val_r2_keras: 0.8781\n",
            "Epoch 130/200\n",
            "9/9 [==============================] - ETA: 0s - loss: 0.1358 - r2_keras: 0.8161\n",
            "Epoch 00130: val_loss did not improve from 0.00190\n",
            "9/9 [==============================] - 1s 94ms/step - loss: 0.1358 - r2_keras: 0.8161 - val_loss: 0.0081 - val_r2_keras: 0.8877\n",
            "Epoch 131/200\n",
            "9/9 [==============================] - ETA: 0s - loss: 0.1272 - r2_keras: 0.8209\n",
            "Epoch 00131: val_loss did not improve from 0.00190\n",
            "9/9 [==============================] - 1s 95ms/step - loss: 0.1272 - r2_keras: 0.8209 - val_loss: 0.0099 - val_r2_keras: 0.8893\n",
            "Epoch 00131: early stopping\n"
          ],
          "name": "stdout"
        }
      ]
    },
    {
      "cell_type": "code",
      "metadata": {
        "id": "QUobZUm5tkoR",
        "colab_type": "code",
        "colab": {
          "base_uri": "https://localhost:8080/",
          "height": 286
        },
        "outputId": "40abe446-3b8b-437f-ca4e-5cd955e8d64c"
      },
      "source": [
        "hist0_df =pd.DataFrame(hist0.history)\n",
        "\n",
        "fig, ax = plt.subplots(1,2, figsize=(10, 4))\n",
        "hist0_df[['loss', 'val_loss']].plot(ax=ax[0])\n",
        "hist0_df[['r2_keras', 'val_r2_keras']].plot(ax=ax[1])\n",
        "ax[1].set_ylim([0.0, 1.0])\n",
        "ax[0].set_ylim([0.0, 2.0])\n",
        "# hist0_df.columns.tolist()"
      ],
      "execution_count": 93,
      "outputs": [
        {
          "output_type": "execute_result",
          "data": {
            "text/plain": [
              "(0.0, 2.0)"
            ]
          },
          "metadata": {
            "tags": []
          },
          "execution_count": 93
        },
        {
          "output_type": "display_data",
          "data": {
            "image/png": "[encoded data removed]",
            "text/plain": [
              "<Figure size 720x288 with 2 Axes>"
            ]
          },
          "metadata": {
            "tags": [],
            "needs_background": "light"
          }
        }
      ]
    },
    {
      "cell_type": "code",
      "metadata": {
        "id": "auQaZClFRAnI",
        "colab_type": "code",
        "colab": {
          "base_uri": "https://localhost:8080/",
          "height": 50
        },
        "outputId": "9959db31-82a8-4b6b-dff9-87c050e33b53"
      },
      "source": [
        "hist0_df[['val_loss']].min(), np.argmin(hist0_df[['val_loss']])"
      ],
      "execution_count": 94,
      "outputs": [
        {
          "output_type": "execute_result",
          "data": {
            "text/plain": [
              "(val_loss    0.001897\n",
              " dtype: float64, 105)"
            ]
          },
          "metadata": {
            "tags": []
          },
          "execution_count": 94
        }
      ]
    },
    {
      "cell_type": "code",
      "metadata": {
        "id": "1sDZKhWDLQGi",
        "colab_type": "code",
        "colab": {}
      },
      "source": [
        "# model0_cp = tf.keras.models.load_model(MODEL_PATH+'CNN_model_2a.h5')\n",
        "# y_pred_valid = model0_cp.predict(x_valid)"
      ],
      "execution_count": null,
      "outputs": []
    },
    {
      "cell_type": "markdown",
      "metadata": {
        "id": "cO7bXPCgTeNj",
        "colab_type": "text"
      },
      "source": [
        "CNN Model 2\n",
        "\n",
        "Adam + cyclic lr exp(0.001-0.006)  val_loss = 0.002392"
      ]
    },
    {
      "cell_type": "markdown",
      "metadata": {
        "id": "GxtVdIXpUQva",
        "colab_type": "text"
      },
      "source": [
        "### Model #2: Train for M "
      ]
    },
    {
      "cell_type": "code",
      "metadata": {
        "id": "R3h6eWFIUHUY",
        "colab_type": "code",
        "colab": {}
      },
      "source": [
        "train_target = 1\n",
        "\n",
        "# compile model\n",
        "BATCH_SIZE = 256\n",
        "EPOCHS = 200\n",
        "LR = 0.001\n",
        "\n",
        "model1 = build_cnn_model()\n",
        "# model1 = build_wavenet()\n",
        "\n",
        "optimizer = tf.keras.optimizers.Adam()\n",
        "optimizer = tfa.optimizers.SWA(optimizer)\n",
        "\n",
        "global weight2\n",
        "if train_target == 1: \n",
        "    # only for M\n",
        "    weight2 = np.array([0,0,1,0])\n",
        "else: \n",
        "    # only for V\n",
        "    weight2 = np.array([0,0,0,1])\n",
        "    \n",
        "model1.compile(loss=my_loss_E2, optimizer=optimizer)   # metrics=   [r2_keras]tf.keras.metrics.MAPE\n",
        "\n",
        "\n",
        "# callbacks\n",
        "MODEL_PATH = '/content/drive/My Drive/ML Projects/DACON/Colision/'\n",
        "MODEL_NAME = 'CNN_model_3b.h5'      # _epoch{epoch:02d}_loss{val_loss:.2f}\n",
        "\n",
        "es = tf.keras.callbacks.EarlyStopping(monitor='val_loss', mode='min', verbose=1, patience=25)\n",
        "mc = tf.keras.callbacks.ModelCheckpoint(MODEL_PATH+MODEL_NAME, monitor='val_loss', save_best_only=True, save_weights_only=False, verbose=1)\n",
        "\n",
        "# select LR schedule Callback\n",
        "# ---------------------------\n",
        "# rlr = tf.keras.callbacks.ReduceLROnPlateau(monitor='val_loss', patience=10, verbose=1, factor=0.7)\n",
        "# lr_schedule = step_decay_schedule(initial_lr=1e-2, decay_factor=0.5, step_size=5)\n",
        "lr_cyclic = CyclicLR(base_lr=0.001, max_lr=0.006, step_size=25., mode='exp_range', gamma=0.99994)\n",
        "# lr_cos = WarmUpCosineDecayScheduler()\n",
        "\n",
        "callbacks=[es, mc, lr_cyclic]             \n",
        "# , rlr, lr_cos, lr_cyclic\n"
      ],
      "execution_count": 100,
      "outputs": []
    },
    {
      "cell_type": "code",
      "metadata": {
        "id": "S3GLE6qSUHbT",
        "colab_type": "code",
        "colab": {
          "base_uri": "https://localhost:8080/",
          "height": 1000
        },
        "outputId": "4e74d565-87d1-4b02-dcb2-c72cd8ca2343"
      },
      "source": [
        "print('Train CNN Model #3 for M')\n",
        "print()\n",
        "\n",
        "hist1 = model1.fit(X, y,                \n",
        "                 validation_split=0.2,     \n",
        "                 batch_size=BATCH_SIZE,\n",
        "                 epochs=EPOCHS,\n",
        "                 verbose=1,\n",
        "                 shuffle=True,\n",
        "                 callbacks=callbacks)"
      ],
      "execution_count": 101,
      "outputs": [
        {
          "output_type": "stream",
          "text": [
            "Train CNN Model #3 for M\n",
            "\n",
            "Epoch 1/200\n",
            "9/9 [==============================] - ETA: 0s - loss: 0.2471 - mean_absolute_percentage_error: 4354997.5000\n",
            "Epoch 00001: val_loss improved from inf to 0.24242, saving model to /content/drive/My Drive/ML Projects/DACON/Colision/CNN_model_3b.h5\n",
            "9/9 [==============================] - 3s 320ms/step - loss: 0.2471 - mean_absolute_percentage_error: 4354997.5000 - val_loss: 0.2424 - val_mean_absolute_percentage_error: 7538326.5000\n",
            "Epoch 2/200\n",
            "9/9 [==============================] - ETA: 0s - loss: 0.1677 - mean_absolute_percentage_error: 91567928.0000\n",
            "Epoch 00002: val_loss did not improve from 0.24242\n",
            "9/9 [==============================] - 1s 98ms/step - loss: 0.1677 - mean_absolute_percentage_error: 91567928.0000 - val_loss: 0.6979 - val_mean_absolute_percentage_error: 660526912.0000\n",
            "Epoch 3/200\n",
            "9/9 [==============================] - ETA: 0s - loss: 0.0454 - mean_absolute_percentage_error: 351588864.0000\n",
            "Epoch 00003: val_loss did not improve from 0.24242\n",
            "9/9 [==============================] - 1s 101ms/step - loss: 0.0454 - mean_absolute_percentage_error: 351588864.0000 - val_loss: 6.8025 - val_mean_absolute_percentage_error: 2118944384.0000\n",
            "Epoch 4/200\n",
            "9/9 [==============================] - ETA: 0s - loss: 0.0266 - mean_absolute_percentage_error: 381344416.0000\n",
            "Epoch 00004: val_loss did not improve from 0.24242\n",
            "9/9 [==============================] - 1s 99ms/step - loss: 0.0266 - mean_absolute_percentage_error: 381344416.0000 - val_loss: 11.3083 - val_mean_absolute_percentage_error: 2488306944.0000\n",
            "Epoch 5/200\n",
            "9/9 [==============================] - ETA: 0s - loss: 0.0175 - mean_absolute_percentage_error: 361557568.0000\n",
            "Epoch 00005: val_loss did not improve from 0.24242\n",
            "9/9 [==============================] - 1s 100ms/step - loss: 0.0175 - mean_absolute_percentage_error: 361557568.0000 - val_loss: 8.1665 - val_mean_absolute_percentage_error: 1966257408.0000\n",
            "Epoch 6/200\n",
            "9/9 [==============================] - ETA: 0s - loss: 0.0164 - mean_absolute_percentage_error: 348128096.0000\n",
            "Epoch 00006: val_loss did not improve from 0.24242\n",
            "9/9 [==============================] - 1s 98ms/step - loss: 0.0164 - mean_absolute_percentage_error: 348128096.0000 - val_loss: 3.0997 - val_mean_absolute_percentage_error: 1331858304.0000\n",
            "Epoch 7/200\n",
            "9/9 [==============================] - ETA: 0s - loss: 0.0164 - mean_absolute_percentage_error: 335638944.0000\n",
            "Epoch 00007: val_loss did not improve from 0.24242\n",
            "9/9 [==============================] - 1s 96ms/step - loss: 0.0164 - mean_absolute_percentage_error: 335638944.0000 - val_loss: 2.2311 - val_mean_absolute_percentage_error: 1108427776.0000\n",
            "Epoch 8/200\n",
            "9/9 [==============================] - ETA: 0s - loss: 0.0150 - mean_absolute_percentage_error: 359380608.0000\n",
            "Epoch 00008: val_loss did not improve from 0.24242\n",
            "9/9 [==============================] - 1s 96ms/step - loss: 0.0150 - mean_absolute_percentage_error: 359380608.0000 - val_loss: 1.3669 - val_mean_absolute_percentage_error: 934538496.0000\n",
            "Epoch 9/200\n",
            "9/9 [==============================] - ETA: 0s - loss: 0.0163 - mean_absolute_percentage_error: 329511936.0000\n",
            "Epoch 00009: val_loss did not improve from 0.24242\n",
            "9/9 [==============================] - 1s 98ms/step - loss: 0.0163 - mean_absolute_percentage_error: 329511936.0000 - val_loss: 0.7138 - val_mean_absolute_percentage_error: 766857216.0000\n",
            "Epoch 10/200\n",
            "9/9 [==============================] - ETA: 0s - loss: 0.0149 - mean_absolute_percentage_error: 341367200.0000\n",
            "Epoch 00010: val_loss did not improve from 0.24242\n",
            "9/9 [==============================] - 1s 96ms/step - loss: 0.0149 - mean_absolute_percentage_error: 341367200.0000 - val_loss: 0.3021 - val_mean_absolute_percentage_error: 611414144.0000\n",
            "Epoch 11/200\n",
            "9/9 [==============================] - ETA: 0s - loss: 0.0152 - mean_absolute_percentage_error: 342213120.0000\n",
            "Epoch 00011: val_loss improved from 0.24242 to 0.21238, saving model to /content/drive/My Drive/ML Projects/DACON/Colision/CNN_model_3b.h5\n",
            "9/9 [==============================] - 1s 128ms/step - loss: 0.0152 - mean_absolute_percentage_error: 342213120.0000 - val_loss: 0.2124 - val_mean_absolute_percentage_error: 549632000.0000\n",
            "Epoch 12/200\n",
            "9/9 [==============================] - ETA: 0s - loss: 0.0159 - mean_absolute_percentage_error: 351804800.0000\n",
            "Epoch 00012: val_loss improved from 0.21238 to 0.09166, saving model to /content/drive/My Drive/ML Projects/DACON/Colision/CNN_model_3b.h5\n",
            "9/9 [==============================] - 1s 127ms/step - loss: 0.0159 - mean_absolute_percentage_error: 351804800.0000 - val_loss: 0.0917 - val_mean_absolute_percentage_error: 469808064.0000\n",
            "Epoch 13/200\n",
            "9/9 [==============================] - ETA: 0s - loss: 0.0153 - mean_absolute_percentage_error: 333715136.0000\n",
            "Epoch 00013: val_loss improved from 0.09166 to 0.08811, saving model to /content/drive/My Drive/ML Projects/DACON/Colision/CNN_model_3b.h5\n",
            "9/9 [==============================] - 1s 126ms/step - loss: 0.0153 - mean_absolute_percentage_error: 333715136.0000 - val_loss: 0.0881 - val_mean_absolute_percentage_error: 441233696.0000\n",
            "Epoch 14/200\n",
            "9/9 [==============================] - ETA: 0s - loss: 0.0164 - mean_absolute_percentage_error: 340621056.0000\n",
            "Epoch 00014: val_loss improved from 0.08811 to 0.08436, saving model to /content/drive/My Drive/ML Projects/DACON/Colision/CNN_model_3b.h5\n",
            "9/9 [==============================] - 1s 127ms/step - loss: 0.0164 - mean_absolute_percentage_error: 340621056.0000 - val_loss: 0.0844 - val_mean_absolute_percentage_error: 433991040.0000\n",
            "Epoch 15/200\n",
            "9/9 [==============================] - ETA: 0s - loss: 0.0169 - mean_absolute_percentage_error: 347829088.0000\n",
            "Epoch 00015: val_loss improved from 0.08436 to 0.04799, saving model to /content/drive/My Drive/ML Projects/DACON/Colision/CNN_model_3b.h5\n",
            "9/9 [==============================] - 1s 129ms/step - loss: 0.0169 - mean_absolute_percentage_error: 347829088.0000 - val_loss: 0.0480 - val_mean_absolute_percentage_error: 402893984.0000\n",
            "Epoch 16/200\n",
            "9/9 [==============================] - ETA: 0s - loss: 0.0154 - mean_absolute_percentage_error: 342056640.0000\n",
            "Epoch 00016: val_loss improved from 0.04799 to 0.04013, saving model to /content/drive/My Drive/ML Projects/DACON/Colision/CNN_model_3b.h5\n",
            "9/9 [==============================] - 1s 135ms/step - loss: 0.0154 - mean_absolute_percentage_error: 342056640.0000 - val_loss: 0.0401 - val_mean_absolute_percentage_error: 372479488.0000\n",
            "Epoch 17/200\n",
            "9/9 [==============================] - ETA: 0s - loss: 0.0158 - mean_absolute_percentage_error: 327037568.0000\n",
            "Epoch 00017: val_loss improved from 0.04013 to 0.01133, saving model to /content/drive/My Drive/ML Projects/DACON/Colision/CNN_model_3b.h5\n",
            "9/9 [==============================] - 1s 139ms/step - loss: 0.0158 - mean_absolute_percentage_error: 327037568.0000 - val_loss: 0.0113 - val_mean_absolute_percentage_error: 332637472.0000\n",
            "Epoch 18/200\n",
            "9/9 [==============================] - ETA: 0s - loss: 0.0156 - mean_absolute_percentage_error: 346768800.0000\n",
            "Epoch 00018: val_loss did not improve from 0.01133\n",
            "9/9 [==============================] - 1s 98ms/step - loss: 0.0156 - mean_absolute_percentage_error: 346768800.0000 - val_loss: 0.0114 - val_mean_absolute_percentage_error: 327140960.0000\n",
            "Epoch 19/200\n",
            "9/9 [==============================] - ETA: 0s - loss: 0.0160 - mean_absolute_percentage_error: 349500960.0000\n",
            "Epoch 00019: val_loss improved from 0.01133 to 0.00253, saving model to /content/drive/My Drive/ML Projects/DACON/Colision/CNN_model_3b.h5\n",
            "9/9 [==============================] - 1s 143ms/step - loss: 0.0160 - mean_absolute_percentage_error: 349500960.0000 - val_loss: 0.0025 - val_mean_absolute_percentage_error: 286964896.0000\n",
            "Epoch 20/200\n",
            "9/9 [==============================] - ETA: 0s - loss: 0.0144 - mean_absolute_percentage_error: 334833440.0000\n",
            "Epoch 00020: val_loss improved from 0.00253 to 0.00192, saving model to /content/drive/My Drive/ML Projects/DACON/Colision/CNN_model_3b.h5\n",
            "9/9 [==============================] - 1s 131ms/step - loss: 0.0144 - mean_absolute_percentage_error: 334833440.0000 - val_loss: 0.0019 - val_mean_absolute_percentage_error: 299264448.0000\n",
            "Epoch 21/200\n",
            "9/9 [==============================] - ETA: 0s - loss: 0.0154 - mean_absolute_percentage_error: 334758016.0000\n",
            "Epoch 00021: val_loss did not improve from 0.00192\n",
            "9/9 [==============================] - 1s 98ms/step - loss: 0.0154 - mean_absolute_percentage_error: 334758016.0000 - val_loss: 0.0026 - val_mean_absolute_percentage_error: 296043136.0000\n",
            "Epoch 22/200\n",
            "9/9 [==============================] - ETA: 0s - loss: 0.0149 - mean_absolute_percentage_error: 325399936.0000\n",
            "Epoch 00022: val_loss did not improve from 0.00192\n",
            "9/9 [==============================] - 1s 97ms/step - loss: 0.0149 - mean_absolute_percentage_error: 325399936.0000 - val_loss: 0.0033 - val_mean_absolute_percentage_error: 302485728.0000\n",
            "Epoch 23/200\n",
            "9/9 [==============================] - ETA: 0s - loss: 0.0149 - mean_absolute_percentage_error: 351875360.0000\n",
            "Epoch 00023: val_loss did not improve from 0.00192\n",
            "9/9 [==============================] - 1s 97ms/step - loss: 0.0149 - mean_absolute_percentage_error: 351875360.0000 - val_loss: 0.0023 - val_mean_absolute_percentage_error: 297473984.0000\n",
            "Epoch 24/200\n",
            "9/9 [==============================] - ETA: 0s - loss: 0.0148 - mean_absolute_percentage_error: 344617696.0000\n",
            "Epoch 00024: val_loss did not improve from 0.00192\n",
            "9/9 [==============================] - 1s 96ms/step - loss: 0.0148 - mean_absolute_percentage_error: 344617696.0000 - val_loss: 0.0067 - val_mean_absolute_percentage_error: 312781952.0000\n",
            "Epoch 25/200\n",
            "9/9 [==============================] - ETA: 0s - loss: 0.0147 - mean_absolute_percentage_error: 361638624.0000\n",
            "Epoch 00025: val_loss improved from 0.00192 to 0.00114, saving model to /content/drive/My Drive/ML Projects/DACON/Colision/CNN_model_3b.h5\n",
            "9/9 [==============================] - 1s 126ms/step - loss: 0.0147 - mean_absolute_percentage_error: 361638624.0000 - val_loss: 0.0011 - val_mean_absolute_percentage_error: 289775776.0000\n",
            "Epoch 26/200\n",
            "9/9 [==============================] - ETA: 0s - loss: 0.0144 - mean_absolute_percentage_error: 334201856.0000\n",
            "Epoch 00026: val_loss did not improve from 0.00114\n",
            "9/9 [==============================] - 1s 96ms/step - loss: 0.0144 - mean_absolute_percentage_error: 334201856.0000 - val_loss: 0.0017 - val_mean_absolute_percentage_error: 270413440.0000\n",
            "Epoch 27/200\n",
            "9/9 [==============================] - ETA: 0s - loss: 0.0147 - mean_absolute_percentage_error: 314459168.0000\n",
            "Epoch 00027: val_loss did not improve from 0.00114\n",
            "9/9 [==============================] - 1s 99ms/step - loss: 0.0147 - mean_absolute_percentage_error: 314459168.0000 - val_loss: 0.0032 - val_mean_absolute_percentage_error: 279442976.0000\n",
            "Epoch 28/200\n",
            "9/9 [==============================] - ETA: 0s - loss: 0.0140 - mean_absolute_percentage_error: 375359520.0000\n",
            "Epoch 00028: val_loss improved from 0.00114 to 0.00095, saving model to /content/drive/My Drive/ML Projects/DACON/Colision/CNN_model_3b.h5\n",
            "9/9 [==============================] - 1s 126ms/step - loss: 0.0140 - mean_absolute_percentage_error: 375359520.0000 - val_loss: 9.4887e-04 - val_mean_absolute_percentage_error: 297554304.0000\n",
            "Epoch 29/200\n",
            "9/9 [==============================] - ETA: 0s - loss: 0.0137 - mean_absolute_percentage_error: 359191776.0000\n",
            "Epoch 00029: val_loss improved from 0.00095 to 0.00086, saving model to /content/drive/My Drive/ML Projects/DACON/Colision/CNN_model_3b.h5\n",
            "9/9 [==============================] - 1s 127ms/step - loss: 0.0137 - mean_absolute_percentage_error: 359191776.0000 - val_loss: 8.6182e-04 - val_mean_absolute_percentage_error: 288058368.0000\n",
            "Epoch 30/200\n",
            "9/9 [==============================] - ETA: 0s - loss: 0.0137 - mean_absolute_percentage_error: 348145760.0000\n",
            "Epoch 00030: val_loss did not improve from 0.00086\n",
            "9/9 [==============================] - 1s 96ms/step - loss: 0.0137 - mean_absolute_percentage_error: 348145760.0000 - val_loss: 0.0038 - val_mean_absolute_percentage_error: 315015360.0000\n",
            "Epoch 31/200\n",
            "9/9 [==============================] - ETA: 0s - loss: 0.0153 - mean_absolute_percentage_error: 360123936.0000\n",
            "Epoch 00031: val_loss did not improve from 0.00086\n",
            "9/9 [==============================] - 1s 97ms/step - loss: 0.0153 - mean_absolute_percentage_error: 360123936.0000 - val_loss: 0.0052 - val_mean_absolute_percentage_error: 258022960.0000\n",
            "Epoch 32/200\n",
            "9/9 [==============================] - ETA: 0s - loss: 0.0163 - mean_absolute_percentage_error: 344704384.0000\n",
            "Epoch 00032: val_loss did not improve from 0.00086\n",
            "9/9 [==============================] - 1s 97ms/step - loss: 0.0163 - mean_absolute_percentage_error: 344704384.0000 - val_loss: 0.0067 - val_mean_absolute_percentage_error: 277604256.0000\n",
            "Epoch 33/200\n",
            "9/9 [==============================] - ETA: 0s - loss: 0.0143 - mean_absolute_percentage_error: 352597504.0000\n",
            "Epoch 00033: val_loss did not improve from 0.00086\n",
            "9/9 [==============================] - 1s 96ms/step - loss: 0.0143 - mean_absolute_percentage_error: 352597504.0000 - val_loss: 0.0023 - val_mean_absolute_percentage_error: 292579392.0000\n",
            "Epoch 34/200\n",
            "9/9 [==============================] - ETA: 0s - loss: 0.0133 - mean_absolute_percentage_error: 381081120.0000\n",
            "Epoch 00034: val_loss did not improve from 0.00086\n",
            "9/9 [==============================] - 1s 97ms/step - loss: 0.0133 - mean_absolute_percentage_error: 381081120.0000 - val_loss: 0.0022 - val_mean_absolute_percentage_error: 284436064.0000\n",
            "Epoch 35/200\n",
            "9/9 [==============================] - ETA: 0s - loss: 0.0134 - mean_absolute_percentage_error: 333788416.0000\n",
            "Epoch 00035: val_loss did not improve from 0.00086\n",
            "9/9 [==============================] - 1s 99ms/step - loss: 0.0134 - mean_absolute_percentage_error: 333788416.0000 - val_loss: 0.0034 - val_mean_absolute_percentage_error: 295955840.0000\n",
            "Epoch 36/200\n",
            "9/9 [==============================] - ETA: 0s - loss: 0.0133 - mean_absolute_percentage_error: 334262176.0000\n",
            "Epoch 00036: val_loss improved from 0.00086 to 0.00078, saving model to /content/drive/My Drive/ML Projects/DACON/Colision/CNN_model_3b.h5\n",
            "9/9 [==============================] - 1s 127ms/step - loss: 0.0133 - mean_absolute_percentage_error: 334262176.0000 - val_loss: 7.7602e-04 - val_mean_absolute_percentage_error: 303902720.0000\n",
            "Epoch 37/200\n",
            "9/9 [==============================] - ETA: 0s - loss: 0.0135 - mean_absolute_percentage_error: 344650464.0000\n",
            "Epoch 00037: val_loss did not improve from 0.00078\n",
            "9/9 [==============================] - 1s 97ms/step - loss: 0.0135 - mean_absolute_percentage_error: 344650464.0000 - val_loss: 0.0016 - val_mean_absolute_percentage_error: 295066752.0000\n",
            "Epoch 38/200\n",
            "9/9 [==============================] - ETA: 0s - loss: 0.0142 - mean_absolute_percentage_error: 335058304.0000\n",
            "Epoch 00038: val_loss did not improve from 0.00078\n",
            "9/9 [==============================] - 1s 97ms/step - loss: 0.0142 - mean_absolute_percentage_error: 335058304.0000 - val_loss: 0.0012 - val_mean_absolute_percentage_error: 304016672.0000\n",
            "Epoch 39/200\n",
            "9/9 [==============================] - ETA: 0s - loss: 0.0127 - mean_absolute_percentage_error: 337640064.0000\n",
            "Epoch 00039: val_loss did not improve from 0.00078\n",
            "9/9 [==============================] - 1s 96ms/step - loss: 0.0127 - mean_absolute_percentage_error: 337640064.0000 - val_loss: 9.4559e-04 - val_mean_absolute_percentage_error: 292199008.0000\n",
            "Epoch 40/200\n",
            "9/9 [==============================] - ETA: 0s - loss: 0.0138 - mean_absolute_percentage_error: 363273952.0000\n",
            "Epoch 00040: val_loss did not improve from 0.00078\n",
            "9/9 [==============================] - 1s 97ms/step - loss: 0.0138 - mean_absolute_percentage_error: 363273952.0000 - val_loss: 0.0025 - val_mean_absolute_percentage_error: 276290464.0000\n",
            "Epoch 41/200\n",
            "9/9 [==============================] - ETA: 0s - loss: 0.0133 - mean_absolute_percentage_error: 334708160.0000\n",
            "Epoch 00041: val_loss did not improve from 0.00078\n",
            "9/9 [==============================] - 1s 97ms/step - loss: 0.0133 - mean_absolute_percentage_error: 334708160.0000 - val_loss: 0.0030 - val_mean_absolute_percentage_error: 260506736.0000\n",
            "Epoch 42/200\n",
            "9/9 [==============================] - ETA: 0s - loss: 0.0141 - mean_absolute_percentage_error: 353980032.0000\n",
            "Epoch 00042: val_loss did not improve from 0.00078\n",
            "9/9 [==============================] - 1s 98ms/step - loss: 0.0141 - mean_absolute_percentage_error: 353980032.0000 - val_loss: 0.0133 - val_mean_absolute_percentage_error: 345527168.0000\n",
            "Epoch 43/200\n",
            "9/9 [==============================] - ETA: 0s - loss: 0.0142 - mean_absolute_percentage_error: 324890656.0000\n",
            "Epoch 00043: val_loss did not improve from 0.00078\n",
            "9/9 [==============================] - 1s 96ms/step - loss: 0.0142 - mean_absolute_percentage_error: 324890656.0000 - val_loss: 0.0147 - val_mean_absolute_percentage_error: 364884064.0000\n",
            "Epoch 44/200\n",
            "9/9 [==============================] - ETA: 0s - loss: 0.0149 - mean_absolute_percentage_error: 354924512.0000\n",
            "Epoch 00044: val_loss did not improve from 0.00078\n",
            "9/9 [==============================] - 1s 97ms/step - loss: 0.0149 - mean_absolute_percentage_error: 354924512.0000 - val_loss: 0.0065 - val_mean_absolute_percentage_error: 328763680.0000\n",
            "Epoch 45/200\n",
            "9/9 [==============================] - ETA: 0s - loss: 0.0137 - mean_absolute_percentage_error: 350847200.0000\n",
            "Epoch 00045: val_loss did not improve from 0.00078\n",
            "9/9 [==============================] - 1s 97ms/step - loss: 0.0137 - mean_absolute_percentage_error: 350847200.0000 - val_loss: 0.0021 - val_mean_absolute_percentage_error: 313747872.0000\n",
            "Epoch 46/200\n",
            "9/9 [==============================] - ETA: 0s - loss: 0.0140 - mean_absolute_percentage_error: 325826688.0000\n",
            "Epoch 00046: val_loss did not improve from 0.00078\n",
            "9/9 [==============================] - 1s 98ms/step - loss: 0.0140 - mean_absolute_percentage_error: 325826688.0000 - val_loss: 0.0024 - val_mean_absolute_percentage_error: 285400896.0000\n",
            "Epoch 47/200\n",
            "9/9 [==============================] - ETA: 0s - loss: 0.0133 - mean_absolute_percentage_error: 312677536.0000\n",
            "Epoch 00047: val_loss did not improve from 0.00078\n",
            "9/9 [==============================] - 1s 97ms/step - loss: 0.0133 - mean_absolute_percentage_error: 312677536.0000 - val_loss: 0.0051 - val_mean_absolute_percentage_error: 239116080.0000\n",
            "Epoch 48/200\n",
            "9/9 [==============================] - ETA: 0s - loss: 0.0133 - mean_absolute_percentage_error: 341661120.0000\n",
            "Epoch 00048: val_loss did not improve from 0.00078\n",
            "9/9 [==============================] - 1s 97ms/step - loss: 0.0133 - mean_absolute_percentage_error: 341661120.0000 - val_loss: 0.0107 - val_mean_absolute_percentage_error: 243262400.0000\n",
            "Epoch 49/200\n",
            "9/9 [==============================] - ETA: 0s - loss: 0.0121 - mean_absolute_percentage_error: 322178944.0000\n",
            "Epoch 00049: val_loss did not improve from 0.00078\n",
            "9/9 [==============================] - 1s 97ms/step - loss: 0.0121 - mean_absolute_percentage_error: 322178944.0000 - val_loss: 0.0135 - val_mean_absolute_percentage_error: 253885616.0000\n",
            "Epoch 50/200\n",
            "9/9 [==============================] - ETA: 0s - loss: 0.0130 - mean_absolute_percentage_error: 345835584.0000\n",
            "Epoch 00050: val_loss did not improve from 0.00078\n",
            "9/9 [==============================] - 1s 96ms/step - loss: 0.0130 - mean_absolute_percentage_error: 345835584.0000 - val_loss: 0.0101 - val_mean_absolute_percentage_error: 244555280.0000\n",
            "Epoch 51/200\n",
            "9/9 [==============================] - ETA: 0s - loss: 0.0126 - mean_absolute_percentage_error: 328317984.0000\n",
            "Epoch 00051: val_loss did not improve from 0.00078\n",
            "9/9 [==============================] - 1s 96ms/step - loss: 0.0126 - mean_absolute_percentage_error: 328317984.0000 - val_loss: 0.0038 - val_mean_absolute_percentage_error: 271451808.0000\n",
            "Epoch 52/200\n",
            "9/9 [==============================] - ETA: 0s - loss: 0.0125 - mean_absolute_percentage_error: 340567168.0000\n",
            "Epoch 00052: val_loss did not improve from 0.00078\n",
            "9/9 [==============================] - 1s 98ms/step - loss: 0.0125 - mean_absolute_percentage_error: 340567168.0000 - val_loss: 0.0019 - val_mean_absolute_percentage_error: 275575936.0000\n",
            "Epoch 53/200\n",
            "9/9 [==============================] - ETA: 0s - loss: 0.0125 - mean_absolute_percentage_error: 305322560.0000\n",
            "Epoch 00053: val_loss improved from 0.00078 to 0.00071, saving model to /content/drive/My Drive/ML Projects/DACON/Colision/CNN_model_3b.h5\n",
            "9/9 [==============================] - 2s 262ms/step - loss: 0.0125 - mean_absolute_percentage_error: 305322560.0000 - val_loss: 7.0633e-04 - val_mean_absolute_percentage_error: 297755456.0000\n",
            "Epoch 54/200\n",
            "9/9 [==============================] - ETA: 0s - loss: 0.0131 - mean_absolute_percentage_error: 341597088.0000\n",
            "Epoch 00054: val_loss did not improve from 0.00071\n",
            "9/9 [==============================] - 1s 96ms/step - loss: 0.0131 - mean_absolute_percentage_error: 341597088.0000 - val_loss: 0.0050 - val_mean_absolute_percentage_error: 261147264.0000\n",
            "Epoch 55/200\n",
            "9/9 [==============================] - ETA: 0s - loss: 0.0125 - mean_absolute_percentage_error: 343682560.0000\n",
            "Epoch 00055: val_loss did not improve from 0.00071\n",
            "9/9 [==============================] - 1s 98ms/step - loss: 0.0125 - mean_absolute_percentage_error: 343682560.0000 - val_loss: 0.0069 - val_mean_absolute_percentage_error: 266754688.0000\n",
            "Epoch 56/200\n",
            "9/9 [==============================] - ETA: 0s - loss: 0.0120 - mean_absolute_percentage_error: 325991808.0000\n",
            "Epoch 00056: val_loss did not improve from 0.00071\n",
            "9/9 [==============================] - 1s 97ms/step - loss: 0.0120 - mean_absolute_percentage_error: 325991808.0000 - val_loss: 0.0016 - val_mean_absolute_percentage_error: 288045856.0000\n",
            "Epoch 57/200\n",
            "9/9 [==============================] - ETA: 0s - loss: 0.0124 - mean_absolute_percentage_error: 335655200.0000\n",
            "Epoch 00057: val_loss did not improve from 0.00071\n",
            "9/9 [==============================] - 1s 97ms/step - loss: 0.0124 - mean_absolute_percentage_error: 335655200.0000 - val_loss: 0.0010 - val_mean_absolute_percentage_error: 284820320.0000\n",
            "Epoch 58/200\n",
            "9/9 [==============================] - ETA: 0s - loss: 0.0126 - mean_absolute_percentage_error: 338727200.0000\n",
            "Epoch 00058: val_loss did not improve from 0.00071\n",
            "9/9 [==============================] - 1s 96ms/step - loss: 0.0126 - mean_absolute_percentage_error: 338727200.0000 - val_loss: 0.0013 - val_mean_absolute_percentage_error: 283207744.0000\n",
            "Epoch 59/200\n",
            "9/9 [==============================] - ETA: 0s - loss: 0.0140 - mean_absolute_percentage_error: 314720512.0000\n",
            "Epoch 00059: val_loss did not improve from 0.00071\n",
            "9/9 [==============================] - 1s 98ms/step - loss: 0.0140 - mean_absolute_percentage_error: 314720512.0000 - val_loss: 0.0031 - val_mean_absolute_percentage_error: 246505792.0000\n",
            "Epoch 60/200\n",
            "9/9 [==============================] - ETA: 0s - loss: 0.0127 - mean_absolute_percentage_error: 305688032.0000\n",
            "Epoch 00060: val_loss did not improve from 0.00071\n",
            "9/9 [==============================] - 1s 96ms/step - loss: 0.0127 - mean_absolute_percentage_error: 305688032.0000 - val_loss: 0.0027 - val_mean_absolute_percentage_error: 292614048.0000\n",
            "Epoch 61/200\n",
            "9/9 [==============================] - ETA: 0s - loss: 0.0123 - mean_absolute_percentage_error: 293727392.0000\n",
            "Epoch 00061: val_loss did not improve from 0.00071\n",
            "9/9 [==============================] - 1s 97ms/step - loss: 0.0123 - mean_absolute_percentage_error: 293727392.0000 - val_loss: 0.0025 - val_mean_absolute_percentage_error: 299337344.0000\n",
            "Epoch 62/200\n",
            "9/9 [==============================] - ETA: 0s - loss: 0.0127 - mean_absolute_percentage_error: 332066272.0000\n",
            "Epoch 00062: val_loss did not improve from 0.00071\n",
            "9/9 [==============================] - 1s 97ms/step - loss: 0.0127 - mean_absolute_percentage_error: 332066272.0000 - val_loss: 0.0020 - val_mean_absolute_percentage_error: 277830976.0000\n",
            "Epoch 63/200\n",
            "9/9 [==============================] - ETA: 0s - loss: 0.0123 - mean_absolute_percentage_error: 334686528.0000\n",
            "Epoch 00063: val_loss improved from 0.00071 to 0.00056, saving model to /content/drive/My Drive/ML Projects/DACON/Colision/CNN_model_3b.h5\n",
            "9/9 [==============================] - 1s 128ms/step - loss: 0.0123 - mean_absolute_percentage_error: 334686528.0000 - val_loss: 5.6075e-04 - val_mean_absolute_percentage_error: 279356032.0000\n",
            "Epoch 64/200\n",
            "9/9 [==============================] - ETA: 0s - loss: 0.0124 - mean_absolute_percentage_error: 297818048.0000\n",
            "Epoch 00064: val_loss did not improve from 0.00056\n",
            "9/9 [==============================] - 1s 98ms/step - loss: 0.0124 - mean_absolute_percentage_error: 297818048.0000 - val_loss: 0.0022 - val_mean_absolute_percentage_error: 261964096.0000\n",
            "Epoch 65/200\n",
            "9/9 [==============================] - ETA: 0s - loss: 0.0122 - mean_absolute_percentage_error: 310598336.0000\n",
            "Epoch 00065: val_loss improved from 0.00056 to 0.00050, saving model to /content/drive/My Drive/ML Projects/DACON/Colision/CNN_model_3b.h5\n",
            "9/9 [==============================] - 1s 127ms/step - loss: 0.0122 - mean_absolute_percentage_error: 310598336.0000 - val_loss: 5.0282e-04 - val_mean_absolute_percentage_error: 279796960.0000\n",
            "Epoch 66/200\n",
            "9/9 [==============================] - ETA: 0s - loss: 0.0119 - mean_absolute_percentage_error: 308964192.0000\n",
            "Epoch 00066: val_loss did not improve from 0.00050\n",
            "9/9 [==============================] - 1s 97ms/step - loss: 0.0119 - mean_absolute_percentage_error: 308964192.0000 - val_loss: 0.0012 - val_mean_absolute_percentage_error: 276429600.0000\n",
            "Epoch 67/200\n",
            "9/9 [==============================] - ETA: 0s - loss: 0.0117 - mean_absolute_percentage_error: 319254656.0000\n",
            "Epoch 00067: val_loss did not improve from 0.00050\n",
            "9/9 [==============================] - 1s 98ms/step - loss: 0.0117 - mean_absolute_percentage_error: 319254656.0000 - val_loss: 6.0112e-04 - val_mean_absolute_percentage_error: 266548304.0000\n",
            "Epoch 68/200\n",
            "9/9 [==============================] - ETA: 0s - loss: 0.0118 - mean_absolute_percentage_error: 340554432.0000\n",
            "Epoch 00068: val_loss did not improve from 0.00050\n",
            "9/9 [==============================] - 1s 98ms/step - loss: 0.0118 - mean_absolute_percentage_error: 340554432.0000 - val_loss: 0.0016 - val_mean_absolute_percentage_error: 264965904.0000\n",
            "Epoch 69/200\n",
            "9/9 [==============================] - ETA: 0s - loss: 0.0127 - mean_absolute_percentage_error: 337422496.0000\n",
            "Epoch 00069: val_loss did not improve from 0.00050\n",
            "9/9 [==============================] - 1s 96ms/step - loss: 0.0127 - mean_absolute_percentage_error: 337422496.0000 - val_loss: 0.0030 - val_mean_absolute_percentage_error: 289096864.0000\n",
            "Epoch 70/200\n",
            "9/9 [==============================] - ETA: 0s - loss: 0.0119 - mean_absolute_percentage_error: 342329760.0000\n",
            "Epoch 00070: val_loss did not improve from 0.00050\n",
            "9/9 [==============================] - 1s 97ms/step - loss: 0.0119 - mean_absolute_percentage_error: 342329760.0000 - val_loss: 0.0023 - val_mean_absolute_percentage_error: 322763296.0000\n",
            "Epoch 71/200\n",
            "9/9 [==============================] - ETA: 0s - loss: 0.0125 - mean_absolute_percentage_error: 363743968.0000\n",
            "Epoch 00071: val_loss did not improve from 0.00050\n",
            "9/9 [==============================] - 1s 98ms/step - loss: 0.0125 - mean_absolute_percentage_error: 363743968.0000 - val_loss: 0.0024 - val_mean_absolute_percentage_error: 322272480.0000\n",
            "Epoch 72/200\n",
            "9/9 [==============================] - ETA: 0s - loss: 0.0120 - mean_absolute_percentage_error: 305151232.0000\n",
            "Epoch 00072: val_loss did not improve from 0.00050\n",
            "9/9 [==============================] - 1s 96ms/step - loss: 0.0120 - mean_absolute_percentage_error: 305151232.0000 - val_loss: 0.0026 - val_mean_absolute_percentage_error: 282301376.0000\n",
            "Epoch 73/200\n",
            "9/9 [==============================] - ETA: 0s - loss: 0.0115 - mean_absolute_percentage_error: 324343296.0000\n",
            "Epoch 00073: val_loss did not improve from 0.00050\n",
            "9/9 [==============================] - 1s 99ms/step - loss: 0.0115 - mean_absolute_percentage_error: 324343296.0000 - val_loss: 0.0014 - val_mean_absolute_percentage_error: 298038208.0000\n",
            "Epoch 74/200\n",
            "9/9 [==============================] - ETA: 0s - loss: 0.0121 - mean_absolute_percentage_error: 335862464.0000\n",
            "Epoch 00074: val_loss did not improve from 0.00050\n",
            "9/9 [==============================] - 1s 97ms/step - loss: 0.0121 - mean_absolute_percentage_error: 335862464.0000 - val_loss: 0.0010 - val_mean_absolute_percentage_error: 282171936.0000\n",
            "Epoch 75/200\n",
            "9/9 [==============================] - ETA: 0s - loss: 0.0115 - mean_absolute_percentage_error: 311053344.0000\n",
            "Epoch 00075: val_loss did not improve from 0.00050\n",
            "9/9 [==============================] - 1s 98ms/step - loss: 0.0115 - mean_absolute_percentage_error: 311053344.0000 - val_loss: 0.0025 - val_mean_absolute_percentage_error: 257832704.0000\n",
            "Epoch 76/200\n",
            "9/9 [==============================] - ETA: 0s - loss: 0.0112 - mean_absolute_percentage_error: 332484384.0000\n",
            "Epoch 00076: val_loss did not improve from 0.00050\n",
            "9/9 [==============================] - 1s 96ms/step - loss: 0.0112 - mean_absolute_percentage_error: 332484384.0000 - val_loss: 0.0071 - val_mean_absolute_percentage_error: 232810848.0000\n",
            "Epoch 77/200\n",
            "9/9 [==============================] - ETA: 0s - loss: 0.0112 - mean_absolute_percentage_error: 319639424.0000\n",
            "Epoch 00077: val_loss did not improve from 0.00050\n",
            "9/9 [==============================] - 1s 97ms/step - loss: 0.0112 - mean_absolute_percentage_error: 319639424.0000 - val_loss: 0.0018 - val_mean_absolute_percentage_error: 262335456.0000\n",
            "Epoch 78/200\n",
            "9/9 [==============================] - ETA: 0s - loss: 0.0114 - mean_absolute_percentage_error: 307922624.0000\n",
            "Epoch 00078: val_loss did not improve from 0.00050\n",
            "9/9 [==============================] - 1s 98ms/step - loss: 0.0114 - mean_absolute_percentage_error: 307922624.0000 - val_loss: 0.0027 - val_mean_absolute_percentage_error: 249293792.0000\n",
            "Epoch 79/200\n",
            "9/9 [==============================] - ETA: 0s - loss: 0.0111 - mean_absolute_percentage_error: 304980000.0000\n",
            "Epoch 00079: val_loss did not improve from 0.00050\n",
            "9/9 [==============================] - 1s 97ms/step - loss: 0.0111 - mean_absolute_percentage_error: 304980000.0000 - val_loss: 0.0052 - val_mean_absolute_percentage_error: 235196192.0000\n",
            "Epoch 80/200\n",
            "9/9 [==============================] - ETA: 0s - loss: 0.0113 - mean_absolute_percentage_error: 291225088.0000\n",
            "Epoch 00080: val_loss did not improve from 0.00050\n",
            "9/9 [==============================] - 1s 97ms/step - loss: 0.0113 - mean_absolute_percentage_error: 291225088.0000 - val_loss: 0.0011 - val_mean_absolute_percentage_error: 264808528.0000\n",
            "Epoch 81/200\n",
            "9/9 [==============================] - ETA: 0s - loss: 0.0113 - mean_absolute_percentage_error: 293612896.0000\n",
            "Epoch 00081: val_loss did not improve from 0.00050\n",
            "9/9 [==============================] - 1s 96ms/step - loss: 0.0113 - mean_absolute_percentage_error: 293612896.0000 - val_loss: 0.0011 - val_mean_absolute_percentage_error: 267136080.0000\n",
            "Epoch 82/200\n",
            "9/9 [==============================] - ETA: 0s - loss: 0.0113 - mean_absolute_percentage_error: 293294080.0000\n",
            "Epoch 00082: val_loss did not improve from 0.00050\n",
            "9/9 [==============================] - 1s 96ms/step - loss: 0.0113 - mean_absolute_percentage_error: 293294080.0000 - val_loss: 0.0030 - val_mean_absolute_percentage_error: 281801056.0000\n",
            "Epoch 83/200\n",
            "9/9 [==============================] - ETA: 0s - loss: 0.0114 - mean_absolute_percentage_error: 293614848.0000\n",
            "Epoch 00083: val_loss did not improve from 0.00050\n",
            "9/9 [==============================] - 1s 96ms/step - loss: 0.0114 - mean_absolute_percentage_error: 293614848.0000 - val_loss: 0.0012 - val_mean_absolute_percentage_error: 293448768.0000\n",
            "Epoch 84/200\n",
            "9/9 [==============================] - ETA: 0s - loss: 0.0110 - mean_absolute_percentage_error: 303851232.0000\n",
            "Epoch 00084: val_loss did not improve from 0.00050\n",
            "9/9 [==============================] - 1s 97ms/step - loss: 0.0110 - mean_absolute_percentage_error: 303851232.0000 - val_loss: 0.0018 - val_mean_absolute_percentage_error: 258328864.0000\n",
            "Epoch 85/200\n",
            "9/9 [==============================] - ETA: 0s - loss: 0.0113 - mean_absolute_percentage_error: 306385376.0000\n",
            "Epoch 00085: val_loss did not improve from 0.00050\n",
            "9/9 [==============================] - 1s 98ms/step - loss: 0.0113 - mean_absolute_percentage_error: 306385376.0000 - val_loss: 0.0044 - val_mean_absolute_percentage_error: 246656032.0000\n",
            "Epoch 86/200\n",
            "9/9 [==============================] - ETA: 0s - loss: 0.0113 - mean_absolute_percentage_error: 311921856.0000\n",
            "Epoch 00086: val_loss did not improve from 0.00050\n",
            "9/9 [==============================] - 1s 97ms/step - loss: 0.0113 - mean_absolute_percentage_error: 311921856.0000 - val_loss: 0.0041 - val_mean_absolute_percentage_error: 236765152.0000\n",
            "Epoch 87/200\n",
            "9/9 [==============================] - ETA: 0s - loss: 0.0110 - mean_absolute_percentage_error: 302591360.0000\n",
            "Epoch 00087: val_loss did not improve from 0.00050\n",
            "9/9 [==============================] - 1s 97ms/step - loss: 0.0110 - mean_absolute_percentage_error: 302591360.0000 - val_loss: 0.0108 - val_mean_absolute_percentage_error: 209400240.0000\n",
            "Epoch 88/200\n",
            "9/9 [==============================] - ETA: 0s - loss: 0.0111 - mean_absolute_percentage_error: 305855840.0000\n",
            "Epoch 00088: val_loss did not improve from 0.00050\n",
            "9/9 [==============================] - 1s 97ms/step - loss: 0.0111 - mean_absolute_percentage_error: 305855840.0000 - val_loss: 0.0251 - val_mean_absolute_percentage_error: 168653904.0000\n",
            "Epoch 89/200\n",
            "9/9 [==============================] - ETA: 0s - loss: 0.0114 - mean_absolute_percentage_error: 270215680.0000\n",
            "Epoch 00089: val_loss did not improve from 0.00050\n",
            "9/9 [==============================] - 1s 97ms/step - loss: 0.0114 - mean_absolute_percentage_error: 270215680.0000 - val_loss: 0.0153 - val_mean_absolute_percentage_error: 190021088.0000\n",
            "Epoch 90/200\n",
            "9/9 [==============================] - ETA: 0s - loss: 0.0104 - mean_absolute_percentage_error: 278316512.0000\n",
            "Epoch 00090: val_loss did not improve from 0.00050\n",
            "9/9 [==============================] - 1s 97ms/step - loss: 0.0104 - mean_absolute_percentage_error: 278316512.0000 - val_loss: 0.0128 - val_mean_absolute_percentage_error: 188210448.0000\n",
            "Epoch 00090: early stopping\n"
          ],
          "name": "stdout"
        }
      ]
    },
    {
      "cell_type": "code",
      "metadata": {
        "id": "hvpsZL3hUHZk",
        "colab_type": "code",
        "colab": {
          "base_uri": "https://localhost:8080/",
          "height": 282
        },
        "outputId": "f90d9a0e-131e-438a-e13c-f50f916568b4"
      },
      "source": [
        "hist1_df =pd.DataFrame(hist1.history)\n",
        "hist1_df[['loss', 'val_loss']].plot()"
      ],
      "execution_count": 102,
      "outputs": [
        {
          "output_type": "execute_result",
          "data": {
            "text/plain": [
              "<matplotlib.axes._subplots.AxesSubplot at 0x7f27ee4a8be0>"
            ]
          },
          "metadata": {
            "tags": []
          },
          "execution_count": 102
        },
        {
          "output_type": "display_data",
          "data": {
            "image/png": "[encoded data removed]",
            "text/plain": [
              "<Figure size 432x288 with 1 Axes>"
            ]
          },
          "metadata": {
            "tags": [],
            "needs_background": "light"
          }
        }
      ]
    },
    {
      "cell_type": "code",
      "metadata": {
        "id": "_iFOZtYlUxCS",
        "colab_type": "code",
        "colab": {
          "base_uri": "https://localhost:8080/",
          "height": 50
        },
        "outputId": "b6717ac4-3812-4576-eee1-7a1651f4ec76"
      },
      "source": [
        "hist1_df[['val_loss']].min(), np.argmin(hist1_df[['val_loss']])"
      ],
      "execution_count": 103,
      "outputs": [
        {
          "output_type": "execute_result",
          "data": {
            "text/plain": [
              "(val_loss    0.000503\n",
              " dtype: float64, 64)"
            ]
          },
          "metadata": {
            "tags": []
          },
          "execution_count": 103
        }
      ]
    },
    {
      "cell_type": "markdown",
      "metadata": {
        "id": "lHMIRzaTTS8W",
        "colab_type": "text"
      },
      "source": [
        "CNN Model1-b rlr val_loss = 0.04020 \n",
        "\n",
        "CNN Model2-b cyclic lr val_loss = 0.00045"
      ]
    },
    {
      "cell_type": "code",
      "metadata": {
        "id": "Dyi2kmjAUHXF",
        "colab_type": "code",
        "colab": {}
      },
      "source": [
        "# model1_cp = tf.keras.models.load_model(MODEL_PATH+'CNN_model_2b.h5')"
      ],
      "execution_count": null,
      "outputs": []
    },
    {
      "cell_type": "markdown",
      "metadata": {
        "id": "GEBHOFU6VBRp",
        "colab_type": "text"
      },
      "source": [
        "### Model #3: Train for V "
      ]
    },
    {
      "cell_type": "code",
      "metadata": {
        "id": "BZ2gOs4PXnz6",
        "colab_type": "code",
        "colab": {}
      },
      "source": [
        "train_target = 2\n",
        "\n",
        "# compile model\n",
        "# BATCH_SIZE = 256\n",
        "# EPOCHS = 200\n",
        "# LR = 0.001\n",
        "\n",
        "model2 = build_cnn_model()\n",
        "\n",
        "optimizer = tf.keras.optimizers.Adam()\n",
        "optimizer = tfa.optimizers.SWA(optimizer)\n",
        "\n",
        "# global weight2\n",
        "if train_target == 1: \n",
        "    # only for M\n",
        "    weight2 = np.array([0,0,1,0])\n",
        "else: \n",
        "    # only for V\n",
        "    weight2 = np.array([0,0,0,1])\n",
        "    \n",
        "\n",
        "model2.compile(loss=my_loss_E2, optimizer=optimizer, )   # metrics=[r2_keras]\n",
        "\n",
        "\n",
        "# callbacks\n",
        "MODEL_PATH = '/content/drive/My Drive/ML Projects/DACON/Colision/'\n",
        "MODEL_NAME = 'CNN_model_3c.h5'      # _epoch{epoch:02d}_loss{val_loss:.2f}\n",
        "\n",
        "es = tf.keras.callbacks.EarlyStopping(monitor='val_loss', mode='min', verbose=1, patience=25)\n",
        "mc = tf.keras.callbacks.ModelCheckpoint(MODEL_PATH+MODEL_NAME, monitor='val_loss', save_best_only=True, save_weights_only=False, verbose=1)\n",
        "\n",
        "# select LR schedule Callback\n",
        "# rlr = tf.keras.callbacks.ReduceLROnPlateau(monitor='val_loss', patience=10, verbose=1, factor=0.7)\n",
        "# lr_schedule = step_decay_schedule(initial_lr=1e-2, decay_factor=0.5, step_size=5)\n",
        "lr_cyclic = CyclicLR(base_lr=0.001, max_lr=0.006, step_size=25., mode='exp_range', gamma=0.99994)\n",
        "# lr_cos = WarmUpCosineDecayScheduler()\n",
        "\n",
        "callbacks=[es, mc, lr_cyclic]             \n",
        "# ,rlr , lr_cos, lr_cyclic"
      ],
      "execution_count": 104,
      "outputs": []
    },
    {
      "cell_type": "code",
      "metadata": {
        "id": "ZlB9oJXIXn5d",
        "colab_type": "code",
        "colab": {
          "base_uri": "https://localhost:8080/",
          "height": 1000
        },
        "outputId": "8f18abe3-1d29-40c8-e339-a7978f45ea8f"
      },
      "source": [
        "hist2 = model2.fit(X, y,               \n",
        "                 validation_split=0.2,     \n",
        "                 batch_size=BATCH_SIZE,\n",
        "                 epochs=EPOCHS,\n",
        "                 verbose=1,\n",
        "                 shuffle=True,\n",
        "                 callbacks=callbacks)"
      ],
      "execution_count": 105,
      "outputs": [
        {
          "output_type": "stream",
          "text": [
            "Epoch 1/200\n",
            "9/9 [==============================] - ETA: 0s - loss: 0.0871\n",
            "Epoch 00001: val_loss improved from inf to 3.46859, saving model to /content/drive/My Drive/ML Projects/DACON/Colision/CNN_model_3c.h5\n",
            "9/9 [==============================] - 1s 154ms/step - loss: 0.0871 - val_loss: 3.4686\n",
            "Epoch 2/200\n",
            "9/9 [==============================] - ETA: 0s - loss: 0.0187\n",
            "Epoch 00002: val_loss improved from 3.46859 to 0.97438, saving model to /content/drive/My Drive/ML Projects/DACON/Colision/CNN_model_3c.h5\n",
            "9/9 [==============================] - 1s 127ms/step - loss: 0.0187 - val_loss: 0.9744\n",
            "Epoch 3/200\n",
            "9/9 [==============================] - ETA: 0s - loss: 0.0099\n",
            "Epoch 00003: val_loss did not improve from 0.97438\n",
            "9/9 [==============================] - 1s 97ms/step - loss: 0.0099 - val_loss: 4.2096\n",
            "Epoch 4/200\n",
            "9/9 [==============================] - ETA: 0s - loss: 0.0075\n",
            "Epoch 00004: val_loss did not improve from 0.97438\n",
            "9/9 [==============================] - 1s 97ms/step - loss: 0.0075 - val_loss: 5.6002\n",
            "Epoch 5/200\n",
            "9/9 [==============================] - ETA: 0s - loss: 0.0060\n",
            "Epoch 00005: val_loss did not improve from 0.97438\n",
            "9/9 [==============================] - 1s 98ms/step - loss: 0.0060 - val_loss: 1.9877\n",
            "Epoch 6/200\n",
            "9/9 [==============================] - ETA: 0s - loss: 0.0059\n",
            "Epoch 00006: val_loss improved from 0.97438 to 0.96264, saving model to /content/drive/My Drive/ML Projects/DACON/Colision/CNN_model_3c.h5\n",
            "9/9 [==============================] - 1s 128ms/step - loss: 0.0059 - val_loss: 0.9626\n",
            "Epoch 7/200\n",
            "9/9 [==============================] - ETA: 0s - loss: 0.0062\n",
            "Epoch 00007: val_loss improved from 0.96264 to 0.56249, saving model to /content/drive/My Drive/ML Projects/DACON/Colision/CNN_model_3c.h5\n",
            "9/9 [==============================] - 1s 125ms/step - loss: 0.0062 - val_loss: 0.5625\n",
            "Epoch 8/200\n",
            "9/9 [==============================] - ETA: 0s - loss: 0.0071\n",
            "Epoch 00008: val_loss improved from 0.56249 to 0.24590, saving model to /content/drive/My Drive/ML Projects/DACON/Colision/CNN_model_3c.h5\n",
            "9/9 [==============================] - 1s 124ms/step - loss: 0.0071 - val_loss: 0.2459\n",
            "Epoch 9/200\n",
            "9/9 [==============================] - ETA: 0s - loss: 0.0068\n",
            "Epoch 00009: val_loss did not improve from 0.24590\n",
            "9/9 [==============================] - 1s 96ms/step - loss: 0.0068 - val_loss: 0.2954\n",
            "Epoch 10/200\n",
            "9/9 [==============================] - ETA: 0s - loss: 0.0051\n",
            "Epoch 00010: val_loss improved from 0.24590 to 0.13505, saving model to /content/drive/My Drive/ML Projects/DACON/Colision/CNN_model_3c.h5\n",
            "9/9 [==============================] - 1s 126ms/step - loss: 0.0051 - val_loss: 0.1351\n",
            "Epoch 11/200\n",
            "9/9 [==============================] - ETA: 0s - loss: 0.0048\n",
            "Epoch 00011: val_loss improved from 0.13505 to 0.09280, saving model to /content/drive/My Drive/ML Projects/DACON/Colision/CNN_model_3c.h5\n",
            "9/9 [==============================] - 1s 127ms/step - loss: 0.0048 - val_loss: 0.0928\n",
            "Epoch 12/200\n",
            "9/9 [==============================] - ETA: 0s - loss: 0.0051\n",
            "Epoch 00012: val_loss improved from 0.09280 to 0.06391, saving model to /content/drive/My Drive/ML Projects/DACON/Colision/CNN_model_3c.h5\n",
            "9/9 [==============================] - 1s 126ms/step - loss: 0.0051 - val_loss: 0.0639\n",
            "Epoch 13/200\n",
            "9/9 [==============================] - ETA: 0s - loss: 0.0047\n",
            "Epoch 00013: val_loss improved from 0.06391 to 0.05686, saving model to /content/drive/My Drive/ML Projects/DACON/Colision/CNN_model_3c.h5\n",
            "9/9 [==============================] - 1s 123ms/step - loss: 0.0047 - val_loss: 0.0569\n",
            "Epoch 14/200\n",
            "9/9 [==============================] - ETA: 0s - loss: 0.0050\n",
            "Epoch 00014: val_loss improved from 0.05686 to 0.03770, saving model to /content/drive/My Drive/ML Projects/DACON/Colision/CNN_model_3c.h5\n",
            "9/9 [==============================] - 1s 128ms/step - loss: 0.0050 - val_loss: 0.0377\n",
            "Epoch 15/200\n",
            "9/9 [==============================] - ETA: 0s - loss: 0.0053\n",
            "Epoch 00015: val_loss improved from 0.03770 to 0.00994, saving model to /content/drive/My Drive/ML Projects/DACON/Colision/CNN_model_3c.h5\n",
            "9/9 [==============================] - 1s 127ms/step - loss: 0.0053 - val_loss: 0.0099\n",
            "Epoch 16/200\n",
            "9/9 [==============================] - ETA: 0s - loss: 0.0048\n",
            "Epoch 00016: val_loss did not improve from 0.00994\n",
            "9/9 [==============================] - 1s 97ms/step - loss: 0.0048 - val_loss: 0.0182\n",
            "Epoch 17/200\n",
            "9/9 [==============================] - ETA: 0s - loss: 0.0043\n",
            "Epoch 00017: val_loss did not improve from 0.00994\n",
            "9/9 [==============================] - 1s 96ms/step - loss: 0.0043 - val_loss: 0.0158\n",
            "Epoch 18/200\n",
            "9/9 [==============================] - ETA: 0s - loss: 0.0041\n",
            "Epoch 00018: val_loss improved from 0.00994 to 0.00905, saving model to /content/drive/My Drive/ML Projects/DACON/Colision/CNN_model_3c.h5\n",
            "9/9 [==============================] - 1s 127ms/step - loss: 0.0041 - val_loss: 0.0090\n",
            "Epoch 19/200\n",
            "9/9 [==============================] - ETA: 0s - loss: 0.0042\n",
            "Epoch 00019: val_loss improved from 0.00905 to 0.00793, saving model to /content/drive/My Drive/ML Projects/DACON/Colision/CNN_model_3c.h5\n",
            "9/9 [==============================] - 1s 127ms/step - loss: 0.0042 - val_loss: 0.0079\n",
            "Epoch 20/200\n",
            "9/9 [==============================] - ETA: 0s - loss: 0.0046\n",
            "Epoch 00020: val_loss improved from 0.00793 to 0.00472, saving model to /content/drive/My Drive/ML Projects/DACON/Colision/CNN_model_3c.h5\n",
            "9/9 [==============================] - 1s 124ms/step - loss: 0.0046 - val_loss: 0.0047\n",
            "Epoch 21/200\n",
            "9/9 [==============================] - ETA: 0s - loss: 0.0046\n",
            "Epoch 00021: val_loss improved from 0.00472 to 0.00181, saving model to /content/drive/My Drive/ML Projects/DACON/Colision/CNN_model_3c.h5\n",
            "9/9 [==============================] - 1s 124ms/step - loss: 0.0046 - val_loss: 0.0018\n",
            "Epoch 22/200\n",
            "9/9 [==============================] - ETA: 0s - loss: 0.0039\n",
            "Epoch 00022: val_loss did not improve from 0.00181\n",
            "9/9 [==============================] - 1s 95ms/step - loss: 0.0039 - val_loss: 0.0033\n",
            "Epoch 23/200\n",
            "9/9 [==============================] - ETA: 0s - loss: 0.0037\n",
            "Epoch 00023: val_loss did not improve from 0.00181\n",
            "9/9 [==============================] - 1s 98ms/step - loss: 0.0037 - val_loss: 0.0024\n",
            "Epoch 24/200\n",
            "9/9 [==============================] - ETA: 0s - loss: 0.0039\n",
            "Epoch 00024: val_loss improved from 0.00181 to 0.00057, saving model to /content/drive/My Drive/ML Projects/DACON/Colision/CNN_model_3c.h5\n",
            "9/9 [==============================] - 1s 126ms/step - loss: 0.0039 - val_loss: 5.6524e-04\n",
            "Epoch 25/200\n",
            "9/9 [==============================] - ETA: 0s - loss: 0.0040\n",
            "Epoch 00025: val_loss did not improve from 0.00057\n",
            "9/9 [==============================] - 1s 96ms/step - loss: 0.0040 - val_loss: 8.8938e-04\n",
            "Epoch 26/200\n",
            "9/9 [==============================] - ETA: 0s - loss: 0.0042\n",
            "Epoch 00026: val_loss did not improve from 0.00057\n",
            "9/9 [==============================] - 1s 97ms/step - loss: 0.0042 - val_loss: 0.0019\n",
            "Epoch 27/200\n",
            "9/9 [==============================] - ETA: 0s - loss: 0.0036\n",
            "Epoch 00027: val_loss did not improve from 0.00057\n",
            "9/9 [==============================] - 1s 96ms/step - loss: 0.0036 - val_loss: 0.0041\n",
            "Epoch 28/200\n",
            "9/9 [==============================] - ETA: 0s - loss: 0.0034\n",
            "Epoch 00028: val_loss did not improve from 0.00057\n",
            "9/9 [==============================] - 1s 97ms/step - loss: 0.0034 - val_loss: 0.0015\n",
            "Epoch 29/200\n",
            "9/9 [==============================] - ETA: 0s - loss: 0.0033\n",
            "Epoch 00029: val_loss improved from 0.00057 to 0.00034, saving model to /content/drive/My Drive/ML Projects/DACON/Colision/CNN_model_3c.h5\n",
            "9/9 [==============================] - 1s 127ms/step - loss: 0.0033 - val_loss: 3.3894e-04\n",
            "Epoch 30/200\n",
            "9/9 [==============================] - ETA: 0s - loss: 0.0030\n",
            "Epoch 00030: val_loss did not improve from 0.00034\n",
            "9/9 [==============================] - 1s 96ms/step - loss: 0.0030 - val_loss: 0.0016\n",
            "Epoch 31/200\n",
            "9/9 [==============================] - ETA: 0s - loss: 0.0035\n",
            "Epoch 00031: val_loss did not improve from 0.00034\n",
            "9/9 [==============================] - 1s 95ms/step - loss: 0.0035 - val_loss: 7.8633e-04\n",
            "Epoch 32/200\n",
            "9/9 [==============================] - ETA: 0s - loss: 0.0032\n",
            "Epoch 00032: val_loss did not improve from 0.00034\n",
            "9/9 [==============================] - 1s 96ms/step - loss: 0.0032 - val_loss: 0.0014\n",
            "Epoch 33/200\n",
            "9/9 [==============================] - ETA: 0s - loss: 0.0029\n",
            "Epoch 00033: val_loss did not improve from 0.00034\n",
            "9/9 [==============================] - 1s 95ms/step - loss: 0.0029 - val_loss: 0.0016\n",
            "Epoch 34/200\n",
            "9/9 [==============================] - ETA: 0s - loss: 0.0031\n",
            "Epoch 00034: val_loss did not improve from 0.00034\n",
            "9/9 [==============================] - 1s 97ms/step - loss: 0.0031 - val_loss: 3.6094e-04\n",
            "Epoch 35/200\n",
            "9/9 [==============================] - ETA: 0s - loss: 0.0031\n",
            "Epoch 00035: val_loss did not improve from 0.00034\n",
            "9/9 [==============================] - 1s 96ms/step - loss: 0.0031 - val_loss: 0.0013\n",
            "Epoch 36/200\n",
            "9/9 [==============================] - ETA: 0s - loss: 0.0034\n",
            "Epoch 00036: val_loss did not improve from 0.00034\n",
            "9/9 [==============================] - 1s 97ms/step - loss: 0.0034 - val_loss: 5.6395e-04\n",
            "Epoch 37/200\n",
            "9/9 [==============================] - ETA: 0s - loss: 0.0034\n",
            "Epoch 00037: val_loss improved from 0.00034 to 0.00029, saving model to /content/drive/My Drive/ML Projects/DACON/Colision/CNN_model_3c.h5\n",
            "9/9 [==============================] - 1s 126ms/step - loss: 0.0034 - val_loss: 2.9415e-04\n",
            "Epoch 38/200\n",
            "9/9 [==============================] - ETA: 0s - loss: 0.0032\n",
            "Epoch 00038: val_loss did not improve from 0.00029\n",
            "9/9 [==============================] - 1s 97ms/step - loss: 0.0032 - val_loss: 4.2179e-04\n",
            "Epoch 39/200\n",
            "9/9 [==============================] - ETA: 0s - loss: 0.0028\n",
            "Epoch 00039: val_loss improved from 0.00029 to 0.00028, saving model to /content/drive/My Drive/ML Projects/DACON/Colision/CNN_model_3c.h5\n",
            "9/9 [==============================] - 1s 129ms/step - loss: 0.0028 - val_loss: 2.7842e-04\n",
            "Epoch 40/200\n",
            "9/9 [==============================] - ETA: 0s - loss: 0.0028\n",
            "Epoch 00040: val_loss did not improve from 0.00028\n",
            "9/9 [==============================] - 1s 96ms/step - loss: 0.0028 - val_loss: 7.4145e-04\n",
            "Epoch 41/200\n",
            "9/9 [==============================] - ETA: 0s - loss: 0.0029\n",
            "Epoch 00041: val_loss did not improve from 0.00028\n",
            "9/9 [==============================] - 1s 97ms/step - loss: 0.0029 - val_loss: 9.9664e-04\n",
            "Epoch 42/200\n",
            "9/9 [==============================] - ETA: 0s - loss: 0.0031\n",
            "Epoch 00042: val_loss did not improve from 0.00028\n",
            "9/9 [==============================] - 1s 96ms/step - loss: 0.0031 - val_loss: 3.3143e-04\n",
            "Epoch 43/200\n",
            "9/9 [==============================] - ETA: 0s - loss: 0.0032\n",
            "Epoch 00043: val_loss did not improve from 0.00028\n",
            "9/9 [==============================] - 1s 96ms/step - loss: 0.0032 - val_loss: 0.0021\n",
            "Epoch 44/200\n",
            "9/9 [==============================] - ETA: 0s - loss: 0.0029\n",
            "Epoch 00044: val_loss did not improve from 0.00028\n",
            "9/9 [==============================] - 1s 97ms/step - loss: 0.0029 - val_loss: 0.0025\n",
            "Epoch 45/200\n",
            "9/9 [==============================] - ETA: 0s - loss: 0.0027\n",
            "Epoch 00045: val_loss did not improve from 0.00028\n",
            "9/9 [==============================] - 1s 96ms/step - loss: 0.0027 - val_loss: 0.0010\n",
            "Epoch 46/200\n",
            "9/9 [==============================] - ETA: 0s - loss: 0.0027\n",
            "Epoch 00046: val_loss did not improve from 0.00028\n",
            "9/9 [==============================] - 1s 98ms/step - loss: 0.0027 - val_loss: 0.0011\n",
            "Epoch 47/200\n",
            "9/9 [==============================] - ETA: 0s - loss: 0.0029\n",
            "Epoch 00047: val_loss did not improve from 0.00028\n",
            "9/9 [==============================] - 1s 98ms/step - loss: 0.0029 - val_loss: 3.7903e-04\n",
            "Epoch 48/200\n",
            "9/9 [==============================] - ETA: 0s - loss: 0.0030\n",
            "Epoch 00048: val_loss did not improve from 0.00028\n",
            "9/9 [==============================] - 1s 97ms/step - loss: 0.0030 - val_loss: 0.0018\n",
            "Epoch 49/200\n",
            "9/9 [==============================] - ETA: 0s - loss: 0.0025\n",
            "Epoch 00049: val_loss did not improve from 0.00028\n",
            "9/9 [==============================] - 1s 95ms/step - loss: 0.0025 - val_loss: 0.0011\n",
            "Epoch 50/200\n",
            "9/9 [==============================] - ETA: 0s - loss: 0.0025\n",
            "Epoch 00050: val_loss improved from 0.00028 to 0.00026, saving model to /content/drive/My Drive/ML Projects/DACON/Colision/CNN_model_3c.h5\n",
            "9/9 [==============================] - 2s 263ms/step - loss: 0.0025 - val_loss: 2.6267e-04\n",
            "Epoch 51/200\n",
            "9/9 [==============================] - ETA: 0s - loss: 0.0021\n",
            "Epoch 00051: val_loss improved from 0.00026 to 0.00010, saving model to /content/drive/My Drive/ML Projects/DACON/Colision/CNN_model_3c.h5\n",
            "9/9 [==============================] - 1s 123ms/step - loss: 0.0021 - val_loss: 9.6081e-05\n",
            "Epoch 52/200\n",
            "9/9 [==============================] - ETA: 0s - loss: 0.0025\n",
            "Epoch 00052: val_loss did not improve from 0.00010\n",
            "9/9 [==============================] - 1s 94ms/step - loss: 0.0025 - val_loss: 4.0457e-04\n",
            "Epoch 53/200\n",
            "9/9 [==============================] - ETA: 0s - loss: 0.0022\n",
            "Epoch 00053: val_loss did not improve from 0.00010\n",
            "9/9 [==============================] - 1s 96ms/step - loss: 0.0022 - val_loss: 2.6331e-04\n",
            "Epoch 54/200\n",
            "9/9 [==============================] - ETA: 0s - loss: 0.0025\n",
            "Epoch 00054: val_loss did not improve from 0.00010\n",
            "9/9 [==============================] - 1s 96ms/step - loss: 0.0025 - val_loss: 3.6104e-04\n",
            "Epoch 55/200\n",
            "9/9 [==============================] - ETA: 0s - loss: 0.0026\n",
            "Epoch 00055: val_loss did not improve from 0.00010\n",
            "9/9 [==============================] - 1s 97ms/step - loss: 0.0026 - val_loss: 0.0013\n",
            "Epoch 56/200\n",
            "9/9 [==============================] - ETA: 0s - loss: 0.0024\n",
            "Epoch 00056: val_loss did not improve from 0.00010\n",
            "9/9 [==============================] - 1s 96ms/step - loss: 0.0024 - val_loss: 1.1702e-04\n",
            "Epoch 57/200\n",
            "9/9 [==============================] - ETA: 0s - loss: 0.0021\n",
            "Epoch 00057: val_loss did not improve from 0.00010\n",
            "9/9 [==============================] - 1s 96ms/step - loss: 0.0021 - val_loss: 3.7418e-04\n",
            "Epoch 58/200\n",
            "9/9 [==============================] - ETA: 0s - loss: 0.0021\n",
            "Epoch 00058: val_loss did not improve from 0.00010\n",
            "9/9 [==============================] - 1s 97ms/step - loss: 0.0021 - val_loss: 7.2435e-04\n",
            "Epoch 59/200\n",
            "9/9 [==============================] - ETA: 0s - loss: 0.0025\n",
            "Epoch 00059: val_loss did not improve from 0.00010\n",
            "9/9 [==============================] - 1s 95ms/step - loss: 0.0025 - val_loss: 0.0023\n",
            "Epoch 60/200\n",
            "9/9 [==============================] - ETA: 0s - loss: 0.0028\n",
            "Epoch 00060: val_loss did not improve from 0.00010\n",
            "9/9 [==============================] - 1s 101ms/step - loss: 0.0028 - val_loss: 1.8343e-04\n",
            "Epoch 61/200\n",
            "9/9 [==============================] - ETA: 0s - loss: 0.0025\n",
            "Epoch 00061: val_loss did not improve from 0.00010\n",
            "9/9 [==============================] - 1s 96ms/step - loss: 0.0025 - val_loss: 1.8223e-04\n",
            "Epoch 62/200\n",
            "9/9 [==============================] - ETA: 0s - loss: 0.0021\n",
            "Epoch 00062: val_loss did not improve from 0.00010\n",
            "9/9 [==============================] - 1s 97ms/step - loss: 0.0021 - val_loss: 1.6884e-04\n",
            "Epoch 63/200\n",
            "9/9 [==============================] - ETA: 0s - loss: 0.0021\n",
            "Epoch 00063: val_loss did not improve from 0.00010\n",
            "9/9 [==============================] - 1s 96ms/step - loss: 0.0021 - val_loss: 2.0246e-04\n",
            "Epoch 64/200\n",
            "9/9 [==============================] - ETA: 0s - loss: 0.0022\n",
            "Epoch 00064: val_loss did not improve from 0.00010\n",
            "9/9 [==============================] - 1s 98ms/step - loss: 0.0022 - val_loss: 0.0023\n",
            "Epoch 65/200\n",
            "9/9 [==============================] - ETA: 0s - loss: 0.0021\n",
            "Epoch 00065: val_loss did not improve from 0.00010\n",
            "9/9 [==============================] - 1s 95ms/step - loss: 0.0021 - val_loss: 1.4645e-04\n",
            "Epoch 66/200\n",
            "9/9 [==============================] - ETA: 0s - loss: 0.0020\n",
            "Epoch 00066: val_loss did not improve from 0.00010\n",
            "9/9 [==============================] - 1s 96ms/step - loss: 0.0020 - val_loss: 2.0786e-04\n",
            "Epoch 67/200\n",
            "9/9 [==============================] - ETA: 0s - loss: 0.0018\n",
            "Epoch 00067: val_loss did not improve from 0.00010\n",
            "9/9 [==============================] - 1s 95ms/step - loss: 0.0018 - val_loss: 4.4842e-04\n",
            "Epoch 68/200\n",
            "9/9 [==============================] - ETA: 0s - loss: 0.0019\n",
            "Epoch 00068: val_loss did not improve from 0.00010\n",
            "9/9 [==============================] - 1s 95ms/step - loss: 0.0019 - val_loss: 1.8801e-04\n",
            "Epoch 69/200\n",
            "9/9 [==============================] - ETA: 0s - loss: 0.0020\n",
            "Epoch 00069: val_loss did not improve from 0.00010\n",
            "9/9 [==============================] - 1s 95ms/step - loss: 0.0020 - val_loss: 3.0014e-04\n",
            "Epoch 70/200\n",
            "9/9 [==============================] - ETA: 0s - loss: 0.0019\n",
            "Epoch 00070: val_loss did not improve from 0.00010\n",
            "9/9 [==============================] - 1s 97ms/step - loss: 0.0019 - val_loss: 1.6696e-04\n",
            "Epoch 71/200\n",
            "9/9 [==============================] - ETA: 0s - loss: 0.0021\n",
            "Epoch 00071: val_loss did not improve from 0.00010\n",
            "9/9 [==============================] - 1s 96ms/step - loss: 0.0021 - val_loss: 0.0021\n",
            "Epoch 72/200\n",
            "9/9 [==============================] - ETA: 0s - loss: 0.0025\n",
            "Epoch 00072: val_loss did not improve from 0.00010\n",
            "9/9 [==============================] - 1s 96ms/step - loss: 0.0025 - val_loss: 0.0016\n",
            "Epoch 73/200\n",
            "9/9 [==============================] - ETA: 0s - loss: 0.0021\n",
            "Epoch 00073: val_loss improved from 0.00010 to 0.00006, saving model to /content/drive/My Drive/ML Projects/DACON/Colision/CNN_model_3c.h5\n",
            "9/9 [==============================] - 2s 264ms/step - loss: 0.0021 - val_loss: 6.4161e-05\n",
            "Epoch 74/200\n",
            "9/9 [==============================] - ETA: 0s - loss: 0.0019\n",
            "Epoch 00074: val_loss did not improve from 0.00006\n",
            "9/9 [==============================] - 1s 94ms/step - loss: 0.0019 - val_loss: 1.9836e-04\n",
            "Epoch 75/200\n",
            "9/9 [==============================] - ETA: 0s - loss: 0.0021\n",
            "Epoch 00075: val_loss did not improve from 0.00006\n",
            "9/9 [==============================] - 1s 96ms/step - loss: 0.0021 - val_loss: 2.9642e-04\n",
            "Epoch 76/200\n",
            "9/9 [==============================] - ETA: 0s - loss: 0.0025\n",
            "Epoch 00076: val_loss did not improve from 0.00006\n",
            "9/9 [==============================] - 1s 95ms/step - loss: 0.0025 - val_loss: 4.4424e-04\n",
            "Epoch 77/200\n",
            "9/9 [==============================] - ETA: 0s - loss: 0.0020\n",
            "Epoch 00077: val_loss did not improve from 0.00006\n",
            "9/9 [==============================] - 1s 96ms/step - loss: 0.0020 - val_loss: 1.6074e-04\n",
            "Epoch 78/200\n",
            "9/9 [==============================] - ETA: 0s - loss: 0.0019\n",
            "Epoch 00078: val_loss improved from 0.00006 to 0.00005, saving model to /content/drive/My Drive/ML Projects/DACON/Colision/CNN_model_3c.h5\n",
            "9/9 [==============================] - 1s 125ms/step - loss: 0.0019 - val_loss: 4.8348e-05\n",
            "Epoch 79/200\n",
            "9/9 [==============================] - ETA: 0s - loss: 0.0018\n",
            "Epoch 00079: val_loss did not improve from 0.00005\n",
            "9/9 [==============================] - 1s 96ms/step - loss: 0.0018 - val_loss: 6.3505e-04\n",
            "Epoch 80/200\n",
            "9/9 [==============================] - ETA: 0s - loss: 0.0017\n",
            "Epoch 00080: val_loss did not improve from 0.00005\n",
            "9/9 [==============================] - 1s 95ms/step - loss: 0.0017 - val_loss: 1.3706e-04\n",
            "Epoch 81/200\n",
            "9/9 [==============================] - ETA: 0s - loss: 0.0018\n",
            "Epoch 00081: val_loss did not improve from 0.00005\n",
            "9/9 [==============================] - 1s 95ms/step - loss: 0.0018 - val_loss: 8.5688e-05\n",
            "Epoch 82/200\n",
            "9/9 [==============================] - ETA: 0s - loss: 0.0018\n",
            "Epoch 00082: val_loss did not improve from 0.00005\n",
            "9/9 [==============================] - 1s 97ms/step - loss: 0.0018 - val_loss: 2.3681e-04\n",
            "Epoch 83/200\n",
            "9/9 [==============================] - ETA: 0s - loss: 0.0018\n",
            "Epoch 00083: val_loss did not improve from 0.00005\n",
            "9/9 [==============================] - 1s 97ms/step - loss: 0.0018 - val_loss: 1.1907e-04\n",
            "Epoch 84/200\n",
            "9/9 [==============================] - ETA: 0s - loss: 0.0017\n",
            "Epoch 00084: val_loss did not improve from 0.00005\n",
            "9/9 [==============================] - 1s 97ms/step - loss: 0.0017 - val_loss: 9.0928e-05\n",
            "Epoch 85/200\n",
            "9/9 [==============================] - ETA: 0s - loss: 0.0018\n",
            "Epoch 00085: val_loss did not improve from 0.00005\n",
            "9/9 [==============================] - 1s 96ms/step - loss: 0.0018 - val_loss: 7.3646e-05\n",
            "Epoch 86/200\n",
            "9/9 [==============================] - ETA: 0s - loss: 0.0017\n",
            "Epoch 00086: val_loss did not improve from 0.00005\n",
            "9/9 [==============================] - 1s 97ms/step - loss: 0.0017 - val_loss: 1.2202e-04\n",
            "Epoch 87/200\n",
            "9/9 [==============================] - ETA: 0s - loss: 0.0018\n",
            "Epoch 00087: val_loss did not improve from 0.00005\n",
            "9/9 [==============================] - 1s 95ms/step - loss: 0.0018 - val_loss: 3.2718e-04\n",
            "Epoch 88/200\n",
            "9/9 [==============================] - ETA: 0s - loss: 0.0020\n",
            "Epoch 00088: val_loss did not improve from 0.00005\n",
            "9/9 [==============================] - 1s 96ms/step - loss: 0.0020 - val_loss: 3.2838e-04\n",
            "Epoch 89/200\n",
            "9/9 [==============================] - ETA: 0s - loss: 0.0017\n",
            "Epoch 00089: val_loss improved from 0.00005 to 0.00003, saving model to /content/drive/My Drive/ML Projects/DACON/Colision/CNN_model_3c.h5\n",
            "9/9 [==============================] - 1s 127ms/step - loss: 0.0017 - val_loss: 3.2878e-05\n",
            "Epoch 90/200\n",
            "9/9 [==============================] - ETA: 0s - loss: 0.0017\n",
            "Epoch 00090: val_loss did not improve from 0.00003\n",
            "9/9 [==============================] - 1s 96ms/step - loss: 0.0017 - val_loss: 5.0270e-05\n",
            "Epoch 91/200\n",
            "9/9 [==============================] - ETA: 0s - loss: 0.0018\n",
            "Epoch 00091: val_loss did not improve from 0.00003\n",
            "9/9 [==============================] - 1s 96ms/step - loss: 0.0018 - val_loss: 1.0408e-04\n",
            "Epoch 92/200\n",
            "9/9 [==============================] - ETA: 0s - loss: 0.0019\n",
            "Epoch 00092: val_loss did not improve from 0.00003\n",
            "9/9 [==============================] - 1s 97ms/step - loss: 0.0019 - val_loss: 6.8265e-04\n",
            "Epoch 93/200\n",
            "9/9 [==============================] - ETA: 0s - loss: 0.0020\n",
            "Epoch 00093: val_loss did not improve from 0.00003\n",
            "9/9 [==============================] - 1s 97ms/step - loss: 0.0020 - val_loss: 2.3623e-04\n",
            "Epoch 94/200\n",
            "9/9 [==============================] - ETA: 0s - loss: 0.0019\n",
            "Epoch 00094: val_loss did not improve from 0.00003\n",
            "9/9 [==============================] - 1s 97ms/step - loss: 0.0019 - val_loss: 3.1925e-04\n",
            "Epoch 95/200\n",
            "9/9 [==============================] - ETA: 0s - loss: 0.0019\n",
            "Epoch 00095: val_loss did not improve from 0.00003\n",
            "9/9 [==============================] - 1s 95ms/step - loss: 0.0019 - val_loss: 1.7677e-04\n",
            "Epoch 96/200\n",
            "9/9 [==============================] - ETA: 0s - loss: 0.0018\n",
            "Epoch 00096: val_loss did not improve from 0.00003\n",
            "9/9 [==============================] - 1s 96ms/step - loss: 0.0018 - val_loss: 1.5754e-04\n",
            "Epoch 97/200\n",
            "9/9 [==============================] - ETA: 0s - loss: 0.0016\n",
            "Epoch 00097: val_loss did not improve from 0.00003\n",
            "9/9 [==============================] - 1s 96ms/step - loss: 0.0016 - val_loss: 1.3614e-04\n",
            "Epoch 98/200\n",
            "9/9 [==============================] - ETA: 0s - loss: 0.0022\n",
            "Epoch 00098: val_loss did not improve from 0.00003\n",
            "9/9 [==============================] - 1s 96ms/step - loss: 0.0022 - val_loss: 1.5055e-04\n",
            "Epoch 99/200\n",
            "9/9 [==============================] - ETA: 0s - loss: 0.0023\n",
            "Epoch 00099: val_loss did not improve from 0.00003\n",
            "9/9 [==============================] - 1s 96ms/step - loss: 0.0023 - val_loss: 7.8320e-05\n",
            "Epoch 100/200\n",
            "9/9 [==============================] - ETA: 0s - loss: 0.0018\n",
            "Epoch 00100: val_loss did not improve from 0.00003\n",
            "9/9 [==============================] - 1s 97ms/step - loss: 0.0018 - val_loss: 6.2444e-05\n",
            "Epoch 101/200\n",
            "9/9 [==============================] - ETA: 0s - loss: 0.0017\n",
            "Epoch 00101: val_loss did not improve from 0.00003\n",
            "9/9 [==============================] - 1s 96ms/step - loss: 0.0017 - val_loss: 2.3711e-04\n",
            "Epoch 102/200\n",
            "9/9 [==============================] - ETA: 0s - loss: 0.0017\n",
            "Epoch 00102: val_loss did not improve from 0.00003\n",
            "9/9 [==============================] - 1s 96ms/step - loss: 0.0017 - val_loss: 2.1954e-04\n",
            "Epoch 103/200\n",
            "9/9 [==============================] - ETA: 0s - loss: 0.0018\n",
            "Epoch 00103: val_loss did not improve from 0.00003\n",
            "9/9 [==============================] - 1s 97ms/step - loss: 0.0018 - val_loss: 2.4459e-04\n",
            "Epoch 104/200\n",
            "9/9 [==============================] - ETA: 0s - loss: 0.0023\n",
            "Epoch 00104: val_loss did not improve from 0.00003\n",
            "9/9 [==============================] - 1s 95ms/step - loss: 0.0023 - val_loss: 1.4342e-04\n",
            "Epoch 105/200\n",
            "9/9 [==============================] - ETA: 0s - loss: 0.0019\n",
            "Epoch 00105: val_loss did not improve from 0.00003\n",
            "9/9 [==============================] - 1s 96ms/step - loss: 0.0019 - val_loss: 2.2038e-04\n",
            "Epoch 106/200\n",
            "9/9 [==============================] - ETA: 0s - loss: 0.0016\n",
            "Epoch 00106: val_loss did not improve from 0.00003\n",
            "9/9 [==============================] - 1s 96ms/step - loss: 0.0016 - val_loss: 1.0985e-04\n",
            "Epoch 107/200\n",
            "9/9 [==============================] - ETA: 0s - loss: 0.0016\n",
            "Epoch 00107: val_loss did not improve from 0.00003\n",
            "9/9 [==============================] - 1s 97ms/step - loss: 0.0016 - val_loss: 8.7238e-05\n",
            "Epoch 108/200\n",
            "9/9 [==============================] - ETA: 0s - loss: 0.0016\n",
            "Epoch 00108: val_loss did not improve from 0.00003\n",
            "9/9 [==============================] - 1s 97ms/step - loss: 0.0016 - val_loss: 1.5564e-04\n",
            "Epoch 109/200\n",
            "9/9 [==============================] - ETA: 0s - loss: 0.0020\n",
            "Epoch 00109: val_loss did not improve from 0.00003\n",
            "9/9 [==============================] - 1s 96ms/step - loss: 0.0020 - val_loss: 3.1088e-04\n",
            "Epoch 110/200\n",
            "9/9 [==============================] - ETA: 0s - loss: 0.0019\n",
            "Epoch 00110: val_loss did not improve from 0.00003\n",
            "9/9 [==============================] - 1s 98ms/step - loss: 0.0019 - val_loss: 4.4180e-04\n",
            "Epoch 111/200\n",
            "9/9 [==============================] - ETA: 0s - loss: 0.0020\n",
            "Epoch 00111: val_loss did not improve from 0.00003\n",
            "9/9 [==============================] - 1s 99ms/step - loss: 0.0020 - val_loss: 2.2765e-04\n",
            "Epoch 112/200\n",
            "9/9 [==============================] - ETA: 0s - loss: 0.0018\n",
            "Epoch 00112: val_loss did not improve from 0.00003\n",
            "9/9 [==============================] - 1s 95ms/step - loss: 0.0018 - val_loss: 3.0583e-04\n",
            "Epoch 113/200\n",
            "9/9 [==============================] - ETA: 0s - loss: 0.0018\n",
            "Epoch 00113: val_loss did not improve from 0.00003\n",
            "9/9 [==============================] - 1s 97ms/step - loss: 0.0018 - val_loss: 1.6106e-04\n",
            "Epoch 114/200\n",
            "9/9 [==============================] - ETA: 0s - loss: 0.0018\n",
            "Epoch 00114: val_loss did not improve from 0.00003\n",
            "9/9 [==============================] - 1s 96ms/step - loss: 0.0018 - val_loss: 5.5225e-04\n",
            "Epoch 00114: early stopping\n"
          ],
          "name": "stdout"
        }
      ]
    },
    {
      "cell_type": "code",
      "metadata": {
        "id": "u16Ga0xAXn3O",
        "colab_type": "code",
        "colab": {
          "base_uri": "https://localhost:8080/",
          "height": 282
        },
        "outputId": "b327aada-e9fd-4a62-a0a0-6cf1fa169cee"
      },
      "source": [
        "hist2_df =pd.DataFrame(hist2.history)\n",
        "hist2_df[['loss', 'val_loss']].plot()"
      ],
      "execution_count": 106,
      "outputs": [
        {
          "output_type": "execute_result",
          "data": {
            "text/plain": [
              "<matplotlib.axes._subplots.AxesSubplot at 0x7f27e55a2be0>"
            ]
          },
          "metadata": {
            "tags": []
          },
          "execution_count": 106
        },
        {
          "output_type": "display_data",
          "data": {
            "image/png": "[encoded data removed]",
            "text/plain": [
              "<Figure size 432x288 with 1 Axes>"
            ]
          },
          "metadata": {
            "tags": [],
            "needs_background": "light"
          }
        }
      ]
    },
    {
      "cell_type": "code",
      "metadata": {
        "id": "jWPcGAzmX8j4",
        "colab_type": "code",
        "colab": {
          "base_uri": "https://localhost:8080/",
          "height": 50
        },
        "outputId": "cb635bc7-b9ee-47f3-bce7-56d7d7c2e2ca"
      },
      "source": [
        "hist2_df[['val_loss']].min(), np.argmin(hist2_df[['val_loss']])"
      ],
      "execution_count": 107,
      "outputs": [
        {
          "output_type": "execute_result",
          "data": {
            "text/plain": [
              "(val_loss    0.000033\n",
              " dtype: float64, 88)"
            ]
          },
          "metadata": {
            "tags": []
          },
          "execution_count": 107
        }
      ]
    },
    {
      "cell_type": "markdown",
      "metadata": {
        "id": "tm_6VMKMYfEV",
        "colab_type": "text"
      },
      "source": [
        "# Predict Test set"
      ]
    },
    {
      "cell_type": "code",
      "metadata": {
        "id": "iXupoeGGXnx4",
        "colab_type": "code",
        "colab": {}
      },
      "source": [
        "model0_cp = tf.keras.models.load_model(MODEL_PATH+'CNN_model_3a.h5', custom_objects={'my_loss_E1': my_loss, 'r2_keras':r2_keras})\n",
        "model1_cp = tf.keras.models.load_model(MODEL_PATH+'CNN_model_3b.h5', custom_objects={'my_loss_E2': my_loss})\n",
        "model2_cp = tf.keras.models.load_model(MODEL_PATH+'CNN_model_3c.h5', custom_objects={'my_loss_E2': my_loss})"
      ],
      "execution_count": 108,
      "outputs": []
    },
    {
      "cell_type": "code",
      "metadata": {
        "id": "vF-XLP_-Zff7",
        "colab_type": "code",
        "colab": {
          "base_uri": "https://localhost:8080/",
          "height": 195
        },
        "outputId": "96680588-cf5e-4302-dbb2-6880dfc80dc9"
      },
      "source": [
        "subm.head()"
      ],
      "execution_count": 109,
      "outputs": [
        {
          "output_type": "execute_result",
          "data": {
            "text/html": [
              "<div>\n",
              "<style scoped>\n",
              "    .dataframe tbody tr th:only-of-type {\n",
              "        vertical-align: middle;\n",
              "    }\n",
              "\n",
              "    .dataframe tbody tr th {\n",
              "        vertical-align: top;\n",
              "    }\n",
              "\n",
              "    .dataframe thead th {\n",
              "        text-align: right;\n",
              "    }\n",
              "</style>\n",
              "<table border=\"1\" class=\"dataframe\">\n",
              "  <thead>\n",
              "    <tr style=\"text-align: right;\">\n",
              "      <th></th>\n",
              "      <th>id</th>\n",
              "      <th>X</th>\n",
              "      <th>Y</th>\n",
              "      <th>M</th>\n",
              "      <th>V</th>\n",
              "    </tr>\n",
              "  </thead>\n",
              "  <tbody>\n",
              "    <tr>\n",
              "      <th>0</th>\n",
              "      <td>2800</td>\n",
              "      <td>-251.151642</td>\n",
              "      <td>-33.210499</td>\n",
              "      <td>115.361504</td>\n",
              "      <td>0.415139</td>\n",
              "    </tr>\n",
              "    <tr>\n",
              "      <th>1</th>\n",
              "      <td>2801</td>\n",
              "      <td>306.643158</td>\n",
              "      <td>-297.179871</td>\n",
              "      <td>95.554611</td>\n",
              "      <td>0.416388</td>\n",
              "    </tr>\n",
              "    <tr>\n",
              "      <th>2</th>\n",
              "      <td>2802</td>\n",
              "      <td>-227.187210</td>\n",
              "      <td>130.209641</td>\n",
              "      <td>28.086653</td>\n",
              "      <td>0.354145</td>\n",
              "    </tr>\n",
              "    <tr>\n",
              "      <th>3</th>\n",
              "      <td>2803</td>\n",
              "      <td>155.305527</td>\n",
              "      <td>275.610199</td>\n",
              "      <td>26.912380</td>\n",
              "      <td>0.370306</td>\n",
              "    </tr>\n",
              "    <tr>\n",
              "      <th>4</th>\n",
              "      <td>2804</td>\n",
              "      <td>-155.184830</td>\n",
              "      <td>179.915222</td>\n",
              "      <td>135.617783</td>\n",
              "      <td>0.422606</td>\n",
              "    </tr>\n",
              "  </tbody>\n",
              "</table>\n",
              "</div>"
            ],
            "text/plain": [
              "     id           X           Y           M         V\n",
              "0  2800 -251.151642  -33.210499  115.361504  0.415139\n",
              "1  2801  306.643158 -297.179871   95.554611  0.416388\n",
              "2  2802 -227.187210  130.209641   28.086653  0.354145\n",
              "3  2803  155.305527  275.610199   26.912380  0.370306\n",
              "4  2804 -155.184830  179.915222  135.617783  0.422606"
            ]
          },
          "metadata": {
            "tags": []
          },
          "execution_count": 109
        }
      ]
    },
    {
      "cell_type": "code",
      "metadata": {
        "id": "IKnc70XwYiKQ",
        "colab_type": "code",
        "colab": {}
      },
      "source": [
        "# Target 0\n",
        "test_preds = model0_cp.predict(X_test)\n",
        "subm.iloc[:,1] = test_preds[:,0]\n",
        "subm.iloc[:,2] = test_preds[:,1]\n",
        "\n",
        "# Target 1\n",
        "test_preds = model1_cp.predict(X_test)\n",
        "subm.iloc[:,3] = test_preds[:,2]\n",
        "\n",
        "# Target 2\n",
        "test_preds = model2_cp.predict(X_test)\n",
        "subm.iloc[:,4] = test_preds[:,3]"
      ],
      "execution_count": 110,
      "outputs": []
    },
    {
      "cell_type": "code",
      "metadata": {
        "id": "ldaHGk2JYiFs",
        "colab_type": "code",
        "colab": {
          "base_uri": "https://localhost:8080/",
          "height": 281
        },
        "outputId": "e600f101-46ce-4a7b-c312-84ad6be2f755"
      },
      "source": [
        "subm.iloc[:, 1:].hist();"
      ],
      "execution_count": 111,
      "outputs": [
        {
          "output_type": "display_data",
          "data": {
            "image/png": "[encoded data removed]",
            "text/plain": [
              "<Figure size 432x288 with 4 Axes>"
            ]
          },
          "metadata": {
            "tags": [],
            "needs_background": "light"
          }
        }
      ]
    },
    {
      "cell_type": "markdown",
      "metadata": {
        "id": "Q8dXFHVjakBl",
        "colab_type": "text"
      },
      "source": [
        "# Submission"
      ]
    },
    {
      "cell_type": "code",
      "metadata": {
        "id": "SpN8XpUFX43f",
        "colab_type": "code",
        "colab": {}
      },
      "source": [
        "subm.to_csv('submission_cnn3.csv', index=False)"
      ],
      "execution_count": 113,
      "outputs": []
    },
    {
      "cell_type": "code",
      "metadata": {
        "id": "UQuQKyVKX458",
        "colab_type": "code",
        "colab": {
          "base_uri": "https://localhost:8080/",
          "height": 195
        },
        "outputId": "bd5aa966-0ecb-48bd-dc65-b61aa11db82d"
      },
      "source": [
        "subm.head()"
      ],
      "execution_count": 114,
      "outputs": [
        {
          "output_type": "execute_result",
          "data": {
            "text/html": [
              "<div>\n",
              "<style scoped>\n",
              "    .dataframe tbody tr th:only-of-type {\n",
              "        vertical-align: middle;\n",
              "    }\n",
              "\n",
              "    .dataframe tbody tr th {\n",
              "        vertical-align: top;\n",
              "    }\n",
              "\n",
              "    .dataframe thead th {\n",
              "        text-align: right;\n",
              "    }\n",
              "</style>\n",
              "<table border=\"1\" class=\"dataframe\">\n",
              "  <thead>\n",
              "    <tr style=\"text-align: right;\">\n",
              "      <th></th>\n",
              "      <th>id</th>\n",
              "      <th>X</th>\n",
              "      <th>Y</th>\n",
              "      <th>M</th>\n",
              "      <th>V</th>\n",
              "    </tr>\n",
              "  </thead>\n",
              "  <tbody>\n",
              "    <tr>\n",
              "      <th>0</th>\n",
              "      <td>2800</td>\n",
              "      <td>-250.971191</td>\n",
              "      <td>-29.678473</td>\n",
              "      <td>109.553986</td>\n",
              "      <td>0.409991</td>\n",
              "    </tr>\n",
              "    <tr>\n",
              "      <th>1</th>\n",
              "      <td>2801</td>\n",
              "      <td>304.797089</td>\n",
              "      <td>-280.788208</td>\n",
              "      <td>89.494713</td>\n",
              "      <td>0.405074</td>\n",
              "    </tr>\n",
              "    <tr>\n",
              "      <th>2</th>\n",
              "      <td>2802</td>\n",
              "      <td>-245.229309</td>\n",
              "      <td>132.538406</td>\n",
              "      <td>32.327354</td>\n",
              "      <td>0.377066</td>\n",
              "    </tr>\n",
              "    <tr>\n",
              "      <th>3</th>\n",
              "      <td>2803</td>\n",
              "      <td>153.611145</td>\n",
              "      <td>261.543152</td>\n",
              "      <td>28.577295</td>\n",
              "      <td>0.385241</td>\n",
              "    </tr>\n",
              "    <tr>\n",
              "      <th>4</th>\n",
              "      <td>2804</td>\n",
              "      <td>-141.282501</td>\n",
              "      <td>185.007446</td>\n",
              "      <td>132.431122</td>\n",
              "      <td>0.408162</td>\n",
              "    </tr>\n",
              "  </tbody>\n",
              "</table>\n",
              "</div>"
            ],
            "text/plain": [
              "     id           X           Y           M         V\n",
              "0  2800 -250.971191  -29.678473  109.553986  0.409991\n",
              "1  2801  304.797089 -280.788208   89.494713  0.405074\n",
              "2  2802 -245.229309  132.538406   32.327354  0.377066\n",
              "3  2803  153.611145  261.543152   28.577295  0.385241\n",
              "4  2804 -141.282501  185.007446  132.431122  0.408162"
            ]
          },
          "metadata": {
            "tags": []
          },
          "execution_count": 114
        }
      ]
    },
    {
      "cell_type": "markdown",
      "metadata": {
        "id": "CL69iIgRdswH",
        "colab_type": "text"
      },
      "source": [
        "`LB = 0.01474`\n",
        "\n",
        "- CNN Model1-a rlr \n",
        "- CNN Model1-b rlr  `val_loss=0.04020`\n",
        "- CNN Model1-c rlr \n",
        "\n",
        "\n",
        "--------------------------------------------------\n",
        "`LB = 0.01103`\n",
        "\n",
        "- CNN Model2-a cyclic lr `val_loss=0.002392`\n",
        "- CNN Model2-b cyclic lr `val_loss=0.00045`\n",
        "- CNN Model2-c cyclic lr `val_loss=0.000064`\n",
        "\n",
        "--------------------------------------------------\n",
        "\n",
        "`LB = 0.00966`  Pos. 5\n",
        "\n",
        "- CNN Model3-a cyclic+SWA+k5 `val_loss=0.0018968`\n",
        "- CNN Model3-b cyclic+SWA+k5 `val_loss=0.0005028`\n",
        "- CNN Model3-c cyclic+SWA+k5 `val_loss=3.3e-05`\n"
      ]
    },
    {
      "cell_type": "code",
      "metadata": {
        "id": "V_godBDSrpzP",
        "colab_type": "code",
        "colab": {}
      },
      "source": [
        "# np.round(hist2_df['val_loss'].min(), 6)"
      ],
      "execution_count": 124,
      "outputs": []
    },
    {
      "cell_type": "markdown",
      "metadata": {
        "id": "Qw6miCODagYI",
        "colab_type": "text"
      },
      "source": [
        "# Inference schemes"
      ]
    },
    {
      "cell_type": "code",
      "metadata": {
        "id": "-2cRSwauvMH6",
        "colab_type": "code",
        "colab": {}
      },
      "source": [
        "# model_cp = tf.keras.models.load_model(MODEL_PATH+MODEL_NAME)\n",
        "\n",
        "# model_cp"
      ],
      "execution_count": null,
      "outputs": []
    },
    {
      "cell_type": "code",
      "metadata": {
        "id": "mdO17w9bKWYG",
        "colab_type": "code",
        "colab": {}
      },
      "source": [
        "def kfold_inference_lgb(models):\n",
        "    # for OUT in range(3):\n",
        "    #     preds_ = []\n",
        "    preds_out = []\n",
        "    for model in models:\n",
        "        if  preds_out == []:\n",
        "            preds_out = model.predict(test,  num_iteration=model.best_iteration) / len(models)\n",
        "        else:\n",
        "            preds_out += model.predict(test, num_iteration=model.best_iteration) / len(models)\n",
        "    return preds_out\n",
        "\n",
        "\n",
        "def kfold_inference_hgb(models):\n",
        "    preds_out = []\n",
        "    for model in models:\n",
        "        if  preds_out == []:\n",
        "            preds_out = model.predict(test) / len(models)\n",
        "        else:\n",
        "            preds_out += model.predict(test) / len(models)\n",
        "    return preds_out\n",
        "\n",
        "\n",
        "def kfold_inference_cb(models):\n",
        "    preds_all = np.zeros((len(test), 4))\n",
        "    for OUT in range(3):\n",
        "        preds_ = []\n",
        "        for model in models[OUT]:\n",
        "            if  preds_ == []:\n",
        "                preds_ = model.predict(test) / len(models[OUT])\n",
        "            else:\n",
        "                preds_ += model.predict(test) / len(models[OUT])\n",
        "        \n",
        "        preds_all[:, OUT] = preds_\n",
        "\n",
        "    return preds_all"
      ],
      "execution_count": null,
      "outputs": []
    },
    {
      "cell_type": "code",
      "metadata": {
        "id": "IpKZFRBjKk_Q",
        "colab_type": "code",
        "colab": {}
      },
      "source": [
        "# # Inference LGBM\n",
        "\n",
        "# test_preds_lgb = np.zeros((len(test), 4))\n",
        "\n",
        "# test_preds_lgb[:, 0] = kfold_inference_lgb(models_lgb_outs[0]) \n",
        "# test_preds_lgb[:, 1] = kfold_inference_lgb(models_lgb_outs[1])\n",
        "# test_preds_lgb[:, 2] = kfold_inference_lgb(models_lgb_outs[2])\n",
        "# test_preds_lgb[:, 3] = kfold_inference_lgb(models_lgb_outs[3])\n",
        "\n",
        "# pd.DataFrame(test_preds_lgb).plot(kind='hist')"
      ],
      "execution_count": null,
      "outputs": []
    },
    {
      "cell_type": "code",
      "metadata": {
        "id": "JJoxsQzAWAl2",
        "colab_type": "code",
        "colab": {}
      },
      "source": [
        "# # KFold Inference HistGB\n",
        "\n",
        "# test_preds_hgb = np.zeros((len(test), 4))\n",
        "\n",
        "# test_preds_hgb[:, 0] = kfold_inference_hgb(models_hgb_outs[0])    \n",
        "# test_preds_hgb[:, 1] = kfold_inference_hgb(models_hgb_outs[1])\n",
        "# test_preds_hgb[:, 2] = kfold_inference_hgb(models_hgb_outs[2])\n",
        "# test_preds_hgb[:, 3] = kfold_inference_hgb(models_hgb_outs[3])\n",
        "\n",
        "# pd.DataFrame(test_preds_hgb).plot(kind='hist')"
      ],
      "execution_count": null,
      "outputs": []
    },
    {
      "cell_type": "code",
      "metadata": {
        "id": "zFsGa8O4SaLY",
        "colab_type": "code",
        "colab": {}
      },
      "source": [
        "# # Inference Catboost\n",
        "\n",
        "# preds_cb = kfold_inference_cb(models_cb_outs)"
      ],
      "execution_count": null,
      "outputs": []
    },
    {
      "cell_type": "code",
      "metadata": {
        "id": "Vju36KqWWAiX",
        "colab_type": "code",
        "colab": {}
      },
      "source": [
        "# fig, ax = plt.subplots(2, 2)\n",
        "# ax = ax.flatten()\n",
        "# sns.distplot(preds_out1, ax=ax[0]);\n",
        "# # sns.distplot(test_preds_lgb[:,0], ax=ax[0]);\n",
        "# # sns.distplot(preds_cb[:,0], ax=ax[0]);\n",
        "# sns.distplot(preds_out2, ax=ax[1]);\n",
        "# # sns.distplot(test_preds_lgb[:,1], ax=ax[1]);\n",
        "# # sns.distplot(test_preds_hgb[:,2], ax=ax[2]);\n",
        "# sns.distplot(preds_out3, ax=ax[2]);\n",
        "# # sns.distplot(test_preds_hgb[:,3], ax=ax[3]);\n",
        "# sns.distplot(preds_out4, ax=ax[3]);\n",
        "# # plt.legend(['hgb', 'lgb'])"
      ],
      "execution_count": null,
      "outputs": []
    },
    {
      "cell_type": "code",
      "metadata": {
        "id": "JBudBMA_VBoL",
        "colab_type": "code",
        "colab": {}
      },
      "source": [
        "# find optimal weights \n",
        "from tqdm import tqdm\n",
        "\n",
        "def find_ensemble_weights(y_valid, pred1, pred2, plot=False):\n",
        "\n",
        "    scores = []\n",
        "    alphas = np.linspace(0,1,101)  # 101\n",
        "\n",
        "    # loop for every alpha\n",
        "    for alpha in tqdm(alphas):\n",
        "        mae_ = mean_absolute_error(y_valid, alpha*pred1 + (1 - alpha)*pred2)\n",
        "        scores.append(mae_)\n",
        "\n",
        "    # convert to numpy array\n",
        "    scores = np.array(scores)\n",
        "\n",
        "    # get best_alpha\n",
        "    best_alpha = alphas[np.argmin(scores)]\n",
        "\n",
        "    print()\n",
        "    print('best_mae=', scores.min())\n",
        "    print('best_alpha weight=', best_alpha)\n",
        "\n",
        "    if plot: \n",
        "        plt.plot(alphas, scores)\n",
        "        plt.title('mae_score for ensemble')\n",
        "        plt.xlabel('alpha')\n",
        "        plt.ylabel('mae_score')\n",
        "\n",
        "    return best_alpha\n"
      ],
      "execution_count": null,
      "outputs": []
    },
    {
      "cell_type": "code",
      "metadata": {
        "id": "dYarrHHYVCYx",
        "colab_type": "code",
        "colab": {}
      },
      "source": [
        "# pred1 = []\n",
        "# for model in models_hgb_1:\n",
        "#     if pred1 == []:\n",
        "#         pred1 = model.predict(x_valid) / len(models_hgb_1)\n",
        "#     else: \n",
        "#         pred1 += model.predict(x_valid) / len(models_hgb_1)\n",
        "\n",
        "# pred2 = []\n",
        "# for model in models_cb_outs[0]:     # models_lgb_1\n",
        "#     if pred2 == []:\n",
        "#         pred2 = model.predict(x_valid) / len(models_lgb_1)\n",
        "#     else:   \n",
        "#         pred2 += model.predict(x_valid) / len(models_lgb_1)"
      ],
      "execution_count": null,
      "outputs": []
    },
    {
      "cell_type": "code",
      "metadata": {
        "id": "Gl0eGxwsWsPv",
        "colab_type": "code",
        "colab": {}
      },
      "source": [
        "# # pred1.shape, pred2.shape\n",
        "\n",
        "# alpha_out1 = find_ensemble_weights(y_valid.iloc[:, 0], pred1, pred2, plot=True)"
      ],
      "execution_count": null,
      "outputs": []
    }
  ]
}