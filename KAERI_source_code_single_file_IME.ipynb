{
  "nbformat": 4,
  "nbformat_minor": 0,
  "metadata": {
    "colab": {
      "name": "KAERI source code single file-IME.ipynb",
      "provenance": [],
      "collapsed_sections": [],
      "toc_visible": true
    },
    "kernelspec": {
      "name": "python3",
      "display_name": "Python 3"
    },
    "accelerator": "GPU"
  },
  "cells": [
    {
      "cell_type": "markdown",
      "metadata": {
        "id": "bciU3DsHk8F5",
        "colab_type": "text"
      },
      "source": [
        "# DACON KAERI: Collision detection using vibration data\n",
        "\n",
        "## Team name: IME\n",
        "\n",
        "## Submission date: 17/07/2020"
      ]
    },
    {
      "cell_type": "markdown",
      "metadata": {
        "id": "h9vJqUGCnRU6",
        "colab_type": "text"
      },
      "source": [
        "#1: Library and data"
      ]
    },
    {
      "cell_type": "code",
      "metadata": {
        "id": "Gbvg75Crk0Ev",
        "colab_type": "code",
        "colab": {
          "base_uri": "https://localhost:8080/",
          "height": 70
        },
        "outputId": "0c40bd7e-4d3a-439e-a467-4bf2bd33ddc0"
      },
      "source": [
        "import numpy as np\n",
        "import pandas as pd\n",
        "from datetime import datetime, timedelta\n",
        "from matplotlib import pyplot as plt\n",
        "import seaborn as sns\n",
        "plt.style.use('seaborn')\n",
        "import platform\n",
        "import json\n",
        "import gc\n",
        "import os\n",
        "import random\n",
        "from sklearn.model_selection import KFold, GroupKFold, train_test_split\n",
        "from sklearn.metrics import mean_squared_error, mean_absolute_error\n",
        "from sklearn.preprocessing import StandardScaler, MinMaxScaler\n",
        "from tqdm import tqdm\n",
        "import collections\n",
        "import resource\n",
        "import tensorflow as tf\n",
        "from tensorflow.keras.layers import *\n",
        "from tensorflow.keras.callbacks import Callback\n",
        "from tensorflow.keras.callbacks import *\n",
        "from tensorflow.keras.optimizers import *\n",
        "from tensorflow.keras import backend as K\n",
        "import tensorflow_addons as tfa\n",
        "\n",
        "import torch\n",
        "import torch.nn as nn\n",
        "from torch.utils.data import DataLoader, Dataset\n",
        "import torch.nn.functional as F\n",
        "from torchsummary import summary"
      ],
      "execution_count": 1,
      "outputs": [
        {
          "output_type": "stream",
          "text": [
            "/usr/local/lib/python3.6/dist-packages/statsmodels/tools/_testing.py:19: FutureWarning: pandas.util.testing is deprecated. Use the functions in the public API at pandas.testing instead.\n",
            "  import pandas.util.testing as tm\n"
          ],
          "name": "stderr"
        }
      ]
    },
    {
      "cell_type": "markdown",
      "metadata": {
        "id": "uhldVLycgzSK",
        "colab_type": "text"
      },
      "source": [
        "Define here the input/output paths for loading the data and saving models/predictions\n"
      ]
    },
    {
      "cell_type": "code",
      "metadata": {
        "id": "8tscDpa1hGsn",
        "colab_type": "code",
        "colab": {}
      },
      "source": [
        "# define path to read dataset\n",
        "path = '/content/drive/My Drive/ML Projects/DACON/Kaeri/data/'\n",
        "\n",
        "# define path to save predictions and submission\n",
        "out_path = '/content/drive/My Drive/ML Projects/DACON/Kaeri/'   #'./'\n",
        "\n",
        "# define path to save models (modify if needed)\n",
        "MODEL_PATH = '/content/drive/My Drive/ML Projects/DACON/Kaeri/models/'      "
      ],
      "execution_count": 2,
      "outputs": []
    },
    {
      "cell_type": "markdown",
      "metadata": {
        "id": "AzoH3pD0n1lA",
        "colab_type": "text"
      },
      "source": [
        "### Helpers"
      ]
    },
    {
      "cell_type": "code",
      "metadata": {
        "id": "6JxxcVGlk10H",
        "colab_type": "code",
        "colab": {}
      },
      "source": [
        "# Read dataset\n",
        "# COLAB = True\n",
        "\n",
        "# if COLAB: path = '/content/drive/My Drive/ML Projects/DACON/Colision/data/'\n",
        "# else: path = './ML Projects/DACON/data/'\n",
        "\n",
        "def read_data(path=path):\n",
        "    train_df = pd.read_csv(path+'train_features.csv',)     \n",
        "    train_target = pd.read_csv(path+'train_target.csv', )  \n",
        "    test_df = pd.read_csv(path+'test_features.csv', )                \n",
        "    subm = pd.read_csv(path+\"sample_submission.csv\")\n",
        "    print('Shape of train:', train_df.shape)\n",
        "    print('Shape of solution:', test_df.shape)\n",
        "    print('Shape of submision:', subm.shape)\n",
        "    return train_df, train_target, test_df, subm"
      ],
      "execution_count": 3,
      "outputs": []
    },
    {
      "cell_type": "code",
      "metadata": {
        "id": "v3UUM1Fon3H-",
        "colab_type": "code",
        "colab": {}
      },
      "source": [
        "# Keras helper functions\n",
        "\n",
        "class LRFinder(Callback):\n",
        "    '''\n",
        "    A simple callback for finding the optimal learning rate range for your model + dataset.  \n",
        "    # Usage\n",
        "        ```python\n",
        "            lr_finder = LRFinder(min_lr=1e-5, \n",
        "                                 max_lr=1e-2, \n",
        "                                 steps_per_epoch=np.ceil(epoch_size/batch_size), \n",
        "                                 epochs=3)\n",
        "            model.fit(X_train, Y_train, callbacks=[lr_finder])\n",
        "            \n",
        "            lr_finder.plot_loss()\n",
        "        ```\n",
        "    \n",
        "    # Arguments\n",
        "        min_lr: The lower bound of the learning rate range for the experiment.\n",
        "        max_lr: The upper bound of the learning rate range for the experiment.\n",
        "        steps_per_epoch: Number of mini-batches in the dataset. Calculated as `np.ceil(epoch_size/batch_size)`. \n",
        "        epochs: Number of epochs to run experiment. Usually between 2 and 4 epochs is sufficient. \n",
        "        \n",
        "    # References\n",
        "        Blog post: jeremyjordan.me/nn-learning-rate\n",
        "        Original paper: https://arxiv.org/abs/1506.01186\n",
        "    '''\n",
        "    \n",
        "    def __init__(self, min_lr=1e-5, max_lr=1e-2, steps_per_epoch=None, epochs=None):\n",
        "        super().__init__()\n",
        "        \n",
        "        self.min_lr = min_lr\n",
        "        self.max_lr = max_lr\n",
        "        self.total_iterations = steps_per_epoch * epochs\n",
        "        self.iteration = 0\n",
        "        self.history = {}\n",
        "        \n",
        "    def clr(self):\n",
        "        '''Calculate the learning rate.'''\n",
        "        x = self.iteration / self.total_iterations \n",
        "        return self.min_lr + (self.max_lr-self.min_lr) * x\n",
        "        \n",
        "    def on_train_begin(self, logs=None):\n",
        "        '''Initialize the learning rate to the minimum value at the start of training.'''\n",
        "        logs = logs or {}\n",
        "        K.set_value(self.model.optimizer.lr, self.min_lr)\n",
        "        \n",
        "    def on_batch_end(self, epoch, logs=None):\n",
        "        '''Record previous batch statistics and update the learning rate.'''\n",
        "        logs = logs or {}\n",
        "        self.iteration += 1\n",
        "\n",
        "        self.history.setdefault('lr', []).append(K.get_value(self.model.optimizer.lr))\n",
        "        self.history.setdefault('iterations', []).append(self.iteration)\n",
        "\n",
        "        for k, v in logs.items():\n",
        "            self.history.setdefault(k, []).append(v)\n",
        "            \n",
        "        K.set_value(self.model.optimizer.lr, self.clr())\n",
        " \n",
        "    def plot_lr(self):\n",
        "        '''Helper function to quickly inspect the learning rate schedule.'''\n",
        "        plt.plot(self.history['iterations'], self.history['lr'])\n",
        "        plt.yscale('log')\n",
        "        plt.xlabel('Iteration')\n",
        "        plt.ylabel('Learning rate')\n",
        "        plt.show()\n",
        "        \n",
        "    def plot_loss(self):\n",
        "        '''Helper function to quickly observe the learning rate experiment results.'''\n",
        "        plt.plot(self.history['lr'], self.history['loss'])\n",
        "        plt.xscale('log')\n",
        "        plt.xlabel('Learning rate')\n",
        "        plt.ylabel('Loss')\n",
        "        plt.show()\n",
        "\n",
        "\n",
        "class WarmUpCosineDecayScheduler(Callback):\n",
        "    \"\"\"\n",
        "        Cosine decay with warmup learning rate scheduler\n",
        "    \"\"\"\n",
        "    def __init__(self,\n",
        "                 learning_rate_base,\n",
        "                 global_step_init=0,\n",
        "                 warmup_learning_rate=0.0,\n",
        "                 warmup_epoch=0,\n",
        "                 hold_base_rate_steps=0,\n",
        "                 learning_rate_final=None,\n",
        "                 stop_epoch=None,\n",
        "                 verbose=0):\n",
        "        \"\"\"Constructor for cosine decay with warmup learning rate scheduler.\n",
        "        Arguments:\n",
        "            learning_rate_base {float} -- base learning rate.\n",
        "            total_steps {int} -- total number of training steps.\n",
        "        Keyword Arguments:\n",
        "            global_step_init {int} -- initial global step, e.g. from previous checkpoint.\n",
        "            warmup_learning_rate {float} -- initial learning rate for warm up. (default: {0.0})\n",
        "            warmup_steps {int} -- number of warmup steps. (default: {0})\n",
        "            hold_base_rate_steps {int} -- Optional number of steps to hold base learning rate\n",
        "                                        before decaying. (default: {0})\n",
        "            verbose {int} -- 0: quiet, 1: update messages. (default: {0})\n",
        "        \"\"\"\n",
        "\n",
        "        super(WarmUpCosineDecayScheduler, self).__init__()\n",
        "        self.learning_rate_base = learning_rate_base\n",
        "        self.global_step = global_step_init\n",
        "        self.warmup_learning_rate = warmup_learning_rate\n",
        "        self.warmup_epoch = warmup_epoch\n",
        "        self.hold_base_rate_steps = hold_base_rate_steps\n",
        "        self.learning_rates = []\n",
        "        self.verbose = verbose\n",
        "        self.stop_epoch = stop_epoch\n",
        "        self.learning_rate_final = learning_rate_final\n",
        "        self.epoch = 0\n",
        "\n",
        "    def on_epoch_begin(self, epoch, logs=None):\n",
        "        self.epoch = epoch\n",
        "\n",
        "    def on_batch_end(self, batch, logs=None):\n",
        "        self.global_step = self.global_step + 1\n",
        "        lr = K.get_value(self.model.optimizer.lr)\n",
        "        self.learning_rates.append(lr)\n",
        "\n",
        "    def on_batch_begin(self, batch, logs=None):\n",
        "        total_steps = int(\n",
        "            self.params['epochs'] * self.params['samples'] / self.params['batch_size'])\n",
        "        warmup_steps = int(\n",
        "            self.warmup_epoch * self.params['samples']  / self.params['batch_size'])\n",
        "        lr = self.cosine_decay_with_warmup(\n",
        "            global_step=self.global_step,\n",
        "            learning_rate_base=self.learning_rate_base,\n",
        "            total_steps=total_steps,\n",
        "            warmup_learning_rate=self.warmup_learning_rate,\n",
        "            warmup_steps=warmup_steps,\n",
        "            hold_base_rate_steps=self.hold_base_rate_steps)\n",
        "        if self.stop_epoch is not None and self.stop_epoch > 0 and self.epoch >= self.stop_epoch:\n",
        "            if self.learning_rate_final is not None:\n",
        "                K.set_value(self.model.optimizer.lr, self.learning_rate_final)\n",
        "            else:\n",
        "                self.learning_rate_final = lr\n",
        "                K.set_value(self.model.optimizer.lr, self.learning_rate_final)\n",
        "        else:\n",
        "            K.set_value(self.model.optimizer.lr, lr)\n",
        "        if self.verbose > 0:\n",
        "            print('\\nBatch %05d: setting learning '\n",
        "                  'rate to %s.' % (self.global_step + 1, lr))\n",
        "\n",
        "    def cosine_decay_with_warmup(self, global_step,\n",
        "                                 learning_rate_base,\n",
        "                                 total_steps,\n",
        "                                 warmup_learning_rate=0.0,\n",
        "                                 warmup_steps=0,\n",
        "                                 hold_base_rate_steps=0):\n",
        "        \"\"\"Cosine decay schedule with warm up period.\n",
        "        Cosine annealing learning rate as described in\n",
        "            Loshchilov and Hutter, SGDR: Stochastic Gradient Descent with Warm Restarts.\n",
        "            ICLR 2017. https://arxiv.org/abs/1608.03983\n",
        "        In this schedule, the learning rate grows linearly from warmup_learning_rate\n",
        "        to learning_rate_base for warmup_steps, then transitions to a cosine decay\n",
        "        schedule.\n",
        "        Arguments:\n",
        "            global_step {int} -- global step.\n",
        "            learning_rate_base {float} -- base learning rate.\n",
        "            total_steps {int} -- total number of training steps.\n",
        "        Keyword Arguments:\n",
        "            warmup_learning_rate {float} -- initial learning rate for warm up. (default: {0.0})\n",
        "            warmup_steps {int} -- number of warmup steps. (default: {0})\n",
        "            hold_base_rate_steps {int} -- Optional number of steps to hold base learning rate\n",
        "                                        before decaying. (default: {0})\n",
        "        Returns:\n",
        "            a float representing learning rate.\n",
        "        Raises:\n",
        "            ValueError: if warmup_learning_rate is larger than learning_rate_base,\n",
        "            or if warmup_steps is larger than total_steps.\n",
        "        \"\"\"\n",
        "        if total_steps < warmup_steps:\n",
        "            raise ValueError('total_steps must be larger or equal to '\n",
        "                             'warmup_steps.')\n",
        "        learning_rate = 0.5 * learning_rate_base * (\n",
        "            1 + np.cos(\n",
        "                np.pi * (global_step - warmup_steps - hold_base_rate_steps) /\n",
        "                float(total_steps - warmup_steps - hold_base_rate_steps)\n",
        "                )\n",
        "            )\n",
        "        if hold_base_rate_steps > 0:\n",
        "            learning_rate = np.where(global_step > warmup_steps + hold_base_rate_steps,\n",
        "                                     learning_rate, learning_rate_base)\n",
        "        if warmup_steps > 0:\n",
        "            if learning_rate_base < warmup_learning_rate:\n",
        "                raise ValueError('learning_rate_base must be larger or equal to '\n",
        "                                 'warmup_learning_rate.')\n",
        "            slope = (learning_rate_base - warmup_learning_rate) / warmup_steps\n",
        "            warmup_rate = slope * global_step + warmup_learning_rate\n",
        "            learning_rate = np.where(global_step < warmup_steps, warmup_rate,\n",
        "                                     learning_rate)\n",
        "        return np.where(global_step > total_steps, 0.0, learning_rate)\n",
        "\n",
        "\n",
        "class CyclicLR(Callback):\n",
        "    \"\"\"This callback implements a cyclical learning rate policy (CLR).\n",
        "    The method cycles the learning rate between two boundaries with\n",
        "    some constant frequency, as detailed in this paper (https://arxiv.org/abs/1506.01186).\n",
        "    The amplitude of the cycle can be scaled on a per-iteration or \n",
        "    per-cycle basis.\n",
        "    This class has three built-in policies, as put forth in the paper.\n",
        "    \"triangular\":\n",
        "        A basic triangular cycle w/ no amplitude scaling.\n",
        "    \"triangular2\":\n",
        "        A basic triangular cycle that scales initial amplitude by half each cycle.\n",
        "    \"exp_range\":\n",
        "        A cycle that scales initial amplitude by gamma**(cycle iterations) at each \n",
        "        cycle iteration.\n",
        "    For more detail, please see paper.\n",
        "    \n",
        "    # Example\n",
        "        ```python\n",
        "            clr = CyclicLR(base_lr=0.001, max_lr=0.006,\n",
        "                                step_size=2000., mode='triangular')\n",
        "            model.fit(X_train, Y_train, callbacks=[clr])\n",
        "        ```\n",
        "    \n",
        "    Class also supports custom scaling functions:\n",
        "        ```python\n",
        "            clr_fn = lambda x: 0.5*(1+np.sin(x*np.pi/2.))\n",
        "            clr = CyclicLR(base_lr=0.001, max_lr=0.006,\n",
        "                                step_size=2000., scale_fn=clr_fn,\n",
        "                                scale_mode='cycle')\n",
        "            model.fit(X_train, Y_train, callbacks=[clr])\n",
        "        ```    \n",
        "    # Arguments\n",
        "        base_lr: initial learning rate which is the\n",
        "            lower boundary in the cycle.\n",
        "        max_lr: upper boundary in the cycle. Functionally,\n",
        "            it defines the cycle amplitude (max_lr - base_lr).\n",
        "            The lr at any cycle is the sum of base_lr\n",
        "            and some scaling of the amplitude; therefore \n",
        "            max_lr may not actually be reached depending on\n",
        "            scaling function.\n",
        "        step_size: number of training iterations per\n",
        "            half cycle. Authors suggest setting step_size\n",
        "            2-8 x training iterations in epoch.\n",
        "        mode: one of {triangular, triangular2, exp_range}.\n",
        "            Default 'triangular'.\n",
        "            Values correspond to policies detailed above.\n",
        "            If scale_fn is not None, this argument is ignored.\n",
        "        gamma: constant in 'exp_range' scaling function:\n",
        "            gamma**(cycle iterations)\n",
        "        scale_fn: Custom scaling policy defined by a single\n",
        "            argument lambda function, where \n",
        "            0 <= scale_fn(x) <= 1 for all x >= 0.\n",
        "            mode paramater is ignored \n",
        "        scale_mode: {'cycle', 'iterations'}.\n",
        "            Defines whether scale_fn is evaluated on \n",
        "            cycle number or cycle iterations (training\n",
        "            iterations since start of cycle). Default is 'cycle'.\n",
        "    \"\"\"\n",
        "\n",
        "    def __init__(self, base_lr=0.001, max_lr=0.006, step_size=2000., mode='triangular',\n",
        "                 gamma=1., scale_fn=None, scale_mode='cycle'):\n",
        "        super(CyclicLR, self).__init__()\n",
        "\n",
        "        self.base_lr = base_lr\n",
        "        self.max_lr = max_lr\n",
        "        self.step_size = step_size\n",
        "        self.mode = mode\n",
        "        self.gamma = gamma\n",
        "        if scale_fn == None:\n",
        "            if self.mode == 'triangular':\n",
        "                self.scale_fn = lambda x: 1.\n",
        "                self.scale_mode = 'cycle'\n",
        "            elif self.mode == 'triangular2':\n",
        "                self.scale_fn = lambda x: 1/(2.**(x-1))\n",
        "                self.scale_mode = 'cycle'\n",
        "            elif self.mode == 'exp_range':\n",
        "                self.scale_fn = lambda x: gamma**(x)\n",
        "                self.scale_mode = 'iterations'\n",
        "        else:\n",
        "            self.scale_fn = scale_fn\n",
        "            self.scale_mode = scale_mode\n",
        "        self.clr_iterations = 0.\n",
        "        self.trn_iterations = 0.\n",
        "        self.history = {}\n",
        "\n",
        "        self._reset()\n",
        "\n",
        "    def _reset(self, new_base_lr=None, new_max_lr=None,\n",
        "               new_step_size=None):\n",
        "        \"\"\"Resets cycle iterations.\n",
        "        Optional boundary/step size adjustment.\n",
        "        \"\"\"\n",
        "        if new_base_lr != None:\n",
        "            self.base_lr = new_base_lr\n",
        "        if new_max_lr != None:\n",
        "            self.max_lr = new_max_lr\n",
        "        if new_step_size != None:\n",
        "            self.step_size = new_step_size\n",
        "        self.clr_iterations = 0.\n",
        "        \n",
        "    def clr(self):\n",
        "        cycle = np.floor(1+self.clr_iterations/(2*self.step_size))\n",
        "        x = np.abs(self.clr_iterations/self.step_size - 2*cycle + 1)\n",
        "        if self.scale_mode == 'cycle':\n",
        "            return self.base_lr + (self.max_lr-self.base_lr)*np.maximum(0, (1-x))*self.scale_fn(cycle)\n",
        "        else:\n",
        "            return self.base_lr + (self.max_lr-self.base_lr)*np.maximum(0, (1-x))*self.scale_fn(self.clr_iterations)\n",
        "        \n",
        "    def on_train_begin(self, logs={}):\n",
        "        logs = logs or {}\n",
        "\n",
        "        if self.clr_iterations == 0:\n",
        "            K.set_value(self.model.optimizer.lr, self.base_lr)\n",
        "        else:\n",
        "            K.set_value(self.model.optimizer.lr, self.clr())        \n",
        "            \n",
        "    def on_batch_end(self, epoch, logs=None):\n",
        "        \n",
        "        logs = logs or {}\n",
        "        self.trn_iterations += 1\n",
        "        self.clr_iterations += 1\n",
        "\n",
        "        self.history.setdefault('lr', []).append(K.get_value(self.model.optimizer.lr))\n",
        "        self.history.setdefault('iterations', []).append(self.trn_iterations)\n",
        "\n",
        "        for k, v in logs.items():\n",
        "            self.history.setdefault(k, []).append(v)\n",
        "        \n",
        "        K.set_value(self.model.optimizer.lr, self.clr())\n",
        "\n",
        "\n",
        "def step_decay_schedule(initial_lr=1e-5, decay_factor=0.75, step_size=10):\n",
        "    '''\n",
        "    Wrapper function to create a LearningRateScheduler with step decay schedule.\n",
        "    '''\n",
        "    def schedule(epoch):\n",
        "        return initial_lr * (decay_factor ** np.floor(epoch/step_size))\n",
        "    return tf.keras.callbacks.LearningRateScheduler(schedule, verbose=1)\n",
        "\n",
        "\n",
        "def r2_keras(y_true, y_pred):\n",
        "    K = tf.keras.backend\n",
        "    SS_res =  K.sum(K.square( y_true-y_pred ))\n",
        "    SS_tot = K.sum(K.square( y_true - K.mean(y_true) ) )\n",
        "    return ( 1 - SS_res/(SS_tot + K.epsilon()) )\n",
        "\n",
        "\n",
        "def kaeri_metric(y_true,  y_pred):\n",
        "\n",
        "    '''\n",
        "        y_true: dataframe with true values ​​of X,Y,M,V\n",
        "        y_pred: dataframe with pred values ​​of X,Y,M,V\n",
        "\n",
        "        return: KAERI metric\n",
        "    '''\n",
        "    t1, p1 = np.array(y_true)[:,:2], np.array(y_pred)[:,:2]\n",
        "    E1 = np.mean(np.sum(np.square(t1 - p1), axis=1) / 2e+04)\n",
        "      \n",
        "    t2, p2 = np.array(y_true)[:,2:], np.array(y_pred)[:,2:]\n",
        "    E2 = np.mean(np.sum(np.square((t2 - p2) / (t2 + 1e-06)), axis=1))\n",
        "    return 0.5*E1 + 0.5*E2\n",
        "   \n"
      ],
      "execution_count": 4,
      "outputs": []
    },
    {
      "cell_type": "code",
      "metadata": {
        "id": "gEITjBiPCPX7",
        "colab_type": "code",
        "colab": {}
      },
      "source": [
        "# Data preprocessing helpers\n",
        "\n",
        "def calc_ewm(s, windows=[10, 50]):\n",
        "    '''\n",
        "    Calculates exponential weighted functions\n",
        "    '''\n",
        "    ewm = pd.DataFrame()\n",
        "    for w in windows:\n",
        "        ewm['ewm_mean_' + str(w)] = s.ewm(span=w, min_periods=1).mean()\n",
        "        ewm['ewm_std_' + str(w)] = s.ewm(span=w, min_periods=1).std()\n",
        "    # add zeros when na values (std)\n",
        "    ewm = ewm.fillna(value=0)       \n",
        "    return ewm\n",
        "\n",
        "\n",
        "def preprocess_data(df, cols=[\"S1\",\"S2\",'S3','S4']):\n",
        "\n",
        "    sensor_cols = cols # ['S1','S2','S3','S4']\n",
        "    df2 = pd.DataFrame(index=df.groupby(['id'])['id'].apply(pd.Series).unique())\n",
        "    df2['Time'] = df['Time']\n",
        "\n",
        "    for col in sensor_cols:\n",
        "        df2[col+'_mean'] = df.groupby(['id'])[col].apply(lambda x: np.mean(x))\n",
        "        df2[col+'_max'] = df.groupby(['id'])[col].apply(lambda x: np.max(x))\n",
        "        df2[col+'_min'] = df.groupby(['id'])[col].apply(lambda x: np.min(x))\n",
        "        df2[col+'_std'] = df.groupby(['id'])[col].apply(lambda x: np.std(x))\n",
        "        df2[col+'_median'] = df.groupby(['id'])[col].apply(lambda x: np.median(x))\n",
        "\n",
        "        df2[col+'_p10'] = df.groupby(['id'])[col].apply(lambda x: np.percentile(x, 10))\n",
        "        df2[col+'_p25'] = df.groupby(['id'])[col].apply(lambda x: np.percentile(x, 25))\n",
        "        df2[col+'_p75'] = df.groupby(['id'])[col].apply(lambda x: np.percentile(x, 75))\n",
        "        df2[col+'_p90'] = df.groupby(['id'])[col].apply(lambda x: np.percentile(x, 90))\n",
        "        df2[col+'_skew'] = df.groupby(['id'])[col].apply(lambda x: pd.Series(x).skew())\n",
        "\n",
        "        min_max = (df2[col+'_mean'] - df2[col+'_min']) / (df2[col+'_max'] - df2[col+'_min'])\n",
        "        df2[col+'_norm'] = min_max * (np.floor(df2[col+'_max']) - np.ceil(df2[col+'_min']))\n",
        "        df2[col+'_mean_abs_chg'] = df.groupby(['id'])[col].apply(lambda x: np.mean(np.abs(np.diff(x))))\n",
        "        df2[col+'_abs_max'] = df.groupby(['id'])[col].apply(lambda x: np.max(np.abs(x)))\n",
        "        df2[col+'_abs_min'] = df.groupby(['id'])[col].apply(lambda x: np.min(np.abs(x)))\n",
        "        df2[col+'_range'] = df2[col+'_max'] - df2[col+'_min']\n",
        "        df2[col+'_maxtomin'] = df2[col+'_max'] / df2[col+'_min']\n",
        "        df2[col+'_abs_avg'] = (df2[col+'_abs_min'] + df2[col+'_abs_max']) / 2\n",
        "\n",
        "        # ewm = calc_ewm(df[col])\n",
        "        # ewm.columns = [col+'_'+n for n in ewm.columns]\n",
        "        # df2 = pd.concat([df2, ewm], axis=1)\n",
        "\n",
        "    return df2\n",
        "\n",
        "\n",
        "def batching(df,batch_size):\n",
        "    df['group'] = df.groupby(df.index//batch_size, sort=False)['id'].agg(['ngroup']).values\n",
        "    df['group'] = df['group'].astype(np.uint16)\n",
        "    return df\n",
        "\n",
        "def lag_with_pct_change(df, shift_sizes, add_pct_change=False, add_pct_change_lag=False):\n",
        "    \n",
        "    for col in ['S1', 'S2', 'S3', 'S4']:\n",
        "        \n",
        "        for shift_size in shift_sizes:    \n",
        "            \n",
        "            df[col+'_shift_pos_'+str(shift_size)] = df[col].shift(shift_size).fillna(0)\n",
        "            df[col+'_shift_neg_'+str(shift_size)] = df[col].shift(-1*shift_size).fillna(0)\n",
        "\n",
        "            if add_pct_change:\n",
        "                df[col+'_pct_change'] = df[col].pct_change()\n",
        "\n",
        "                if add_pct_change_lag:\n",
        "                    for shift_size in shift_sizes:    \n",
        "                        df[col+'_pct_change_shift_pos_'+str(shift_size)] = df[col+'_pct_change'].shift(shift_size).fillna(0)\n",
        "                        df[col+'_pct_change_shift_neg_'+str(shift_size)] = df[col+'_pct_change'].shift(-1*shift_size).fillna(0)\n",
        "        \n",
        "    return df\n",
        "\n",
        "def make_fft_features(df):\n",
        "    ffts = []\n",
        "    for col in ['S1', 'S2', 'S3', 'S4']:\n",
        "        sig = df[col].values.reshape(int(len(df)/375), 375)\n",
        "        s1_fft = np.abs(np.fft.fft(sig, axis=1)) \n",
        "        ffts.append(s1_fft)\n",
        "\n",
        "    return np.array(ffts).reshape(int(len(df)/375), 375, -1)\n",
        "\n",
        "\n",
        "def plot_error(type_id, pred, true):\n",
        "\n",
        "    print(pred.shape)\n",
        "\n",
        "    if type_id == 0: _name = 'x_pos'\n",
        "    elif type_id == 1: _name = 'y_pos'\n",
        "    elif type_id == 2: _name = 'mass'\n",
        "    elif type_id == 3: _name = 'velocity'\n",
        "    elif type_id == 4: _name = \"distance\"\n",
        "    else: _name = 'error'\n",
        "\n",
        "    x_coord = np.arange(1, pred.shape[0]+1, 1)\n",
        "    if type_id < 2:\n",
        "        Err_m = (pred[:,type_id] - true[:, type_id])\n",
        "    elif type_id < 4:\n",
        "        Err_m = ((pred[:,type_id] - true[:, type_id])/true[:, type_id])*100\n",
        "    else:\n",
        "        Err_m = ((pred[:,0]-true[:,0])**2+(pred[:,1]-true[:,1])**2)**0.5\n",
        "\n",
        "    fig = plt.figure(figsize=(8,6))\n",
        "    plt.rcParams[\"font.size\"]=15\n",
        "    plt.scatter(x_coord, Err_m, marker='o')\n",
        "    plt.title(\"%s Prediction for Training Data\" % _name, size=20)\n",
        "    plt.xlabel(\"Data ID\", labelpad=10, size=20)\n",
        "    plt.ylabel(\"Prediction Error of %s,\" % _name, labelpad=10, size=20)\n",
        "    plt.xticks(size=15)\n",
        "    plt.yticks(size=15)\n",
        "    plt.ylim(-100., 100.)\n",
        "    plt.xlim(0, pred.shape[0]+1)\n",
        "    plt.show()\n",
        "    \n",
        "    print()\n",
        "    print('std/max/min error:', np.std(Err_m), np.max(Err_m),  np.min(Err_m))\n",
        "    return Err_m\n",
        "\n",
        "weight1 = np.array([1,1,0,0])\n",
        "weight2 = np.array([0,0,1,1])\n",
        "\n",
        "def loss_E1(y_true, y_pred):\n",
        "    return K.mean(K.square(y_true-y_pred)*weight1)/2e+04\n",
        "\n",
        "def loss_E2(y_true, y_pred):\n",
        "    divResult = Lambda(lambda x: x[0]/x[1])([(y_pred-y_true),(y_true+0.000001)])\n",
        "    return K.mean(K.square(divResult)*weight2)"
      ],
      "execution_count": 5,
      "outputs": []
    },
    {
      "cell_type": "code",
      "metadata": {
        "id": "usrTc7HV4UhM",
        "colab_type": "code",
        "colab": {}
      },
      "source": [
        "# Torch helpers\n",
        "\n",
        "class Noise(object):\n",
        "    def __init__(self, mu, sd, shape):\n",
        "        self.mu = mu\n",
        "        self.sd = sd\n",
        "        self.shape = shape\n",
        "    \n",
        "    def __call__(self, x):\n",
        "        noise = np.random.normal(self.mu, self.sd, self.shape)\n",
        "        #noise = torch.FloatTensor(noise)\n",
        "        return x + noise.astype(np.float32)\n",
        "\n",
        "\n",
        "class TensorDataset(Dataset):\n",
        "    def __init__(self, x, y, transform = None):\n",
        "        self.data = x\n",
        "        self.target = y\n",
        "        self.transform = transform\n",
        "    \n",
        "    def __len__(self):\n",
        "        return self.data.shape[0]\n",
        "    \n",
        "    def __getitem__(self, index):\n",
        "        batchX, batchY = self.data[index], self.target[index]\n",
        "        if self.transform:\n",
        "            batchX = self.transform(batchX)\n",
        "        return batchX, batchY\n",
        "    \n",
        "def weights_init(m, initializer = nn.init.kaiming_uniform_):\n",
        "    if isinstance(m, nn.Linear) or isinstance(m, nn.Conv2d):\n",
        "        initializer(m.weight)\n",
        "\n",
        "\n",
        "def normalize(x, axis = 2):\n",
        "    mu = np.expand_dims(x.mean(axis = 2), axis = axis)\n",
        "    sd = np.expand_dims(x.std(axis = 2), axis = axis)\n",
        "    normalized = (x - mu) / sd\n",
        "    return normalized\n",
        "\n",
        "\n",
        "def E1_loss(y_pred, y_true):\n",
        "    _t, _p = y_true, y_pred\n",
        "    return torch.mean(torch.mean((_t - _p) ** 2, axis = 1)) / 2e+04\n",
        "\n",
        "\n",
        "def E2_loss(y_pred, y_true):\n",
        "    _t, _p = y_true, y_pred    \n",
        "    return torch.mean(torch.mean((_t - _p) ** 2 / (_t + 1e-06), axis = 1))\n",
        "\n",
        "\n",
        "def train_model(model, train_data, weight, optimizer, loss_func):\n",
        "    model.train()\n",
        "    # final_scores = KaeriMeter()\n",
        "    loss_sum = 0\n",
        "    for i, (x, y) in enumerate(train_data):\n",
        "        optimizer.zero_grad()\n",
        "        x = x.cuda()\n",
        "        y = y.cuda()\n",
        "        pred = model(x)\n",
        "        loss = loss_func(pred, y)\n",
        "        loss.backward()\n",
        "        # final_scores.update(y, pred)\n",
        "        optimizer.step()\n",
        "        loss_sum += loss.item() \n",
        "    return (loss_sum / len(train_data)) \n",
        "\n",
        "\n",
        "def eval_model(model, val_data, loss_func):\n",
        "    model.eval()\n",
        "    # final_scores = KaeriMeter()\n",
        "    with torch.no_grad():\n",
        "        loss = 0\n",
        "        for i, (x, y) in enumerate(val_data):\n",
        "            x = x.cuda()\n",
        "            y = y.cuda()\n",
        "            pred = model(x)\n",
        "            loss += loss_func(pred, y).item()\n",
        "            # final_scores.update(y, pred)\n",
        "    return (loss / len(val_data))\n",
        "\n",
        "\n",
        "\n",
        "def kfold_train(name, feature, target):\n",
        "\n",
        "    kf = KFold(nfold, shuffle=True, random_state=SEED)\n",
        "    os.makedirs(MODEL_PATH) if not os.path.exists(MODEL_PATH) else None\n",
        "    print('> {} train...'.format(name))\n",
        "\n",
        "    # make dataset\n",
        "    n_features = feature.shape[-1]\n",
        "    train_target = target[list(name)].values\n",
        "    noise_add = Noise(0, 0.001, feature.shape[1:])\n",
        "    \n",
        "    loss_per_cv = []\n",
        "    for i, (train_idx, val_idx) in enumerate(kf.split(feature, train_target)):\n",
        "        \n",
        "        print('-'*10)\n",
        "        print('fold {}/{}'.format(i+1, nfold))\n",
        "        print('-'*10)\n",
        "\n",
        "        trainx, valx = feature[train_idx], feature[val_idx]\n",
        "        trainy, valy = train_target[train_idx], train_target[val_idx]\n",
        "\n",
        "        train_loader = DataLoader(TensorDataset(trainx.astype(np.float32), trainy, transform=noise_add), \n",
        "                                  batch_size=BATCH_SIZE, shuffle=True)\n",
        "        val_loader = DataLoader(TensorDataset(valx.astype(np.float32), valy), \n",
        "                                batch_size=BATCH_SIZE, shuffle=True)\n",
        "        \n",
        "        # model\n",
        "        model = build_cnn_2(n_features, len(name), X2.shape[1])\n",
        "\n",
        "        optimizer = torch.optim.Adam(model.parameters(), lr=base_lr)\n",
        "        scheduler = torch.optim.lr_scheduler.ReduceLROnPlateau(optimizer, factor=0.7, patience=15, threshold=1e-6, verbose=True)\n",
        "\n",
        "        if name == 'XY':\n",
        "            criterion = E1_loss\n",
        "        else:\n",
        "            criterion = E2_loss\n",
        "\n",
        "        model = model.cuda()\n",
        "        if initialize:\n",
        "            model.apply(weights_init)\n",
        "\n",
        "        curr_loss = 1e+7\n",
        "        \n",
        "        # Train\n",
        "        for ep in range(1, EPOCHS + 1):\n",
        "            loss = train_model(model, train_loader, criterion, optimizer, criterion)\n",
        "            val_loss = eval_model(model, val_loader, criterion)\n",
        "            \n",
        "            if curr_loss > val_loss:\n",
        "                print('[{}] train loss: {:4f},  val loss drop: {:.4f} to: {:.4f}'.format(ep, np.mean(loss), curr_loss, val_loss))\n",
        "                \n",
        "                curr_loss = val_loss\n",
        "                torch.save(model.state_dict(), os.path.join(MODEL_PATH, 'model_2_{}_fold{}.pt'.format(name, i+1)))\n",
        "            scheduler.step(val_loss)\n",
        "        loss_per_cv.append(curr_loss)\n",
        "    return loss_per_cv   \n",
        "\n",
        "\n",
        "\n",
        "def predict_kfold(model, nfold, save_path, name, test_data):\n",
        "    pred_array = []\n",
        "    for i in range(1, nfold+1):\n",
        "        model.load_state_dict(torch.load(os.path.join(save_path, 'model_2_{}_fold{}.pt'.format(name, i))))\n",
        "        model = model.cuda()\n",
        "        with torch.no_grad():\n",
        "            predict = model(test_data.cuda())\n",
        "        pred_array.append(predict.detach().cpu().numpy())\n",
        "    result = np.mean(pred_array, axis=0)\n",
        "    return result\n",
        "\n"
      ],
      "execution_count": 6,
      "outputs": []
    },
    {
      "cell_type": "code",
      "metadata": {
        "id": "E5EA3nbtq6bC",
        "colab_type": "code",
        "colab": {}
      },
      "source": [
        "# keep track Tensors allocated in GPU\n",
        "# https://forum.pyro.ai/t/a-clever-trick-to-debug-tensor-memory/556\n",
        "\n",
        "def debug_memory():\n",
        "    print('maxrss = {}'.format(\n",
        "        resource.getrusage(resource.RUSAGE_SELF).ru_maxrss))\n",
        "    tensors = collections.Counter((str(o.device), o.dtype, tuple(o.shape))\n",
        "                                  for o in gc.get_objects()\n",
        "                                  if torch.is_tensor(o))\n",
        "    for line in sorted(tensors.items()):\n",
        "        print('{}\\t{}'.format(*line))"
      ],
      "execution_count": 7,
      "outputs": []
    },
    {
      "cell_type": "code",
      "metadata": {
        "id": "KSRnGYj9rEWr",
        "colab_type": "code",
        "colab": {}
      },
      "source": [
        "# debug_memory()"
      ],
      "execution_count": null,
      "outputs": []
    },
    {
      "cell_type": "code",
      "metadata": {
        "id": "8UzDeZERtCQc",
        "colab_type": "code",
        "colab": {}
      },
      "source": [
        "# !nvidia-smi"
      ],
      "execution_count": null,
      "outputs": []
    },
    {
      "cell_type": "code",
      "metadata": {
        "id": "Mz685N3Ni_s7",
        "colab_type": "code",
        "colab": {}
      },
      "source": [
        "def fix_seed_1(seed):\n",
        "    random.seed(seed)\n",
        "    np.random.seed(seed)\n",
        "    os.environ['PYTHONHASHSEED'] = str(seed)\n",
        "    tf.random.set_seed(seed)\n",
        "\n",
        "def fix_seed_2(SEED):\n",
        "    torch.manual_seed(SEED)\n",
        "    torch.backends.cudnn.deterministic = True\n",
        "    torch.backends.cudnn.benchmark = False\n",
        "    # np.random.seed(SEED)"
      ],
      "execution_count": 8,
      "outputs": []
    },
    {
      "cell_type": "markdown",
      "metadata": {
        "id": "J6j6dfmwlNd2",
        "colab_type": "text"
      },
      "source": [
        "### Load data"
      ]
    },
    {
      "cell_type": "code",
      "metadata": {
        "id": "_TgRKw5Ik14-",
        "colab_type": "code",
        "colab": {
          "base_uri": "https://localhost:8080/",
          "height": 67
        },
        "outputId": "7b4c71c4-75f0-45ce-b1ad-e984a31a9b24"
      },
      "source": [
        "SEED = 26   # 34\n",
        "fix_seed_1(SEED)\n",
        "fix_seed_2(SEED)\n",
        "\n",
        "train_df, targets, test_df, subm = read_data()"
      ],
      "execution_count": 9,
      "outputs": [
        {
          "output_type": "stream",
          "text": [
            "Shape of train: (1050000, 6)\n",
            "Shape of solution: (262500, 6)\n",
            "Shape of submision: (700, 5)\n"
          ],
          "name": "stdout"
        }
      ]
    },
    {
      "cell_type": "code",
      "metadata": {
        "id": "40XYK2UHlLS7",
        "colab_type": "code",
        "colab": {
          "base_uri": "https://localhost:8080/",
          "height": 739
        },
        "outputId": "15a943a3-79e6-47a7-b0d8-89b1581571d0"
      },
      "source": [
        "print(train_df.info())\n",
        "print()\n",
        "print(test_df.info())\n",
        "print()\n",
        "print(targets.info())"
      ],
      "execution_count": null,
      "outputs": [
        {
          "output_type": "stream",
          "text": [
            "<class 'pandas.core.frame.DataFrame'>\n",
            "RangeIndex: 1050000 entries, 0 to 1049999\n",
            "Data columns (total 6 columns):\n",
            " #   Column  Non-Null Count    Dtype  \n",
            "---  ------  --------------    -----  \n",
            " 0   id      1050000 non-null  int64  \n",
            " 1   Time    1050000 non-null  float64\n",
            " 2   S1      1050000 non-null  float64\n",
            " 3   S2      1050000 non-null  float64\n",
            " 4   S3      1050000 non-null  float64\n",
            " 5   S4      1050000 non-null  float64\n",
            "dtypes: float64(5), int64(1)\n",
            "memory usage: 48.1 MB\n",
            "None\n",
            "\n",
            "<class 'pandas.core.frame.DataFrame'>\n",
            "RangeIndex: 262500 entries, 0 to 262499\n",
            "Data columns (total 6 columns):\n",
            " #   Column  Non-Null Count   Dtype  \n",
            "---  ------  --------------   -----  \n",
            " 0   id      262500 non-null  int64  \n",
            " 1   Time    262500 non-null  float64\n",
            " 2   S1      262500 non-null  float64\n",
            " 3   S2      262500 non-null  float64\n",
            " 4   S3      262500 non-null  float64\n",
            " 5   S4      262500 non-null  float64\n",
            "dtypes: float64(5), int64(1)\n",
            "memory usage: 12.0 MB\n",
            "None\n",
            "\n",
            "<class 'pandas.core.frame.DataFrame'>\n",
            "RangeIndex: 2800 entries, 0 to 2799\n",
            "Data columns (total 5 columns):\n",
            " #   Column  Non-Null Count  Dtype  \n",
            "---  ------  --------------  -----  \n",
            " 0   id      2800 non-null   int64  \n",
            " 1   X       2800 non-null   float64\n",
            " 2   Y       2800 non-null   float64\n",
            " 3   M       2800 non-null   float64\n",
            " 4   V       2800 non-null   float64\n",
            "dtypes: float64(4), int64(1)\n",
            "memory usage: 109.5 KB\n",
            "None\n"
          ],
          "name": "stdout"
        }
      ]
    },
    {
      "cell_type": "code",
      "metadata": {
        "id": "dzW_rGU9jxUo",
        "colab_type": "code",
        "colab": {
          "base_uri": "https://localhost:8080/",
          "height": 343
        },
        "outputId": "f5934242-4233-44ac-972d-f64ce45c01ce"
      },
      "source": [
        "pd.concat([train_df, targets.drop('id', axis=1)], axis=1).head(10)"
      ],
      "execution_count": null,
      "outputs": [
        {
          "output_type": "execute_result",
          "data": {
            "text/html": [
              "<div>\n",
              "<style scoped>\n",
              "    .dataframe tbody tr th:only-of-type {\n",
              "        vertical-align: middle;\n",
              "    }\n",
              "\n",
              "    .dataframe tbody tr th {\n",
              "        vertical-align: top;\n",
              "    }\n",
              "\n",
              "    .dataframe thead th {\n",
              "        text-align: right;\n",
              "    }\n",
              "</style>\n",
              "<table border=\"1\" class=\"dataframe\">\n",
              "  <thead>\n",
              "    <tr style=\"text-align: right;\">\n",
              "      <th></th>\n",
              "      <th>id</th>\n",
              "      <th>Time</th>\n",
              "      <th>S1</th>\n",
              "      <th>S2</th>\n",
              "      <th>S3</th>\n",
              "      <th>S4</th>\n",
              "      <th>X</th>\n",
              "      <th>Y</th>\n",
              "      <th>M</th>\n",
              "      <th>V</th>\n",
              "    </tr>\n",
              "  </thead>\n",
              "  <tbody>\n",
              "    <tr>\n",
              "      <th>0</th>\n",
              "      <td>0</td>\n",
              "      <td>0.000000</td>\n",
              "      <td>0.0</td>\n",
              "      <td>0.0</td>\n",
              "      <td>0.0</td>\n",
              "      <td>0.0</td>\n",
              "      <td>0.0</td>\n",
              "      <td>-400.0</td>\n",
              "      <td>50.0</td>\n",
              "      <td>0.4</td>\n",
              "    </tr>\n",
              "    <tr>\n",
              "      <th>1</th>\n",
              "      <td>0</td>\n",
              "      <td>0.000004</td>\n",
              "      <td>0.0</td>\n",
              "      <td>0.0</td>\n",
              "      <td>0.0</td>\n",
              "      <td>0.0</td>\n",
              "      <td>400.0</td>\n",
              "      <td>0.0</td>\n",
              "      <td>100.0</td>\n",
              "      <td>1.0</td>\n",
              "    </tr>\n",
              "    <tr>\n",
              "      <th>2</th>\n",
              "      <td>0</td>\n",
              "      <td>0.000008</td>\n",
              "      <td>0.0</td>\n",
              "      <td>0.0</td>\n",
              "      <td>0.0</td>\n",
              "      <td>0.0</td>\n",
              "      <td>-300.0</td>\n",
              "      <td>-200.0</td>\n",
              "      <td>25.0</td>\n",
              "      <td>0.4</td>\n",
              "    </tr>\n",
              "    <tr>\n",
              "      <th>3</th>\n",
              "      <td>0</td>\n",
              "      <td>0.000012</td>\n",
              "      <td>0.0</td>\n",
              "      <td>0.0</td>\n",
              "      <td>0.0</td>\n",
              "      <td>0.0</td>\n",
              "      <td>200.0</td>\n",
              "      <td>-100.0</td>\n",
              "      <td>150.0</td>\n",
              "      <td>0.4</td>\n",
              "    </tr>\n",
              "    <tr>\n",
              "      <th>4</th>\n",
              "      <td>0</td>\n",
              "      <td>0.000016</td>\n",
              "      <td>0.0</td>\n",
              "      <td>0.0</td>\n",
              "      <td>0.0</td>\n",
              "      <td>0.0</td>\n",
              "      <td>-300.0</td>\n",
              "      <td>-100.0</td>\n",
              "      <td>150.0</td>\n",
              "      <td>0.4</td>\n",
              "    </tr>\n",
              "    <tr>\n",
              "      <th>5</th>\n",
              "      <td>0</td>\n",
              "      <td>0.000020</td>\n",
              "      <td>0.0</td>\n",
              "      <td>0.0</td>\n",
              "      <td>0.0</td>\n",
              "      <td>0.0</td>\n",
              "      <td>-400.0</td>\n",
              "      <td>-100.0</td>\n",
              "      <td>175.0</td>\n",
              "      <td>0.4</td>\n",
              "    </tr>\n",
              "    <tr>\n",
              "      <th>6</th>\n",
              "      <td>0</td>\n",
              "      <td>0.000024</td>\n",
              "      <td>0.0</td>\n",
              "      <td>0.0</td>\n",
              "      <td>0.0</td>\n",
              "      <td>0.0</td>\n",
              "      <td>300.0</td>\n",
              "      <td>0.0</td>\n",
              "      <td>150.0</td>\n",
              "      <td>0.4</td>\n",
              "    </tr>\n",
              "    <tr>\n",
              "      <th>7</th>\n",
              "      <td>0</td>\n",
              "      <td>0.000028</td>\n",
              "      <td>0.0</td>\n",
              "      <td>0.0</td>\n",
              "      <td>0.0</td>\n",
              "      <td>0.0</td>\n",
              "      <td>-300.0</td>\n",
              "      <td>-400.0</td>\n",
              "      <td>50.0</td>\n",
              "      <td>0.6</td>\n",
              "    </tr>\n",
              "    <tr>\n",
              "      <th>8</th>\n",
              "      <td>0</td>\n",
              "      <td>0.000032</td>\n",
              "      <td>0.0</td>\n",
              "      <td>0.0</td>\n",
              "      <td>0.0</td>\n",
              "      <td>0.0</td>\n",
              "      <td>300.0</td>\n",
              "      <td>-100.0</td>\n",
              "      <td>100.0</td>\n",
              "      <td>0.8</td>\n",
              "    </tr>\n",
              "    <tr>\n",
              "      <th>9</th>\n",
              "      <td>0</td>\n",
              "      <td>0.000036</td>\n",
              "      <td>0.0</td>\n",
              "      <td>0.0</td>\n",
              "      <td>0.0</td>\n",
              "      <td>0.0</td>\n",
              "      <td>200.0</td>\n",
              "      <td>-400.0</td>\n",
              "      <td>175.0</td>\n",
              "      <td>0.6</td>\n",
              "    </tr>\n",
              "  </tbody>\n",
              "</table>\n",
              "</div>"
            ],
            "text/plain": [
              "   id      Time   S1   S2   S3   S4      X      Y      M    V\n",
              "0   0  0.000000  0.0  0.0  0.0  0.0    0.0 -400.0   50.0  0.4\n",
              "1   0  0.000004  0.0  0.0  0.0  0.0  400.0    0.0  100.0  1.0\n",
              "2   0  0.000008  0.0  0.0  0.0  0.0 -300.0 -200.0   25.0  0.4\n",
              "3   0  0.000012  0.0  0.0  0.0  0.0  200.0 -100.0  150.0  0.4\n",
              "4   0  0.000016  0.0  0.0  0.0  0.0 -300.0 -100.0  150.0  0.4\n",
              "5   0  0.000020  0.0  0.0  0.0  0.0 -400.0 -100.0  175.0  0.4\n",
              "6   0  0.000024  0.0  0.0  0.0  0.0  300.0    0.0  150.0  0.4\n",
              "7   0  0.000028  0.0  0.0  0.0  0.0 -300.0 -400.0   50.0  0.6\n",
              "8   0  0.000032  0.0  0.0  0.0  0.0  300.0 -100.0  100.0  0.8\n",
              "9   0  0.000036  0.0  0.0  0.0  0.0  200.0 -400.0  175.0  0.6"
            ]
          },
          "metadata": {
            "tags": []
          },
          "execution_count": 46
        }
      ]
    },
    {
      "cell_type": "markdown",
      "metadata": {
        "id": "EP1--FJzodu3",
        "colab_type": "text"
      },
      "source": [
        "#2: Data Cleansing & Pre-Processing"
      ]
    },
    {
      "cell_type": "code",
      "metadata": {
        "id": "f9xbKlNH4Bdu",
        "colab_type": "code",
        "colab": {
          "base_uri": "https://localhost:8080/",
          "height": 34
        },
        "outputId": "ec6c3985-3b43-4841-c715-9c4746a79921"
      },
      "source": [
        "train_df.isnull().sum().sum(), test_df.isnull().sum().sum()"
      ],
      "execution_count": 10,
      "outputs": [
        {
          "output_type": "execute_result",
          "data": {
            "text/plain": [
              "(0, 0)"
            ]
          },
          "metadata": {
            "tags": []
          },
          "execution_count": 10
        }
      ]
    },
    {
      "cell_type": "markdown",
      "metadata": {
        "id": "3_v__qXGlPXv",
        "colab_type": "text"
      },
      "source": [
        "#3: Exploratory Data Analysis"
      ]
    },
    {
      "cell_type": "code",
      "metadata": {
        "id": "YjnIAdet2cew",
        "colab_type": "code",
        "colab": {
          "base_uri": "https://localhost:8080/",
          "height": 515
        },
        "outputId": "fdc883d4-4a8a-4742-d0cc-bbffd6566f0a"
      },
      "source": [
        "# Inputs \n",
        "fig, ax = plt.subplots(2, 2, figsize=(12, 8))\n",
        "ax = ax.flatten()\n",
        "sns.distplot(train_df.S1, kde=False, label='train', ax=ax[0]) \n",
        "sns.distplot(test_df.S1, kde=False, label='test', ax=ax[0])\n",
        "\n",
        "sns.distplot(train_df.S2,kde=False, label='train', ax=ax[1])\n",
        "sns.distplot(test_df.S2, kde=False, label='test', ax=ax[1])\n",
        "\n",
        "sns.distplot(train_df.S3,kde=False, label='train', ax=ax[2]) \n",
        "sns.distplot(test_df.S3, kde=False, label='test', ax=ax[2])\n",
        "\n",
        "sns.distplot(train_df.S4, kde=False,label='train', ax=ax[3]) \n",
        "sns.distplot(test_df.S4, kde=False, label='test', ax=ax[3])"
      ],
      "execution_count": null,
      "outputs": [
        {
          "output_type": "execute_result",
          "data": {
            "text/plain": [
              "<matplotlib.axes._subplots.AxesSubplot at 0x7f2a0ff65ba8>"
            ]
          },
          "metadata": {
            "tags": []
          },
          "execution_count": 48
        },
        {
          "output_type": "display_data",
          "data": {
            "image/png": "[encoded data removed]",
            "text/plain": [
              "<Figure size 864x576 with 4 Axes>"
            ]
          },
          "metadata": {
            "tags": []
          }
        }
      ]
    },
    {
      "cell_type": "code",
      "metadata": {
        "id": "AakEBcuglLZ_",
        "colab_type": "code",
        "colab": {
          "base_uri": "https://localhost:8080/",
          "height": 514
        },
        "outputId": "fb96511f-e751-44d6-df27-f4bc0c345269"
      },
      "source": [
        "# Targets\n",
        "fig, ax = plt.subplots(2, 2, figsize=(12, 8))\n",
        "ax = ax.flatten()\n",
        "sns.distplot(targets.X, label='train X', ax=ax[0]) \n",
        "sns.distplot(targets.Y, label='train Y', ax=ax[1]) \n",
        "sns.distplot(targets.M, label='train M', ax=ax[2]) \n",
        "sns.distplot(targets.V, label='train V', ax=ax[3]) "
      ],
      "execution_count": null,
      "outputs": [
        {
          "output_type": "execute_result",
          "data": {
            "text/plain": [
              "<matplotlib.axes._subplots.AxesSubplot at 0x7f2a0e60d8d0>"
            ]
          },
          "metadata": {
            "tags": []
          },
          "execution_count": 49
        },
        {
          "output_type": "display_data",
          "data": {
            "image/png": "[encoded data removed]",
            "text/plain": [
              "<Figure size 864x576 with 4 Axes>"
            ]
          },
          "metadata": {
            "tags": []
          }
        }
      ]
    },
    {
      "cell_type": "code",
      "metadata": {
        "id": "CfJBPKoxg5eI",
        "colab_type": "code",
        "colab": {}
      },
      "source": [
        "targets.V.value_counts()"
      ],
      "execution_count": null,
      "outputs": []
    },
    {
      "cell_type": "code",
      "metadata": {
        "id": "pKqnSrDXhAhh",
        "colab_type": "code",
        "colab": {}
      },
      "source": [
        "targets.M.value_counts()"
      ],
      "execution_count": null,
      "outputs": []
    },
    {
      "cell_type": "code",
      "metadata": {
        "id": "TLIw3sFWXvH2",
        "colab_type": "code",
        "colab": {
          "base_uri": "https://localhost:8080/",
          "height": 1000
        },
        "outputId": "6738c37b-0a8a-4af5-9bf1-f7c74c47dd07"
      },
      "source": [
        "def plot_sensor_data(idx=10):\n",
        "    fig, ax = plt.subplots(2, 2, figsize=(10, 8))\n",
        "    ax = ax.flatten()\n",
        "    train_df[train_df.id==idx][['S1']].plot(ax=ax[0])\n",
        "    train_df[train_df.id==idx][['S2']].plot(ax=ax[1])\n",
        "    train_df[train_df.id==idx][['S3']].plot(ax=ax[2])\n",
        "    train_df[train_df.id==idx][['S4']].plot(ax=ax[3])\n",
        "    plt.show()\n",
        "\n",
        "plot_sensor_data(idx=10)\n",
        "\n",
        "plot_sensor_data(idx=20)\n",
        "\n",
        "plot_sensor_data(idx=50)\n",
        "\n",
        "plot_sensor_data(idx=100)"
      ],
      "execution_count": null,
      "outputs": [
        {
          "output_type": "display_data",
          "data": {
            "image/png": "[encoded data removed]",
            "text/plain": [
              "<Figure size 720x576 with 4 Axes>"
            ]
          },
          "metadata": {
            "tags": []
          }
        },
        {
          "output_type": "display_data",
          "data": {
            "image/png": "[encoded data removed]",
            "text/plain": [
              "<Figure size 720x576 with 4 Axes>"
            ]
          },
          "metadata": {
            "tags": []
          }
        },
        {
          "output_type": "display_data",
          "data": {
            "image/png": "[encoded data removed]",
            "text/plain": [
              "<Figure size 720x576 with 4 Axes>"
            ]
          },
          "metadata": {
            "tags": []
          }
        },
        {
          "output_type": "display_data",
          "data": {
            "image/png": "[encoded data removed]",
            "text/plain": [
              "<Figure size 720x576 with 4 Axes>"
            ]
          },
          "metadata": {
            "tags": []
          }
        }
      ]
    },
    {
      "cell_type": "code",
      "metadata": {
        "id": "li5UzZskhkhW",
        "colab_type": "code",
        "colab": {
          "base_uri": "https://localhost:8080/",
          "height": 364
        },
        "outputId": "fc52f96d-5279-453e-87b8-99e84ac21887"
      },
      "source": [
        "idx = 100\n",
        "\n",
        "sig12 = train_df[train_df.id==idx]['S1'] - train_df[train_df.id==idx]['S2']\n",
        "sig34 = train_df[train_df.id==idx]['S3'] - train_df[train_df.id==idx]['S4']\n",
        "\n",
        "plt.plot(sig12)\n",
        "plt.plot(sig34)"
      ],
      "execution_count": null,
      "outputs": [
        {
          "output_type": "execute_result",
          "data": {
            "text/plain": [
              "[<matplotlib.lines.Line2D at 0x7f2a0fd540f0>]"
            ]
          },
          "metadata": {
            "tags": []
          },
          "execution_count": 53
        },
        {
          "output_type": "display_data",
          "data": {
            "image/png": "[encoded data removed]",
            "text/plain": [
              "<Figure size 576x396 with 1 Axes>"
            ]
          },
          "metadata": {
            "tags": []
          }
        }
      ]
    },
    {
      "cell_type": "code",
      "metadata": {
        "id": "-HvD1XbQurM2",
        "colab_type": "code",
        "colab": {}
      },
      "source": [
        "# # plt.plot(ewm2[0,:,0])\n",
        "# # plt.plot(ewm2[0,:,1])\n",
        "# plt.plot(ewm2[0,:,2])\n",
        "# plt.plot(ewm2[0,:,3])\n",
        "# plt.plot(train_df['S1'].values.reshape(2800, 375, -1)[0, :, ])"
      ],
      "execution_count": null,
      "outputs": []
    },
    {
      "cell_type": "markdown",
      "metadata": {
        "id": "JgzKiDrhw4su",
        "colab_type": "text"
      },
      "source": [
        "#4: Feature Engineering & Initial Modeling"
      ]
    },
    {
      "cell_type": "markdown",
      "metadata": {
        "id": "dHGNIdEIncZL",
        "colab_type": "text"
      },
      "source": [
        "**A. Create lag features**"
      ]
    },
    {
      "cell_type": "code",
      "metadata": {
        "id": "qvGHiF87D56x",
        "colab_type": "code",
        "colab": {}
      },
      "source": [
        "# create lag features (-1, 375, )\n",
        "train_df_lag = lag_with_pct_change(train_df, [5, 10, 20],  add_pct_change=False, add_pct_change_lag=False)\n",
        "test_df_lag = lag_with_pct_change(test_df, [5, 10, 20],  add_pct_change=False, add_pct_change_lag=False)"
      ],
      "execution_count": 11,
      "outputs": []
    },
    {
      "cell_type": "code",
      "metadata": {
        "id": "QOLG-vWjoIdf",
        "colab_type": "code",
        "colab": {
          "base_uri": "https://localhost:8080/",
          "height": 538
        },
        "outputId": "ebcc0b4f-4883-45da-eff9-d2e868c2a34a"
      },
      "source": [
        "print('shapes:', train_df_lag.shape, test_df_lag.shape)\n",
        "train_df_lag.columns.tolist()"
      ],
      "execution_count": 12,
      "outputs": [
        {
          "output_type": "stream",
          "text": [
            "shapes: (1050000, 30) (262500, 30)\n"
          ],
          "name": "stdout"
        },
        {
          "output_type": "execute_result",
          "data": {
            "text/plain": [
              "['id',\n",
              " 'Time',\n",
              " 'S1',\n",
              " 'S2',\n",
              " 'S3',\n",
              " 'S4',\n",
              " 'S1_shift_pos_5',\n",
              " 'S1_shift_neg_5',\n",
              " 'S1_shift_pos_10',\n",
              " 'S1_shift_neg_10',\n",
              " 'S1_shift_pos_20',\n",
              " 'S1_shift_neg_20',\n",
              " 'S2_shift_pos_5',\n",
              " 'S2_shift_neg_5',\n",
              " 'S2_shift_pos_10',\n",
              " 'S2_shift_neg_10',\n",
              " 'S2_shift_pos_20',\n",
              " 'S2_shift_neg_20',\n",
              " 'S3_shift_pos_5',\n",
              " 'S3_shift_neg_5',\n",
              " 'S3_shift_pos_10',\n",
              " 'S3_shift_neg_10',\n",
              " 'S3_shift_pos_20',\n",
              " 'S3_shift_neg_20',\n",
              " 'S4_shift_pos_5',\n",
              " 'S4_shift_neg_5',\n",
              " 'S4_shift_pos_10',\n",
              " 'S4_shift_neg_10',\n",
              " 'S4_shift_pos_20',\n",
              " 'S4_shift_neg_20']"
            ]
          },
          "metadata": {
            "tags": []
          },
          "execution_count": 12
        }
      ]
    },
    {
      "cell_type": "code",
      "metadata": {
        "id": "w2ffFE62pZ9-",
        "colab_type": "code",
        "colab": {
          "base_uri": "https://localhost:8080/",
          "height": 34
        },
        "outputId": "7a723276-e8e3-49b6-e582-5aa70a851594"
      },
      "source": [
        "print(train_df_lag.isnull().sum().sum(), test_df_lag.isnull().sum().sum())"
      ],
      "execution_count": 13,
      "outputs": [
        {
          "output_type": "stream",
          "text": [
            "0 0\n"
          ],
          "name": "stdout"
        }
      ]
    },
    {
      "cell_type": "markdown",
      "metadata": {
        "id": "TshdwpPenmhE",
        "colab_type": "text"
      },
      "source": [
        "**B. Create features from agg statistics** (mean, median, min, max etc)"
      ]
    },
    {
      "cell_type": "code",
      "metadata": {
        "id": "PKyo9VZxDegB",
        "colab_type": "code",
        "colab": {}
      },
      "source": [
        "# add agg stats features (-1, )\n",
        "train_df2 = preprocess_data(train_df, cols=['S1','S2','S3','S4'])\n",
        "test_df2 = preprocess_data(test_df, cols=['S1','S2','S3','S4'])"
      ],
      "execution_count": 14,
      "outputs": []
    },
    {
      "cell_type": "code",
      "metadata": {
        "id": "5PNkjeOcoYaj",
        "colab_type": "code",
        "colab": {
          "base_uri": "https://localhost:8080/",
          "height": 1000
        },
        "outputId": "7fa57e6e-64d9-4b32-d207-7e7865676ca5"
      },
      "source": [
        "print('shapes:',train_df2.shape, test_df2.shape)\n",
        "train_df2.columns.tolist()"
      ],
      "execution_count": 15,
      "outputs": [
        {
          "output_type": "stream",
          "text": [
            "shapes: (2800, 69) (700, 69)\n"
          ],
          "name": "stdout"
        },
        {
          "output_type": "execute_result",
          "data": {
            "text/plain": [
              "['Time',\n",
              " 'S1_mean',\n",
              " 'S1_max',\n",
              " 'S1_min',\n",
              " 'S1_std',\n",
              " 'S1_median',\n",
              " 'S1_p10',\n",
              " 'S1_p25',\n",
              " 'S1_p75',\n",
              " 'S1_p90',\n",
              " 'S1_skew',\n",
              " 'S1_norm',\n",
              " 'S1_mean_abs_chg',\n",
              " 'S1_abs_max',\n",
              " 'S1_abs_min',\n",
              " 'S1_range',\n",
              " 'S1_maxtomin',\n",
              " 'S1_abs_avg',\n",
              " 'S2_mean',\n",
              " 'S2_max',\n",
              " 'S2_min',\n",
              " 'S2_std',\n",
              " 'S2_median',\n",
              " 'S2_p10',\n",
              " 'S2_p25',\n",
              " 'S2_p75',\n",
              " 'S2_p90',\n",
              " 'S2_skew',\n",
              " 'S2_norm',\n",
              " 'S2_mean_abs_chg',\n",
              " 'S2_abs_max',\n",
              " 'S2_abs_min',\n",
              " 'S2_range',\n",
              " 'S2_maxtomin',\n",
              " 'S2_abs_avg',\n",
              " 'S3_mean',\n",
              " 'S3_max',\n",
              " 'S3_min',\n",
              " 'S3_std',\n",
              " 'S3_median',\n",
              " 'S3_p10',\n",
              " 'S3_p25',\n",
              " 'S3_p75',\n",
              " 'S3_p90',\n",
              " 'S3_skew',\n",
              " 'S3_norm',\n",
              " 'S3_mean_abs_chg',\n",
              " 'S3_abs_max',\n",
              " 'S3_abs_min',\n",
              " 'S3_range',\n",
              " 'S3_maxtomin',\n",
              " 'S3_abs_avg',\n",
              " 'S4_mean',\n",
              " 'S4_max',\n",
              " 'S4_min',\n",
              " 'S4_std',\n",
              " 'S4_median',\n",
              " 'S4_p10',\n",
              " 'S4_p25',\n",
              " 'S4_p75',\n",
              " 'S4_p90',\n",
              " 'S4_skew',\n",
              " 'S4_norm',\n",
              " 'S4_mean_abs_chg',\n",
              " 'S4_abs_max',\n",
              " 'S4_abs_min',\n",
              " 'S4_range',\n",
              " 'S4_maxtomin',\n",
              " 'S4_abs_avg']"
            ]
          },
          "metadata": {
            "tags": []
          },
          "execution_count": 15
        }
      ]
    },
    {
      "cell_type": "code",
      "metadata": {
        "id": "PFN2uqtf3-lT",
        "colab_type": "code",
        "colab": {
          "base_uri": "https://localhost:8080/",
          "height": 34
        },
        "outputId": "f77dac97-24b7-4dd7-de09-b32a3bcbd4cb"
      },
      "source": [
        "print(train_df2.isnull().sum().sum(), test_df2.isnull().sum().sum())"
      ],
      "execution_count": 16,
      "outputs": [
        {
          "output_type": "stream",
          "text": [
            "0 0\n"
          ],
          "name": "stdout"
        }
      ]
    },
    {
      "cell_type": "markdown",
      "metadata": {
        "id": "o4RB7mh4pCNj",
        "colab_type": "text"
      },
      "source": [
        "**C. Create exponential weighted features** (not used in final solution)"
      ]
    },
    {
      "cell_type": "code",
      "metadata": {
        "id": "xNCao_FIuBZ8",
        "colab_type": "code",
        "colab": {}
      },
      "source": [
        "# for col in ['S1', 'S2', 'S3', 'S4']:\n",
        "#     ewm = calc_ewm(train_df[col])\n",
        "#     ewm.columns = [col+'_'+n for n in ewm.columns]\n",
        "#     train_df = pd.concat([train_df, ewm], axis=1)\n",
        "\n",
        "# del ewm\n",
        "# gc.collect()\n",
        "\n",
        "# print(train_df.shape)\n",
        "# train_df.head()\n",
        "\n",
        "# for col in ['S1', 'S2', 'S3', 'S4']:\n",
        "#     ewm = calc_ewm(test_df[col])\n",
        "#     ewm.columns = [col+'_'+n for n in ewm.columns]\n",
        "#     test_df = pd.concat([test_df, ewm], axis=1)\n",
        "\n",
        "# print(test_df.shape)\n",
        "# test_df.head()"
      ],
      "execution_count": null,
      "outputs": []
    },
    {
      "cell_type": "markdown",
      "metadata": {
        "id": "j90YiBGApNs7",
        "colab_type": "text"
      },
      "source": [
        "**D. Create FFT based features** (not used in final solution)"
      ]
    },
    {
      "cell_type": "code",
      "metadata": {
        "id": "GymuZmb3pJah",
        "colab_type": "code",
        "colab": {}
      },
      "source": [
        "# Train set FFT features (not included in final solution)\n",
        "\n",
        "# s_fft = make_fft_features(train_df)\n",
        "# train_df_fft = pd.DataFrame()\n",
        "# train_df_fft['S1_fft']= s_fft[:,:,0].reshape(-1)\n",
        "# train_df_fft['S2_fft']= s_fft[:,:,1].reshape(-1)\n",
        "# train_df_fft['S3_fft']= s_fft[:,:,2].reshape(-1)\n",
        "# train_df_fft['S4_fft']= s_fft[:,:,3].reshape(-1)\n",
        "\n",
        "# print(train_df_fft.head(3))\n",
        "\n",
        "# del s_fft\n",
        "# gc.collect()\n",
        "\n",
        "# # Test set FFT features \n",
        "# s_fft = make_fft_features(test_df)\n",
        "# test_df_fft = pd.DataFrame()\n",
        "# test_df_fft['S1_fft']= s_fft[:,:,0].reshape(-1)\n",
        "# test_df_fft['S2_fft']= s_fft[:,:,1].reshape(-1)\n",
        "# test_df_fft['S3_fft']= s_fft[:,:,2].reshape(-1)\n",
        "# test_df_fft['S4_fft']= s_fft[:,:,3].reshape(-1)\n",
        "\n",
        "# print(test_df_fft.head(3))\n",
        "\n",
        "# del s_fft\n",
        "# gc.collect()"
      ],
      "execution_count": null,
      "outputs": []
    },
    {
      "cell_type": "markdown",
      "metadata": {
        "id": "5x6HVfCdovn6",
        "colab_type": "text"
      },
      "source": [
        "**Features correlations (agg stats)**"
      ]
    },
    {
      "cell_type": "code",
      "metadata": {
        "id": "_RDmnMDS5SKa",
        "colab_type": "code",
        "colab": {
          "base_uri": "https://localhost:8080/",
          "height": 742
        },
        "outputId": "d9decf2b-3576-4215-c678-75aa1db0a644"
      },
      "source": [
        "plt.figure(figsize=(16,14))\n",
        "sns.heatmap(pd.concat([train_df2.iloc[:, 1:], targets.drop(['id'], axis=1)], axis=1).corr());"
      ],
      "execution_count": null,
      "outputs": [
        {
          "output_type": "display_data",
          "data": {
            "image/png": "[encoded data removed]",
            "text/plain": [
              "<Figure size 1152x1008 with 2 Axes>"
            ]
          },
          "metadata": {
            "tags": []
          }
        }
      ]
    },
    {
      "cell_type": "markdown",
      "metadata": {
        "id": "kDc3euhZR3k4",
        "colab_type": "text"
      },
      "source": [
        "**Top features for X,Y**"
      ]
    },
    {
      "cell_type": "code",
      "metadata": {
        "id": "zsyLb8A9R2aq",
        "colab_type": "code",
        "colab": {}
      },
      "source": [
        ""
      ],
      "execution_count": null,
      "outputs": []
    },
    {
      "cell_type": "markdown",
      "metadata": {
        "id": "m05pkTkeSddK",
        "colab_type": "text"
      },
      "source": [
        "**Top features for M**"
      ]
    },
    {
      "cell_type": "code",
      "metadata": {
        "id": "W6v3xuhJR2GR",
        "colab_type": "code",
        "colab": {}
      },
      "source": [
        ""
      ],
      "execution_count": null,
      "outputs": []
    },
    {
      "cell_type": "markdown",
      "metadata": {
        "id": "y0VMUhcvSh6a",
        "colab_type": "text"
      },
      "source": [
        "**Top features for V**"
      ]
    },
    {
      "cell_type": "code",
      "metadata": {
        "id": "wvt5rz3XSiUj",
        "colab_type": "code",
        "colab": {}
      },
      "source": [
        ""
      ],
      "execution_count": null,
      "outputs": []
    },
    {
      "cell_type": "markdown",
      "metadata": {
        "id": "aA9aYYxDumuH",
        "colab_type": "text"
      },
      "source": [
        "**Prepare data for training**"
      ]
    },
    {
      "cell_type": "code",
      "metadata": {
        "id": "p2fv-c-pqtNE",
        "colab_type": "code",
        "colab": {
          "base_uri": "https://localhost:8080/",
          "height": 54
        },
        "outputId": "7dc3226e-d7c9-4f29-a785-6dfe8bb2380b"
      },
      "source": [
        "feats = [col for col in train_df_lag.columns if col not in 'id']\n",
        "n_feats = len(feats)  \n",
        "\n",
        "# feats= ['Time', 'S1', 'S2', 'S3', 'S4']\n",
        "# feats_fft = ['S1_fft', 'S2_fft', 'S3_fft', 'S4_fft'] \n",
        "# print(feats, len(feats))\n",
        "\n",
        "print('all features #', len(feats), feats)"
      ],
      "execution_count": 17,
      "outputs": [
        {
          "output_type": "stream",
          "text": [
            "all features # 29 ['Time', 'S1', 'S2', 'S3', 'S4', 'S1_shift_pos_5', 'S1_shift_neg_5', 'S1_shift_pos_10', 'S1_shift_neg_10', 'S1_shift_pos_20', 'S1_shift_neg_20', 'S2_shift_pos_5', 'S2_shift_neg_5', 'S2_shift_pos_10', 'S2_shift_neg_10', 'S2_shift_pos_20', 'S2_shift_neg_20', 'S3_shift_pos_5', 'S3_shift_neg_5', 'S3_shift_pos_10', 'S3_shift_neg_10', 'S3_shift_pos_20', 'S3_shift_neg_20', 'S4_shift_pos_5', 'S4_shift_neg_5', 'S4_shift_pos_10', 'S4_shift_neg_10', 'S4_shift_pos_20', 'S4_shift_neg_20']\n"
          ],
          "name": "stdout"
        }
      ]
    },
    {
      "cell_type": "code",
      "metadata": {
        "id": "uWG6txovM8BS",
        "colab_type": "code",
        "colab": {
          "base_uri": "https://localhost:8080/",
          "height": 34
        },
        "outputId": "42bedc7a-287d-48c9-db67-d12ab61fcf1d"
      },
      "source": [
        "# Training data for model1\n",
        "SCALE = True   # False\n",
        "\n",
        "if SCALE:     \n",
        "    sc_inp = StandardScaler()\n",
        "    X = sc_inp.fit_transform(train_df_lag[feats].values)\n",
        "    X_test = sc_inp.transform(test_df_lag[feats].values)\n",
        "else: \n",
        "    X = train_df_lag[feats].values\n",
        "    X_test = test_df_lag[feats].values\n",
        "\n",
        "# reshape arrays\n",
        "X = X.reshape(int(len(train_df)/375), 375, n_feats, 1)\n",
        "X_test = X_test.reshape(int(len(test_df)/375), 375, n_feats, 1)\n",
        "y = targets[['X', 'Y', 'M', 'V']]\n",
        "\n",
        "X.shape, X_test.shape, y.shape"
      ],
      "execution_count": 18,
      "outputs": [
        {
          "output_type": "execute_result",
          "data": {
            "text/plain": [
              "((2800, 375, 29, 1), (700, 375, 29, 1), (2800, 4))"
            ]
          },
          "metadata": {
            "tags": []
          },
          "execution_count": 18
        }
      ]
    },
    {
      "cell_type": "code",
      "metadata": {
        "id": "0I2MsXEQQqh3",
        "colab_type": "code",
        "colab": {
          "base_uri": "https://localhost:8080/",
          "height": 34
        },
        "outputId": "f8ec7f31-f9bd-4e48-8dcf-7be321ac0c97"
      },
      "source": [
        "# Training data for model2\n",
        "train_x2 = train_df[['Time','S1','S2','S3','S4']].values.reshape((-1, 1, 375, 5))\n",
        "test_x2 = test_df[['Time','S1','S2','S3','S4']].values.reshape((-1, 1, 375, 5))\n",
        "\n",
        "# concatenate normalized data\n",
        "train_norm = normalize(train_x2)\n",
        "test_norm = normalize(test_x2)\n",
        "\n",
        "X2 = np.concatenate((train_x2, train_norm), axis=1)\n",
        "X2_test = np.concatenate((test_x2, test_norm), axis=1)\n",
        "X2_test = torch.FloatTensor(X2_test)\n",
        "\n",
        "del train_x2, test_x2, train_norm, test_norm\n",
        "gc.collect()\n",
        "\n",
        "X2.shape, X2_test.shape"
      ],
      "execution_count": 19,
      "outputs": [
        {
          "output_type": "execute_result",
          "data": {
            "text/plain": [
              "((2800, 2, 375, 5), torch.Size([700, 2, 375, 5]))"
            ]
          },
          "metadata": {
            "tags": []
          },
          "execution_count": 19
        }
      ]
    },
    {
      "cell_type": "code",
      "metadata": {
        "id": "3DG71bOQuplj",
        "colab_type": "code",
        "colab": {
          "base_uri": "https://localhost:8080/",
          "height": 34
        },
        "outputId": "13a79725-e858-481f-95a3-f322a81315d2"
      },
      "source": [
        "# Training data for model3\n",
        "\n",
        "SCALE = True\n",
        "\n",
        "if SCALE:     \n",
        "    sc_inp2 = StandardScaler()\n",
        "    X3 = sc_inp2.fit_transform(train_df2.iloc[:, 1:])\n",
        "    X3_test = sc_inp2.transform(test_df2.iloc[:, 1:])\n",
        "else: \n",
        "    X3 = train_df2.iloc[:, 1:]\n",
        "    X3_test = test_df2.iloc[:, 1:]\n",
        "\n",
        "X3.shape, X3_test.shape"
      ],
      "execution_count": 20,
      "outputs": [
        {
          "output_type": "execute_result",
          "data": {
            "text/plain": [
              "((2800, 68), (700, 68))"
            ]
          },
          "metadata": {
            "tags": []
          },
          "execution_count": 20
        }
      ]
    },
    {
      "cell_type": "code",
      "metadata": {
        "id": "i0CBG5_cUvU-",
        "colab_type": "code",
        "colab": {
          "base_uri": "https://localhost:8080/",
          "height": 34
        },
        "outputId": "1c7c9047-f9d2-40ed-a1ce-27bf4b209557"
      },
      "source": [
        "del train_df, test_df, targets\n",
        "del train_df2, test_df2\n",
        "del train_df_lag, test_df_lag\n",
        "gc.collect()"
      ],
      "execution_count": 21,
      "outputs": [
        {
          "output_type": "execute_result",
          "data": {
            "text/plain": [
              "218"
            ]
          },
          "metadata": {
            "tags": []
          },
          "execution_count": 21
        }
      ]
    },
    {
      "cell_type": "markdown",
      "metadata": {
        "id": "JiXHlEpyrANR",
        "colab_type": "text"
      },
      "source": [
        "### Model 1 [Pytorch]"
      ]
    },
    {
      "cell_type": "code",
      "metadata": {
        "id": "3KgAVWYXqwGM",
        "colab_type": "code",
        "colab": {}
      },
      "source": [
        "# Model 1 [Pytorch]\n",
        "\n",
        "class build_cnn_2(nn.Module):\n",
        "    def __init__(self, n_feature, out_len, no_channels):\n",
        "        super(build_cnn_2, self).__init__()\n",
        "        self.conv_kernel = (5, 1)      # (4,1)\n",
        "        self.pool_kernel = (2, 1)\n",
        "        \n",
        "        self.fe = nn.Sequential(\n",
        "            nn.Conv2d(in_channels=no_channels, out_channels=16, kernel_size=self.conv_kernel, stride=1),\n",
        "            nn.ELU(),\n",
        "            nn.BatchNorm2d(16),\n",
        "            nn.MaxPool2d(kernel_size = self.pool_kernel),\n",
        "            nn.Conv2d(in_channels=16, out_channels=32, kernel_size = self.conv_kernel, stride=1),\n",
        "            nn.ELU(),\n",
        "            nn.BatchNorm2d(32),\n",
        "            nn.MaxPool2d(kernel_size = self.pool_kernel),\n",
        "            nn.Conv2d(in_channels=32, out_channels=64, kernel_size = self.conv_kernel, stride=1),\n",
        "            nn.ELU(),\n",
        "            nn.BatchNorm2d(64),\n",
        "            nn.MaxPool2d(kernel_size = self.pool_kernel),\n",
        "            nn.Conv2d(in_channels=64, out_channels=128, kernel_size = self.conv_kernel, stride=1),\n",
        "            nn.ELU(),\n",
        "            nn.BatchNorm2d(128),\n",
        "            nn.MaxPool2d(kernel_size = self.pool_kernel),\n",
        "            nn.Conv2d(in_channels=128, out_channels=256, kernel_size = self.conv_kernel, stride=1),\n",
        "            nn.ELU(),\n",
        "            nn.BatchNorm2d(256),\n",
        "            nn.MaxPool2d(kernel_size = self.pool_kernel),\n",
        "            nn.Conv2d(in_channels=256, out_channels=512, kernel_size = self.conv_kernel, stride=1),\n",
        "            nn.ELU(),\n",
        "            nn.BatchNorm2d(512),\n",
        "            nn.MaxPool2d(kernel_size = self.pool_kernel)\n",
        "        )\n",
        "        \n",
        "        self.fc = nn.Sequential(\n",
        "            nn.Linear(512*1*n_feature, 256),\n",
        "            nn.ELU(),     \n",
        "            # nn.ReLU(),\n",
        "            nn.Linear(256, 128),\n",
        "            nn.ELU(),   \n",
        "            # nn.ReLU(),\n",
        "            nn.Linear(128, 64),\n",
        "            nn.ELU(),\n",
        "            # nn.ReLU(),\n",
        "            nn.Linear(64, out_len)\n",
        "        )\n",
        "        \n",
        "    def forward(self, x):\n",
        "        x = self.fe(x)\n",
        "        return self.fc(x.view(x.size(0), -1))\n",
        "\n",
        "\n"
      ],
      "execution_count": 22,
      "outputs": []
    },
    {
      "cell_type": "markdown",
      "metadata": {
        "id": "UuQJTXdrq6_q",
        "colab_type": "text"
      },
      "source": [
        "### Model 2 [TF Keras]"
      ]
    },
    {
      "cell_type": "code",
      "metadata": {
        "id": "7TR_chVOWArW",
        "colab_type": "code",
        "colab": {}
      },
      "source": [
        "# TF Keras Model 1\n",
        "\n",
        "def build_cnn_1(gap=False):\n",
        "\n",
        "    activ = 'elu'                  \n",
        "    padding = 'valid'   #'same'                  \n",
        "    nf = 32\n",
        "    fs = (5,1)                     \n",
        "    batch_norm = (True, False)\n",
        "    dp = 0.2\n",
        "\n",
        "    inp = Input(shape=X.shape[1:])\n",
        "\n",
        "    # layer-1\n",
        "    x = Conv2D(nf, fs, padding=padding, activation=activ, kernel_initializer='he_uniform')(inp)\n",
        "    if batch_norm[0]:\n",
        "        x = BatchNormalization()(x)\n",
        "    # x = ELU()(x)    # LeakyReLU(alpha=0.05)(x)\n",
        "    x = MaxPooling2D(pool_size=(2, 1))(x)\n",
        "    \n",
        "    # layer-2\n",
        "    x =Conv2D(nf*2, fs, padding=padding, activation=activ, kernel_initializer='he_uniform')(x)\n",
        "    if batch_norm[0]:\n",
        "        x = BatchNormalization()(x)\n",
        "    # x = ELU()(x)   # x = LeakyReLU(alpha=0.05)(x)\n",
        "    x = MaxPooling2D(pool_size=(2, 1))(x)\n",
        "\n",
        "    # layer-3\n",
        "    x = Conv2D(nf*4, fs, padding=padding, activation=activ, kernel_initializer='he_uniform')(x)\n",
        "    if batch_norm[0]:\n",
        "        x = BatchNormalization()(x)\n",
        "    # x = ELU()(x)  # x = LeakyReLU(alpha=0.05)(x)\n",
        "    x = MaxPooling2D(pool_size=(2, 1))(x)\n",
        "\n",
        "\n",
        "    # layer-4\n",
        "    x = Conv2D(nf*8, fs, padding=padding, activation=activ, kernel_initializer='he_uniform')(x)\n",
        "    if batch_norm[0]:\n",
        "        x = BatchNormalization()(x)\n",
        "    # x = ELU()(x)  # x = LeakyReLU(alpha=0.05)(x)\n",
        "    x = MaxPooling2D(pool_size=(2, 1))(x)\n",
        "\n",
        "    # layer-5\n",
        "    x = Conv2D(nf*16, fs, padding=padding, activation=activ, kernel_initializer='he_uniform')(x)\n",
        "    if batch_norm[0]:\n",
        "        x = BatchNormalization()(x)\n",
        "    # x = ELU()(x)  # x = LeakyReLU(alpha=0.05)(x)\n",
        "    x = MaxPooling2D(pool_size=(2, 1))(x)\n",
        "\n",
        "    # layer-6\n",
        "    x = Conv2D(nf*32, fs, padding=padding, activation=activ, )(x)\n",
        "    if batch_norm[0]:\n",
        "        x = BatchNormalization()(x)\n",
        "    # x = ELU()(x)  # x = LeakyReLU(alpha=0.05)(x)\n",
        "    x = MaxPooling2D(pool_size=(2, 1))(x)\n",
        "\n",
        "    if gap:\n",
        "        x = GlobalAveragePooling2D()(x)\n",
        "    else:\n",
        "        x = Flatten()(x)\n",
        "    \n",
        "    # FC\n",
        "    x = Dense(256, activation=activ, kernel_initializer='uniform')(x)\n",
        "    if batch_norm[1]:\n",
        "        x = BatchNormalization()(x)\n",
        "    # x = ELU()(x)                 \n",
        "    x = Dropout(dp)(x)\n",
        "\n",
        "    x = Dense(128, activation=activ, kernel_initializer='uniform')(x)\n",
        "    if batch_norm[1]:\n",
        "        x = BatchNormalization()(x)\n",
        "    # x = ELU()(x) \n",
        "    x = Dropout(dp)(x)\n",
        "    \n",
        "    x = Dense(64, activation=activ, kernel_initializer='uniform')(x)\n",
        "    if batch_norm[1]:\n",
        "        x = BatchNormalization()(x)\n",
        "    # x = ELU()(x) \n",
        "    x = Dropout(dp)(x)\n",
        "\n",
        "    out = Dense(4, activation='linear')(x)\n",
        "    model = tf.keras.models.Model(inputs=[inp], outputs=[out])\n",
        "    return model\n"
      ],
      "execution_count": 23,
      "outputs": []
    },
    {
      "cell_type": "code",
      "metadata": {
        "id": "1wV8CdpCj1p9",
        "colab_type": "code",
        "colab": {
          "base_uri": "https://localhost:8080/",
          "height": 1000
        },
        "outputId": "a77f802a-7427-4d66-b536-ecfd6ae8a829"
      },
      "source": [
        "build_cnn_1(gap=False).summary()"
      ],
      "execution_count": 25,
      "outputs": [
        {
          "output_type": "stream",
          "text": [
            "Model: \"model\"\n",
            "_________________________________________________________________\n",
            "Layer (type)                 Output Shape              Param #   \n",
            "=================================================================\n",
            "input_1 (InputLayer)         [(None, 375, 29, 1)]      0         \n",
            "_________________________________________________________________\n",
            "conv2d (Conv2D)              (None, 371, 29, 32)       192       \n",
            "_________________________________________________________________\n",
            "batch_normalization (BatchNo (None, 371, 29, 32)       128       \n",
            "_________________________________________________________________\n",
            "max_pooling2d (MaxPooling2D) (None, 185, 29, 32)       0         \n",
            "_________________________________________________________________\n",
            "conv2d_1 (Conv2D)            (None, 181, 29, 64)       10304     \n",
            "_________________________________________________________________\n",
            "batch_normalization_1 (Batch (None, 181, 29, 64)       256       \n",
            "_________________________________________________________________\n",
            "max_pooling2d_1 (MaxPooling2 (None, 90, 29, 64)        0         \n",
            "_________________________________________________________________\n",
            "conv2d_2 (Conv2D)            (None, 86, 29, 128)       41088     \n",
            "_________________________________________________________________\n",
            "batch_normalization_2 (Batch (None, 86, 29, 128)       512       \n",
            "_________________________________________________________________\n",
            "max_pooling2d_2 (MaxPooling2 (None, 43, 29, 128)       0         \n",
            "_________________________________________________________________\n",
            "conv2d_3 (Conv2D)            (None, 39, 29, 256)       164096    \n",
            "_________________________________________________________________\n",
            "batch_normalization_3 (Batch (None, 39, 29, 256)       1024      \n",
            "_________________________________________________________________\n",
            "max_pooling2d_3 (MaxPooling2 (None, 19, 29, 256)       0         \n",
            "_________________________________________________________________\n",
            "conv2d_4 (Conv2D)            (None, 15, 29, 512)       655872    \n",
            "_________________________________________________________________\n",
            "batch_normalization_4 (Batch (None, 15, 29, 512)       2048      \n",
            "_________________________________________________________________\n",
            "max_pooling2d_4 (MaxPooling2 (None, 7, 29, 512)        0         \n",
            "_________________________________________________________________\n",
            "conv2d_5 (Conv2D)            (None, 3, 29, 1024)       2622464   \n",
            "_________________________________________________________________\n",
            "batch_normalization_5 (Batch (None, 3, 29, 1024)       4096      \n",
            "_________________________________________________________________\n",
            "max_pooling2d_5 (MaxPooling2 (None, 1, 29, 1024)       0         \n",
            "_________________________________________________________________\n",
            "flatten (Flatten)            (None, 29696)             0         \n",
            "_________________________________________________________________\n",
            "dense (Dense)                (None, 256)               7602432   \n",
            "_________________________________________________________________\n",
            "dropout (Dropout)            (None, 256)               0         \n",
            "_________________________________________________________________\n",
            "dense_1 (Dense)              (None, 128)               32896     \n",
            "_________________________________________________________________\n",
            "dropout_1 (Dropout)          (None, 128)               0         \n",
            "_________________________________________________________________\n",
            "dense_2 (Dense)              (None, 64)                8256      \n",
            "_________________________________________________________________\n",
            "dropout_2 (Dropout)          (None, 64)                0         \n",
            "_________________________________________________________________\n",
            "dense_3 (Dense)              (None, 4)                 260       \n",
            "=================================================================\n",
            "Total params: 11,145,924\n",
            "Trainable params: 11,141,892\n",
            "Non-trainable params: 4,032\n",
            "_________________________________________________________________\n"
          ],
          "name": "stdout"
        }
      ]
    },
    {
      "cell_type": "markdown",
      "metadata": {
        "id": "OqQhc0eHrDnV",
        "colab_type": "text"
      },
      "source": [
        "### Model 3 [TF Keras]"
      ]
    },
    {
      "cell_type": "code",
      "metadata": {
        "id": "cHCXpSyFqzbq",
        "colab_type": "code",
        "colab": {}
      },
      "source": [
        "# TF Keras Model-3\n",
        "\n",
        "def build_cnn_3(gap=False):\n",
        "\n",
        "    activ = 'elu'                   # 'relu'\n",
        "    padding = 'valid'               # 'same'\n",
        "    nf = 32\n",
        "    fs = (5,1)                      # (5,1) (3,1)\n",
        "    batch_norm = (True, True)\n",
        "    dp = 0.2\n",
        "    k_init = 'he_uniform'    # tf.keras.initializers.glorot_normal()\n",
        "\n",
        "    # input-1\n",
        "    inp = Input(shape=X.shape[1:])\n",
        "\n",
        "    # layer-1\n",
        "    x = Conv2D(nf, fs, padding=padding, activation=None, kernel_initializer=k_init)(inp)\n",
        "    if batch_norm[0]:\n",
        "        x = BatchNormalization()(x)\n",
        "    x = ELU()(x)    \n",
        "    # LeakyReLU(alpha=0.05)(x)\n",
        "    x = MaxPooling2D(pool_size=(2, 1))(x)\n",
        "    \n",
        "    # layer-2\n",
        "    x = Conv2D(nf*2, fs, padding=padding, activation=None, kernel_initializer=k_init)(x)\n",
        "    if batch_norm[0]:\n",
        "        x = BatchNormalization()(x)\n",
        "    x = ELU()(x)   \n",
        "    # x = LeakyReLU(alpha=0.05)(x)\n",
        "    x = MaxPooling2D(pool_size=(2, 1))(x)\n",
        "\n",
        "    # layer-3\n",
        "    x = Conv2D(nf*4, fs, padding=padding, activation=None, kernel_initializer=k_init)(x)\n",
        "    if batch_norm[0]:\n",
        "        x = BatchNormalization()(x)\n",
        "    x = ELU()(x)  \n",
        "    # x = LeakyReLU(alpha=0.05)(x)\n",
        "    x = MaxPooling2D(pool_size=(2, 1))(x)\n",
        "\n",
        "    # layer-4\n",
        "    x = Conv2D(nf*8, fs, padding=padding, activation=None, kernel_initializer=k_init)(x)\n",
        "    if batch_norm[0]:\n",
        "        x = BatchNormalization()(x)\n",
        "    x = ELU()(x)  \n",
        "    # x = LeakyReLU(alpha=0.05)(x)\n",
        "    x = MaxPooling2D(pool_size=(2, 1))(x)\n",
        "\n",
        "    # layer-5\n",
        "    x = Conv2D(nf*16, fs, padding=padding, activation=None, kernel_initializer=k_init)(x)\n",
        "    if batch_norm[0]:\n",
        "        x = BatchNormalization()(x)\n",
        "    x = ELU()(x)  \n",
        "    # x = LeakyReLU(alpha=0.05)(x)\n",
        "    x = MaxPooling2D(pool_size=(2, 1))(x)\n",
        "\n",
        "    # layer-6\n",
        "    x = Conv2D(nf*32, fs, padding=padding, activation=None, kernel_initializer=k_init)(x)\n",
        "    if batch_norm[0]:\n",
        "        x = BatchNormalization()(x)\n",
        "    x = ELU()(x)  \n",
        "    # x = LeakyReLU(alpha=0.05)(x)\n",
        "    x1 = MaxPooling2D(pool_size=(2, 1))(x)\n",
        "    x1 = Flatten()(x1)\n",
        "\n",
        "    # Input-2 \n",
        "    inp2 = Input(shape=X3.shape[1])\n",
        "    x2 = Dense(512, activation='elu')(inp2)\n",
        "    x2 = Dropout(dp)(x2)\n",
        "    x2 = Dense(256, activation='elu')(x2)\n",
        "    x2 = Dropout(dp)(x2)\n",
        "\n",
        "    # merge \n",
        "    comb = concatenate([x1,x2])\n",
        "\n",
        "    if gap:\n",
        "        x3 = GlobalAveragePooling2D()(comb)\n",
        "    else:\n",
        "        x3 = Flatten()(comb)\n",
        "    \n",
        "    # FC\n",
        "    x3 = Dense(1024, activation='linear')(x3)\n",
        "    if batch_norm[1]:\n",
        "        x3 = BatchNormalization()(x3)\n",
        "    x3 = ELU()(x3)                       \n",
        "    x3 = Dropout(dp)(x3)\n",
        "\n",
        "    x3 = Dense(512, activation='linear')(x3)\n",
        "    if batch_norm[1]:\n",
        "        x3 = BatchNormalization()(x3)\n",
        "    x3 = ELU()(x3)\n",
        "    x3 = Dropout(dp)(x3)\n",
        "    \n",
        "    x3 = Dense(128, activation='linear')(x3)\n",
        "    if batch_norm[1]:\n",
        "        x3 = BatchNormalization()(x3)\n",
        "    x3 = ELU()(x3)\n",
        "    x3 = Dropout(dp)(x3)\n",
        "\n",
        "    out = Dense(4, activation='linear')(x3)\n",
        "    model = tf.keras.models.Model(inputs=[inp, inp2], outputs=[out])\n",
        "    return model"
      ],
      "execution_count": 24,
      "outputs": []
    },
    {
      "cell_type": "code",
      "metadata": {
        "id": "zGOhkQKEU6oB",
        "colab_type": "code",
        "colab": {
          "base_uri": "https://localhost:8080/",
          "height": 1000
        },
        "outputId": "139d2930-009d-4145-9913-6fb6bff03266"
      },
      "source": [
        "build_cnn_3(gap=False).summary()"
      ],
      "execution_count": null,
      "outputs": [
        {
          "output_type": "stream",
          "text": [
            "Model: \"model_1\"\n",
            "__________________________________________________________________________________________________\n",
            "Layer (type)                    Output Shape         Param #     Connected to                     \n",
            "==================================================================================================\n",
            "input_2 (InputLayer)            [(None, 375, 29, 1)] 0                                            \n",
            "__________________________________________________________________________________________________\n",
            "conv2d_6 (Conv2D)               (None, 371, 29, 32)  192         input_2[0][0]                    \n",
            "__________________________________________________________________________________________________\n",
            "batch_normalization_6 (BatchNor (None, 371, 29, 32)  128         conv2d_6[0][0]                   \n",
            "__________________________________________________________________________________________________\n",
            "elu_3 (ELU)                     (None, 371, 29, 32)  0           batch_normalization_6[0][0]      \n",
            "__________________________________________________________________________________________________\n",
            "max_pooling2d_6 (MaxPooling2D)  (None, 185, 29, 32)  0           elu_3[0][0]                      \n",
            "__________________________________________________________________________________________________\n",
            "conv2d_7 (Conv2D)               (None, 181, 29, 64)  10304       max_pooling2d_6[0][0]            \n",
            "__________________________________________________________________________________________________\n",
            "batch_normalization_7 (BatchNor (None, 181, 29, 64)  256         conv2d_7[0][0]                   \n",
            "__________________________________________________________________________________________________\n",
            "elu_4 (ELU)                     (None, 181, 29, 64)  0           batch_normalization_7[0][0]      \n",
            "__________________________________________________________________________________________________\n",
            "max_pooling2d_7 (MaxPooling2D)  (None, 90, 29, 64)   0           elu_4[0][0]                      \n",
            "__________________________________________________________________________________________________\n",
            "conv2d_8 (Conv2D)               (None, 86, 29, 128)  41088       max_pooling2d_7[0][0]            \n",
            "__________________________________________________________________________________________________\n",
            "batch_normalization_8 (BatchNor (None, 86, 29, 128)  512         conv2d_8[0][0]                   \n",
            "__________________________________________________________________________________________________\n",
            "elu_5 (ELU)                     (None, 86, 29, 128)  0           batch_normalization_8[0][0]      \n",
            "__________________________________________________________________________________________________\n",
            "max_pooling2d_8 (MaxPooling2D)  (None, 43, 29, 128)  0           elu_5[0][0]                      \n",
            "__________________________________________________________________________________________________\n",
            "conv2d_9 (Conv2D)               (None, 39, 29, 256)  164096      max_pooling2d_8[0][0]            \n",
            "__________________________________________________________________________________________________\n",
            "batch_normalization_9 (BatchNor (None, 39, 29, 256)  1024        conv2d_9[0][0]                   \n",
            "__________________________________________________________________________________________________\n",
            "elu_6 (ELU)                     (None, 39, 29, 256)  0           batch_normalization_9[0][0]      \n",
            "__________________________________________________________________________________________________\n",
            "max_pooling2d_9 (MaxPooling2D)  (None, 19, 29, 256)  0           elu_6[0][0]                      \n",
            "__________________________________________________________________________________________________\n",
            "conv2d_10 (Conv2D)              (None, 15, 29, 512)  655872      max_pooling2d_9[0][0]            \n",
            "__________________________________________________________________________________________________\n",
            "batch_normalization_10 (BatchNo (None, 15, 29, 512)  2048        conv2d_10[0][0]                  \n",
            "__________________________________________________________________________________________________\n",
            "elu_7 (ELU)                     (None, 15, 29, 512)  0           batch_normalization_10[0][0]     \n",
            "__________________________________________________________________________________________________\n",
            "max_pooling2d_10 (MaxPooling2D) (None, 7, 29, 512)   0           elu_7[0][0]                      \n",
            "__________________________________________________________________________________________________\n",
            "conv2d_11 (Conv2D)              (None, 3, 29, 1024)  2622464     max_pooling2d_10[0][0]           \n",
            "__________________________________________________________________________________________________\n",
            "input_3 (InputLayer)            [(None, 68)]         0                                            \n",
            "__________________________________________________________________________________________________\n",
            "batch_normalization_11 (BatchNo (None, 3, 29, 1024)  4096        conv2d_11[0][0]                  \n",
            "__________________________________________________________________________________________________\n",
            "dense_4 (Dense)                 (None, 512)          35328       input_3[0][0]                    \n",
            "__________________________________________________________________________________________________\n",
            "elu_8 (ELU)                     (None, 3, 29, 1024)  0           batch_normalization_11[0][0]     \n",
            "__________________________________________________________________________________________________\n",
            "dropout_3 (Dropout)             (None, 512)          0           dense_4[0][0]                    \n",
            "__________________________________________________________________________________________________\n",
            "max_pooling2d_11 (MaxPooling2D) (None, 1, 29, 1024)  0           elu_8[0][0]                      \n",
            "__________________________________________________________________________________________________\n",
            "dense_5 (Dense)                 (None, 256)          131328      dropout_3[0][0]                  \n",
            "__________________________________________________________________________________________________\n",
            "flatten_1 (Flatten)             (None, 29696)        0           max_pooling2d_11[0][0]           \n",
            "__________________________________________________________________________________________________\n",
            "dropout_4 (Dropout)             (None, 256)          0           dense_5[0][0]                    \n",
            "__________________________________________________________________________________________________\n",
            "concatenate (Concatenate)       (None, 29952)        0           flatten_1[0][0]                  \n",
            "                                                                 dropout_4[0][0]                  \n",
            "__________________________________________________________________________________________________\n",
            "flatten_2 (Flatten)             (None, 29952)        0           concatenate[0][0]                \n",
            "__________________________________________________________________________________________________\n",
            "dense_6 (Dense)                 (None, 1024)         30671872    flatten_2[0][0]                  \n",
            "__________________________________________________________________________________________________\n",
            "batch_normalization_12 (BatchNo (None, 1024)         4096        dense_6[0][0]                    \n",
            "__________________________________________________________________________________________________\n",
            "elu_9 (ELU)                     (None, 1024)         0           batch_normalization_12[0][0]     \n",
            "__________________________________________________________________________________________________\n",
            "dropout_5 (Dropout)             (None, 1024)         0           elu_9[0][0]                      \n",
            "__________________________________________________________________________________________________\n",
            "dense_7 (Dense)                 (None, 512)          524800      dropout_5[0][0]                  \n",
            "__________________________________________________________________________________________________\n",
            "batch_normalization_13 (BatchNo (None, 512)          2048        dense_7[0][0]                    \n",
            "__________________________________________________________________________________________________\n",
            "elu_10 (ELU)                    (None, 512)          0           batch_normalization_13[0][0]     \n",
            "__________________________________________________________________________________________________\n",
            "dropout_6 (Dropout)             (None, 512)          0           elu_10[0][0]                     \n",
            "__________________________________________________________________________________________________\n",
            "dense_8 (Dense)                 (None, 128)          65664       dropout_6[0][0]                  \n",
            "__________________________________________________________________________________________________\n",
            "batch_normalization_14 (BatchNo (None, 128)          512         dense_8[0][0]                    \n",
            "__________________________________________________________________________________________________\n",
            "elu_11 (ELU)                    (None, 128)          0           batch_normalization_14[0][0]     \n",
            "__________________________________________________________________________________________________\n",
            "dropout_7 (Dropout)             (None, 128)          0           elu_11[0][0]                     \n",
            "__________________________________________________________________________________________________\n",
            "dense_9 (Dense)                 (None, 4)            516         dropout_7[0][0]                  \n",
            "==================================================================================================\n",
            "Total params: 34,938,244\n",
            "Trainable params: 34,930,884\n",
            "Non-trainable params: 7,360\n",
            "__________________________________________________________________________________________________\n"
          ],
          "name": "stdout"
        }
      ]
    },
    {
      "cell_type": "markdown",
      "metadata": {
        "id": "OjJdd9Cbj3fP",
        "colab_type": "text"
      },
      "source": [
        "#5: Model Training & Evaluation"
      ]
    },
    {
      "cell_type": "markdown",
      "metadata": {
        "id": "a6uC3DJ8ezXy",
        "colab_type": "text"
      },
      "source": [
        "Master Params"
      ]
    },
    {
      "cell_type": "code",
      "metadata": {
        "id": "6Ej9x5TvvdzU",
        "colab_type": "code",
        "colab": {}
      },
      "source": [
        "DEBUG = False # True\n",
        "\n",
        "nfold = 5         # use 10 for final solution\n",
        "base_lr = 0.001   # 0.01\n",
        "initialize = True\n",
        "print_summary = True\n",
        "\n",
        "BATCH_SIZE = 128   # 32   # 256\n",
        "EPOCHS = 300\n",
        "\n",
        "if DEBUG:\n",
        "    EPOCHS = 2\n",
        "    nfold = 2"
      ],
      "execution_count": 26,
      "outputs": []
    },
    {
      "cell_type": "markdown",
      "metadata": {
        "id": "ajMx4qG5scQH",
        "colab_type": "text"
      },
      "source": [
        "### Model-1-XY [Pytorch]"
      ]
    },
    {
      "cell_type": "code",
      "metadata": {
        "id": "HlPVkZRNscwk",
        "colab_type": "code",
        "colab": {
          "base_uri": "https://localhost:8080/",
          "height": 1000
        },
        "outputId": "8c62f687-5003-4ee6-f841-fb1843844a87"
      },
      "source": [
        "# train XY\n",
        "train_target = 'XY'\n",
        "loss_xy = kfold_train('XY', X2, y)\n",
        "\n",
        "print('-'*10)\n",
        "print('> OOF loss XY:', np.mean(loss_xy))\n",
        "print('-'*10)\n",
        "\n",
        "add_feature = y[['X','Y']].values.reshape((2800, 1, 1, 2))\n",
        "add_feature = np.repeat(add_feature, 375, axis=2)\n",
        "add_feature = np.repeat(add_feature, 2, axis=1)\n",
        "X2_v = np.concatenate([X2, add_feature], axis=-1)\n",
        "\n",
        "# X2_v.shape"
      ],
      "execution_count": null,
      "outputs": [
        {
          "output_type": "stream",
          "text": [
            "> XY train...\n",
            "----------\n",
            "fold 1/5\n",
            "----------\n",
            "[1] train loss: 1.623090,  val loss drop: 10000000.0000 to: 0.3326\n",
            "[2] train loss: 0.095684,  val loss drop: 0.3326 to: 0.1576\n",
            "[3] train loss: 0.021609,  val loss drop: 0.1576 to: 0.0109\n",
            "[4] train loss: 0.007383,  val loss drop: 0.0109 to: 0.0074\n",
            "[6] train loss: 0.006679,  val loss drop: 0.0074 to: 0.0049\n",
            "[8] train loss: 0.002371,  val loss drop: 0.0049 to: 0.0029\n",
            "[10] train loss: 0.001955,  val loss drop: 0.0029 to: 0.0022\n",
            "[13] train loss: 0.002089,  val loss drop: 0.0022 to: 0.0011\n",
            "[14] train loss: 0.001292,  val loss drop: 0.0011 to: 0.0010\n",
            "[23] train loss: 0.001567,  val loss drop: 0.0010 to: 0.0008\n",
            "[38] train loss: 0.000959,  val loss drop: 0.0008 to: 0.0007\n",
            "[54] train loss: 0.001291,  val loss drop: 0.0007 to: 0.0006\n",
            "[65] train loss: 0.001094,  val loss drop: 0.0006 to: 0.0006\n",
            "[69] train loss: 0.000461,  val loss drop: 0.0006 to: 0.0005\n",
            "[74] train loss: 0.000570,  val loss drop: 0.0005 to: 0.0004\n",
            "Epoch    90: reducing learning rate of group 0 to 7.0000e-04.\n",
            "[95] train loss: 0.000374,  val loss drop: 0.0004 to: 0.0002\n",
            "[111] train loss: 0.000223,  val loss drop: 0.0002 to: 0.0002\n",
            "Epoch   127: reducing learning rate of group 0 to 4.9000e-04.\n",
            "[133] train loss: 0.000231,  val loss drop: 0.0002 to: 0.0002\n",
            "[134] train loss: 0.000178,  val loss drop: 0.0002 to: 0.0002\n",
            "Epoch   150: reducing learning rate of group 0 to 3.4300e-04.\n",
            "[151] train loss: 0.000132,  val loss drop: 0.0002 to: 0.0002\n",
            "Epoch   167: reducing learning rate of group 0 to 2.4010e-04.\n",
            "[175] train loss: 0.000091,  val loss drop: 0.0002 to: 0.0001\n",
            "[177] train loss: 0.000066,  val loss drop: 0.0001 to: 0.0001\n",
            "[193] train loss: 0.000081,  val loss drop: 0.0001 to: 0.0001\n",
            "Epoch   209: reducing learning rate of group 0 to 1.6807e-04.\n",
            "Epoch   225: reducing learning rate of group 0 to 1.1765e-04.\n",
            "[234] train loss: 0.000065,  val loss drop: 0.0001 to: 0.0001\n",
            "Epoch   250: reducing learning rate of group 0 to 8.2354e-05.\n",
            "[254] train loss: 0.000058,  val loss drop: 0.0001 to: 0.0001\n",
            "[265] train loss: 0.000041,  val loss drop: 0.0001 to: 0.0001\n",
            "[266] train loss: 0.000030,  val loss drop: 0.0001 to: 0.0001\n",
            "[275] train loss: 0.000038,  val loss drop: 0.0001 to: 0.0001\n",
            "[286] train loss: 0.000052,  val loss drop: 0.0001 to: 0.0001\n",
            "----------\n",
            "fold 2/5\n",
            "----------\n",
            "[1] train loss: 1.699161,  val loss drop: 10000000.0000 to: 0.2671\n",
            "[2] train loss: 0.086997,  val loss drop: 0.2671 to: 0.1672\n",
            "[3] train loss: 0.013992,  val loss drop: 0.1672 to: 0.0118\n",
            "[4] train loss: 0.006084,  val loss drop: 0.0118 to: 0.0068\n",
            "[8] train loss: 0.001741,  val loss drop: 0.0068 to: 0.0010\n",
            "Epoch    24: reducing learning rate of group 0 to 7.0000e-04.\n",
            "[25] train loss: 0.001191,  val loss drop: 0.0010 to: 0.0008\n",
            "[26] train loss: 0.001292,  val loss drop: 0.0008 to: 0.0008\n",
            "[28] train loss: 0.001044,  val loss drop: 0.0008 to: 0.0007\n",
            "[29] train loss: 0.000666,  val loss drop: 0.0007 to: 0.0007\n",
            "[30] train loss: 0.000497,  val loss drop: 0.0007 to: 0.0003\n",
            "Epoch    46: reducing learning rate of group 0 to 4.9000e-04.\n",
            "[52] train loss: 0.000474,  val loss drop: 0.0003 to: 0.0003\n",
            "[54] train loss: 0.000492,  val loss drop: 0.0003 to: 0.0003\n",
            "[62] train loss: 0.000297,  val loss drop: 0.0003 to: 0.0002\n",
            "Epoch    78: reducing learning rate of group 0 to 3.4300e-04.\n",
            "[84] train loss: 0.000201,  val loss drop: 0.0002 to: 0.0002\n",
            "Epoch   100: reducing learning rate of group 0 to 2.4010e-04.\n",
            "[112] train loss: 0.000157,  val loss drop: 0.0002 to: 0.0001\n",
            "Epoch   128: reducing learning rate of group 0 to 1.6807e-04.\n",
            "[136] train loss: 0.000139,  val loss drop: 0.0001 to: 0.0001\n",
            "[137] train loss: 0.000082,  val loss drop: 0.0001 to: 0.0001\n",
            "Epoch   153: reducing learning rate of group 0 to 1.1765e-04.\n",
            "[161] train loss: 0.000134,  val loss drop: 0.0001 to: 0.0001\n",
            "[171] train loss: 0.000125,  val loss drop: 0.0001 to: 0.0001\n",
            "Epoch   187: reducing learning rate of group 0 to 8.2354e-05.\n",
            "[197] train loss: 0.000112,  val loss drop: 0.0001 to: 0.0001\n",
            "[207] train loss: 0.000058,  val loss drop: 0.0001 to: 0.0001\n",
            "[211] train loss: 0.000073,  val loss drop: 0.0001 to: 0.0001\n",
            "Epoch   227: reducing learning rate of group 0 to 5.7648e-05.\n",
            "[234] train loss: 0.000076,  val loss drop: 0.0001 to: 0.0001\n",
            "Epoch   250: reducing learning rate of group 0 to 4.0354e-05.\n",
            "[255] train loss: 0.000063,  val loss drop: 0.0001 to: 0.0001\n",
            "[257] train loss: 0.000036,  val loss drop: 0.0001 to: 0.0001\n",
            "[271] train loss: 0.000055,  val loss drop: 0.0001 to: 0.0001\n",
            "Epoch   287: reducing learning rate of group 0 to 2.8248e-05.\n",
            "[292] train loss: 0.000049,  val loss drop: 0.0001 to: 0.0001\n",
            "[297] train loss: 0.000051,  val loss drop: 0.0001 to: 0.0001\n",
            "----------\n",
            "fold 3/5\n",
            "----------\n",
            "[1] train loss: 1.553310,  val loss drop: 10000000.0000 to: 0.2865\n",
            "[3] train loss: 0.013839,  val loss drop: 0.2865 to: 0.0068\n",
            "[4] train loss: 0.006957,  val loss drop: 0.0068 to: 0.0029\n",
            "[7] train loss: 0.002283,  val loss drop: 0.0029 to: 0.0024\n",
            "[9] train loss: 0.001840,  val loss drop: 0.0024 to: 0.0011\n",
            "[16] train loss: 0.002885,  val loss drop: 0.0011 to: 0.0010\n",
            "[23] train loss: 0.001170,  val loss drop: 0.0010 to: 0.0010\n",
            "[36] train loss: 0.001081,  val loss drop: 0.0010 to: 0.0004\n",
            "[43] train loss: 0.000840,  val loss drop: 0.0004 to: 0.0004\n",
            "Epoch    59: reducing learning rate of group 0 to 7.0000e-04.\n",
            "[60] train loss: 0.000428,  val loss drop: 0.0004 to: 0.0003\n",
            "[62] train loss: 0.000636,  val loss drop: 0.0003 to: 0.0002\n",
            "[68] train loss: 0.000508,  val loss drop: 0.0002 to: 0.0002\n",
            "Epoch    84: reducing learning rate of group 0 to 4.9000e-04.\n",
            "Epoch   100: reducing learning rate of group 0 to 3.4300e-04.\n",
            "[101] train loss: 0.000227,  val loss drop: 0.0002 to: 0.0002\n",
            "[102] train loss: 0.000184,  val loss drop: 0.0002 to: 0.0001\n",
            "[110] train loss: 0.000175,  val loss drop: 0.0001 to: 0.0001\n",
            "[111] train loss: 0.000187,  val loss drop: 0.0001 to: 0.0001\n",
            "[113] train loss: 0.000152,  val loss drop: 0.0001 to: 0.0001\n",
            "[120] train loss: 0.000146,  val loss drop: 0.0001 to: 0.0001\n",
            "Epoch   136: reducing learning rate of group 0 to 2.4010e-04.\n",
            "[140] train loss: 0.000147,  val loss drop: 0.0001 to: 0.0001\n",
            "Epoch   156: reducing learning rate of group 0 to 1.6807e-04.\n",
            "[161] train loss: 0.000087,  val loss drop: 0.0001 to: 0.0001\n",
            "Epoch   177: reducing learning rate of group 0 to 1.1765e-04.\n",
            "Epoch   193: reducing learning rate of group 0 to 8.2354e-05.\n",
            "[204] train loss: 0.000057,  val loss drop: 0.0001 to: 0.0001\n",
            "[207] train loss: 0.000051,  val loss drop: 0.0001 to: 0.0001\n",
            "Epoch   223: reducing learning rate of group 0 to 5.7648e-05.\n",
            "[234] train loss: 0.000055,  val loss drop: 0.0001 to: 0.0001\n",
            "Epoch   250: reducing learning rate of group 0 to 4.0354e-05.\n",
            "[263] train loss: 0.000043,  val loss drop: 0.0001 to: 0.0001\n",
            "Epoch   279: reducing learning rate of group 0 to 2.8248e-05.\n",
            "Epoch   295: reducing learning rate of group 0 to 1.9773e-05.\n",
            "----------\n",
            "fold 4/5\n",
            "----------\n",
            "[1] train loss: 1.569566,  val loss drop: 10000000.0000 to: 0.1951\n",
            "[2] train loss: 0.082995,  val loss drop: 0.1951 to: 0.0548\n",
            "[3] train loss: 0.013546,  val loss drop: 0.0548 to: 0.0073\n",
            "[4] train loss: 0.004372,  val loss drop: 0.0073 to: 0.0036\n",
            "[8] train loss: 0.001670,  val loss drop: 0.0036 to: 0.0030\n",
            "[9] train loss: 0.001868,  val loss drop: 0.0030 to: 0.0015\n",
            "[16] train loss: 0.001376,  val loss drop: 0.0015 to: 0.0010\n",
            "[21] train loss: 0.001392,  val loss drop: 0.0010 to: 0.0007\n",
            "[22] train loss: 0.001117,  val loss drop: 0.0007 to: 0.0006\n",
            "[38] train loss: 0.000855,  val loss drop: 0.0006 to: 0.0005\n",
            "Epoch    54: reducing learning rate of group 0 to 7.0000e-04.\n",
            "[59] train loss: 0.000532,  val loss drop: 0.0005 to: 0.0005\n",
            "[60] train loss: 0.000614,  val loss drop: 0.0005 to: 0.0003\n",
            "[63] train loss: 0.000766,  val loss drop: 0.0003 to: 0.0003\n",
            "[70] train loss: 0.000502,  val loss drop: 0.0003 to: 0.0002\n",
            "Epoch    86: reducing learning rate of group 0 to 4.9000e-04.\n",
            "[87] train loss: 0.000420,  val loss drop: 0.0002 to: 0.0002\n",
            "[97] train loss: 0.000325,  val loss drop: 0.0002 to: 0.0001\n",
            "Epoch   113: reducing learning rate of group 0 to 3.4300e-04.\n",
            "[129] train loss: 0.000107,  val loss drop: 0.0001 to: 0.0001\n",
            "[137] train loss: 0.000154,  val loss drop: 0.0001 to: 0.0001\n",
            "Epoch   153: reducing learning rate of group 0 to 2.4010e-04.\n",
            "[161] train loss: 0.000124,  val loss drop: 0.0001 to: 0.0001\n",
            "Epoch   177: reducing learning rate of group 0 to 1.6807e-04.\n",
            "[183] train loss: 0.000062,  val loss drop: 0.0001 to: 0.0001\n",
            "[195] train loss: 0.000059,  val loss drop: 0.0001 to: 0.0001\n",
            "Epoch   211: reducing learning rate of group 0 to 1.1765e-04.\n",
            "Epoch   227: reducing learning rate of group 0 to 8.2354e-05.\n",
            "[228] train loss: 0.000045,  val loss drop: 0.0001 to: 0.0001\n",
            "Epoch   244: reducing learning rate of group 0 to 5.7648e-05.\n",
            "[250] train loss: 0.000043,  val loss drop: 0.0001 to: 0.0001\n",
            "[253] train loss: 0.000038,  val loss drop: 0.0001 to: 0.0001\n",
            "[254] train loss: 0.000033,  val loss drop: 0.0001 to: 0.0001\n",
            "[259] train loss: 0.000041,  val loss drop: 0.0001 to: 0.0001\n",
            "[265] train loss: 0.000031,  val loss drop: 0.0001 to: 0.0001\n",
            "Epoch   281: reducing learning rate of group 0 to 4.0354e-05.\n",
            "[283] train loss: 0.000033,  val loss drop: 0.0001 to: 0.0000\n",
            "Epoch   299: reducing learning rate of group 0 to 2.8248e-05.\n",
            "----------\n",
            "fold 5/5\n",
            "----------\n",
            "[1] train loss: 1.732372,  val loss drop: 10000000.0000 to: 0.2198\n",
            "[3] train loss: 0.018442,  val loss drop: 0.2198 to: 0.0105\n",
            "[5] train loss: 0.004874,  val loss drop: 0.0105 to: 0.0074\n",
            "[7] train loss: 0.002667,  val loss drop: 0.0074 to: 0.0021\n",
            "[8] train loss: 0.002048,  val loss drop: 0.0021 to: 0.0020\n",
            "[9] train loss: 0.002285,  val loss drop: 0.0020 to: 0.0017\n",
            "[10] train loss: 0.001820,  val loss drop: 0.0017 to: 0.0016\n",
            "[12] train loss: 0.001817,  val loss drop: 0.0016 to: 0.0014\n",
            "[23] train loss: 0.001931,  val loss drop: 0.0014 to: 0.0012\n",
            "[26] train loss: 0.000935,  val loss drop: 0.0012 to: 0.0011\n",
            "[27] train loss: 0.000932,  val loss drop: 0.0011 to: 0.0006\n",
            "Epoch    43: reducing learning rate of group 0 to 7.0000e-04.\n",
            "[45] train loss: 0.001061,  val loss drop: 0.0006 to: 0.0005\n",
            "[48] train loss: 0.000625,  val loss drop: 0.0005 to: 0.0003\n",
            "[59] train loss: 0.000467,  val loss drop: 0.0003 to: 0.0003\n",
            "Epoch    75: reducing learning rate of group 0 to 4.9000e-04.\n",
            "[79] train loss: 0.000311,  val loss drop: 0.0003 to: 0.0002\n",
            "Epoch    95: reducing learning rate of group 0 to 3.4300e-04.\n",
            "[99] train loss: 0.000316,  val loss drop: 0.0002 to: 0.0002\n",
            "[104] train loss: 0.000259,  val loss drop: 0.0002 to: 0.0001\n",
            "[114] train loss: 0.000186,  val loss drop: 0.0001 to: 0.0001\n",
            "Epoch   130: reducing learning rate of group 0 to 2.4010e-04.\n",
            "Epoch   146: reducing learning rate of group 0 to 1.6807e-04.\n",
            "[148] train loss: 0.000121,  val loss drop: 0.0001 to: 0.0001\n",
            "[161] train loss: 0.000098,  val loss drop: 0.0001 to: 0.0001\n",
            "[167] train loss: 0.000086,  val loss drop: 0.0001 to: 0.0001\n",
            "Epoch   183: reducing learning rate of group 0 to 1.1765e-04.\n",
            "Epoch   199: reducing learning rate of group 0 to 8.2354e-05.\n",
            "[213] train loss: 0.000074,  val loss drop: 0.0001 to: 0.0001\n",
            "[214] train loss: 0.000071,  val loss drop: 0.0001 to: 0.0001\n",
            "Epoch   230: reducing learning rate of group 0 to 5.7648e-05.\n",
            "Epoch   246: reducing learning rate of group 0 to 4.0354e-05.\n",
            "Epoch   262: reducing learning rate of group 0 to 2.8248e-05.\n",
            "[264] train loss: 0.000036,  val loss drop: 0.0001 to: 0.0001\n",
            "[275] train loss: 0.000046,  val loss drop: 0.0001 to: 0.0001\n",
            "Epoch   291: reducing learning rate of group 0 to 1.9773e-05.\n",
            "----------\n",
            "> OOF loss XY: 6.691730926267344e-05\n",
            "----------\n"
          ],
          "name": "stdout"
        }
      ]
    },
    {
      "cell_type": "markdown",
      "metadata": {
        "id": "3t-uiPSksf-i",
        "colab_type": "text"
      },
      "source": [
        "### Model-1-V [Pytorch]"
      ]
    },
    {
      "cell_type": "code",
      "metadata": {
        "id": "GRm4HF7DsgXB",
        "colab_type": "code",
        "colab": {
          "base_uri": "https://localhost:8080/",
          "height": 1000
        },
        "outputId": "72bcd6de-cc15-4a8b-efb6-485b577dab8b"
      },
      "source": [
        "# train V using XY\n",
        "train_target = 'V'\n",
        "loss_v = kfold_train('V', X2_v, y)\n",
        "\n",
        "print('-'*10)\n",
        "print('> OOF loss V:', np.mean(loss_v))\n",
        "print('-'*10)\n",
        "\n",
        "add_feature = y[['V']].values.reshape((2800, 1, 1, 1))\n",
        "add_feature = np.repeat(add_feature, 375, axis=2)\n",
        "add_feature = np.repeat(add_feature, 2, axis=1)\n",
        "X2_m = np.concatenate((X2_v, add_feature), axis=-1)\n",
        "\n",
        "X2_m.shape"
      ],
      "execution_count": null,
      "outputs": [
        {
          "output_type": "stream",
          "text": [
            "> V train...\n",
            "----------\n",
            "fold 1/5\n",
            "----------\n",
            "[1] train loss: 16.829895,  val loss drop: 10000000.0000 to: 0.8249\n",
            "[2] train loss: 0.217815,  val loss drop: 0.8249 to: 0.1061\n",
            "[3] train loss: 0.044246,  val loss drop: 0.1061 to: 0.0288\n",
            "[4] train loss: 0.019215,  val loss drop: 0.0288 to: 0.0191\n",
            "[5] train loss: 0.011459,  val loss drop: 0.0191 to: 0.0163\n",
            "[7] train loss: 0.009995,  val loss drop: 0.0163 to: 0.0114\n",
            "[8] train loss: 0.011196,  val loss drop: 0.0114 to: 0.0095\n",
            "[9] train loss: 0.007255,  val loss drop: 0.0095 to: 0.0091\n",
            "[10] train loss: 0.010380,  val loss drop: 0.0091 to: 0.0085\n",
            "[11] train loss: 0.005455,  val loss drop: 0.0085 to: 0.0064\n",
            "[19] train loss: 0.003667,  val loss drop: 0.0064 to: 0.0046\n",
            "[20] train loss: 0.003010,  val loss drop: 0.0046 to: 0.0042\n",
            "[30] train loss: 0.007968,  val loss drop: 0.0042 to: 0.0031\n",
            "[31] train loss: 0.003720,  val loss drop: 0.0031 to: 0.0027\n",
            "[41] train loss: 0.004133,  val loss drop: 0.0027 to: 0.0025\n",
            "[42] train loss: 0.004221,  val loss drop: 0.0025 to: 0.0020\n",
            "[46] train loss: 0.005105,  val loss drop: 0.0020 to: 0.0020\n",
            "[47] train loss: 0.002627,  val loss drop: 0.0020 to: 0.0019\n",
            "[54] train loss: 0.004959,  val loss drop: 0.0019 to: 0.0017\n",
            "[57] train loss: 0.004796,  val loss drop: 0.0017 to: 0.0016\n",
            "[61] train loss: 0.002634,  val loss drop: 0.0016 to: 0.0016\n",
            "[63] train loss: 0.002387,  val loss drop: 0.0016 to: 0.0012\n",
            "Epoch    79: reducing learning rate of group 0 to 7.0000e-04.\n",
            "[80] train loss: 0.001442,  val loss drop: 0.0012 to: 0.0010\n",
            "[81] train loss: 0.003062,  val loss drop: 0.0010 to: 0.0010\n",
            "[82] train loss: 0.001859,  val loss drop: 0.0010 to: 0.0009\n",
            "[90] train loss: 0.001592,  val loss drop: 0.0009 to: 0.0008\n",
            "Epoch   106: reducing learning rate of group 0 to 4.9000e-04.\n",
            "[113] train loss: 0.001042,  val loss drop: 0.0008 to: 0.0007\n",
            "[125] train loss: 0.002243,  val loss drop: 0.0007 to: 0.0007\n",
            "Epoch   141: reducing learning rate of group 0 to 3.4300e-04.\n",
            "[145] train loss: 0.001280,  val loss drop: 0.0007 to: 0.0006\n",
            "[146] train loss: 0.001271,  val loss drop: 0.0006 to: 0.0006\n",
            "Epoch   162: reducing learning rate of group 0 to 2.4010e-04.\n",
            "[166] train loss: 0.000843,  val loss drop: 0.0006 to: 0.0005\n",
            "Epoch   182: reducing learning rate of group 0 to 1.6807e-04.\n",
            "[184] train loss: 0.000788,  val loss drop: 0.0005 to: 0.0005\n",
            "[185] train loss: 0.000935,  val loss drop: 0.0005 to: 0.0005\n",
            "Epoch   201: reducing learning rate of group 0 to 1.1765e-04.\n",
            "Epoch   217: reducing learning rate of group 0 to 8.2354e-05.\n",
            "[221] train loss: 0.000638,  val loss drop: 0.0005 to: 0.0005\n",
            "Epoch   237: reducing learning rate of group 0 to 5.7648e-05.\n",
            "[244] train loss: 0.000707,  val loss drop: 0.0005 to: 0.0005\n",
            "[248] train loss: 0.000495,  val loss drop: 0.0005 to: 0.0005\n",
            "[252] train loss: 0.000321,  val loss drop: 0.0005 to: 0.0005\n",
            "Epoch   268: reducing learning rate of group 0 to 4.0354e-05.\n",
            "Epoch   284: reducing learning rate of group 0 to 2.8248e-05.\n",
            "[289] train loss: 0.000442,  val loss drop: 0.0005 to: 0.0005\n",
            "----------\n",
            "fold 2/5\n",
            "----------\n",
            "[1] train loss: 29.053334,  val loss drop: 10000000.0000 to: 0.3422\n",
            "[2] train loss: 0.170192,  val loss drop: 0.3422 to: 0.1261\n",
            "[3] train loss: 0.060800,  val loss drop: 0.1261 to: 0.0781\n",
            "[4] train loss: 0.027367,  val loss drop: 0.0781 to: 0.0286\n",
            "[5] train loss: 0.029639,  val loss drop: 0.0286 to: 0.0266\n",
            "[6] train loss: 0.027642,  val loss drop: 0.0266 to: 0.0124\n",
            "[7] train loss: 0.011810,  val loss drop: 0.0124 to: 0.0092\n",
            "[12] train loss: 0.009070,  val loss drop: 0.0092 to: 0.0062\n",
            "[17] train loss: 0.006493,  val loss drop: 0.0062 to: 0.0049\n",
            "[23] train loss: 0.005873,  val loss drop: 0.0049 to: 0.0046\n",
            "[25] train loss: 0.009361,  val loss drop: 0.0046 to: 0.0038\n",
            "[29] train loss: 0.005808,  val loss drop: 0.0038 to: 0.0038\n",
            "[34] train loss: 0.009739,  val loss drop: 0.0038 to: 0.0031\n",
            "[35] train loss: 0.003751,  val loss drop: 0.0031 to: 0.0026\n",
            "[46] train loss: 0.001952,  val loss drop: 0.0026 to: 0.0022\n",
            "[62] train loss: 0.003188,  val loss drop: 0.0022 to: 0.0021\n",
            "[63] train loss: 0.004930,  val loss drop: 0.0021 to: 0.0020\n",
            "[64] train loss: 0.003713,  val loss drop: 0.0020 to: 0.0017\n",
            "[71] train loss: 0.002080,  val loss drop: 0.0017 to: 0.0012\n",
            "[86] train loss: 0.002712,  val loss drop: 0.0012 to: 0.0012\n",
            "[93] train loss: 0.001750,  val loss drop: 0.0012 to: 0.0012\n",
            "Epoch   109: reducing learning rate of group 0 to 7.0000e-04.\n",
            "[112] train loss: 0.004793,  val loss drop: 0.0012 to: 0.0011\n",
            "[115] train loss: 0.001776,  val loss drop: 0.0011 to: 0.0008\n",
            "Epoch   131: reducing learning rate of group 0 to 4.9000e-04.\n",
            "[136] train loss: 0.001017,  val loss drop: 0.0008 to: 0.0008\n",
            "[139] train loss: 0.000732,  val loss drop: 0.0008 to: 0.0007\n",
            "[141] train loss: 0.000748,  val loss drop: 0.0007 to: 0.0005\n",
            "[155] train loss: 0.000578,  val loss drop: 0.0005 to: 0.0005\n",
            "Epoch   171: reducing learning rate of group 0 to 3.4300e-04.\n",
            "[172] train loss: 0.001203,  val loss drop: 0.0005 to: 0.0005\n",
            "[180] train loss: 0.000884,  val loss drop: 0.0005 to: 0.0005\n",
            "Epoch   196: reducing learning rate of group 0 to 2.4010e-04.\n",
            "Epoch   212: reducing learning rate of group 0 to 1.6807e-04.\n",
            "[213] train loss: 0.000573,  val loss drop: 0.0005 to: 0.0005\n",
            "[222] train loss: 0.001585,  val loss drop: 0.0005 to: 0.0005\n",
            "[225] train loss: 0.001299,  val loss drop: 0.0005 to: 0.0005\n",
            "[238] train loss: 0.000313,  val loss drop: 0.0005 to: 0.0004\n",
            "[243] train loss: 0.000714,  val loss drop: 0.0004 to: 0.0004\n",
            "Epoch   259: reducing learning rate of group 0 to 1.1765e-04.\n",
            "[264] train loss: 0.000557,  val loss drop: 0.0004 to: 0.0004\n",
            "Epoch   280: reducing learning rate of group 0 to 8.2354e-05.\n",
            "[291] train loss: 0.000967,  val loss drop: 0.0004 to: 0.0004\n",
            "[298] train loss: 0.000367,  val loss drop: 0.0004 to: 0.0004\n",
            "----------\n",
            "fold 3/5\n",
            "----------\n",
            "[1] train loss: 64.079230,  val loss drop: 10000000.0000 to: 0.4254\n",
            "[2] train loss: 0.275278,  val loss drop: 0.4254 to: 0.1458\n",
            "[3] train loss: 0.055748,  val loss drop: 0.1458 to: 0.0329\n",
            "[5] train loss: 0.036341,  val loss drop: 0.0329 to: 0.0180\n",
            "[8] train loss: 0.018299,  val loss drop: 0.0180 to: 0.0164\n",
            "[9] train loss: 0.015062,  val loss drop: 0.0164 to: 0.0113\n",
            "[17] train loss: 0.012730,  val loss drop: 0.0113 to: 0.0087\n",
            "[22] train loss: 0.008107,  val loss drop: 0.0087 to: 0.0076\n",
            "[29] train loss: 0.007521,  val loss drop: 0.0076 to: 0.0062\n",
            "[33] train loss: 0.010404,  val loss drop: 0.0062 to: 0.0059\n",
            "[34] train loss: 0.007305,  val loss drop: 0.0059 to: 0.0045\n",
            "[39] train loss: 0.007553,  val loss drop: 0.0045 to: 0.0040\n",
            "[51] train loss: 0.004041,  val loss drop: 0.0040 to: 0.0038\n",
            "[52] train loss: 0.007271,  val loss drop: 0.0038 to: 0.0029\n",
            "Epoch    68: reducing learning rate of group 0 to 7.0000e-04.\n",
            "[69] train loss: 0.004662,  val loss drop: 0.0029 to: 0.0028\n",
            "[75] train loss: 0.003980,  val loss drop: 0.0028 to: 0.0026\n",
            "[77] train loss: 0.001939,  val loss drop: 0.0026 to: 0.0023\n",
            "[79] train loss: 0.002216,  val loss drop: 0.0023 to: 0.0022\n",
            "[85] train loss: 0.002152,  val loss drop: 0.0022 to: 0.0021\n",
            "Epoch   101: reducing learning rate of group 0 to 4.9000e-04.\n",
            "Epoch   117: reducing learning rate of group 0 to 3.4300e-04.\n",
            "[119] train loss: 0.001906,  val loss drop: 0.0021 to: 0.0020\n",
            "[121] train loss: 0.001400,  val loss drop: 0.0020 to: 0.0020\n",
            "[123] train loss: 0.001287,  val loss drop: 0.0020 to: 0.0016\n",
            "Epoch   139: reducing learning rate of group 0 to 2.4010e-04.\n",
            "[141] train loss: 0.001033,  val loss drop: 0.0016 to: 0.0015\n",
            "[155] train loss: 0.000729,  val loss drop: 0.0015 to: 0.0015\n",
            "Epoch   171: reducing learning rate of group 0 to 1.6807e-04.\n",
            "Epoch   187: reducing learning rate of group 0 to 1.1765e-04.\n",
            "[188] train loss: 0.000632,  val loss drop: 0.0015 to: 0.0014\n",
            "[189] train loss: 0.000955,  val loss drop: 0.0014 to: 0.0014\n",
            "[192] train loss: 0.000564,  val loss drop: 0.0014 to: 0.0013\n",
            "Epoch   208: reducing learning rate of group 0 to 8.2354e-05.\n",
            "[222] train loss: 0.001137,  val loss drop: 0.0013 to: 0.0013\n",
            "[229] train loss: 0.000915,  val loss drop: 0.0013 to: 0.0012\n",
            "Epoch   245: reducing learning rate of group 0 to 5.7648e-05.\n",
            "[249] train loss: 0.000640,  val loss drop: 0.0012 to: 0.0012\n",
            "Epoch   265: reducing learning rate of group 0 to 4.0354e-05.\n",
            "Epoch   281: reducing learning rate of group 0 to 2.8248e-05.\n",
            "Epoch   297: reducing learning rate of group 0 to 1.9773e-05.\n",
            "----------\n",
            "fold 4/5\n",
            "----------\n",
            "[1] train loss: 36.070559,  val loss drop: 10000000.0000 to: 0.5801\n",
            "[2] train loss: 0.227430,  val loss drop: 0.5801 to: 0.0583\n",
            "[3] train loss: 0.063046,  val loss drop: 0.0583 to: 0.0382\n",
            "[4] train loss: 0.027470,  val loss drop: 0.0382 to: 0.0232\n",
            "[5] train loss: 0.017054,  val loss drop: 0.0232 to: 0.0201\n",
            "[7] train loss: 0.014374,  val loss drop: 0.0201 to: 0.0171\n",
            "[9] train loss: 0.012478,  val loss drop: 0.0171 to: 0.0146\n",
            "[10] train loss: 0.010067,  val loss drop: 0.0146 to: 0.0126\n",
            "[18] train loss: 0.015550,  val loss drop: 0.0126 to: 0.0107\n",
            "[22] train loss: 0.005847,  val loss drop: 0.0107 to: 0.0091\n",
            "[26] train loss: 0.004580,  val loss drop: 0.0091 to: 0.0086\n",
            "[27] train loss: 0.004510,  val loss drop: 0.0086 to: 0.0075\n",
            "[29] train loss: 0.005182,  val loss drop: 0.0075 to: 0.0070\n",
            "Epoch    45: reducing learning rate of group 0 to 7.0000e-04.\n",
            "[46] train loss: 0.008802,  val loss drop: 0.0070 to: 0.0069\n",
            "[47] train loss: 0.004634,  val loss drop: 0.0069 to: 0.0053\n",
            "[51] train loss: 0.004031,  val loss drop: 0.0053 to: 0.0052\n",
            "[54] train loss: 0.002922,  val loss drop: 0.0052 to: 0.0051\n",
            "[61] train loss: 0.001659,  val loss drop: 0.0051 to: 0.0050\n",
            "[68] train loss: 0.002219,  val loss drop: 0.0050 to: 0.0046\n",
            "[72] train loss: 0.001908,  val loss drop: 0.0046 to: 0.0042\n",
            "[73] train loss: 0.001923,  val loss drop: 0.0042 to: 0.0039\n",
            "[87] train loss: 0.001522,  val loss drop: 0.0039 to: 0.0037\n",
            "[94] train loss: 0.001509,  val loss drop: 0.0037 to: 0.0036\n",
            "[104] train loss: 0.002797,  val loss drop: 0.0036 to: 0.0032\n",
            "[111] train loss: 0.001755,  val loss drop: 0.0032 to: 0.0030\n",
            "[115] train loss: 0.002650,  val loss drop: 0.0030 to: 0.0027\n",
            "[127] train loss: 0.001731,  val loss drop: 0.0027 to: 0.0026\n",
            "[134] train loss: 0.001501,  val loss drop: 0.0026 to: 0.0022\n",
            "[147] train loss: 0.003268,  val loss drop: 0.0022 to: 0.0019\n",
            "[154] train loss: 0.001442,  val loss drop: 0.0019 to: 0.0016\n",
            "[160] train loss: 0.001316,  val loss drop: 0.0016 to: 0.0015\n",
            "[162] train loss: 0.001191,  val loss drop: 0.0015 to: 0.0014\n",
            "Epoch   178: reducing learning rate of group 0 to 4.9000e-04.\n",
            "[194] train loss: 0.001884,  val loss drop: 0.0014 to: 0.0013\n",
            "[195] train loss: 0.001182,  val loss drop: 0.0013 to: 0.0012\n",
            "[197] train loss: 0.001039,  val loss drop: 0.0012 to: 0.0010\n",
            "Epoch   213: reducing learning rate of group 0 to 3.4300e-04.\n",
            "[220] train loss: 0.001173,  val loss drop: 0.0010 to: 0.0010\n",
            "[225] train loss: 0.000985,  val loss drop: 0.0010 to: 0.0010\n",
            "[226] train loss: 0.000581,  val loss drop: 0.0010 to: 0.0010\n",
            "[230] train loss: 0.000878,  val loss drop: 0.0010 to: 0.0009\n",
            "Epoch   246: reducing learning rate of group 0 to 2.4010e-04.\n",
            "[252] train loss: 0.001072,  val loss drop: 0.0009 to: 0.0009\n",
            "[254] train loss: 0.000549,  val loss drop: 0.0009 to: 0.0009\n",
            "Epoch   270: reducing learning rate of group 0 to 1.6807e-04.\n",
            "[274] train loss: 0.000892,  val loss drop: 0.0009 to: 0.0007\n",
            "Epoch   290: reducing learning rate of group 0 to 1.1765e-04.\n",
            "[300] train loss: 0.000654,  val loss drop: 0.0007 to: 0.0007\n",
            "----------\n",
            "fold 5/5\n",
            "----------\n",
            "[1] train loss: 35.638686,  val loss drop: 10000000.0000 to: 0.3596\n",
            "[2] train loss: 0.214247,  val loss drop: 0.3596 to: 0.0645\n",
            "[3] train loss: 0.051161,  val loss drop: 0.0645 to: 0.0370\n",
            "[4] train loss: 0.023872,  val loss drop: 0.0370 to: 0.0168\n",
            "[5] train loss: 0.014159,  val loss drop: 0.0168 to: 0.0129\n",
            "[7] train loss: 0.013599,  val loss drop: 0.0129 to: 0.0111\n",
            "[8] train loss: 0.007631,  val loss drop: 0.0111 to: 0.0086\n",
            "[10] train loss: 0.009930,  val loss drop: 0.0086 to: 0.0080\n",
            "[11] train loss: 0.006499,  val loss drop: 0.0080 to: 0.0079\n",
            "[13] train loss: 0.008770,  val loss drop: 0.0079 to: 0.0070\n",
            "[18] train loss: 0.006802,  val loss drop: 0.0070 to: 0.0052\n",
            "[24] train loss: 0.013201,  val loss drop: 0.0052 to: 0.0047\n",
            "[27] train loss: 0.005661,  val loss drop: 0.0047 to: 0.0037\n",
            "[30] train loss: 0.003190,  val loss drop: 0.0037 to: 0.0037\n",
            "[32] train loss: 0.006309,  val loss drop: 0.0037 to: 0.0036\n",
            "[36] train loss: 0.005156,  val loss drop: 0.0036 to: 0.0033\n",
            "[41] train loss: 0.009010,  val loss drop: 0.0033 to: 0.0030\n",
            "[49] train loss: 0.003170,  val loss drop: 0.0030 to: 0.0025\n",
            "[52] train loss: 0.003538,  val loss drop: 0.0025 to: 0.0022\n",
            "Epoch    68: reducing learning rate of group 0 to 7.0000e-04.\n",
            "[69] train loss: 0.002626,  val loss drop: 0.0022 to: 0.0018\n",
            "[74] train loss: 0.001768,  val loss drop: 0.0018 to: 0.0016\n",
            "[86] train loss: 0.001086,  val loss drop: 0.0016 to: 0.0014\n",
            "Epoch   102: reducing learning rate of group 0 to 4.9000e-04.\n",
            "[104] train loss: 0.001165,  val loss drop: 0.0014 to: 0.0014\n",
            "[106] train loss: 0.001321,  val loss drop: 0.0014 to: 0.0012\n",
            "[112] train loss: 0.001417,  val loss drop: 0.0012 to: 0.0012\n",
            "[118] train loss: 0.001095,  val loss drop: 0.0012 to: 0.0011\n",
            "[122] train loss: 0.002052,  val loss drop: 0.0011 to: 0.0011\n",
            "[138] train loss: 0.001344,  val loss drop: 0.0011 to: 0.0010\n",
            "Epoch   154: reducing learning rate of group 0 to 3.4300e-04.\n",
            "[162] train loss: 0.002586,  val loss drop: 0.0010 to: 0.0010\n",
            "[167] train loss: 0.001745,  val loss drop: 0.0010 to: 0.0010\n",
            "[168] train loss: 0.000649,  val loss drop: 0.0010 to: 0.0010\n",
            "[178] train loss: 0.001360,  val loss drop: 0.0010 to: 0.0010\n",
            "Epoch   194: reducing learning rate of group 0 to 2.4010e-04.\n",
            "[203] train loss: 0.001106,  val loss drop: 0.0010 to: 0.0009\n",
            "[206] train loss: 0.000478,  val loss drop: 0.0009 to: 0.0008\n",
            "[211] train loss: 0.000676,  val loss drop: 0.0008 to: 0.0008\n",
            "[216] train loss: 0.001348,  val loss drop: 0.0008 to: 0.0008\n",
            "[221] train loss: 0.001052,  val loss drop: 0.0008 to: 0.0008\n",
            "Epoch   237: reducing learning rate of group 0 to 1.6807e-04.\n",
            "[239] train loss: 0.000552,  val loss drop: 0.0008 to: 0.0008\n",
            "[243] train loss: 0.000572,  val loss drop: 0.0008 to: 0.0008\n",
            "Epoch   259: reducing learning rate of group 0 to 1.1765e-04.\n",
            "[260] train loss: 0.000763,  val loss drop: 0.0008 to: 0.0008\n",
            "[268] train loss: 0.000529,  val loss drop: 0.0008 to: 0.0007\n",
            "[272] train loss: 0.000682,  val loss drop: 0.0007 to: 0.0007\n",
            "Epoch   288: reducing learning rate of group 0 to 8.2354e-05.\n",
            "----------\n",
            "> OOF loss V: 0.0007142314931549362\n",
            "----------\n"
          ],
          "name": "stdout"
        },
        {
          "output_type": "execute_result",
          "data": {
            "text/plain": [
              "(2800, 2, 375, 8)"
            ]
          },
          "metadata": {
            "tags": []
          },
          "execution_count": 78
        }
      ]
    },
    {
      "cell_type": "markdown",
      "metadata": {
        "id": "oI4wGCYCslIl",
        "colab_type": "text"
      },
      "source": [
        "### Model-1-M [Pytorch]"
      ]
    },
    {
      "cell_type": "code",
      "metadata": {
        "id": "rf7k7S85soqu",
        "colab_type": "code",
        "colab": {
          "base_uri": "https://localhost:8080/",
          "height": 1000
        },
        "outputId": "6762be9b-96cc-4fad-9cc5-648dc01740dc"
      },
      "source": [
        "# train M \n",
        "train_target = 'M'\n",
        "loss_m = kfold_train('M', X2_m, y)\n",
        "\n",
        "print('-'*10)\n",
        "print('> OOF loss M:', np.mean(loss_m))\n",
        "print('-'*10)"
      ],
      "execution_count": null,
      "outputs": [
        {
          "output_type": "stream",
          "text": [
            "> M train...\n",
            "----------\n",
            "fold 1/5\n",
            "----------\n",
            "[1] train loss: 17.761390,  val loss drop: 10000000.0000 to: 16.4242\n",
            "[2] train loss: 1.228480,  val loss drop: 16.4242 to: 13.1234\n",
            "[3] train loss: 0.826616,  val loss drop: 13.1234 to: 0.2921\n",
            "[10] train loss: 0.467483,  val loss drop: 0.2921 to: 0.1276\n",
            "[17] train loss: 0.225082,  val loss drop: 0.1276 to: 0.0761\n",
            "[20] train loss: 0.386557,  val loss drop: 0.0761 to: 0.0747\n",
            "[26] train loss: 0.367959,  val loss drop: 0.0747 to: 0.0740\n",
            "[31] train loss: 0.192129,  val loss drop: 0.0740 to: 0.0366\n",
            "[45] train loss: 0.216724,  val loss drop: 0.0366 to: 0.0251\n",
            "Epoch    61: reducing learning rate of group 0 to 7.0000e-04.\n",
            "[68] train loss: 0.212289,  val loss drop: 0.0251 to: 0.0187\n",
            "Epoch    84: reducing learning rate of group 0 to 4.9000e-04.\n",
            "[85] train loss: 0.126084,  val loss drop: 0.0187 to: 0.0138\n",
            "[93] train loss: 0.111156,  val loss drop: 0.0138 to: 0.0072\n",
            "Epoch   109: reducing learning rate of group 0 to 3.4300e-04.\n",
            "Epoch   125: reducing learning rate of group 0 to 2.4010e-04.\n",
            "[132] train loss: 0.099137,  val loss drop: 0.0072 to: 0.0069\n",
            "[137] train loss: 0.079498,  val loss drop: 0.0069 to: 0.0069\n",
            "[138] train loss: 0.078878,  val loss drop: 0.0069 to: 0.0057\n",
            "Epoch   154: reducing learning rate of group 0 to 1.6807e-04.\n",
            "[163] train loss: 0.049309,  val loss drop: 0.0057 to: 0.0055\n",
            "[168] train loss: 0.053334,  val loss drop: 0.0055 to: 0.0055\n",
            "[175] train loss: 0.042315,  val loss drop: 0.0055 to: 0.0036\n",
            "Epoch   191: reducing learning rate of group 0 to 1.1765e-04.\n",
            "Epoch   207: reducing learning rate of group 0 to 8.2354e-05.\n",
            "Epoch   223: reducing learning rate of group 0 to 5.7648e-05.\n",
            "[229] train loss: 0.046973,  val loss drop: 0.0036 to: 0.0035\n",
            "Epoch   245: reducing learning rate of group 0 to 4.0354e-05.\n",
            "[258] train loss: 0.020724,  val loss drop: 0.0035 to: 0.0034\n",
            "[273] train loss: 0.036023,  val loss drop: 0.0034 to: 0.0033\n",
            "[274] train loss: 0.042303,  val loss drop: 0.0033 to: 0.0033\n",
            "Epoch   290: reducing learning rate of group 0 to 2.8248e-05.\n",
            "----------\n",
            "fold 2/5\n",
            "----------\n",
            "[1] train loss: 15.076678,  val loss drop: 10000000.0000 to: 11.1672\n",
            "[2] train loss: 0.781465,  val loss drop: 11.1672 to: 1.9570\n",
            "[3] train loss: 0.538744,  val loss drop: 1.9570 to: 0.7711\n",
            "[4] train loss: 0.717972,  val loss drop: 0.7711 to: 0.2304\n",
            "[5] train loss: 0.396226,  val loss drop: 0.2304 to: 0.1434\n",
            "[6] train loss: 0.371370,  val loss drop: 0.1434 to: 0.1052\n",
            "[15] train loss: 0.286164,  val loss drop: 0.1052 to: 0.0410\n",
            "[22] train loss: 0.514611,  val loss drop: 0.0410 to: 0.0367\n",
            "Epoch    38: reducing learning rate of group 0 to 7.0000e-04.\n",
            "[41] train loss: 0.200958,  val loss drop: 0.0367 to: 0.0282\n",
            "[48] train loss: 0.095523,  val loss drop: 0.0282 to: 0.0237\n",
            "[57] train loss: 0.271686,  val loss drop: 0.0237 to: 0.0209\n",
            "Epoch    73: reducing learning rate of group 0 to 4.9000e-04.\n",
            "Epoch    89: reducing learning rate of group 0 to 3.4300e-04.\n",
            "[90] train loss: 0.098207,  val loss drop: 0.0209 to: 0.0203\n",
            "[97] train loss: 0.089666,  val loss drop: 0.0203 to: 0.0157\n",
            "[107] train loss: 0.070350,  val loss drop: 0.0157 to: 0.0086\n",
            "[117] train loss: 0.074170,  val loss drop: 0.0086 to: 0.0059\n",
            "Epoch   133: reducing learning rate of group 0 to 2.4010e-04.\n",
            "Epoch   149: reducing learning rate of group 0 to 1.6807e-04.\n",
            "[152] train loss: 0.137490,  val loss drop: 0.0059 to: 0.0052\n",
            "Epoch   168: reducing learning rate of group 0 to 1.1765e-04.\n",
            "[174] train loss: 0.067949,  val loss drop: 0.0052 to: 0.0050\n",
            "[175] train loss: 0.057558,  val loss drop: 0.0050 to: 0.0041\n",
            "Epoch   191: reducing learning rate of group 0 to 8.2354e-05.\n",
            "Epoch   207: reducing learning rate of group 0 to 5.7648e-05.\n",
            "[222] train loss: 0.036144,  val loss drop: 0.0041 to: 0.0036\n",
            "[232] train loss: 0.026026,  val loss drop: 0.0036 to: 0.0036\n",
            "Epoch   248: reducing learning rate of group 0 to 4.0354e-05.\n",
            "[253] train loss: 0.014007,  val loss drop: 0.0036 to: 0.0035\n",
            "Epoch   269: reducing learning rate of group 0 to 2.8248e-05.\n",
            "Epoch   285: reducing learning rate of group 0 to 1.9773e-05.\n",
            "----------\n",
            "fold 3/5\n",
            "----------\n",
            "[1] train loss: 16.789543,  val loss drop: 10000000.0000 to: 30.1574\n",
            "[2] train loss: 1.254088,  val loss drop: 30.1574 to: 2.6952\n",
            "[3] train loss: 0.586076,  val loss drop: 2.6952 to: 0.1984\n",
            "[6] train loss: 0.426751,  val loss drop: 0.1984 to: 0.0665\n",
            "[13] train loss: 0.409601,  val loss drop: 0.0665 to: 0.0433\n",
            "[23] train loss: 0.221947,  val loss drop: 0.0433 to: 0.0269\n",
            "[24] train loss: 0.162161,  val loss drop: 0.0269 to: 0.0202\n",
            "Epoch    40: reducing learning rate of group 0 to 7.0000e-04.\n",
            "[46] train loss: 0.105076,  val loss drop: 0.0202 to: 0.0183\n",
            "Epoch    62: reducing learning rate of group 0 to 4.9000e-04.\n",
            "[66] train loss: 0.097026,  val loss drop: 0.0183 to: 0.0091\n",
            "[68] train loss: 0.089033,  val loss drop: 0.0091 to: 0.0089\n",
            "[73] train loss: 0.123012,  val loss drop: 0.0089 to: 0.0072\n",
            "Epoch    89: reducing learning rate of group 0 to 3.4300e-04.\n",
            "Epoch   105: reducing learning rate of group 0 to 2.4010e-04.\n",
            "[108] train loss: 0.060889,  val loss drop: 0.0072 to: 0.0059\n",
            "[110] train loss: 0.051648,  val loss drop: 0.0059 to: 0.0056\n",
            "[119] train loss: 0.107390,  val loss drop: 0.0056 to: 0.0056\n",
            "Epoch   135: reducing learning rate of group 0 to 1.6807e-04.\n",
            "[141] train loss: 0.082716,  val loss drop: 0.0056 to: 0.0050\n",
            "Epoch   157: reducing learning rate of group 0 to 1.1765e-04.\n",
            "Epoch   173: reducing learning rate of group 0 to 8.2354e-05.\n",
            "[187] train loss: 0.078372,  val loss drop: 0.0050 to: 0.0046\n",
            "Epoch   203: reducing learning rate of group 0 to 5.7648e-05.\n",
            "[212] train loss: 0.060778,  val loss drop: 0.0046 to: 0.0045\n",
            "[214] train loss: 0.041644,  val loss drop: 0.0045 to: 0.0041\n",
            "[217] train loss: 0.030974,  val loss drop: 0.0041 to: 0.0036\n",
            "Epoch   233: reducing learning rate of group 0 to 4.0354e-05.\n",
            "Epoch   249: reducing learning rate of group 0 to 2.8248e-05.\n",
            "Epoch   265: reducing learning rate of group 0 to 1.9773e-05.\n",
            "[280] train loss: 0.040349,  val loss drop: 0.0036 to: 0.0035\n",
            "Epoch   296: reducing learning rate of group 0 to 1.3841e-05.\n",
            "----------\n",
            "fold 4/5\n",
            "----------\n",
            "[1] train loss: 14.006657,  val loss drop: 10000000.0000 to: 5.9054\n",
            "[2] train loss: 0.881801,  val loss drop: 5.9054 to: 2.5652\n",
            "[3] train loss: 0.454724,  val loss drop: 2.5652 to: 0.9095\n",
            "[4] train loss: 0.553449,  val loss drop: 0.9095 to: 0.7423\n",
            "[6] train loss: 0.311449,  val loss drop: 0.7423 to: 0.3162\n",
            "[8] train loss: 0.631544,  val loss drop: 0.3162 to: 0.1441\n",
            "[11] train loss: 0.209406,  val loss drop: 0.1441 to: 0.0665\n",
            "[19] train loss: 1.033955,  val loss drop: 0.0665 to: 0.0471\n",
            "[21] train loss: 0.289201,  val loss drop: 0.0471 to: 0.0466\n",
            "[25] train loss: 0.209718,  val loss drop: 0.0466 to: 0.0397\n",
            "Epoch    41: reducing learning rate of group 0 to 7.0000e-04.\n",
            "[45] train loss: 0.180360,  val loss drop: 0.0397 to: 0.0236\n",
            "Epoch    61: reducing learning rate of group 0 to 4.9000e-04.\n",
            "[70] train loss: 0.134784,  val loss drop: 0.0236 to: 0.0101\n",
            "[76] train loss: 0.091568,  val loss drop: 0.0101 to: 0.0090\n",
            "Epoch    92: reducing learning rate of group 0 to 3.4300e-04.\n",
            "[93] train loss: 0.094902,  val loss drop: 0.0090 to: 0.0089\n",
            "[95] train loss: 0.065812,  val loss drop: 0.0089 to: 0.0077\n",
            "[98] train loss: 0.065039,  val loss drop: 0.0077 to: 0.0066\n",
            "Epoch   114: reducing learning rate of group 0 to 2.4010e-04.\n",
            "[122] train loss: 0.062967,  val loss drop: 0.0066 to: 0.0043\n",
            "Epoch   138: reducing learning rate of group 0 to 1.6807e-04.\n",
            "Epoch   154: reducing learning rate of group 0 to 1.1765e-04.\n",
            "Epoch   170: reducing learning rate of group 0 to 8.2354e-05.\n",
            "[182] train loss: 0.063168,  val loss drop: 0.0043 to: 0.0043\n",
            "[186] train loss: 0.047309,  val loss drop: 0.0043 to: 0.0034\n",
            "Epoch   202: reducing learning rate of group 0 to 5.7648e-05.\n",
            "Epoch   218: reducing learning rate of group 0 to 4.0354e-05.\n",
            "Epoch   234: reducing learning rate of group 0 to 2.8248e-05.\n",
            "Epoch   250: reducing learning rate of group 0 to 1.9773e-05.\n",
            "[266] train loss: 0.074602,  val loss drop: 0.0034 to: 0.0033\n",
            "Epoch   282: reducing learning rate of group 0 to 1.3841e-05.\n",
            "Epoch   298: reducing learning rate of group 0 to 9.6889e-06.\n",
            "----------\n",
            "fold 5/5\n",
            "----------\n",
            "[1] train loss: 16.786088,  val loss drop: 10000000.0000 to: 44.7512\n",
            "[2] train loss: 1.568801,  val loss drop: 44.7512 to: 1.0418\n",
            "[3] train loss: 0.836827,  val loss drop: 1.0418 to: 0.8987\n",
            "[4] train loss: 1.150670,  val loss drop: 0.8987 to: 0.7055\n",
            "[5] train loss: 0.568856,  val loss drop: 0.7055 to: 0.4584\n",
            "[6] train loss: 0.410520,  val loss drop: 0.4584 to: 0.2365\n",
            "[9] train loss: 0.842789,  val loss drop: 0.2365 to: 0.1604\n",
            "[16] train loss: 0.673222,  val loss drop: 0.1604 to: 0.1134\n",
            "[18] train loss: 0.228313,  val loss drop: 0.1134 to: 0.0741\n",
            "[21] train loss: 0.247430,  val loss drop: 0.0741 to: 0.0575\n",
            "[22] train loss: 0.117080,  val loss drop: 0.0575 to: 0.0336\n",
            "[37] train loss: 0.180123,  val loss drop: 0.0336 to: 0.0206\n",
            "Epoch    53: reducing learning rate of group 0 to 7.0000e-04.\n",
            "[59] train loss: 0.169042,  val loss drop: 0.0206 to: 0.0135\n",
            "Epoch    75: reducing learning rate of group 0 to 4.9000e-04.\n",
            "[79] train loss: 0.128493,  val loss drop: 0.0135 to: 0.0130\n",
            "[93] train loss: 0.054156,  val loss drop: 0.0130 to: 0.0049\n",
            "Epoch   109: reducing learning rate of group 0 to 3.4300e-04.\n",
            "Epoch   125: reducing learning rate of group 0 to 2.4010e-04.\n",
            "Epoch   141: reducing learning rate of group 0 to 1.6807e-04.\n",
            "Epoch   157: reducing learning rate of group 0 to 1.1765e-04.\n",
            "[160] train loss: 0.047480,  val loss drop: 0.0049 to: 0.0041\n",
            "[166] train loss: 0.068182,  val loss drop: 0.0041 to: 0.0037\n",
            "Epoch   182: reducing learning rate of group 0 to 8.2354e-05.\n",
            "Epoch   198: reducing learning rate of group 0 to 5.7648e-05.\n",
            "Epoch   214: reducing learning rate of group 0 to 4.0354e-05.\n",
            "[219] train loss: 0.029634,  val loss drop: 0.0037 to: 0.0033\n",
            "Epoch   235: reducing learning rate of group 0 to 2.8248e-05.\n",
            "Epoch   251: reducing learning rate of group 0 to 1.9773e-05.\n",
            "Epoch   267: reducing learning rate of group 0 to 1.3841e-05.\n",
            "Epoch   283: reducing learning rate of group 0 to 9.6889e-06.\n",
            "Epoch   299: reducing learning rate of group 0 to 6.7822e-06.\n",
            "----------\n",
            "> OOF loss M: 0.003357467280645743\n",
            "----------\n"
          ],
          "name": "stdout"
        }
      ]
    },
    {
      "cell_type": "markdown",
      "metadata": {
        "id": "BAga_ncHT8zb",
        "colab_type": "text"
      },
      "source": [
        "### Model-2-XY [TF-Keras]"
      ]
    },
    {
      "cell_type": "code",
      "metadata": {
        "id": "J4d6cgq2RSSP",
        "colab_type": "code",
        "colab": {
          "base_uri": "https://localhost:8080/",
          "height": 317
        },
        "outputId": "21f6137c-88b6-4234-b14a-f82259345261"
      },
      "source": [
        "# LRFinder\n",
        "\n",
        "train_target = 0\n",
        "\n",
        "# BATCH_SIZE = 256\n",
        "# EPOCHS = 300\n",
        "# LR = 0.001\n",
        "\n",
        "global weight2\n",
        "if train_target == 1:  \n",
        "    weight2 = np.array([0,0,1,0])  # only for M\n",
        "else: \n",
        "    weight2 = np.array([0,0,0,1])    # only for V\n",
        "    \n",
        "## compile model\n",
        "model0_ = build_cnn_1(gap=False)\n",
        "\n",
        "optimizer = tf.keras.optimizers.Adam()\n",
        "model0_.compile(loss=loss_E1, optimizer=optimizer) # 'adam'\n",
        "lr_finder = LRFinder(min_lr=1e-10, max_lr=0.01, steps_per_epoch=10, epochs=3)\n",
        "\n",
        "model0_.fit(X, y, callbacks=[lr_finder])\n",
        "\n",
        "plt.figure()\n",
        "lr_finder.plot_loss()\n",
        "\n",
        "# # plt.figure()\n",
        "# # lr_finder.plot_lr()\n",
        "\n",
        "del model0_ \n",
        "gc.collect()"
      ],
      "execution_count": null,
      "outputs": [
        {
          "output_type": "stream",
          "text": [
            "88/88 [==============================] - 25s 284ms/step - loss: 0.5663\n"
          ],
          "name": "stdout"
        },
        {
          "output_type": "display_data",
          "data": {
            "image/png": "[encoded data removed]",
            "text/plain": [
              "<Figure size 432x288 with 1 Axes>"
            ]
          },
          "metadata": {
            "tags": [],
            "needs_background": "light"
          }
        },
        {
          "output_type": "execute_result",
          "data": {
            "text/plain": [
              "18010"
            ]
          },
          "metadata": {
            "tags": []
          },
          "execution_count": 29
        }
      ]
    },
    {
      "cell_type": "code",
      "metadata": {
        "id": "OeGJ7gG0p1fL",
        "colab_type": "code",
        "colab": {
          "base_uri": "https://localhost:8080/",
          "height": 1000
        },
        "outputId": "12854ed4-7d61-4e54-ab6e-1ecefee494a4"
      },
      "source": [
        "train_target = 0\n",
        "\n",
        "global weight2\n",
        "if train_target == 1: \n",
        "    weight2 = np.array([0,0,1,0])    # only for M\n",
        "else: \n",
        "    weight2 = np.array([0,0,0,1])    # only for V\n",
        "\n",
        "MODEL_NAME = 'model_1_XY.h5'  \n",
        "model1_x = build_cnn_1(gap=False)\n",
        "LR = 0.001\n",
        "optimizer = tf.keras.optimizers.Adam(LR)\n",
        "optimizer = tfa.optimizers.SWA(optimizer)  #  RectifiedAdam()\n",
        "    \n",
        "model1_x.compile(loss=loss_E1, optimizer=optimizer)\n",
        "\n",
        "# callbacks\n",
        "es = tf.keras.callbacks.EarlyStopping(monitor='val_loss', mode='min', verbose=1, patience=50)\n",
        "mc = tf.keras.callbacks.ModelCheckpoint(MODEL_PATH+MODEL_NAME, monitor='val_loss', save_best_only=True, save_weights_only=False, verbose=1)\n",
        "# select LR schedule Callback\n",
        "# lr_schedule = tf.keras.callbacks.ReduceLROnPlateau(monitor='val_loss', patience=15, verbose=1, factor=0.7, min_lr=1e-8)\n",
        "# lr_schedule = step_decay_schedule(initial_lr=1e-2, decay_factor=0.5, step_size=5)\n",
        "lr_schedule = CyclicLR(base_lr=0.001, max_lr=0.006, mode='exp_range', gamma=0.99994)  #  step_size=5000.,\n",
        "# lr_schedule = WarmUpCosineDecayScheduler(learning_rate_base=LR)\n",
        "\n",
        "callbacks=[es,  mc, lr_schedule]             \n",
        "\n",
        "print('> Train Model-1 for XY')  \n",
        "print()\n",
        "\n",
        "hist1_x = model1_x.fit(X, y,                   \n",
        "                 validation_split=0.25,    \n",
        "                 batch_size=100,   # BATCH_SIZE,\n",
        "                 epochs=EPOCHS,\n",
        "                 verbose=1,\n",
        "                 shuffle=True,\n",
        "                 callbacks=callbacks)\n",
        "\n",
        "hist1_x = pd.DataFrame(hist1_x.history)"
      ],
      "execution_count": 28,
      "outputs": [
        {
          "output_type": "stream",
          "text": [
            "> Train Model-1 for XY\n",
            "\n",
            "Epoch 1/300\n",
            "WARNING:tensorflow:From /usr/local/lib/python3.6/dist-packages/tensorflow/python/ops/resource_variable_ops.py:1817: calling BaseResourceVariable.__init__ (from tensorflow.python.ops.resource_variable_ops) with constraint is deprecated and will be removed in a future version.\n",
            "Instructions for updating:\n",
            "If using Keras pass *_constraint arguments to layers.\n",
            "21/21 [==============================] - ETA: 0s - loss: 0.6170\n",
            "Epoch 00001: val_loss improved from inf to 9.23585, saving model to /content/drive/My Drive/ML Projects/DACON/Kaeri/models/model_1_XY.h5\n",
            "21/21 [==============================] - 28s 1s/step - loss: 0.6170 - val_loss: 9.2358\n",
            "Epoch 2/300\n",
            "21/21 [==============================] - ETA: 0s - loss: 0.0883\n",
            "Epoch 00002: val_loss improved from 9.23585 to 5.99584, saving model to /content/drive/My Drive/ML Projects/DACON/Kaeri/models/model_1_XY.h5\n",
            "21/21 [==============================] - 12s 568ms/step - loss: 0.0883 - val_loss: 5.9958\n",
            "Epoch 3/300\n",
            "21/21 [==============================] - ETA: 0s - loss: 0.0713\n",
            "Epoch 00003: val_loss improved from 5.99584 to 2.53209, saving model to /content/drive/My Drive/ML Projects/DACON/Kaeri/models/model_1_XY.h5\n",
            "21/21 [==============================] - 12s 569ms/step - loss: 0.0713 - val_loss: 2.5321\n",
            "Epoch 4/300\n",
            "21/21 [==============================] - ETA: 0s - loss: 0.0625\n",
            "Epoch 00004: val_loss improved from 2.53209 to 0.95046, saving model to /content/drive/My Drive/ML Projects/DACON/Kaeri/models/model_1_XY.h5\n",
            "21/21 [==============================] - 12s 573ms/step - loss: 0.0625 - val_loss: 0.9505\n",
            "Epoch 5/300\n",
            "21/21 [==============================] - ETA: 0s - loss: 0.0595\n",
            "Epoch 00005: val_loss improved from 0.95046 to 0.43069, saving model to /content/drive/My Drive/ML Projects/DACON/Kaeri/models/model_1_XY.h5\n",
            "21/21 [==============================] - 12s 565ms/step - loss: 0.0595 - val_loss: 0.4307\n",
            "Epoch 6/300\n",
            "21/21 [==============================] - ETA: 0s - loss: 0.0603\n",
            "Epoch 00006: val_loss did not improve from 0.43069\n",
            "21/21 [==============================] - 11s 529ms/step - loss: 0.0603 - val_loss: 0.5907\n",
            "Epoch 7/300\n",
            "21/21 [==============================] - ETA: 0s - loss: 0.0579\n",
            "Epoch 00007: val_loss improved from 0.43069 to 0.13575, saving model to /content/drive/My Drive/ML Projects/DACON/Kaeri/models/model_1_XY.h5\n",
            "21/21 [==============================] - 13s 625ms/step - loss: 0.0579 - val_loss: 0.1358\n",
            "Epoch 8/300\n",
            "21/21 [==============================] - ETA: 0s - loss: 0.0540\n",
            "Epoch 00008: val_loss did not improve from 0.13575\n",
            "21/21 [==============================] - 11s 527ms/step - loss: 0.0540 - val_loss: 0.1568\n",
            "Epoch 9/300\n",
            "21/21 [==============================] - ETA: 0s - loss: 0.0583\n",
            "Epoch 00009: val_loss improved from 0.13575 to 0.00962, saving model to /content/drive/My Drive/ML Projects/DACON/Kaeri/models/model_1_XY.h5\n",
            "21/21 [==============================] - 13s 630ms/step - loss: 0.0583 - val_loss: 0.0096\n",
            "Epoch 10/300\n",
            "21/21 [==============================] - ETA: 0s - loss: 0.0632\n",
            "Epoch 00010: val_loss did not improve from 0.00962\n",
            "21/21 [==============================] - 11s 526ms/step - loss: 0.0632 - val_loss: 0.1448\n",
            "Epoch 11/300\n",
            "21/21 [==============================] - ETA: 0s - loss: 0.0551\n",
            "Epoch 00011: val_loss did not improve from 0.00962\n",
            "21/21 [==============================] - 11s 527ms/step - loss: 0.0551 - val_loss: 0.0924\n",
            "Epoch 12/300\n",
            "21/21 [==============================] - ETA: 0s - loss: 0.0594\n",
            "Epoch 00012: val_loss did not improve from 0.00962\n",
            "21/21 [==============================] - 11s 530ms/step - loss: 0.0594 - val_loss: 0.0486\n",
            "Epoch 13/300\n",
            "21/21 [==============================] - ETA: 0s - loss: 0.0577\n",
            "Epoch 00013: val_loss did not improve from 0.00962\n",
            "21/21 [==============================] - 11s 526ms/step - loss: 0.0577 - val_loss: 0.0135\n",
            "Epoch 14/300\n",
            "21/21 [==============================] - ETA: 0s - loss: 0.0625\n",
            "Epoch 00014: val_loss did not improve from 0.00962\n",
            "21/21 [==============================] - 11s 526ms/step - loss: 0.0625 - val_loss: 0.0566\n",
            "Epoch 15/300\n",
            "21/21 [==============================] - ETA: 0s - loss: 0.0652\n",
            "Epoch 00015: val_loss did not improve from 0.00962\n",
            "21/21 [==============================] - 11s 526ms/step - loss: 0.0652 - val_loss: 0.0368\n",
            "Epoch 16/300\n",
            "21/21 [==============================] - ETA: 0s - loss: 0.0595\n",
            "Epoch 00016: val_loss did not improve from 0.00962\n",
            "21/21 [==============================] - 11s 529ms/step - loss: 0.0595 - val_loss: 0.0426\n",
            "Epoch 17/300\n",
            "21/21 [==============================] - ETA: 0s - loss: 0.0592\n",
            "Epoch 00017: val_loss did not improve from 0.00962\n",
            "21/21 [==============================] - 11s 526ms/step - loss: 0.0592 - val_loss: 0.0494\n",
            "Epoch 18/300\n",
            "21/21 [==============================] - ETA: 0s - loss: 0.0593\n",
            "Epoch 00018: val_loss did not improve from 0.00962\n",
            "21/21 [==============================] - 11s 529ms/step - loss: 0.0593 - val_loss: 0.0144\n",
            "Epoch 19/300\n",
            "21/21 [==============================] - ETA: 0s - loss: 0.0563\n",
            "Epoch 00019: val_loss did not improve from 0.00962\n",
            "21/21 [==============================] - 11s 527ms/step - loss: 0.0563 - val_loss: 0.0384\n",
            "Epoch 20/300\n",
            "21/21 [==============================] - ETA: 0s - loss: 0.0561\n",
            "Epoch 00020: val_loss did not improve from 0.00962\n",
            "21/21 [==============================] - 11s 529ms/step - loss: 0.0561 - val_loss: 0.0867\n",
            "Epoch 21/300\n",
            "21/21 [==============================] - ETA: 0s - loss: 0.0729\n",
            "Epoch 00021: val_loss did not improve from 0.00962\n",
            "21/21 [==============================] - 11s 527ms/step - loss: 0.0729 - val_loss: 0.1275\n",
            "Epoch 22/300\n",
            "21/21 [==============================] - ETA: 0s - loss: 0.0631\n",
            "Epoch 00022: val_loss did not improve from 0.00962\n",
            "21/21 [==============================] - 11s 526ms/step - loss: 0.0631 - val_loss: 0.0376\n",
            "Epoch 23/300\n",
            "21/21 [==============================] - ETA: 0s - loss: 0.0603\n",
            "Epoch 00023: val_loss did not improve from 0.00962\n",
            "21/21 [==============================] - 11s 527ms/step - loss: 0.0603 - val_loss: 0.0633\n",
            "Epoch 24/300\n",
            "21/21 [==============================] - ETA: 0s - loss: 0.0587\n",
            "Epoch 00024: val_loss did not improve from 0.00962\n",
            "21/21 [==============================] - 11s 524ms/step - loss: 0.0587 - val_loss: 0.0351\n",
            "Epoch 25/300\n",
            "21/21 [==============================] - ETA: 0s - loss: 0.0750\n",
            "Epoch 00025: val_loss did not improve from 0.00962\n",
            "21/21 [==============================] - 11s 528ms/step - loss: 0.0750 - val_loss: 0.0283\n",
            "Epoch 26/300\n",
            "21/21 [==============================] - ETA: 0s - loss: 0.0663\n",
            "Epoch 00026: val_loss did not improve from 0.00962\n",
            "21/21 [==============================] - 11s 528ms/step - loss: 0.0663 - val_loss: 0.0516\n",
            "Epoch 27/300\n",
            "21/21 [==============================] - ETA: 0s - loss: 0.0613\n",
            "Epoch 00027: val_loss did not improve from 0.00962\n",
            "21/21 [==============================] - 11s 526ms/step - loss: 0.0613 - val_loss: 0.0563\n",
            "Epoch 28/300\n",
            "21/21 [==============================] - ETA: 0s - loss: 0.0610\n",
            "Epoch 00028: val_loss did not improve from 0.00962\n",
            "21/21 [==============================] - 11s 530ms/step - loss: 0.0610 - val_loss: 0.0111\n",
            "Epoch 29/300\n",
            "21/21 [==============================] - ETA: 0s - loss: 0.0610\n",
            "Epoch 00029: val_loss did not improve from 0.00962\n",
            "21/21 [==============================] - 11s 530ms/step - loss: 0.0610 - val_loss: 0.0220\n",
            "Epoch 30/300\n",
            "21/21 [==============================] - ETA: 0s - loss: 0.0633\n",
            "Epoch 00030: val_loss did not improve from 0.00962\n",
            "21/21 [==============================] - 11s 524ms/step - loss: 0.0633 - val_loss: 0.0141\n",
            "Epoch 31/300\n",
            "21/21 [==============================] - ETA: 0s - loss: 0.0620\n",
            "Epoch 00031: val_loss did not improve from 0.00962\n",
            "21/21 [==============================] - 11s 526ms/step - loss: 0.0620 - val_loss: 0.0213\n",
            "Epoch 32/300\n",
            "21/21 [==============================] - ETA: 0s - loss: 0.0594\n",
            "Epoch 00032: val_loss did not improve from 0.00962\n",
            "21/21 [==============================] - 11s 529ms/step - loss: 0.0594 - val_loss: 0.0175\n",
            "Epoch 33/300\n",
            "21/21 [==============================] - ETA: 0s - loss: 0.0578\n",
            "Epoch 00033: val_loss did not improve from 0.00962\n",
            "21/21 [==============================] - 11s 525ms/step - loss: 0.0578 - val_loss: 0.0353\n",
            "Epoch 34/300\n",
            "21/21 [==============================] - ETA: 0s - loss: 0.0585\n",
            "Epoch 00034: val_loss did not improve from 0.00962\n",
            "21/21 [==============================] - 11s 527ms/step - loss: 0.0585 - val_loss: 0.0162\n",
            "Epoch 35/300\n",
            "21/21 [==============================] - ETA: 0s - loss: 0.0533\n",
            "Epoch 00035: val_loss improved from 0.00962 to 0.00624, saving model to /content/drive/My Drive/ML Projects/DACON/Kaeri/models/model_1_XY.h5\n",
            "21/21 [==============================] - 13s 625ms/step - loss: 0.0533 - val_loss: 0.0062\n",
            "Epoch 36/300\n",
            "21/21 [==============================] - ETA: 0s - loss: 0.0585\n",
            "Epoch 00036: val_loss did not improve from 0.00624\n",
            "21/21 [==============================] - 11s 528ms/step - loss: 0.0585 - val_loss: 0.0280\n",
            "Epoch 37/300\n",
            "21/21 [==============================] - ETA: 0s - loss: 0.0586\n",
            "Epoch 00037: val_loss did not improve from 0.00624\n",
            "21/21 [==============================] - 11s 526ms/step - loss: 0.0586 - val_loss: 0.0184\n",
            "Epoch 38/300\n",
            "21/21 [==============================] - ETA: 0s - loss: 0.0641\n",
            "Epoch 00038: val_loss did not improve from 0.00624\n",
            "21/21 [==============================] - 11s 523ms/step - loss: 0.0641 - val_loss: 0.0146\n",
            "Epoch 39/300\n",
            "21/21 [==============================] - ETA: 0s - loss: 0.0585\n",
            "Epoch 00039: val_loss did not improve from 0.00624\n",
            "21/21 [==============================] - 11s 526ms/step - loss: 0.0585 - val_loss: 0.0229\n",
            "Epoch 40/300\n",
            "21/21 [==============================] - ETA: 0s - loss: 0.0629\n",
            "Epoch 00040: val_loss did not improve from 0.00624\n",
            "21/21 [==============================] - 11s 526ms/step - loss: 0.0629 - val_loss: 0.0474\n",
            "Epoch 41/300\n",
            "21/21 [==============================] - ETA: 0s - loss: 0.0574\n",
            "Epoch 00041: val_loss did not improve from 0.00624\n",
            "21/21 [==============================] - 11s 524ms/step - loss: 0.0574 - val_loss: 0.0317\n",
            "Epoch 42/300\n",
            "21/21 [==============================] - ETA: 0s - loss: 0.0636\n",
            "Epoch 00042: val_loss did not improve from 0.00624\n",
            "21/21 [==============================] - 11s 523ms/step - loss: 0.0636 - val_loss: 0.0554\n",
            "Epoch 43/300\n",
            "21/21 [==============================] - ETA: 0s - loss: 0.0654\n",
            "Epoch 00043: val_loss did not improve from 0.00624\n",
            "21/21 [==============================] - 11s 526ms/step - loss: 0.0654 - val_loss: 0.0392\n",
            "Epoch 44/300\n",
            "21/21 [==============================] - ETA: 0s - loss: 0.0817\n",
            "Epoch 00044: val_loss did not improve from 0.00624\n",
            "21/21 [==============================] - 11s 524ms/step - loss: 0.0817 - val_loss: 0.0251\n",
            "Epoch 45/300\n",
            "21/21 [==============================] - ETA: 0s - loss: 0.0679\n",
            "Epoch 00045: val_loss did not improve from 0.00624\n",
            "21/21 [==============================] - 11s 526ms/step - loss: 0.0679 - val_loss: 0.0204\n",
            "Epoch 46/300\n",
            "21/21 [==============================] - ETA: 0s - loss: 0.0598\n",
            "Epoch 00046: val_loss did not improve from 0.00624\n",
            "21/21 [==============================] - 11s 524ms/step - loss: 0.0598 - val_loss: 0.0097\n",
            "Epoch 47/300\n",
            "21/21 [==============================] - ETA: 0s - loss: 0.0583\n",
            "Epoch 00047: val_loss did not improve from 0.00624\n",
            "21/21 [==============================] - 11s 528ms/step - loss: 0.0583 - val_loss: 0.0142\n",
            "Epoch 48/300\n",
            "21/21 [==============================] - ETA: 0s - loss: 0.0602\n",
            "Epoch 00048: val_loss did not improve from 0.00624\n",
            "21/21 [==============================] - 11s 528ms/step - loss: 0.0602 - val_loss: 0.0375\n",
            "Epoch 49/300\n",
            "21/21 [==============================] - ETA: 0s - loss: 0.0660\n",
            "Epoch 00049: val_loss did not improve from 0.00624\n",
            "21/21 [==============================] - 11s 527ms/step - loss: 0.0660 - val_loss: 0.0312\n",
            "Epoch 50/300\n",
            "21/21 [==============================] - ETA: 0s - loss: 0.0621\n",
            "Epoch 00050: val_loss did not improve from 0.00624\n",
            "21/21 [==============================] - 11s 529ms/step - loss: 0.0621 - val_loss: 0.0399\n",
            "Epoch 51/300\n",
            "21/21 [==============================] - ETA: 0s - loss: 0.0561\n",
            "Epoch 00051: val_loss did not improve from 0.00624\n",
            "21/21 [==============================] - 11s 526ms/step - loss: 0.0561 - val_loss: 0.0103\n",
            "Epoch 52/300\n",
            "21/21 [==============================] - ETA: 0s - loss: 0.0550\n",
            "Epoch 00052: val_loss did not improve from 0.00624\n",
            "21/21 [==============================] - 11s 527ms/step - loss: 0.0550 - val_loss: 0.0112\n",
            "Epoch 53/300\n",
            "21/21 [==============================] - ETA: 0s - loss: 0.0554\n",
            "Epoch 00053: val_loss improved from 0.00624 to 0.00434, saving model to /content/drive/My Drive/ML Projects/DACON/Kaeri/models/model_1_XY.h5\n",
            "21/21 [==============================] - 13s 626ms/step - loss: 0.0554 - val_loss: 0.0043\n",
            "Epoch 54/300\n",
            "21/21 [==============================] - ETA: 0s - loss: 0.0589\n",
            "Epoch 00054: val_loss did not improve from 0.00434\n",
            "21/21 [==============================] - 11s 528ms/step - loss: 0.0589 - val_loss: 0.0240\n",
            "Epoch 55/300\n",
            "21/21 [==============================] - ETA: 0s - loss: 0.0566\n",
            "Epoch 00055: val_loss did not improve from 0.00434\n",
            "21/21 [==============================] - 11s 523ms/step - loss: 0.0566 - val_loss: 0.0147\n",
            "Epoch 56/300\n",
            "21/21 [==============================] - ETA: 0s - loss: 0.0616\n",
            "Epoch 00056: val_loss did not improve from 0.00434\n",
            "21/21 [==============================] - 11s 525ms/step - loss: 0.0616 - val_loss: 0.0219\n",
            "Epoch 57/300\n",
            "21/21 [==============================] - ETA: 0s - loss: 0.0676\n",
            "Epoch 00057: val_loss did not improve from 0.00434\n",
            "21/21 [==============================] - 11s 526ms/step - loss: 0.0676 - val_loss: 0.0306\n",
            "Epoch 58/300\n",
            "21/21 [==============================] - ETA: 0s - loss: 0.0705\n",
            "Epoch 00058: val_loss did not improve from 0.00434\n",
            "21/21 [==============================] - 11s 524ms/step - loss: 0.0705 - val_loss: 0.0197\n",
            "Epoch 59/300\n",
            "21/21 [==============================] - ETA: 0s - loss: 0.0540\n",
            "Epoch 00059: val_loss did not improve from 0.00434\n",
            "21/21 [==============================] - 11s 528ms/step - loss: 0.0540 - val_loss: 0.0301\n",
            "Epoch 60/300\n",
            "21/21 [==============================] - ETA: 0s - loss: 0.0610\n",
            "Epoch 00060: val_loss did not improve from 0.00434\n",
            "21/21 [==============================] - 11s 529ms/step - loss: 0.0610 - val_loss: 0.0116\n",
            "Epoch 61/300\n",
            "21/21 [==============================] - ETA: 0s - loss: 0.0584\n",
            "Epoch 00061: val_loss did not improve from 0.00434\n",
            "21/21 [==============================] - 11s 527ms/step - loss: 0.0584 - val_loss: 0.0243\n",
            "Epoch 62/300\n",
            "21/21 [==============================] - ETA: 0s - loss: 0.0648\n",
            "Epoch 00062: val_loss did not improve from 0.00434\n",
            "21/21 [==============================] - 11s 526ms/step - loss: 0.0648 - val_loss: 0.0202\n",
            "Epoch 63/300\n",
            "21/21 [==============================] - ETA: 0s - loss: 0.0615\n",
            "Epoch 00063: val_loss did not improve from 0.00434\n",
            "21/21 [==============================] - 11s 525ms/step - loss: 0.0615 - val_loss: 0.0085\n",
            "Epoch 64/300\n",
            "21/21 [==============================] - ETA: 0s - loss: 0.0541\n",
            "Epoch 00064: val_loss did not improve from 0.00434\n",
            "21/21 [==============================] - 11s 526ms/step - loss: 0.0541 - val_loss: 0.0097\n",
            "Epoch 65/300\n",
            "21/21 [==============================] - ETA: 0s - loss: 0.0594\n",
            "Epoch 00065: val_loss did not improve from 0.00434\n",
            "21/21 [==============================] - 11s 525ms/step - loss: 0.0594 - val_loss: 0.0210\n",
            "Epoch 66/300\n",
            "21/21 [==============================] - ETA: 0s - loss: 0.0601\n",
            "Epoch 00066: val_loss did not improve from 0.00434\n",
            "21/21 [==============================] - 11s 526ms/step - loss: 0.0601 - val_loss: 0.0110\n",
            "Epoch 67/300\n",
            "21/21 [==============================] - ETA: 0s - loss: 0.0561\n",
            "Epoch 00067: val_loss did not improve from 0.00434\n",
            "21/21 [==============================] - 11s 529ms/step - loss: 0.0561 - val_loss: 0.0147\n",
            "Epoch 68/300\n",
            "21/21 [==============================] - ETA: 0s - loss: 0.0561\n",
            "Epoch 00068: val_loss did not improve from 0.00434\n",
            "21/21 [==============================] - 11s 525ms/step - loss: 0.0561 - val_loss: 0.0157\n",
            "Epoch 69/300\n",
            "21/21 [==============================] - ETA: 0s - loss: 0.0578\n",
            "Epoch 00069: val_loss did not improve from 0.00434\n",
            "21/21 [==============================] - 11s 528ms/step - loss: 0.0578 - val_loss: 0.0143\n",
            "Epoch 70/300\n",
            "21/21 [==============================] - ETA: 0s - loss: 0.0655\n",
            "Epoch 00070: val_loss did not improve from 0.00434\n",
            "21/21 [==============================] - 11s 524ms/step - loss: 0.0655 - val_loss: 0.0289\n",
            "Epoch 71/300\n",
            "21/21 [==============================] - ETA: 0s - loss: 0.0681\n",
            "Epoch 00071: val_loss did not improve from 0.00434\n",
            "21/21 [==============================] - 11s 524ms/step - loss: 0.0681 - val_loss: 0.0190\n",
            "Epoch 72/300\n",
            "21/21 [==============================] - ETA: 0s - loss: 0.0615\n",
            "Epoch 00072: val_loss did not improve from 0.00434\n",
            "21/21 [==============================] - 11s 526ms/step - loss: 0.0615 - val_loss: 0.0129\n",
            "Epoch 73/300\n",
            "21/21 [==============================] - ETA: 0s - loss: 0.0559\n",
            "Epoch 00073: val_loss did not improve from 0.00434\n",
            "21/21 [==============================] - 11s 524ms/step - loss: 0.0559 - val_loss: 0.0138\n",
            "Epoch 74/300\n",
            "21/21 [==============================] - ETA: 0s - loss: 0.0597\n",
            "Epoch 00074: val_loss did not improve from 0.00434\n",
            "21/21 [==============================] - 11s 525ms/step - loss: 0.0597 - val_loss: 0.0449\n",
            "Epoch 75/300\n",
            "21/21 [==============================] - ETA: 0s - loss: 0.0601\n",
            "Epoch 00075: val_loss did not improve from 0.00434\n",
            "21/21 [==============================] - 11s 526ms/step - loss: 0.0601 - val_loss: 0.0166\n",
            "Epoch 76/300\n",
            "21/21 [==============================] - ETA: 0s - loss: 0.0586\n",
            "Epoch 00076: val_loss did not improve from 0.00434\n",
            "21/21 [==============================] - 11s 524ms/step - loss: 0.0586 - val_loss: 0.0207\n",
            "Epoch 77/300\n",
            "21/21 [==============================] - ETA: 0s - loss: 0.0610\n",
            "Epoch 00077: val_loss did not improve from 0.00434\n",
            "21/21 [==============================] - 11s 526ms/step - loss: 0.0610 - val_loss: 0.0231\n",
            "Epoch 78/300\n",
            "21/21 [==============================] - ETA: 0s - loss: 0.0615\n",
            "Epoch 00078: val_loss did not improve from 0.00434\n",
            "21/21 [==============================] - 11s 524ms/step - loss: 0.0615 - val_loss: 0.0183\n",
            "Epoch 79/300\n",
            "21/21 [==============================] - ETA: 0s - loss: 0.0626\n",
            "Epoch 00079: val_loss did not improve from 0.00434\n",
            "21/21 [==============================] - 11s 524ms/step - loss: 0.0626 - val_loss: 0.0279\n",
            "Epoch 80/300\n",
            "21/21 [==============================] - ETA: 0s - loss: 0.0658\n",
            "Epoch 00080: val_loss did not improve from 0.00434\n",
            "21/21 [==============================] - 11s 526ms/step - loss: 0.0658 - val_loss: 0.0127\n",
            "Epoch 81/300\n",
            "21/21 [==============================] - ETA: 0s - loss: 0.0541\n",
            "Epoch 00081: val_loss did not improve from 0.00434\n",
            "21/21 [==============================] - 11s 525ms/step - loss: 0.0541 - val_loss: 0.0112\n",
            "Epoch 82/300\n",
            "21/21 [==============================] - ETA: 0s - loss: 0.0534\n",
            "Epoch 00082: val_loss did not improve from 0.00434\n",
            "21/21 [==============================] - 11s 523ms/step - loss: 0.0534 - val_loss: 0.0146\n",
            "Epoch 83/300\n",
            "21/21 [==============================] - ETA: 0s - loss: 0.0651\n",
            "Epoch 00083: val_loss did not improve from 0.00434\n",
            "21/21 [==============================] - 11s 526ms/step - loss: 0.0651 - val_loss: 0.0118\n",
            "Epoch 84/300\n",
            "21/21 [==============================] - ETA: 0s - loss: 0.0531\n",
            "Epoch 00084: val_loss did not improve from 0.00434\n",
            "21/21 [==============================] - 11s 528ms/step - loss: 0.0531 - val_loss: 0.0090\n",
            "Epoch 85/300\n",
            "21/21 [==============================] - ETA: 0s - loss: 0.0558\n",
            "Epoch 00085: val_loss did not improve from 0.00434\n",
            "21/21 [==============================] - 11s 521ms/step - loss: 0.0558 - val_loss: 0.0087\n",
            "Epoch 86/300\n",
            "21/21 [==============================] - ETA: 0s - loss: 0.0503\n",
            "Epoch 00086: val_loss did not improve from 0.00434\n",
            "21/21 [==============================] - 11s 525ms/step - loss: 0.0503 - val_loss: 0.0102\n",
            "Epoch 87/300\n",
            "21/21 [==============================] - ETA: 0s - loss: 0.0609\n",
            "Epoch 00087: val_loss did not improve from 0.00434\n",
            "21/21 [==============================] - 11s 525ms/step - loss: 0.0609 - val_loss: 0.0243\n",
            "Epoch 88/300\n",
            "21/21 [==============================] - ETA: 0s - loss: 0.0676\n",
            "Epoch 00088: val_loss did not improve from 0.00434\n",
            "21/21 [==============================] - 11s 522ms/step - loss: 0.0676 - val_loss: 0.0156\n",
            "Epoch 89/300\n",
            "21/21 [==============================] - ETA: 0s - loss: 0.0584\n",
            "Epoch 00089: val_loss did not improve from 0.00434\n",
            "21/21 [==============================] - 11s 524ms/step - loss: 0.0584 - val_loss: 0.0173\n",
            "Epoch 90/300\n",
            "21/21 [==============================] - ETA: 0s - loss: 0.0579\n",
            "Epoch 00090: val_loss did not improve from 0.00434\n",
            "21/21 [==============================] - 11s 526ms/step - loss: 0.0579 - val_loss: 0.0180\n",
            "Epoch 91/300\n",
            "21/21 [==============================] - ETA: 0s - loss: 0.0569\n",
            "Epoch 00091: val_loss did not improve from 0.00434\n",
            "21/21 [==============================] - 11s 522ms/step - loss: 0.0569 - val_loss: 0.0211\n",
            "Epoch 92/300\n",
            "21/21 [==============================] - ETA: 0s - loss: 0.0580\n",
            "Epoch 00092: val_loss did not improve from 0.00434\n",
            "21/21 [==============================] - 11s 526ms/step - loss: 0.0580 - val_loss: 0.0078\n",
            "Epoch 93/300\n",
            "21/21 [==============================] - ETA: 0s - loss: 0.0525\n",
            "Epoch 00093: val_loss did not improve from 0.00434\n",
            "21/21 [==============================] - 11s 526ms/step - loss: 0.0525 - val_loss: 0.0070\n",
            "Epoch 94/300\n",
            "21/21 [==============================] - ETA: 0s - loss: 0.0570\n",
            "Epoch 00094: val_loss did not improve from 0.00434\n",
            "21/21 [==============================] - 11s 525ms/step - loss: 0.0570 - val_loss: 0.0122\n",
            "Epoch 95/300\n",
            "21/21 [==============================] - ETA: 0s - loss: 0.0580\n",
            "Epoch 00095: val_loss did not improve from 0.00434\n",
            "21/21 [==============================] - 11s 525ms/step - loss: 0.0580 - val_loss: 0.0179\n",
            "Epoch 96/300\n",
            "21/21 [==============================] - ETA: 0s - loss: 0.0592\n",
            "Epoch 00096: val_loss did not improve from 0.00434\n",
            "21/21 [==============================] - 11s 526ms/step - loss: 0.0592 - val_loss: 0.0087\n",
            "Epoch 97/300\n",
            "21/21 [==============================] - ETA: 0s - loss: 0.0509\n",
            "Epoch 00097: val_loss did not improve from 0.00434\n",
            "21/21 [==============================] - 11s 522ms/step - loss: 0.0509 - val_loss: 0.0134\n",
            "Epoch 98/300\n",
            "21/21 [==============================] - ETA: 0s - loss: 0.0494\n",
            "Epoch 00098: val_loss did not improve from 0.00434\n",
            "21/21 [==============================] - 11s 525ms/step - loss: 0.0494 - val_loss: 0.0107\n",
            "Epoch 99/300\n",
            "21/21 [==============================] - ETA: 0s - loss: 0.0511\n",
            "Epoch 00099: val_loss did not improve from 0.00434\n",
            "21/21 [==============================] - 11s 525ms/step - loss: 0.0511 - val_loss: 0.0096\n",
            "Epoch 100/300\n",
            "21/21 [==============================] - ETA: 0s - loss: 0.0453\n",
            "Epoch 00100: val_loss did not improve from 0.00434\n",
            "21/21 [==============================] - 11s 523ms/step - loss: 0.0453 - val_loss: 0.0073\n",
            "Epoch 101/300\n",
            "21/21 [==============================] - ETA: 0s - loss: 0.0493\n",
            "Epoch 00101: val_loss did not improve from 0.00434\n",
            "21/21 [==============================] - 11s 525ms/step - loss: 0.0493 - val_loss: 0.0117\n",
            "Epoch 102/300\n",
            "21/21 [==============================] - ETA: 0s - loss: 0.0529\n",
            "Epoch 00102: val_loss did not improve from 0.00434\n",
            "21/21 [==============================] - 11s 527ms/step - loss: 0.0529 - val_loss: 0.0075\n",
            "Epoch 103/300\n",
            "21/21 [==============================] - ETA: 0s - loss: 0.0529\n",
            "Epoch 00103: val_loss did not improve from 0.00434\n",
            "21/21 [==============================] - 11s 523ms/step - loss: 0.0529 - val_loss: 0.0229\n",
            "Epoch 00103: early stopping\n"
          ],
          "name": "stdout"
        }
      ]
    },
    {
      "cell_type": "code",
      "metadata": {
        "id": "QUobZUm5tkoR",
        "colab_type": "code",
        "colab": {
          "base_uri": "https://localhost:8080/",
          "height": 286
        },
        "outputId": "5751bfcd-3b9d-4d19-a082-50b62d2124d6"
      },
      "source": [
        "fig, ax = plt.subplots(figsize=(10, 4))\n",
        "hist1_x[['loss', 'val_loss']].plot(ax=ax)\n",
        "ax.set_ylim([0.0, 1.0])"
      ],
      "execution_count": 29,
      "outputs": [
        {
          "output_type": "execute_result",
          "data": {
            "text/plain": [
              "(0.0, 1.0)"
            ]
          },
          "metadata": {
            "tags": []
          },
          "execution_count": 29
        },
        {
          "output_type": "display_data",
          "data": {
            "image/png": "[encoded data removed]",
            "text/plain": [
              "<Figure size 720x288 with 1 Axes>"
            ]
          },
          "metadata": {
            "tags": [],
            "needs_background": "light"
          }
        }
      ]
    },
    {
      "cell_type": "code",
      "metadata": {
        "id": "auQaZClFRAnI",
        "colab_type": "code",
        "colab": {
          "base_uri": "https://localhost:8080/",
          "height": 34
        },
        "outputId": "dcbf5c2f-15d0-41b3-9ba1-61df599dcde8"
      },
      "source": [
        "print('Min valid loss [%.5f] at epoch [%.0f]' % (hist1_x[['val_loss']].min(), \n",
        "      np.argmin(hist1_x[['val_loss']])))"
      ],
      "execution_count": 30,
      "outputs": [
        {
          "output_type": "stream",
          "text": [
            "Min valid loss [0.00434] at epoch [52]\n"
          ],
          "name": "stdout"
        }
      ]
    },
    {
      "cell_type": "code",
      "metadata": {
        "id": "1sDZKhWDLQGi",
        "colab_type": "code",
        "colab": {}
      },
      "source": [
        "# model1_x_cp = tf.keras.models.load_model(MODEL_PATH+'model_1_XY.h5')"
      ],
      "execution_count": null,
      "outputs": []
    },
    {
      "cell_type": "markdown",
      "metadata": {
        "id": "GxtVdIXpUQva",
        "colab_type": "text"
      },
      "source": [
        "### Model-2-M [TF_Keras]"
      ]
    },
    {
      "cell_type": "code",
      "metadata": {
        "id": "R3h6eWFIUHUY",
        "colab_type": "code",
        "colab": {}
      },
      "source": [
        "train_target = 1\n",
        "\n",
        "global weight2\n",
        "if train_target == 1: \n",
        "    weight2 = np.array([0,0,1,0])   # only for M\n",
        "else: \n",
        "    weight2 = np.array([0,0,0,1])    # only for V\n",
        "\n",
        "MODEL_NAME = 'model_1_M.h5'    \n",
        "\n",
        "model1_m = build_cnn_1(gap=False)\n",
        "\n",
        "LR = 0.01\n",
        "optimizer = tf.keras.optimizers.Adam()\n",
        "optimizer = tfa.optimizers.SWA(optimizer)\n",
        "    \n",
        "model1_m.compile(loss=loss_E2, optimizer=optimizer)  \n",
        "\n",
        "# callbacks\n",
        "es = tf.keras.callbacks.EarlyStopping(monitor='val_loss', mode='min', verbose=1, patience=25)\n",
        "mc = tf.keras.callbacks.ModelCheckpoint(MODEL_PATH+MODEL_NAME, monitor='val_loss', save_best_only=True, save_weights_only=False, verbose=1)\n",
        "# lr_schedule = tf.keras.callbacks.ReduceLROnPlateau(monitor='val_loss', patience=15, verbose=1, factor=0.7)\n",
        "# lr_schedule = step_decay_schedule(initial_lr=1e-2, decay_factor=0.5, step_size=5)\n",
        "lr_schedule = CyclicLR(base_lr=0.01, max_lr=0.08, step_size=25., mode='exp_range', gamma=0.99994)   # \n",
        "# lr_schedule = WarmUpCosineDecayScheduler()\n",
        "\n",
        "callbacks=[es, mc, lr_schedule]             \n",
        "\n",
        "print('> Train Model-1 for M')\n",
        "print()\n",
        "\n",
        "hist1_m = model1_m.fit(X, y,                \n",
        "                 validation_split=0.2,     \n",
        "                 batch_size=100,  #  BATCH_SIZE,\n",
        "                 epochs=EPOCHS,\n",
        "                 verbose=1,\n",
        "                 shuffle=True,\n",
        "                 callbacks=callbacks)\n",
        "\n",
        "hist1_m_df = pd.DataFrame(hist1_m.history)"
      ],
      "execution_count": null,
      "outputs": []
    },
    {
      "cell_type": "code",
      "metadata": {
        "id": "hvpsZL3hUHZk",
        "colab_type": "code",
        "colab": {}
      },
      "source": [
        "# f, ax = plt.subplots()\n",
        "hist1_m_df[['loss', 'val_loss']].plot(figsize=(10,4))\n",
        "ax.set_ylim([0,0.1])"
      ],
      "execution_count": null,
      "outputs": []
    },
    {
      "cell_type": "code",
      "metadata": {
        "id": "_iFOZtYlUxCS",
        "colab_type": "code",
        "colab": {}
      },
      "source": [
        "print('Min valid loss [%.5f] at epoch [%.0f]' % (hist1_m_df[['val_loss']].min(), \n",
        "      np.argmin(hist1_m_df[['val_loss']])))"
      ],
      "execution_count": null,
      "outputs": []
    },
    {
      "cell_type": "code",
      "metadata": {
        "id": "Dyi2kmjAUHXF",
        "colab_type": "code",
        "colab": {}
      },
      "source": [
        "# model1_m_cp = tf.keras.models.load_model(MODEL_PATH+'model_1_M.h5')"
      ],
      "execution_count": null,
      "outputs": []
    },
    {
      "cell_type": "markdown",
      "metadata": {
        "id": "GEBHOFU6VBRp",
        "colab_type": "text"
      },
      "source": [
        "### Model-2-V [TF-Keras] "
      ]
    },
    {
      "cell_type": "code",
      "metadata": {
        "id": "_kKNvC82ud9s",
        "colab_type": "code",
        "colab": {}
      },
      "source": [
        "# ## LR Finder \n",
        "\n",
        "# model2_ = build_cnn_model(gap=False)\n",
        "# optimizer = tf.keras.optimizers.Adam(0.1)\n",
        "# optimizer = tfa.optimizers.SWA(optimizer)\n",
        "# model2_.compile(loss=loss_E2, optimizer=optimizer) \n",
        "# lr_finder = LRFinder(min_lr=1e-5, max_lr=0.3, steps_per_epoch=10, epochs=3)\n",
        "# model2_.fit(X, y, callbacks=[lr_finder])\n",
        "\n",
        "# plt.figure()\n",
        "# lr_finder.plot_loss()\n",
        "\n",
        "# del model2_\n",
        "# gc.collect()"
      ],
      "execution_count": null,
      "outputs": []
    },
    {
      "cell_type": "code",
      "metadata": {
        "id": "BZ2gOs4PXnz6",
        "colab_type": "code",
        "colab": {}
      },
      "source": [
        "train_target = 2\n",
        "\n",
        "global weight2\n",
        "if train_target == 1: \n",
        "    weight2 = np.array([0,0,1,0])      # only for M\n",
        "else: \n",
        "    weight2 = np.array([0,0,0,1])      # only for V\n",
        "\n",
        "MODEL_NAME = 'model_1_V.h5'  \n",
        "model1_v = build_cnn_1(gap=False)\n",
        "\n",
        "LR = 0.1\n",
        "optimizer = tf.keras.optimizers.Adam()\n",
        "# optimizer = tfa.optimizers.SWA(optimizer)\n",
        "model1_v.compile(loss=loss_E2, optimizer=optimizer)   \n",
        "\n",
        "# callbacks\n",
        "es = tf.keras.callbacks.EarlyStopping(monitor='val_loss', mode='min', verbose=1, patience=50)\n",
        "mc = tf.keras.callbacks.ModelCheckpoint(MODEL_PATH+MODEL_NAME, monitor='val_loss', save_best_only=True, save_weights_only=False, verbose=1)\n",
        "\n",
        "# lr_schedule = tf.keras.callbacks.ReduceLROnPlateau(monitor='val_loss', patience=15, verbose=1, factor=0.7)\n",
        "# lr_schedule = step_decay_schedule(initial_lr=1e-4, decay_factor=0.5, step_size=15)\n",
        "lr_schedule = CyclicLR(base_lr=0.01,  mode='exp_range', gamma=0.9999)  # max_lr=0.,\n",
        "# lr_schedule = WarmUpCosineDecayScheduler(LR)\n",
        "\n",
        "callbacks=[es, mc, lr_schedule]             \n",
        "\n",
        "\n",
        "print('> Train Model-1 for V')\n",
        "print()\n",
        "\n",
        "hist1_v = model1_v.fit(X, y,               \n",
        "                 validation_split=0.2,     \n",
        "                 batch_size=100,   # BATCH_SIZE,\n",
        "                 epochs=EPOCHS,\n",
        "                 verbose=1,\n",
        "                 shuffle=True,\n",
        "                 callbacks=callbacks)\n",
        "\n",
        "hist1_v_df = pd.DataFrame(hist1_v.history)"
      ],
      "execution_count": null,
      "outputs": []
    },
    {
      "cell_type": "code",
      "metadata": {
        "id": "u16Ga0xAXn3O",
        "colab_type": "code",
        "colab": {}
      },
      "source": [
        "plt.figure()\n",
        "hist1_v_df[['loss', 'val_loss']].plot()\n",
        "plt.ylim(0, 1.0)"
      ],
      "execution_count": null,
      "outputs": []
    },
    {
      "cell_type": "code",
      "metadata": {
        "id": "jWPcGAzmX8j4",
        "colab_type": "code",
        "colab": {}
      },
      "source": [
        "print('Min valid loss [%.5f] at epoch [%.0f]' % (hist1_v_df[['val_loss']].min(), \n",
        "      np.argmin(hist1_v_df[['val_loss']])) )"
      ],
      "execution_count": null,
      "outputs": []
    },
    {
      "cell_type": "code",
      "metadata": {
        "id": "ndAJxhMmuKzV",
        "colab_type": "code",
        "colab": {}
      },
      "source": [
        "# model1_v_cp = tf.keras.models.load_model(MODEL_PATH+'model_1_V.h5')"
      ],
      "execution_count": null,
      "outputs": []
    },
    {
      "cell_type": "code",
      "metadata": {
        "id": "i7GDlfWKoy0Q",
        "colab_type": "code",
        "colab": {}
      },
      "source": [
        "del model1_m, model1_x, model1_v, \n",
        "del hist1_m, hist1_m_df, hist1_v, hist1_v_df, hist1_x\n",
        "gc.collect()"
      ],
      "execution_count": null,
      "outputs": []
    },
    {
      "cell_type": "code",
      "metadata": {
        "id": "XcFUL9yBpCE0",
        "colab_type": "code",
        "colab": {}
      },
      "source": [
        "gc.collect()"
      ],
      "execution_count": null,
      "outputs": []
    },
    {
      "cell_type": "code",
      "metadata": {
        "id": "ps1br3eppQy8",
        "colab_type": "code",
        "colab": {}
      },
      "source": [
        "# %whos"
      ],
      "execution_count": null,
      "outputs": []
    },
    {
      "cell_type": "markdown",
      "metadata": {
        "id": "eQxJ--wOsnQ7",
        "colab_type": "text"
      },
      "source": [
        "### Model-3-XY [TF-Keras]"
      ]
    },
    {
      "cell_type": "code",
      "metadata": {
        "id": "AK2xe0Gvsto4",
        "colab_type": "code",
        "colab": {}
      },
      "source": [
        "train_target = 0\n",
        "\n",
        "global weight2\n",
        "if train_target == 1: \n",
        "    weight2 = np.array([0,0,1,0])    # only for M\n",
        "else: \n",
        "    weight2 = np.array([0,0,0,1])    # only for V\n",
        "\n",
        "\n",
        "MODEL_NAME = 'model_3_XY.h5'   \n",
        "model3_x = build_cnn_3(gap=False)\n",
        "\n",
        "LR = 0.01\n",
        "optimizer = tf.keras.optimizers.Adam(LR)\n",
        "optimizer = tfa.optimizers.SWA(optimizer)  #  RectifiedAdam()\n",
        "model3_x.compile(loss=loss_E1, optimizer=optimizer, metrics=[r2_keras])\n",
        "\n",
        "# callbacks\n",
        "es = tf.keras.callbacks.EarlyStopping(monitor='val_loss', mode='min', verbose=1, patience=50)\n",
        "mc = tf.keras.callbacks.ModelCheckpoint(MODEL_PATH+MODEL_NAME, monitor='val_loss', save_best_only=True, save_weights_only=False, verbose=1)\n",
        "# lr_schedule = tf.keras.callbacks.ReduceLROnPlateau(monitor='val_loss', patience=15, verbose=1, factor=0.7)\n",
        "lr_schedule = step_decay_schedule(initial_lr=1e-2, decay_factor=0.7, step_size=30)\n",
        "# lr_schedule = CyclicLR(base_lr=0.001, max_lr=0.06, step_size=5000., mode='exp_range', gamma=0.99994)  # \n",
        "# lr_schedule = WarmUpCosineDecayScheduler(learning_rate_base=LR)\n",
        "\n",
        "callbacks=[es,  mc, lr_schedule]             \n",
        "\n",
        "print('> Train Model-3 for XY')  \n",
        "print()\n",
        "\n",
        "hist3_x = model3_x.fit([X, X3], y,                   \n",
        "                 validation_split=0.2,    \n",
        "                 batch_size=100,   #BATCH_SIZE,\n",
        "                 epochs=EPOCHS,\n",
        "                 verbose=1,\n",
        "                 shuffle=True,\n",
        "                 callbacks=callbacks)\n",
        "\n",
        "hist3_x_df = pd.DataFrame(hist3_x.history)\n"
      ],
      "execution_count": null,
      "outputs": []
    },
    {
      "cell_type": "code",
      "metadata": {
        "id": "SOpnsCJTstKj",
        "colab_type": "code",
        "colab": {}
      },
      "source": [
        "fig, ax = plt.subplots(1,2, figsize=(10, 4))\n",
        "hist3_x_df[['loss', 'val_loss']].plot(ax=ax[0])\n",
        "hist3_x_df[['r2_keras', 'val_r2_keras']].plot(ax=ax[1])\n",
        "ax[1].set_ylim([0.0, 1.0])\n",
        "ax[0].set_ylim([0.0, 1.5])"
      ],
      "execution_count": null,
      "outputs": []
    },
    {
      "cell_type": "code",
      "metadata": {
        "id": "dwK0tHcMw3ov",
        "colab_type": "code",
        "colab": {}
      },
      "source": [
        "print('Min valid loss [%.5f] at epoch [%.0f]' % (hist3_x_df[['val_loss']].min(), \n",
        "      np.argmin(hist3_x_df[['val_loss']])))"
      ],
      "execution_count": null,
      "outputs": []
    },
    {
      "cell_type": "code",
      "metadata": {
        "id": "yb5VgL3dw8GT",
        "colab_type": "code",
        "colab": {}
      },
      "source": [
        "# model3_x_cp = tf.keras.models.load_model(MODEL_PATH+'model_3_XY.h5')"
      ],
      "execution_count": null,
      "outputs": []
    },
    {
      "cell_type": "markdown",
      "metadata": {
        "id": "UiW-MgpHsui3",
        "colab_type": "text"
      },
      "source": [
        "###Model-3-M [TF-Keras]"
      ]
    },
    {
      "cell_type": "code",
      "metadata": {
        "id": "gEfVKqdqsxpn",
        "colab_type": "code",
        "colab": {}
      },
      "source": [
        "train_target = 1\n",
        "\n",
        "global weight2\n",
        "if train_target == 1: \n",
        "    weight2 = np.array([0,0,1,0])   # only for M\n",
        "else: \n",
        "    weight2 = np.array([0,0,0,1])    # only for V\n",
        "\n",
        "MODEL_NAME = 'model_3_M.h5'  \n",
        "model3_m = build_cnn_3(gap=False)\n",
        "\n",
        "LR = 0.01\n",
        "optimizer = tf.keras.optimizers.Adam()\n",
        "optimizer = tfa.optimizers.SWA(optimizer)\n",
        "model3_m.compile(loss=loss_E2, optimizer=optimizer)   \n",
        "\n",
        "# callbacks\n",
        "es = tf.keras.callbacks.EarlyStopping(monitor='val_loss', mode='min', verbose=1, patience=50)\n",
        "mc = tf.keras.callbacks.ModelCheckpoint(MODEL_PATH+MODEL_NAME, monitor='val_loss', save_best_only=True, save_weights_only=False, verbose=1)\n",
        "# lr_schedule = tf.keras.callbacks.ReduceLROnPlateau(monitor='val_loss', patience=15, verbose=1, factor=0.7)\n",
        "lr_schedule = step_decay_schedule(initial_lr=1e-2, decay_factor=0.7, step_size=30)\n",
        "# lr_schedule = CyclicLR(base_lr=0.001, max_lr=0.08, step_size=25., mode='exp_range', gamma=0.99994)   # \n",
        "# lr_schedule = WarmUpCosineDecayScheduler()\n",
        "\n",
        "callbacks=[es, mc, lr_schedule]             \n",
        "\n",
        "print('> Train Model-3 for M')\n",
        "print()\n",
        "\n",
        "hist3_m = model3_m.fit([X, X3], y,                \n",
        "                 validation_split=0.2,     \n",
        "                 batch_size=100,   #BATCH_SIZE,\n",
        "                 epochs=EPOCHS,\n",
        "                 verbose=1,\n",
        "                 shuffle=True,\n",
        "                 callbacks=callbacks)\n",
        "\n",
        "hist3_m_df = pd.DataFrame(hist3_m.history)\n"
      ],
      "execution_count": null,
      "outputs": []
    },
    {
      "cell_type": "code",
      "metadata": {
        "id": "5PJli02msxWM",
        "colab_type": "code",
        "colab": {}
      },
      "source": [
        "f, ax = plt.subplots(1,2, figsize=(10,4))\n",
        "hist3_m_df[['loss', 'val_loss']].plot(ax=ax[0])\n",
        "hist3_m_df['lr'].plot(ax=ax[1])\n",
        "ax[0].set_ylim([0,0.1])"
      ],
      "execution_count": null,
      "outputs": []
    },
    {
      "cell_type": "code",
      "metadata": {
        "id": "NJjyqr_KxptQ",
        "colab_type": "code",
        "colab": {}
      },
      "source": [
        "print('Min valid loss [%.5f] at epoch [%.0f]' % (hist3_m_df[['val_loss']].min(), \n",
        "      np.argmin(hist3_m_df[['val_loss']])))"
      ],
      "execution_count": null,
      "outputs": []
    },
    {
      "cell_type": "code",
      "metadata": {
        "id": "va5ptbCAx4nz",
        "colab_type": "code",
        "colab": {}
      },
      "source": [
        "# model3_m_cp = tf.keras.models.load_model(MODEL_PATH+'model_3_M.h5')"
      ],
      "execution_count": null,
      "outputs": []
    },
    {
      "cell_type": "markdown",
      "metadata": {
        "id": "xu5Z4vRGsyaZ",
        "colab_type": "text"
      },
      "source": [
        "### Model-3-V [TF-Keras]"
      ]
    },
    {
      "cell_type": "code",
      "metadata": {
        "id": "rUAZiSyas2C5",
        "colab_type": "code",
        "colab": {}
      },
      "source": [
        "train_target = 2\n",
        "\n",
        "global weight2\n",
        "if train_target == 1: \n",
        "    weight2 = np.array([0,0,1,0])      # only for M\n",
        "else: \n",
        "    weight2 = np.array([0,0,0,1])     # only for V\n",
        "\n",
        "MODEL_NAME = 'model_3_V.h5' \n",
        "model3_v = build_cnn_3(gap=False)\n",
        "\n",
        "LR = 0.01\n",
        "optimizer = tf.keras.optimizers.Adam(LR)\n",
        "optimizer = tfa.optimizers.SWA(optimizer)     \n",
        "model3_v.compile(loss=loss_E2, optimizer=optimizer)   \n",
        "\n",
        "# callbacks\n",
        "es = tf.keras.callbacks.EarlyStopping(monitor='val_loss', mode='min', verbose=1, patience=50)\n",
        "mc = tf.keras.callbacks.ModelCheckpoint(MODEL_PATH+MODEL_NAME, monitor='val_loss', save_best_only=True, save_weights_only=False, verbose=1)\n",
        "# lr_schedule = tf.keras.callbacks.ReduceLROnPlateau(monitor='val_loss', patience=15, verbose=1, factor=0.7)\n",
        "lr_schedule = step_decay_schedule(initial_lr=1e-2, decay_factor=0.1, step_size=30)\n",
        "# lr_schedule = CyclicLR(base_lr=0.01, max_lr=0.08, step_size=2000., mode='exp_range', gamma=0.99994)  # \n",
        "# lr_schedule = WarmUpCosineDecayScheduler()\n",
        "\n",
        "callbacks=[es, mc, lr_schedule]             \n",
        "\n",
        "print('> Train Model-3 for V')\n",
        "print()\n",
        "\n",
        "hist3_v = model3_v.fit([X, X3], y,               \n",
        "                 validation_split=0.2,     \n",
        "                 batch_size=100,   #BATCH_SIZE,   \n",
        "                 epochs=EPOCHS,\n",
        "                 verbose=1,\n",
        "                 shuffle=True,\n",
        "                 callbacks=callbacks)\n",
        "\n",
        "hist3_v_df = pd.DataFrame(hist3_v.history)"
      ],
      "execution_count": null,
      "outputs": []
    },
    {
      "cell_type": "code",
      "metadata": {
        "id": "sKU1l_NZs2oG",
        "colab_type": "code",
        "colab": {}
      },
      "source": [
        "f, ax = plt.subplots(1,2, figsize=(10,4))\n",
        "hist3_v_df[['loss', 'val_loss']].plot(ax=ax[0])\n",
        "hist3_v_df['lr'].plot(ax=ax[1])\n",
        "ax[0].set_ylim([0,0.1])"
      ],
      "execution_count": null,
      "outputs": []
    },
    {
      "cell_type": "code",
      "metadata": {
        "id": "pmZRq4cnx9bp",
        "colab_type": "code",
        "colab": {}
      },
      "source": [
        "print('Min valid loss [%.5f] at epoch [%.0f]' % (hist3_v_df[['val_loss']].min(), \n",
        "      np.argmin(hist3_v_df[['val_loss']])))"
      ],
      "execution_count": null,
      "outputs": []
    },
    {
      "cell_type": "code",
      "metadata": {
        "id": "u4gPZejoyJ8w",
        "colab_type": "code",
        "colab": {}
      },
      "source": [
        "# model3_v_cp = tf.keras.models.load_model(MODEL_PATH+'model_3_V.h5')"
      ],
      "execution_count": null,
      "outputs": []
    },
    {
      "cell_type": "code",
      "metadata": {
        "id": "t-yQ0ex9uaaO",
        "colab_type": "code",
        "colab": {}
      },
      "source": [
        "del model3_x, model3_m, model3_v\n",
        "del hist3_m, hist3_m_df, hist3_x, hist3_x_df, hist3_v, hist3_v_df\n",
        "gc.collect()"
      ],
      "execution_count": null,
      "outputs": []
    },
    {
      "cell_type": "code",
      "metadata": {
        "id": "U1E6NQ47vFzj",
        "colab_type": "code",
        "colab": {}
      },
      "source": [
        "gc.collect()"
      ],
      "execution_count": null,
      "outputs": []
    },
    {
      "cell_type": "code",
      "metadata": {
        "id": "fXGKvQdgvJJ3",
        "colab_type": "code",
        "colab": {}
      },
      "source": [
        "!nvidia-smi"
      ],
      "execution_count": null,
      "outputs": []
    },
    {
      "cell_type": "markdown",
      "metadata": {
        "id": "tm_6VMKMYfEV",
        "colab_type": "text"
      },
      "source": [
        "# Predict Test set"
      ]
    },
    {
      "cell_type": "markdown",
      "metadata": {
        "id": "TQ8Vr6h6vahs",
        "colab_type": "text"
      },
      "source": [
        "### Inference Model-1 [Pytorch]"
      ]
    },
    {
      "cell_type": "code",
      "metadata": {
        "id": "bRQ1WvQOvdG0",
        "colab_type": "code",
        "colab": {}
      },
      "source": [
        "subm1 = subm.copy()\n",
        "subm1.head()"
      ],
      "execution_count": null,
      "outputs": []
    },
    {
      "cell_type": "code",
      "metadata": {
        "id": "xZr4v1ZKvc7e",
        "colab_type": "code",
        "colab": {}
      },
      "source": [
        "# predict XY\n",
        "target = 'XY'\n",
        "n_features = X2_test.size()[-1]\n",
        "\n",
        "# define model\n",
        "model = build_cnn_2(n_features, len(target), X2.shape[1])\n",
        "\n",
        "result = predict_kfold(model, nfold, MODEL_PATH, target, X2_test)\n",
        "subm1[list(target)] = result"
      ],
      "execution_count": null,
      "outputs": []
    },
    {
      "cell_type": "code",
      "metadata": {
        "id": "l60g7DMe8R2D",
        "colab_type": "code",
        "colab": {}
      },
      "source": [
        "n_samples = X2_test.shape[0]\n",
        "add_feature_t = result.reshape((n_samples, 1, 1, len(target)))\n",
        "add_feature_t = np.repeat(add_feature_t, 375, axis=2)\n",
        "add_feature_t = np.repeat(add_feature_t, 2, axis=1)\n",
        "X2_test_add = torch.cat([X2_test, torch.FloatTensor(add_feature_t)], dim = -1)"
      ],
      "execution_count": null,
      "outputs": []
    },
    {
      "cell_type": "code",
      "metadata": {
        "id": "MUecmqvW8RpT",
        "colab_type": "code",
        "colab": {}
      },
      "source": [
        "# predict V\n",
        "target = 'V'\n",
        "n_features = X2_test_add.size()[-1]\n",
        "\n",
        "# define model\n",
        "model = build_cnn_2(n_features, len(target), X2.shape[1])\n",
        "\n",
        "result = predict_kfold(model, nfold, MODEL_PATH, target, X2_test_add)\n",
        "subm1[list(target)] = result"
      ],
      "execution_count": null,
      "outputs": []
    },
    {
      "cell_type": "code",
      "metadata": {
        "id": "GH5EELYx8crZ",
        "colab_type": "code",
        "colab": {}
      },
      "source": [
        "n_samples = X2_test_add.shape[0]\n",
        "add_feature_t = result.reshape((n_samples, 1, 1, len(target)))\n",
        "add_feature_t = np.repeat(add_feature_t, 375, axis=2)\n",
        "add_feature_t = np.repeat(add_feature_t, 2, axis=1)\n",
        "X2_test_add = torch.cat([X2_test_add, torch.FloatTensor(add_feature_t)], dim=-1)"
      ],
      "execution_count": null,
      "outputs": []
    },
    {
      "cell_type": "code",
      "metadata": {
        "id": "7qu3s7IV8cic",
        "colab_type": "code",
        "colab": {}
      },
      "source": [
        "# predict M\n",
        "target = 'M'\n",
        "n_features = X2_test_add.size()[-1]\n",
        "\n",
        "# define model\n",
        "model = build_cnn_2(n_features, len(target), X2.shape[1])\n",
        "\n",
        "result = predict_kfold(model, nfold, MODEL_PATH, target, X2_test_add)\n",
        "subm1[list(target)] = result"
      ],
      "execution_count": null,
      "outputs": []
    },
    {
      "cell_type": "code",
      "metadata": {
        "id": "mKaibrD42ocJ",
        "colab_type": "code",
        "colab": {}
      },
      "source": [
        "subm1.to_csv(out_path+'solution_1.csv', index=False, float_format='%.4f')\n",
        "subm1.head()"
      ],
      "execution_count": null,
      "outputs": []
    },
    {
      "cell_type": "markdown",
      "metadata": {
        "id": "MKFf6QJWvM9A",
        "colab_type": "text"
      },
      "source": [
        "### Inference Model-2 [TF_Keras]"
      ]
    },
    {
      "cell_type": "code",
      "metadata": {
        "id": "iXupoeGGXnx4",
        "colab_type": "code",
        "colab": {}
      },
      "source": [
        "model1_x_cp = tf.keras.models.load_model(MODEL_PATH+'model_1_XY.h5', custom_objects={'loss_E1': loss_E1})\n",
        "model1_m_cp = tf.keras.models.load_model(MODEL_PATH+'model_1_M.h5',  custom_objects={'loss_E2': loss_E2})\n",
        "model1_v_cp = tf.keras.models.load_model(MODEL_PATH+'model_1_V.h5',  custom_objects={'loss_E2': loss_E2})"
      ],
      "execution_count": null,
      "outputs": []
    },
    {
      "cell_type": "code",
      "metadata": {
        "id": "1DEkcoOB1d2d",
        "colab_type": "code",
        "colab": {}
      },
      "source": [
        "subm2 = subm.copy()\n",
        "subm2.head()"
      ],
      "execution_count": null,
      "outputs": []
    },
    {
      "cell_type": "code",
      "metadata": {
        "id": "XlYvmD_02ChA",
        "colab_type": "code",
        "colab": {}
      },
      "source": [
        "test_preds1_x = model1_x_cp.predict(X_test)   # Target XY\n",
        "test_preds1_m = model1_m_cp.predict(X_test)   # Target M\n",
        "test_preds1_v = model1_v_cp.predict(X_test)   # Target V\n",
        "\n",
        "subm2.iloc[:,1] = test_preds1_x[:,0]   #.clip(-400, 400)\n",
        "subm2.iloc[:,2] = test_preds1_x[:,1]   #.clip(-400, 400)\n",
        "subm2.iloc[:,3] = test_preds1_m[:,2]\n",
        "subm2.iloc[:,4] = test_preds1_v[:,3]\n",
        "\n",
        "subm2.to_csv(out_path+'solution_2.csv', index=False, float_format='%.4f')\n",
        "subm2.head()\n",
        "\n",
        "del model1_x_cp, model1_m_cp, model1_v_cp\n",
        "del test_preds1_x, test_preds1_m, test_preds1_v\n",
        "gc.collect()"
      ],
      "execution_count": null,
      "outputs": []
    },
    {
      "cell_type": "markdown",
      "metadata": {
        "id": "IjucZ9L2ve-H",
        "colab_type": "text"
      },
      "source": [
        "### Inference Model-3 [TF-Keras]"
      ]
    },
    {
      "cell_type": "code",
      "metadata": {
        "id": "-b7ugTNcvhdv",
        "colab_type": "code",
        "colab": {}
      },
      "source": [
        "model3_x_cp = tf.keras.models.load_model(MODEL_PATH+'model_3_XY.h5', custom_objects={'loss_E1': loss_E1, 'r2_keras':r2_keras})\n",
        "model3_m_cp = tf.keras.models.load_model(MODEL_PATH+'model_3_M.h5',  custom_objects={'loss_E2': loss_E2})\n",
        "model3_v_cp = tf.keras.models.load_model(MODEL_PATH+'model_3_V.h5',  custom_objects={'loss_E2': loss_E2})"
      ],
      "execution_count": null,
      "outputs": []
    },
    {
      "cell_type": "code",
      "metadata": {
        "id": "8gMXk9W80aCr",
        "colab_type": "code",
        "colab": {}
      },
      "source": [
        "subm3 = subm.copy()\n",
        "subm3.head()"
      ],
      "execution_count": null,
      "outputs": []
    },
    {
      "cell_type": "code",
      "metadata": {
        "id": "XKlP4fwgvhSd",
        "colab_type": "code",
        "colab": {}
      },
      "source": [
        "test_preds3_x = model3_x_cp.predict([X_test, X3_test])  # Target XY\n",
        "test_preds3_m = model3_m_cp.predict([X_test, X3_test])  # Target M\n",
        "test_preds3_v = model3_v_cp.predict([X_test, X3_test])  # Target V\n",
        "\n",
        "subm3.iloc[:,1] = test_preds3_x[:,0]   #.clip(-400, 400)\n",
        "subm3.iloc[:,2] = test_preds3_x[:,1]   #.clip(-400, 400)\n",
        "subm3.iloc[:,3] = test_preds3_m[:,2]\n",
        "subm3.iloc[:,4] = test_preds3_v[:,3]\n",
        "\n",
        "subm3.to_csv(out_path+'solution_3.csv', index=False, float_format='%.4f')\n",
        "subm3.head()\n",
        "\n",
        "del model3_x_cp, model3_m_cp, model3_v_cp\n",
        "del test_preds3_x, test_preds3_m, test_preds3_v\n",
        "gc.collect()"
      ],
      "execution_count": null,
      "outputs": []
    },
    {
      "cell_type": "code",
      "metadata": {
        "id": "ZCxnPmirtF6j",
        "colab_type": "code",
        "colab": {}
      },
      "source": [
        "# train_preds1_x = model1_x_cp.predict(X)\n",
        "# train_preds1_m = model1_m_cp.predict(X)\n",
        "# train_preds1_v = model1_v_cp.predict(X)\n",
        "\n",
        "# train_preds_1 = pd.concat([\n",
        "#                            pd.Series(train_preds1_x[:,0]), \n",
        "#                            pd.Series(train_preds1_x[:,1]),\n",
        "#                            pd.Series(train_preds1_m[:,2]),\n",
        "#                            pd.Series(train_preds1_v[:,3])],axis=1)\n",
        "\n",
        "# print('KAERI metric:', np.round(kaeri_metric(y, train_preds_1),7))\n",
        "\n",
        "# del train_preds1_x, train_preds1_m, train_preds1_v, \n",
        "# del train_preds_1\n",
        "# gc.collect()"
      ],
      "execution_count": null,
      "outputs": []
    },
    {
      "cell_type": "markdown",
      "metadata": {
        "id": "Q8dXFHVjakBl",
        "colab_type": "text"
      },
      "source": [
        "# Ensemble"
      ]
    },
    {
      "cell_type": "code",
      "metadata": {
        "id": "5uhOLXSP1Ajz",
        "colab_type": "code",
        "colab": {}
      },
      "source": [
        "submission = subm.copy()\n",
        "submission.head()"
      ],
      "execution_count": null,
      "outputs": []
    },
    {
      "cell_type": "code",
      "metadata": {
        "id": "y9yLCsyGuivK",
        "colab_type": "code",
        "colab": {}
      },
      "source": [
        "solutions = [subm1, \n",
        "             subm2, \n",
        "             subm3]\n",
        "\n",
        "predictions = np.zeros((700, 4))\n",
        "for df in solutions:\n",
        "    predictions += df[['X','Y','M','V']].values * 10\n",
        "\n",
        "predictions = predictions / (10*len(solutions))\n",
        "submission[['X','Y','M','V']] = predictions\n",
        "submission.to_csv(out_path+'final_submission_IME.csv', index=False, float_format='%.4f')\n",
        "submission.head()"
      ],
      "execution_count": null,
      "outputs": []
    },
    {
      "cell_type": "markdown",
      "metadata": {
        "id": "BP10bxH5sLzC",
        "colab_type": "text"
      },
      "source": [
        "#6: Conclusions and Discussion"
      ]
    },
    {
      "cell_type": "markdown",
      "metadata": {
        "id": "MFh-VKLMsPKk",
        "colab_type": "text"
      },
      "source": [
        ""
      ]
    }
  ]
}